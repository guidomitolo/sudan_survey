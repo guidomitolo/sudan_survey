{
 "cells": [
  {
   "cell_type": "markdown",
   "metadata": {},
   "source": [
    "## Sample basic information"
   ]
  },
  {
   "cell_type": "markdown",
   "metadata": {},
   "source": [
    "### 1. Import Raw Data \n",
    "(survey's answers tabular data)\n",
    "#### Get shape, data types, nulls and columns (questions)"
   ]
  },
  {
   "cell_type": "code",
   "execution_count": 1,
   "metadata": {},
   "outputs": [],
   "source": [
    "import pandas as pd"
   ]
  },
  {
   "cell_type": "code",
   "execution_count": 2,
   "metadata": {},
   "outputs": [],
   "source": [
    "df = pd.read_excel('./data/Distance_Learning_Data.xlsx')"
   ]
  },
  {
   "cell_type": "code",
   "execution_count": 3,
   "metadata": {},
   "outputs": [
    {
     "data": {
      "text/plain": [
       "(4727, 237)"
      ]
     },
     "execution_count": 3,
     "metadata": {},
     "output_type": "execute_result"
    }
   ],
   "source": [
    "df.shape"
   ]
  },
  {
   "cell_type": "code",
   "execution_count": 4,
   "metadata": {},
   "outputs": [
    {
     "data": {
      "text/plain": [
       "Date of data collection                                          object\n",
       "Enumerator full name                                             object\n",
       "State                                                            object\n",
       "County                                                           object\n",
       "Payam                                                            object\n",
       "Does the location have radio coverage?                           object\n",
       "School Type Level                                                object\n",
       "School Category                                                  object\n",
       "What is the School location                                      object\n",
       "School                                                           object\n",
       "School Name                                                      object\n",
       "SAMS School Code                                                 object\n",
       "Title                                                            object\n",
       "Name                                                             object\n",
       "Gender                                                           object\n",
       "Age                                                             float64\n",
       "Grade/Class                                                      object\n",
       "Do you have difficulty seeing, even if wearing glasses?          object\n",
       "Do you have difficulty hearing, even if using a hearing aid?     object\n",
       "Do you have difficulty walking or climbing steps?                object\n",
       "dtype: object"
      ]
     },
     "execution_count": 4,
     "metadata": {},
     "output_type": "execute_result"
    }
   ],
   "source": [
    "df.dtypes.head(20)"
   ]
  },
  {
   "cell_type": "code",
   "execution_count": 5,
   "metadata": {},
   "outputs": [
    {
     "data": {
      "text/plain": [
       "Date of data collection                                            0\n",
       "Enumerator full name                                               0\n",
       "State                                                              0\n",
       "County                                                             0\n",
       "Payam                                                              0\n",
       "Does the location have radio coverage?                             0\n",
       "School Type Level                                                804\n",
       "School Category                                                  804\n",
       "What is the School location                                      804\n",
       "School                                                           804\n",
       "School Name                                                     3841\n",
       "SAMS School Code                                                1690\n",
       "Title                                                            804\n",
       "Name                                                             804\n",
       "Gender                                                           804\n",
       "Age                                                              804\n",
       "Grade/Class                                                     2217\n",
       "Do you have difficulty seeing, even if wearing glasses?         2217\n",
       "Do you have difficulty hearing, even if using a hearing aid?    2217\n",
       "Do you have difficulty walking or climbing steps?               2217\n",
       "dtype: int64"
      ]
     },
     "execution_count": 5,
     "metadata": {},
     "output_type": "execute_result"
    }
   ],
   "source": [
    "df.isnull().sum().head(20)"
   ]
  },
  {
   "cell_type": "markdown",
   "metadata": {},
   "source": [
    "### 2. Basic categorical variables\n",
    "Some of the columns/variables that describes the survey's target."
   ]
  },
  {
   "cell_type": "markdown",
   "metadata": {},
   "source": [
    "#### 2.a. Title"
   ]
  },
  {
   "cell_type": "code",
   "execution_count": 6,
   "metadata": {},
   "outputs": [
    {
     "data": {
      "text/plain": [
       "Learner                    2510\n",
       "Parent/guardian/sibling    1185\n",
       "Teacher                     228\n",
       "Name: Title, dtype: int64"
      ]
     },
     "execution_count": 6,
     "metadata": {},
     "output_type": "execute_result"
    }
   ],
   "source": [
    "df.Title.value_counts()"
   ]
  },
  {
   "cell_type": "markdown",
   "metadata": {},
   "source": [
    "#### 2.b. Age"
   ]
  },
  {
   "cell_type": "code",
   "execution_count": 7,
   "metadata": {},
   "outputs": [
    {
     "data": {
      "text/plain": [
       "15.0    349\n",
       "16.0    286\n",
       "14.0    269\n",
       "17.0    256\n",
       "18.0    240\n",
       "13.0    230\n",
       "12.0    162\n",
       "19.0    157\n",
       "20.0    149\n",
       "45.0     82\n",
       "30.0     82\n",
       "32.0     77\n",
       "40.0     76\n",
       "11.0     75\n",
       "22.0     71\n",
       "21.0     68\n",
       "35.0     67\n",
       "38.0     59\n",
       "10.0     57\n",
       "Name: Age, dtype: int64"
      ]
     },
     "execution_count": 7,
     "metadata": {},
     "output_type": "execute_result"
    }
   ],
   "source": [
    "df.Age.value_counts()[:10]"
   ]
  },
  {
   "cell_type": "markdown",
   "metadata": {},
   "source": [
    "#### 2.c. Gender"
   ]
  },
  {
   "cell_type": "code",
   "execution_count": 8,
   "metadata": {},
   "outputs": [
    {
     "data": {
      "text/plain": [
       "Female    2031\n",
       "Male      1892\n",
       "Name: Gender , dtype: int64"
      ]
     },
     "execution_count": 8,
     "metadata": {},
     "output_type": "execute_result"
    }
   ],
   "source": [
    "df.loc[:,'Gender '].value_counts()"
   ]
  },
  {
   "cell_type": "markdown",
   "metadata": {},
   "source": [
    "#### 2.d. School Level"
   ]
  },
  {
   "cell_type": "code",
   "execution_count": 9,
   "metadata": {},
   "outputs": [
    {
     "data": {
      "text/plain": [
       "Primary      3271\n",
       "Secondary     612\n",
       "ALP            34\n",
       "ECD             4\n",
       "AES             2\n",
       "Name: School Type Level, dtype: int64"
      ]
     },
     "execution_count": 9,
     "metadata": {},
     "output_type": "execute_result"
    }
   ],
   "source": [
    "df.loc[:,'School Type Level'].value_counts()"
   ]
  },
  {
   "cell_type": "markdown",
   "metadata": {},
   "source": [
    "Filtered by Age"
   ]
  },
  {
   "cell_type": "code",
   "execution_count": 10,
   "metadata": {},
   "outputs": [
    {
     "data": {
      "text/plain": [
       "15.0    322\n",
       "14.0    259\n",
       "16.0    258\n",
       "13.0    225\n",
       "17.0    207\n",
       "18.0    176\n",
       "12.0    159\n",
       "19.0    102\n",
       "20.0     86\n",
       "Name: Age, dtype: int64"
      ]
     },
     "execution_count": 10,
     "metadata": {},
     "output_type": "execute_result"
    }
   ],
   "source": [
    "# first 20 values\n",
    "df.loc[df.loc[:,'School Type Level'] == 'Primary','Age'].value_counts()[:20]"
   ]
  },
  {
   "cell_type": "markdown",
   "metadata": {},
   "source": [
    "#### 2.d. Type of school by location"
   ]
  },
  {
   "cell_type": "code",
   "execution_count": 11,
   "metadata": {},
   "outputs": [
    {
     "data": {
      "text/plain": [
       "Urban    2118\n",
       "Rural    1805\n",
       "Name: What is the School location, dtype: int64"
      ]
     },
     "execution_count": 11,
     "metadata": {},
     "output_type": "execute_result"
    }
   ],
   "source": [
    "df.loc[:,'What is the School location'].value_counts()"
   ]
  },
  {
   "cell_type": "markdown",
   "metadata": {},
   "source": [
    "Filtered by school level<br>\n",
    "Primary"
   ]
  },
  {
   "cell_type": "code",
   "execution_count": 12,
   "metadata": {},
   "outputs": [
    {
     "data": {
      "text/plain": [
       "Rural    1655\n",
       "Urban    1616\n",
       "Name: What is the School location, dtype: int64"
      ]
     },
     "execution_count": 12,
     "metadata": {},
     "output_type": "execute_result"
    }
   ],
   "source": [
    "df.loc[df.loc[:,'School Type Level'] == 'Primary','What is the School location'].value_counts()"
   ]
  },
  {
   "cell_type": "markdown",
   "metadata": {},
   "source": [
    "Secondary"
   ]
  },
  {
   "cell_type": "code",
   "execution_count": 13,
   "metadata": {},
   "outputs": [
    {
     "data": {
      "text/plain": [
       "Urban    463\n",
       "Rural    149\n",
       "Name: What is the School location, dtype: int64"
      ]
     },
     "execution_count": 13,
     "metadata": {},
     "output_type": "execute_result"
    }
   ],
   "source": [
    "df.loc[df.loc[:,'School Type Level'] == 'Secondary','What is the School location'].value_counts()"
   ]
  },
  {
   "cell_type": "markdown",
   "metadata": {},
   "source": [
    "#### 2.e. School Category"
   ]
  },
  {
   "cell_type": "code",
   "execution_count": 14,
   "metadata": {},
   "outputs": [
    {
     "data": {
      "text/plain": [
       "Non-IDP School    3469\n",
       "IDP School         454\n",
       "Name: School Category, dtype: int64"
      ]
     },
     "execution_count": 14,
     "metadata": {},
     "output_type": "execute_result"
    }
   ],
   "source": [
    "df.loc[:,'School Category'].value_counts()"
   ]
  },
  {
   "cell_type": "markdown",
   "metadata": {},
   "source": [
    "#### 2.f. State"
   ]
  },
  {
   "cell_type": "code",
   "execution_count": 15,
   "metadata": {},
   "outputs": [
    {
     "data": {
      "text/plain": [
       "Western Equatoria          712\n",
       "Central Equatoria          703\n",
       "Unity                      702\n",
       "Eastern Equatoria          651\n",
       "Western Bahr el Ghazal     582\n",
       "Northern Bahr el Ghazal    415\n",
       "Lakes                      373\n",
       "Warrap                     281\n",
       "Upper Nile State           192\n",
       "Jonglei                    116\n",
       "Name: State, dtype: int64"
      ]
     },
     "execution_count": 15,
     "metadata": {},
     "output_type": "execute_result"
    }
   ],
   "source": [
    "df.State.value_counts()"
   ]
  },
  {
   "cell_type": "markdown",
   "metadata": {},
   "source": [
    "### 3. Save variables"
   ]
  },
  {
   "cell_type": "code",
   "execution_count": 16,
   "metadata": {},
   "outputs": [],
   "source": [
    "data = df[['Gender ','Age','Title','School Type Level','What is the School location','School Category','State']]"
   ]
  },
  {
   "cell_type": "code",
   "execution_count": 17,
   "metadata": {},
   "outputs": [
    {
     "data": {
      "text/plain": [
       "Gender                         0.204945\n",
       "Age                            0.204945\n",
       "Title                          0.204945\n",
       "School Type Level              0.204945\n",
       "What is the School location    0.204945\n",
       "School Category                0.204945\n",
       "State                          0.000000\n",
       "dtype: float64"
      ]
     },
     "execution_count": 17,
     "metadata": {},
     "output_type": "execute_result"
    }
   ],
   "source": [
    "data.isnull().sum() / data.notnull().sum() "
   ]
  },
  {
   "cell_type": "code",
   "execution_count": 18,
   "metadata": {},
   "outputs": [],
   "source": [
    "data.to_csv('data/desc_data.csv', index=False)"
   ]
  }
 ],
 "metadata": {
  "kernelspec": {
   "display_name": "Python 3",
   "language": "python",
   "name": "python3"
  },
  "language_info": {
   "codemirror_mode": {
    "name": "ipython",
    "version": 3
   },
   "file_extension": ".py",
   "mimetype": "text/x-python",
   "name": "python",
   "nbconvert_exporter": "python",
   "pygments_lexer": "ipython3",
   "version": "3.7.7"
  }
 },
 "nbformat": 4,
 "nbformat_minor": 4
}
