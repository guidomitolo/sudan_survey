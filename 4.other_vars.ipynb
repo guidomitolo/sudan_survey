{
 "cells": [
  {
   "cell_type": "markdown",
   "metadata": {},
   "source": [
    "## Collapse small values"
   ]
  },
  {
   "cell_type": "markdown",
   "metadata": {},
   "source": [
    "### 1. Import Raw Data \n",
    "(survey's answers tabular data)"
   ]
  },
  {
   "cell_type": "code",
   "execution_count": 43,
   "metadata": {},
   "outputs": [],
   "source": [
    "import pandas as pd"
   ]
  },
  {
   "cell_type": "code",
   "execution_count": 55,
   "metadata": {},
   "outputs": [],
   "source": [
    "df = pd.read_excel('data/dataset_malu_nue.xlsx', index=False)"
   ]
  },
  {
   "cell_type": "code",
   "execution_count": 56,
   "metadata": {},
   "outputs": [
    {
     "data": {
      "text/html": [
       "<div>\n",
       "<style scoped>\n",
       "    .dataframe tbody tr th:only-of-type {\n",
       "        vertical-align: middle;\n",
       "    }\n",
       "\n",
       "    .dataframe tbody tr th {\n",
       "        vertical-align: top;\n",
       "    }\n",
       "\n",
       "    .dataframe thead th {\n",
       "        text-align: right;\n",
       "    }\n",
       "</style>\n",
       "<table border=\"1\" class=\"dataframe\">\n",
       "  <thead>\n",
       "    <tr style=\"text-align: right;\">\n",
       "      <th></th>\n",
       "      <th>Q9_Which radio station(s)/FM are available in your area?</th>\n",
       "      <th>Q9_10Other</th>\n",
       "    </tr>\n",
       "  </thead>\n",
       "  <tbody>\n",
       "    <tr>\n",
       "      <th>0</th>\n",
       "      <td>Other</td>\n",
       "      <td>1.0</td>\n",
       "    </tr>\n",
       "    <tr>\n",
       "      <th>1</th>\n",
       "      <td>Other</td>\n",
       "      <td>1.0</td>\n",
       "    </tr>\n",
       "    <tr>\n",
       "      <th>2</th>\n",
       "      <td>Other</td>\n",
       "      <td>1.0</td>\n",
       "    </tr>\n",
       "    <tr>\n",
       "      <th>3</th>\n",
       "      <td>Other</td>\n",
       "      <td>1.0</td>\n",
       "    </tr>\n",
       "    <tr>\n",
       "      <th>4</th>\n",
       "      <td>Radio one FM Other</td>\n",
       "      <td>1.0</td>\n",
       "    </tr>\n",
       "    <tr>\n",
       "      <th>...</th>\n",
       "      <td>...</td>\n",
       "      <td>...</td>\n",
       "    </tr>\n",
       "    <tr>\n",
       "      <th>4722</th>\n",
       "      <td>Miraya FM Other</td>\n",
       "      <td>1.0</td>\n",
       "    </tr>\n",
       "    <tr>\n",
       "      <th>4723</th>\n",
       "      <td>Miraya FM</td>\n",
       "      <td>0.0</td>\n",
       "    </tr>\n",
       "    <tr>\n",
       "      <th>4724</th>\n",
       "      <td>Other</td>\n",
       "      <td>1.0</td>\n",
       "    </tr>\n",
       "    <tr>\n",
       "      <th>4725</th>\n",
       "      <td>Miraya FM</td>\n",
       "      <td>0.0</td>\n",
       "    </tr>\n",
       "    <tr>\n",
       "      <th>4726</th>\n",
       "      <td>Other</td>\n",
       "      <td>1.0</td>\n",
       "    </tr>\n",
       "  </tbody>\n",
       "</table>\n",
       "<p>4727 rows × 2 columns</p>\n",
       "</div>"
      ],
      "text/plain": [
       "     Q9_Which radio station(s)/FM are available in your area?  Q9_10Other\n",
       "0                                                 Other               1.0\n",
       "1                                                 Other               1.0\n",
       "2                                                 Other               1.0\n",
       "3                                                 Other               1.0\n",
       "4                                    Radio one FM Other               1.0\n",
       "...                                                 ...               ...\n",
       "4722                                    Miraya FM Other               1.0\n",
       "4723                                          Miraya FM               0.0\n",
       "4724                                              Other               1.0\n",
       "4725                                          Miraya FM               0.0\n",
       "4726                                              Other               1.0\n",
       "\n",
       "[4727 rows x 2 columns]"
      ]
     },
     "execution_count": 56,
     "metadata": {},
     "output_type": "execute_result"
    }
   ],
   "source": [
    "# Q9_Which radio station(s)/FM are available in your area?\n",
    "# Q9_10Other (BT)\n",
    "df.iloc[:,[62, 71]]"
   ]
  },
  {
   "cell_type": "code",
   "execution_count": 91,
   "metadata": {},
   "outputs": [
    {
     "data": {
      "text/plain": [
       "265"
      ]
     },
     "execution_count": 91,
     "metadata": {},
     "output_type": "execute_result"
    }
   ],
   "source": [
    "# Which other Radio Station do you listen to during education on air program? (CP)\n",
    "df.iloc[:,93].notnull().sum()"
   ]
  },
  {
   "cell_type": "code",
   "execution_count": 64,
   "metadata": {},
   "outputs": [],
   "source": [
    "df['other_radio_during_ed'] = df[df.iloc[:,93].notnull()].iloc[:,93]"
   ]
  },
  {
   "cell_type": "code",
   "execution_count": 79,
   "metadata": {},
   "outputs": [],
   "source": [
    "df.loc[df['other_radio_during_ed'].notnull(),'other_radio_during_ed'] = 1"
   ]
  },
  {
   "cell_type": "code",
   "execution_count": 82,
   "metadata": {},
   "outputs": [
    {
     "data": {
      "text/plain": [
       "265"
      ]
     },
     "execution_count": 82,
     "metadata": {},
     "output_type": "execute_result"
    }
   ],
   "source": [
    "df['other_radio_during_ed'].sum()"
   ]
  },
  {
   "cell_type": "code",
   "execution_count": 220,
   "metadata": {},
   "outputs": [
    {
     "data": {
      "text/plain": [
       "Am not interested                                                  2\n",
       "If my phone put off                                                1\n",
       "I thought that school may not open again                           1\n",
       "When the phone is not charged.                                     1\n",
       "My phone was washed by rain                                        1\n",
       "The power was low                                                  1\n",
       "It's always at night                                               1\n",
       "No having personal radio or phone.                                 1\n",
       "Power is always low in phone I use                                 1\n",
       "Football                                                           1\n",
       "When phone is taken for charging                                   1\n",
       "When phone is power off                                            1\n",
       "Teaching on air not as interesting as in class                     1\n",
       "Its intended for students                                          1\n",
       "Sometimes playing balls and going to market places                 1\n",
       "Phone power is a problem and it was for someone                    1\n",
       "My parents doesn't open daily.                                     1\n",
       "When I get hard to understand                                      1\n",
       "I'm not understanding something                                    1\n",
       "Lack of battery                                                    1\n",
       "Power problem                                                      1\n",
       "I don't have radio                                                 1\n",
       "I can only access the radio when my brother is at home with me.    1\n",
       "Mayardit FM                                                        1\n",
       "Sometimes it is only for lower classes                             1\n",
       "Am engaged in other activities                                     1\n",
       "Have no full information about it.                                 1\n",
       "Have not attended                                                  1\n",
       "Not good for me                                                    1\n",
       "Sometimes my dad can not be home during lessons time.              1\n",
       "Sometimes taking from my mother                                    1\n",
       "Because I don't understand                                         1\n",
       "I don't have money to buy a radio                                  1\n",
       "I only attended for primary schools lessons                        1\n",
       "The lesson for our class was not aired.                            1\n",
       "I tried to listen but I don't understand                           1\n",
       "When there is no power in phone                                    1\n",
       "My phone some times put off                                        1\n",
       "The lessons broadcast are not part of carrier                      1\n",
       "Sometimes no battery                                               1\n",
       "Low power because I use phone                                      1\n",
       "I do revised my notes                                              1\n",
       "I don't understand radio lessons                                   1\n",
       "Battery went off                                                   1\n",
       "Lack of charging centre                                            1\n",
       "It's because the lessons are for primary school Learners           1\n",
       "Can't asked questions due to busy lines                            1\n",
       "Battery is very weak. Can't afford cash to purchase new one        1\n",
       "The radio is not mind                                              1\n",
       "Holiday package                                                    1\n",
       "Am not interested on radio lessons                                 1\n",
       "Name:  If other please specify, dtype: int64"
      ]
     },
     "execution_count": 220,
     "metadata": {},
     "output_type": "execute_result"
    }
   ],
   "source": [
    "# If no, What makes you miss radio based lessons?\n",
    "# If other please specify (DC)\n",
    "df.iloc[:,106].value_counts()"
   ]
  },
  {
   "cell_type": "code",
   "execution_count": 221,
   "metadata": {},
   "outputs": [
    {
     "data": {
      "text/plain": [
       "52"
      ]
     },
     "execution_count": 221,
     "metadata": {},
     "output_type": "execute_result"
    }
   ],
   "source": [
    "df.iloc[:,106].notnull().sum()"
   ]
  },
  {
   "cell_type": "code",
   "execution_count": 222,
   "metadata": {},
   "outputs": [],
   "source": [
    "df['miss_lessons_other_reason'] = df[df.iloc[:,106].notnull()].iloc[:,106]"
   ]
  },
  {
   "cell_type": "code",
   "execution_count": 223,
   "metadata": {},
   "outputs": [],
   "source": [
    "df.loc[df['miss_lessons_other_reason'].notnull(),'miss_lessons_other_reason'] = 1"
   ]
  },
  {
   "cell_type": "code",
   "execution_count": 224,
   "metadata": {},
   "outputs": [
    {
     "data": {
      "text/plain": [
       "52"
      ]
     },
     "execution_count": 224,
     "metadata": {},
     "output_type": "execute_result"
    }
   ],
   "source": [
    "df['miss_lessons_other_reason'].sum()"
   ]
  },
  {
   "cell_type": "code",
   "execution_count": 225,
   "metadata": {},
   "outputs": [],
   "source": [
    "# Q45_Where do you usually listen to the radio lessons?\n",
    "# Specify other (GN)\n",
    "\n",
    "# Q45_1Inside someone’s home\n",
    "# Q45_2Outside in someone’s compound\n",
    "# Q45_3Inside a shop or other building\n",
    "# Q45_4Outside of a shop or other building"
   ]
  },
  {
   "cell_type": "code",
   "execution_count": 198,
   "metadata": {},
   "outputs": [
    {
     "data": {
      "text/html": [
       "<div>\n",
       "<style scoped>\n",
       "    .dataframe tbody tr th:only-of-type {\n",
       "        vertical-align: middle;\n",
       "    }\n",
       "\n",
       "    .dataframe tbody tr th {\n",
       "        vertical-align: top;\n",
       "    }\n",
       "\n",
       "    .dataframe thead th {\n",
       "        text-align: right;\n",
       "    }\n",
       "</style>\n",
       "<table border=\"1\" class=\"dataframe\">\n",
       "  <thead>\n",
       "    <tr style=\"text-align: right;\">\n",
       "      <th></th>\n",
       "      <th>Q45_1Inside someone’s home</th>\n",
       "      <th>Q45_2Outside in someone’s compound</th>\n",
       "      <th>Q45_3Inside a shop or other building</th>\n",
       "      <th>Q45_4Outside of a shop or other building</th>\n",
       "      <th>Q45_5Other (specify)</th>\n",
       "      <th>Specify other.3</th>\n",
       "    </tr>\n",
       "  </thead>\n",
       "  <tbody>\n",
       "    <tr>\n",
       "      <th>0</th>\n",
       "      <td>NaN</td>\n",
       "      <td>NaN</td>\n",
       "      <td>NaN</td>\n",
       "      <td>NaN</td>\n",
       "      <td>NaN</td>\n",
       "      <td>NaN</td>\n",
       "    </tr>\n",
       "    <tr>\n",
       "      <th>1</th>\n",
       "      <td>NaN</td>\n",
       "      <td>NaN</td>\n",
       "      <td>NaN</td>\n",
       "      <td>NaN</td>\n",
       "      <td>NaN</td>\n",
       "      <td>NaN</td>\n",
       "    </tr>\n",
       "    <tr>\n",
       "      <th>2</th>\n",
       "      <td>NaN</td>\n",
       "      <td>NaN</td>\n",
       "      <td>NaN</td>\n",
       "      <td>NaN</td>\n",
       "      <td>NaN</td>\n",
       "      <td>NaN</td>\n",
       "    </tr>\n",
       "    <tr>\n",
       "      <th>3</th>\n",
       "      <td>NaN</td>\n",
       "      <td>NaN</td>\n",
       "      <td>NaN</td>\n",
       "      <td>NaN</td>\n",
       "      <td>NaN</td>\n",
       "      <td>NaN</td>\n",
       "    </tr>\n",
       "    <tr>\n",
       "      <th>4</th>\n",
       "      <td>0.0</td>\n",
       "      <td>0.0</td>\n",
       "      <td>0.0</td>\n",
       "      <td>0.0</td>\n",
       "      <td>1.0</td>\n",
       "      <td>Inside my house</td>\n",
       "    </tr>\n",
       "    <tr>\n",
       "      <th>...</th>\n",
       "      <td>...</td>\n",
       "      <td>...</td>\n",
       "      <td>...</td>\n",
       "      <td>...</td>\n",
       "      <td>...</td>\n",
       "      <td>...</td>\n",
       "    </tr>\n",
       "    <tr>\n",
       "      <th>4722</th>\n",
       "      <td>1.0</td>\n",
       "      <td>0.0</td>\n",
       "      <td>0.0</td>\n",
       "      <td>0.0</td>\n",
       "      <td>0.0</td>\n",
       "      <td>NaN</td>\n",
       "    </tr>\n",
       "    <tr>\n",
       "      <th>4723</th>\n",
       "      <td>1.0</td>\n",
       "      <td>0.0</td>\n",
       "      <td>0.0</td>\n",
       "      <td>0.0</td>\n",
       "      <td>0.0</td>\n",
       "      <td>NaN</td>\n",
       "    </tr>\n",
       "    <tr>\n",
       "      <th>4724</th>\n",
       "      <td>NaN</td>\n",
       "      <td>NaN</td>\n",
       "      <td>NaN</td>\n",
       "      <td>NaN</td>\n",
       "      <td>NaN</td>\n",
       "      <td>NaN</td>\n",
       "    </tr>\n",
       "    <tr>\n",
       "      <th>4725</th>\n",
       "      <td>0.0</td>\n",
       "      <td>1.0</td>\n",
       "      <td>0.0</td>\n",
       "      <td>0.0</td>\n",
       "      <td>0.0</td>\n",
       "      <td>NaN</td>\n",
       "    </tr>\n",
       "    <tr>\n",
       "      <th>4726</th>\n",
       "      <td>1.0</td>\n",
       "      <td>0.0</td>\n",
       "      <td>0.0</td>\n",
       "      <td>0.0</td>\n",
       "      <td>0.0</td>\n",
       "      <td>NaN</td>\n",
       "    </tr>\n",
       "  </tbody>\n",
       "</table>\n",
       "<p>4727 rows × 6 columns</p>\n",
       "</div>"
      ],
      "text/plain": [
       "      Q45_1Inside someone’s home  Q45_2Outside in someone’s compound  \\\n",
       "0                            NaN                                 NaN   \n",
       "1                            NaN                                 NaN   \n",
       "2                            NaN                                 NaN   \n",
       "3                            NaN                                 NaN   \n",
       "4                            0.0                                 0.0   \n",
       "...                          ...                                 ...   \n",
       "4722                         1.0                                 0.0   \n",
       "4723                         1.0                                 0.0   \n",
       "4724                         NaN                                 NaN   \n",
       "4725                         0.0                                 1.0   \n",
       "4726                         1.0                                 0.0   \n",
       "\n",
       "      Q45_3Inside a shop or other building  \\\n",
       "0                                      NaN   \n",
       "1                                      NaN   \n",
       "2                                      NaN   \n",
       "3                                      NaN   \n",
       "4                                      0.0   \n",
       "...                                    ...   \n",
       "4722                                   0.0   \n",
       "4723                                   0.0   \n",
       "4724                                   NaN   \n",
       "4725                                   0.0   \n",
       "4726                                   0.0   \n",
       "\n",
       "      Q45_4Outside of a shop or other building  Q45_5Other (specify)  \\\n",
       "0                                          NaN                   NaN   \n",
       "1                                          NaN                   NaN   \n",
       "2                                          NaN                   NaN   \n",
       "3                                          NaN                   NaN   \n",
       "4                                          0.0                   1.0   \n",
       "...                                        ...                   ...   \n",
       "4722                                       0.0                   0.0   \n",
       "4723                                       0.0                   0.0   \n",
       "4724                                       NaN                   NaN   \n",
       "4725                                       0.0                   0.0   \n",
       "4726                                       0.0                   0.0   \n",
       "\n",
       "      Specify other.3  \n",
       "0                 NaN  \n",
       "1                 NaN  \n",
       "2                 NaN  \n",
       "3                 NaN  \n",
       "4     Inside my house  \n",
       "...               ...  \n",
       "4722              NaN  \n",
       "4723              NaN  \n",
       "4724              NaN  \n",
       "4725              NaN  \n",
       "4726              NaN  \n",
       "\n",
       "[4727 rows x 6 columns]"
      ]
     },
     "execution_count": 198,
     "metadata": {},
     "output_type": "execute_result"
    }
   ],
   "source": [
    "df.iloc[:,[190, 191, 192, 193, 194, 195]]"
   ]
  },
  {
   "cell_type": "code",
   "execution_count": 201,
   "metadata": {},
   "outputs": [
    {
     "data": {
      "text/plain": [
       "{'At home': 71,\n",
       " 'Inside my house': 26,\n",
       " 'In our home': 16,\n",
       " 'Inside our house': 14,\n",
       " 'No': 13,\n",
       " 'In my house': 11,\n",
       " 'Inside our compound': 9,\n",
       " 'At home ': 9,\n",
       " 'None': 8,\n",
       " 'Outside our house': 8,\n",
       " 'At our home': 7,\n",
       " 'Inside my own house ': 7,\n",
       " 'Home': 7,\n",
       " 'Inside the home': 6,\n",
       " 'In our house': 6,\n",
       " 'School': 6,\n",
       " 'In my home': 6,\n",
       " \"I don't listen\": 5,\n",
       " 'At my home': 5,\n",
       " 'Inside our house.': 5,\n",
       " 'In our compound': 5,\n",
       " 'Inside my room': 4,\n",
       " 'Inside our home': 4,\n",
       " 'Inside our room': 4,\n",
       " 'Inside my own house': 4,\n",
       " 'Inside home': 4,\n",
       " 'In our home ': 3,\n",
       " 'In our home company': 3,\n",
       " 'In my home company': 3,\n",
       " 'In my house ': 3,\n",
       " 'At our house': 3,\n",
       " 'At our home ': 3,\n",
       " 'Inside our fence': 3,\n",
       " 'No radio': 3,\n",
       " 'Inside': 3,\n",
       " 'Outside our house.': 3,\n",
       " 'In the market': 3,\n",
       " 'Outside': 3,\n",
       " 'Inside house': 3,\n",
       " 'At home.': 2,\n",
       " 'At their home.': 2,\n",
       " 'In my home ': 2,\n",
       " 'None of the above ': 2,\n",
       " 'At.home': 2,\n",
       " 'Outside house': 2,\n",
       " 'In my compound': 2,\n",
       " 'In our house ': 2,\n",
       " 'Inside the house.': 2,\n",
       " 'at our home': 2,\n",
       " \"We don't listen\": 2,\n",
       " \"I don't\": 2,\n",
       " 'Home is safety': 2,\n",
       " 'In my own house ': 2,\n",
       " 'Phone radio': 2,\n",
       " \"Wherever I'm free\": 2,\n",
       " 'At my home ': 2,\n",
       " 'Nowhere ': 2,\n",
       " 'At my compound': 2,\n",
       " 'She listens at their home.': 2,\n",
       " 'Outside my house': 2,\n",
       " 'My home compound': 2,\n",
       " 'I listen at home ': 2,\n",
       " 'At home inside the house': 1,\n",
       " 'No radio at home': 1,\n",
       " \"I'm far from those who have radio\": 1,\n",
       " 'Have no radio at home': 1,\n",
       " 'Under the tree in my compound': 1,\n",
       " 'Market and at home': 1,\n",
       " 'Inside my home': 1,\n",
       " 'At school': 1,\n",
       " 'At home compound': 1,\n",
       " \"Don't have a radio\": 1,\n",
       " 'In the church': 1,\n",
       " 'Inside our home compound': 1,\n",
       " 'Through my elder brother \"s phone when he is at home ': 1,\n",
       " 'I read in our compound alone': 1,\n",
       " 'In our compound under tree': 1,\n",
       " 'In our home and my friends house': 1,\n",
       " \"We don't have radio\": 1,\n",
       " 'At our own house': 1,\n",
       " 'In our school campus': 1,\n",
       " 'I do listen to the radio lesson in my home.': 1,\n",
       " 'School compound': 1,\n",
       " 'My house': 1,\n",
       " 'Where the time gets him ': 1,\n",
       " \"I only hear but I don't understand\": 1,\n",
       " 'Only family members': 1,\n",
       " 'My bed room': 1,\n",
       " 'My compound': 1,\n",
       " 'Separate place': 1,\n",
       " 'She listens to radio lesson at her home.': 1,\n",
       " 'Only in my home': 1,\n",
       " 'Inside my bed room': 1,\n",
       " 'My own compound': 1,\n",
       " 'Listen at home.': 1,\n",
       " 'In my house.': 1,\n",
       " 'No I listen at my home': 1,\n",
       " 'I listen at home': 1,\n",
       " 'Inside our house ': 1,\n",
       " 'Outside my home compound\\n': 1,\n",
       " 'Our home': 1,\n",
       " 'Any where when time come': 1,\n",
       " 'Staying at home': 1,\n",
       " \"They don't listen\": 1,\n",
       " 'I same time listen in my home': 1,\n",
       " 'She listens to radio lessons at home.': 1,\n",
       " 'Not interested on radio lessons': 1,\n",
       " 'Not radio': 1,\n",
       " 'At home inside or outside': 1,\n",
       " 'At school ': 1,\n",
       " 'I lisen the radio at our house.': 1,\n",
       " 'Nobody is coming from outside.': 1,\n",
       " 'At bome': 1,\n",
       " 'I have no radio': 1,\n",
       " 'Along the road': 1,\n",
       " 'At his home': 1,\n",
       " 'Listening to radio at home using mobile phone': 1,\n",
       " \"Is don't have radio\": 1,\n",
       " 'My home': 1,\n",
       " 'He listens at their home. ': 1,\n",
       " 'My home ': 1,\n",
       " 'Once in the car': 1,\n",
       " 'Outside our home': 1,\n",
       " \"They don't come.\": 1,\n",
       " 'In my compound sometimes from where I do sell my petty goods near the main market': 1,\n",
       " 'Have not listen': 1,\n",
       " 'Outside my compound': 1,\n",
       " 'In the Market': 1,\n",
       " 'Out side their compound.': 1,\n",
       " 'Inside my compound': 1,\n",
       " 'Nothing.': 1,\n",
       " 'Outside our home compound': 1,\n",
       " 'Inside my own compound ': 1,\n",
       " 'Only with my friend on her phone': 1,\n",
       " 'She listens at home.': 1,\n",
       " 'Inside our bed room': 1,\n",
       " 'Only in my room': 1,\n",
       " 'He listens to radio lessons at home.': 1,\n",
       " 'He listens to radio lessons at their home.': 1,\n",
       " 'Inside the house and in the compound': 1,\n",
       " 'In side our compound': 1,\n",
       " 'Market': 1,\n",
       " 'Out side my house': 1,\n",
       " 'At home outside': 1,\n",
       " 'In their home': 1,\n",
       " \"I don't listen to radios\": 1,\n",
       " 'To help one another': 1,\n",
       " 'Outside the house ': 1,\n",
       " 'In or outside my home ': 1,\n",
       " 'Only us at our home': 1,\n",
       " 'Inside  my compound': 1,\n",
       " 'Home is satety': 1,\n",
       " 'None ': 1,\n",
       " 'Learn more': 1,\n",
       " 'Out side our home': 1,\n",
       " 'I do revised my previous lessons with my brother': 1,\n",
       " 'At my home residents': 1,\n",
       " 'She listens only at their home.': 1,\n",
       " 'Just at home': 1,\n",
       " 'Wherever I got the chance to listen to the radio': 1,\n",
       " 'At her home compund.': 1,\n",
       " 'Home has radio': 1,\n",
       " 'It is my phone radio': 1,\n",
       " 'Mostly at home ': 1,\n",
       " 'In the home ': 1,\n",
       " 'Inside the house': 1,\n",
       " \"I don't listen to the radio lessons. \": 1,\n",
       " 'No I listed once at out home': 1,\n",
       " 'In my room': 1,\n",
       " 'We listen at he': 1,\n",
       " 'Nobody from outside to come and listen with us.': 1,\n",
       " 'Our compound': 1,\n",
       " 'Our home compound': 1,\n",
       " 'Under the tree in the compound': 1,\n",
       " 'Hope radio ': 1,\n",
       " \"Don't have. \": 1,\n",
       " 'No radio with me': 1,\n",
       " 'No more radios ': 1,\n",
       " 'I listen at our home': 1,\n",
       " 'Radio centre ': 1,\n",
       " 'Because the waves are clear\\n': 1,\n",
       " 'Can sometimes hear from near home': 1,\n",
       " 'Out side house.': 1,\n",
       " 'St his home compund': 1,\n",
       " \"I'm listening to the lesson at home\": 1,\n",
       " 'Friends ': 1,\n",
       " 'No ': 1,\n",
       " 'Inside the home.': 1,\n",
       " 'No out side listen the radio with me ': 1,\n",
       " 'Nothing to listen': 1,\n",
       " 'Inside our bedroom sometime sitting room': 1,\n",
       " \"We don't listen at neighbours home.\": 1,\n",
       " \"We don't follow this program\": 1,\n",
       " 'He listens at his home.': 1,\n",
       " 'In our home compound': 1,\n",
       " 'Only. My brothers ': 1,\n",
       " 'Am interested in studying': 1,\n",
       " 'It is a phone radio': 1,\n",
       " 'Both inside and outside home': 1,\n",
       " 'Just with in our home': 1,\n",
       " 'Only her own home': 1,\n",
       " 'More learning': 1,\n",
       " 'At home when dad is at home with his phone. ': 1,\n",
       " 'In my own home': 1,\n",
       " 'Inside my house.': 1,\n",
       " \"I don't listen to radio\": 1,\n",
       " 'Outside at home.': 1,\n",
       " 'I listen to my phone radio': 1,\n",
       " 'I do listen to the radio lesson outside my house.': 1,\n",
       " 'In side my house': 1,\n",
       " '\\nIn and outside my home': 1,\n",
       " 'Neighbors': 1,\n",
       " 'She listens at her home.': 1,\n",
       " 'In my own room ': 1,\n",
       " 'In my recharging center': 1,\n",
       " 'Sometimes outside': 1,\n",
       " 'Not at all': 1,\n",
       " 'On my phone': 1,\n",
       " 'Outside home compound': 1,\n",
       " 'She normally listens at their home.': 1,\n",
       " 'Our house ': 1,\n",
       " 'Only my friends whom are with me': 1,\n",
       " 'In the compound': 1,\n",
       " 'No radio at my home': 1,\n",
       " 'Any place': 1,\n",
       " 'Our house': 1,\n",
       " 'Inside my sitting room': 1,\n",
       " 'I only listen alone with my children.': 1,\n",
       " 'In side my room': 1,\n",
       " 'Not my radio': 1,\n",
       " 'Any where I feel like to listen': 1,\n",
       " 'Outside the house': 1,\n",
       " 'At the chop': 1,\n",
       " 'Outside house.': 1,\n",
       " 'As I said it is not my radio': 1,\n",
       " 'At their own home.': 1,\n",
       " 'Out side at home.': 1,\n",
       " 'In our sitting room': 1,\n",
       " \"My radio is at home but I don't listen it all the time. \": 1,\n",
       " 'At my house outside': 1,\n",
       " 'Under the tree': 1,\n",
       " 'We listen': 1}"
      ]
     },
     "execution_count": 201,
     "metadata": {},
     "output_type": "execute_result"
    }
   ],
   "source": [
    "dict(df.iloc[:,195].value_counts())"
   ]
  },
  {
   "cell_type": "code",
   "execution_count": 258,
   "metadata": {},
   "outputs": [],
   "source": [
    "# inside house\n",
    "index_house = df[~df.iloc[:,195].str.contains('outside|Outside', na=False)].iloc[:,195].str.contains('home|house|Home|House|fence|room').index"
   ]
  },
  {
   "cell_type": "code",
   "execution_count": 259,
   "metadata": {},
   "outputs": [],
   "source": [
    "# compound\n",
    "index_compoud = df[~df.iloc[:,195].str.contains('outside|Outside', na=False)].iloc[:,195].str.contains('compound').index"
   ]
  },
  {
   "cell_type": "code",
   "execution_count": 282,
   "metadata": {},
   "outputs": [],
   "source": [
    "# school\n",
    "index_school = df[~df.iloc[:,195].str.contains('outside|Outside', na=False)].iloc[:,195].str.contains('school').index"
   ]
  },
  {
   "cell_type": "code",
   "execution_count": 294,
   "metadata": {},
   "outputs": [
    {
     "data": {
      "text/plain": [
       "At home                         71\n",
       "Inside my house                 26\n",
       "In our home                     16\n",
       "Inside our house                14\n",
       "No                              13\n",
       "                                ..\n",
       "As I said it is not my radio     1\n",
       "At their own home.               1\n",
       "Out side at home.                1\n",
       "In our sitting room              1\n",
       "We listen                        1\n",
       "Name: Specify other.3, Length: 218, dtype: int64"
      ]
     },
     "execution_count": 294,
     "metadata": {},
     "output_type": "execute_result"
    }
   ],
   "source": [
    "df.iloc[index_house.tolist()].iloc[:,195].value_counts()"
   ]
  },
  {
   "cell_type": "code",
   "execution_count": 257,
   "metadata": {},
   "outputs": [
    {
     "data": {
      "text/plain": [
       "Physical radio                                      2\n",
       "Radio                                               1\n",
       "Internet connection                                 1\n",
       "Non.                                                1\n",
       "Phones                                              1\n",
       "I don't know their types but they are there         1\n",
       "No relearning material available in schools here    1\n",
       "Computer                                            1\n",
       "Name: If other please specify , dtype: int64"
      ]
     },
     "execution_count": 257,
     "metadata": {},
     "output_type": "execute_result"
    }
   ],
   "source": [
    "# WQ68_hat devices are available for eLearning in the school/area?\n",
    "# If other please specify (HR)\n",
    "df.iloc[:,225].value_counts()"
   ]
  },
  {
   "cell_type": "code",
   "execution_count": 218,
   "metadata": {},
   "outputs": [
    {
     "data": {
      "text/plain": [
       "0       0.0\n",
       "1       0.0\n",
       "2       NaN\n",
       "3       NaN\n",
       "4       0.0\n",
       "       ... \n",
       "4722    NaN\n",
       "4723    NaN\n",
       "4724    NaN\n",
       "4725    NaN\n",
       "4726    NaN\n",
       "Name: Q68_6Other, Length: 4727, dtype: float64"
      ]
     },
     "execution_count": 218,
     "metadata": {},
     "output_type": "execute_result"
    }
   ],
   "source": [
    "df.iloc[:,224]"
   ]
  }
 ],
 "metadata": {
  "kernelspec": {
   "display_name": "Python 3",
   "language": "python",
   "name": "python3"
  },
  "language_info": {
   "codemirror_mode": {
    "name": "ipython",
    "version": 3
   },
   "file_extension": ".py",
   "mimetype": "text/x-python",
   "name": "python",
   "nbconvert_exporter": "python",
   "pygments_lexer": "ipython3",
   "version": "3.7.7"
  }
 },
 "nbformat": 4,
 "nbformat_minor": 4
}
