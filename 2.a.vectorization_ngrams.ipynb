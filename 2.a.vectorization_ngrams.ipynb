{
 "cells": [
  {
   "cell_type": "markdown",
   "metadata": {},
   "source": [
    "## Vectorization"
   ]
  },
  {
   "cell_type": "code",
   "execution_count": 77,
   "metadata": {},
   "outputs": [],
   "source": [
    "import pandas as pd\n",
    "import numpy as np\n",
    "import re\n",
    "import nltk\n",
    "\n",
    "import matplotlib.pyplot as plt\n",
    "\n",
    "from nltk.corpus import stopwords\n",
    "from sklearn.feature_extraction.text import CountVectorizer"
   ]
  },
  {
   "cell_type": "markdown",
   "metadata": {},
   "source": [
    "### 1. Load Data"
   ]
  },
  {
   "cell_type": "markdown",
   "metadata": {},
   "source": [
    "#### Open-ended Answers"
   ]
  },
  {
   "cell_type": "code",
   "execution_count": 78,
   "metadata": {},
   "outputs": [],
   "source": [
    "activities = pd.read_csv('./data/activities.csv')"
   ]
  },
  {
   "cell_type": "code",
   "execution_count": 79,
   "metadata": {},
   "outputs": [],
   "source": [
    "health = pd.read_csv('./data/health.csv')"
   ]
  },
  {
   "cell_type": "code",
   "execution_count": 80,
   "metadata": {},
   "outputs": [],
   "source": [
    "home_safety = pd.read_csv('./data/home_safety.csv')"
   ]
  },
  {
   "cell_type": "code",
   "execution_count": 81,
   "metadata": {},
   "outputs": [],
   "source": [
    "quantity_learning = pd.read_csv('./data/quantity_learning.csv')"
   ]
  },
  {
   "cell_type": "code",
   "execution_count": 82,
   "metadata": {},
   "outputs": [],
   "source": [
    "radio_lessons = pd.read_csv('./data/radio_lessons.csv')"
   ]
  },
  {
   "cell_type": "markdown",
   "metadata": {},
   "source": [
    "## 2. Count vectorization function\n",
    "#### 2.1. Retrieve bi/trigrams tokens, refine and encode"
   ]
  },
  {
   "cell_type": "code",
   "execution_count": 83,
   "metadata": {},
   "outputs": [],
   "source": [
    "stopwords = stopwords.words('english')"
   ]
  },
  {
   "cell_type": "code",
   "execution_count": 84,
   "metadata": {},
   "outputs": [],
   "source": [
    "def removal(text):\n",
    "    text = re.sub(r'(\\d|\\$|\\%|\\+)', '', text.lower())\n",
    "    return re.sub(r'\\d+', '', text)"
   ]
  },
  {
   "cell_type": "code",
   "execution_count": 85,
   "metadata": {},
   "outputs": [],
   "source": [
    "def bow_vectorization(data, index, n_grams):\n",
    "    vectorizer = CountVectorizer(stop_words = stopwords, lowercase = True, strip_accents='unicode', ngram_range=n_grams, preprocessor=removal)\n",
    "    data_tokens = vectorizer.fit_transform(data)\n",
    "    print(len(vectorizer.vocabulary_),'words in dictionary.')\n",
    "    return pd.DataFrame(data_tokens.todense(), columns=vectorizer.get_feature_names(), index=index)"
   ]
  },
  {
   "cell_type": "markdown",
   "metadata": {},
   "source": [
    "#### 2.2. Search word in vocabulary"
   ]
  },
  {
   "cell_type": "raw",
   "metadata": {},
   "source": [
    "def search(word_in=None, word_out=None, vocabulary=None):\n",
    "    if word_in is None:\n",
    "        return 'no words to search'\n",
    "    words = []\n",
    "    for term in vocabulary:\n",
    "        if word_out is None:\n",
    "            if word_in in term:\n",
    "                words.append(term)            \n",
    "        else:\n",
    "            if word_in in term and word_out not in term:\n",
    "                words.append(term)\n",
    "    return words"
   ]
  },
  {
   "cell_type": "code",
   "execution_count": 86,
   "metadata": {},
   "outputs": [],
   "source": [
    "def search(word_in=None, word_out=None, vocabulary=None):\n",
    "    if word_in is None:\n",
    "        return 'no words to search'\n",
    "\n",
    "    words = []\n",
    "    if isinstance(word_in, list):\n",
    "        for word in word_in:\n",
    "            for term in vocabulary:\n",
    "                if word in term:\n",
    "                    words.append(term)            \n",
    "    else:\n",
    "        for term in vocabulary:\n",
    "            if word_in in term:\n",
    "                words.append(term)\n",
    "    \n",
    "    words_clean = []\n",
    "    if word_out:\n",
    "        if isinstance(word_out,str):\n",
    "            word_out = [word_out]\n",
    "        print(word_out)\n",
    "        for word in word_out:\n",
    "            for term in words:\n",
    "                if word in term:\n",
    "                    pass\n",
    "                else:\n",
    "                    words_clean.append(term)\n",
    "        return words_clean\n",
    "    else:\n",
    "        return words"
   ]
  },
  {
   "cell_type": "markdown",
   "metadata": {},
   "source": [
    "## 3. Questions to vectorize"
   ]
  },
  {
   "cell_type": "markdown",
   "metadata": {},
   "source": [
    "### 3.1. Are you doing other things at home to learn, aside from radio lessons? What are you doing?"
   ]
  },
  {
   "cell_type": "markdown",
   "metadata": {},
   "source": [
    "Only those who answered \"Yes\" explained later what they were doing."
   ]
  },
  {
   "cell_type": "code",
   "execution_count": 108,
   "metadata": {},
   "outputs": [
    {
     "data": {
      "text/plain": [
       "Unnamed: 0                                                                    1499\n",
       "Q34_Are you doing other things at home to learn, aside from radio lessons?    1499\n",
       "Q35_What are you doing?                                                       1499\n",
       "dtype: int64"
      ]
     },
     "execution_count": 108,
     "metadata": {},
     "output_type": "execute_result"
    }
   ],
   "source": [
    "# Yes answer\n",
    "activities[activities.iloc[:,1] == 'Yes'].notnull().sum()"
   ]
  },
  {
   "cell_type": "code",
   "execution_count": 109,
   "metadata": {},
   "outputs": [
    {
     "data": {
      "text/plain": [
       "Unnamed: 0                                                                    1011\n",
       "Q34_Are you doing other things at home to learn, aside from radio lessons?    1011\n",
       "Q35_What are you doing?                                                          0\n",
       "dtype: int64"
      ]
     },
     "execution_count": 109,
     "metadata": {},
     "output_type": "execute_result"
    }
   ],
   "source": [
    "# No answer\n",
    "activities[activities.iloc[:,1] == 'No'].notnull().sum()"
   ]
  },
  {
   "cell_type": "markdown",
   "metadata": {},
   "source": [
    "Counting random words"
   ]
  },
  {
   "cell_type": "code",
   "execution_count": 110,
   "metadata": {},
   "outputs": [
    {
     "data": {
      "text/plain": [
       "691"
      ]
     },
     "execution_count": 110,
     "metadata": {},
     "output_type": "execute_result"
    }
   ],
   "source": [
    "mask = activities.iloc[:,2].str.contains('read|Read', na=False)\n",
    "mask.sum()"
   ]
  },
  {
   "cell_type": "code",
   "execution_count": 111,
   "metadata": {},
   "outputs": [
    {
     "data": {
      "text/plain": [
       "109"
      ]
     },
     "execution_count": 111,
     "metadata": {},
     "output_type": "execute_result"
    }
   ],
   "source": [
    "mask_2 = activities.iloc[:,2].str.contains('work|Work', na=False)\n",
    "mask_2.sum()"
   ]
  },
  {
   "cell_type": "code",
   "execution_count": 112,
   "metadata": {},
   "outputs": [
    {
     "data": {
      "text/plain": [
       "32"
      ]
     },
     "execution_count": 112,
     "metadata": {},
     "output_type": "execute_result"
    }
   ],
   "source": [
    "mask_3 = activities.iloc[:,2].str.contains('Harvest|harvest|culti|Cultiv', na=False)\n",
    "mask_3.sum()"
   ]
  },
  {
   "cell_type": "code",
   "execution_count": 113,
   "metadata": {},
   "outputs": [
    {
     "data": {
      "text/plain": [
       "60"
      ]
     },
     "execution_count": 113,
     "metadata": {},
     "output_type": "execute_result"
    }
   ],
   "source": [
    "mask_4 = activities.iloc[:,2].str.contains('package', na=False)\n",
    "mask_4.sum()"
   ]
  },
  {
   "cell_type": "markdown",
   "metadata": {},
   "source": [
    "#### Word vectorization"
   ]
  },
  {
   "cell_type": "code",
   "execution_count": 114,
   "metadata": {},
   "outputs": [
    {
     "name": "stdout",
     "output_type": "stream",
     "text": [
      "456 words in dictionary.\n"
     ]
    }
   ],
   "source": [
    "activities_bi = bow_vectorization(data = activities.iloc[:,2].dropna(), \n",
    "                                  index=activities.iloc[:,2].dropna().index, \n",
    "                                  n_grams=(1, 1))"
   ]
  },
  {
   "cell_type": "code",
   "execution_count": 115,
   "metadata": {},
   "outputs": [
    {
     "data": {
      "text/plain": [
       "reading       595\n",
       "books         314\n",
       "notes         132\n",
       "revising      106\n",
       "home           96\n",
       "work           92\n",
       "read           88\n",
       "studies        87\n",
       "studying       76\n",
       "previous       74\n",
       "revision       69\n",
       "cooking        63\n",
       "study          59\n",
       "school         55\n",
       "text           53\n",
       "textbooks      51\n",
       "holiday        45\n",
       "revise         42\n",
       "group          41\n",
       "package        37\n",
       "lessons        36\n",
       "exercise       32\n",
       "discussion     32\n",
       "time           30\n",
       "book           30\n",
       "dtype: int64"
      ]
     },
     "execution_count": 115,
     "metadata": {},
     "output_type": "execute_result"
    }
   ],
   "source": [
    "# see 25 most repeated\n",
    "activities_bi.sum().sort_values(ascending=False)[:25]"
   ]
  },
  {
   "cell_type": "markdown",
   "metadata": {},
   "source": [
    "#### Group words\n",
    "Group similar words by concepts and count unique apperance"
   ]
  },
  {
   "cell_type": "code",
   "execution_count": 127,
   "metadata": {},
   "outputs": [],
   "source": [
    "studying = activities_bi[['revise','revised','revising','revision','reading','read', 'book', 'books','note','notes','english',\n",
    "               'math','maths','mathematics','study','studying','studies', 'science', 'subjects', 'revisions',\n",
    "              'text', 'textbook','textbooks','homework','practicing','lessons', 'practing', 'lessons','lesson',\n",
    "              'exercise','exercises','discuss','discussion','discussing','activities']]"
   ]
  },
  {
   "cell_type": "code",
   "execution_count": 130,
   "metadata": {},
   "outputs": [],
   "source": [
    "housework = activities_bi[['domestic','garden','water','housework','cooking','fetching', 'firewood','collect','cattle',\n",
    "                           'fetch','household','cleaning','washing','wash','utensils','clothes','clean','chores']]"
   ]
  },
  {
   "cell_type": "code",
   "execution_count": 131,
   "metadata": {},
   "outputs": [
    {
     "ename": "KeyError",
     "evalue": "\"['holidays', 'holyday'] not in index\"",
     "output_type": "error",
     "traceback": [
      "\u001b[0;31m---------------------------------------------------------------------------\u001b[0m",
      "\u001b[0;31mKeyError\u001b[0m                                  Traceback (most recent call last)",
      "\u001b[0;32m<ipython-input-131-d6ee728ecf7a>\u001b[0m in \u001b[0;36m<module>\u001b[0;34m\u001b[0m\n\u001b[0;32m----> 1\u001b[0;31m \u001b[0mholiday_package\u001b[0m \u001b[0;34m=\u001b[0m \u001b[0mactivities_bi\u001b[0m\u001b[0;34m[\u001b[0m\u001b[0;34m[\u001b[0m\u001b[0;34m'holiday'\u001b[0m\u001b[0;34m,\u001b[0m\u001b[0;34m'package'\u001b[0m\u001b[0;34m,\u001b[0m\u001b[0;34m'packages'\u001b[0m\u001b[0;34m,\u001b[0m\u001b[0;34m'holidays'\u001b[0m\u001b[0;34m,\u001b[0m\u001b[0;34m'holydays'\u001b[0m\u001b[0;34m,\u001b[0m\u001b[0;34m'holyday'\u001b[0m\u001b[0;34m]\u001b[0m\u001b[0;34m]\u001b[0m\u001b[0;34m\u001b[0m\u001b[0;34m\u001b[0m\u001b[0m\n\u001b[0m",
      "\u001b[0;32m~/anaconda3/envs/dh/lib/python3.7/site-packages/pandas/core/frame.py\u001b[0m in \u001b[0;36m__getitem__\u001b[0;34m(self, key)\u001b[0m\n\u001b[1;32m   2804\u001b[0m             \u001b[0;32mif\u001b[0m \u001b[0mis_iterator\u001b[0m\u001b[0;34m(\u001b[0m\u001b[0mkey\u001b[0m\u001b[0;34m)\u001b[0m\u001b[0;34m:\u001b[0m\u001b[0;34m\u001b[0m\u001b[0;34m\u001b[0m\u001b[0m\n\u001b[1;32m   2805\u001b[0m                 \u001b[0mkey\u001b[0m \u001b[0;34m=\u001b[0m \u001b[0mlist\u001b[0m\u001b[0;34m(\u001b[0m\u001b[0mkey\u001b[0m\u001b[0;34m)\u001b[0m\u001b[0;34m\u001b[0m\u001b[0;34m\u001b[0m\u001b[0m\n\u001b[0;32m-> 2806\u001b[0;31m             \u001b[0mindexer\u001b[0m \u001b[0;34m=\u001b[0m \u001b[0mself\u001b[0m\u001b[0;34m.\u001b[0m\u001b[0mloc\u001b[0m\u001b[0;34m.\u001b[0m\u001b[0m_get_listlike_indexer\u001b[0m\u001b[0;34m(\u001b[0m\u001b[0mkey\u001b[0m\u001b[0;34m,\u001b[0m \u001b[0maxis\u001b[0m\u001b[0;34m=\u001b[0m\u001b[0;36m1\u001b[0m\u001b[0;34m,\u001b[0m \u001b[0mraise_missing\u001b[0m\u001b[0;34m=\u001b[0m\u001b[0;32mTrue\u001b[0m\u001b[0;34m)\u001b[0m\u001b[0;34m[\u001b[0m\u001b[0;36m1\u001b[0m\u001b[0;34m]\u001b[0m\u001b[0;34m\u001b[0m\u001b[0;34m\u001b[0m\u001b[0m\n\u001b[0m\u001b[1;32m   2807\u001b[0m \u001b[0;34m\u001b[0m\u001b[0m\n\u001b[1;32m   2808\u001b[0m         \u001b[0;31m# take() does not accept boolean indexers\u001b[0m\u001b[0;34m\u001b[0m\u001b[0;34m\u001b[0m\u001b[0;34m\u001b[0m\u001b[0m\n",
      "\u001b[0;32m~/anaconda3/envs/dh/lib/python3.7/site-packages/pandas/core/indexing.py\u001b[0m in \u001b[0;36m_get_listlike_indexer\u001b[0;34m(self, key, axis, raise_missing)\u001b[0m\n\u001b[1;32m   1551\u001b[0m \u001b[0;34m\u001b[0m\u001b[0m\n\u001b[1;32m   1552\u001b[0m         self._validate_read_indexer(\n\u001b[0;32m-> 1553\u001b[0;31m             \u001b[0mkeyarr\u001b[0m\u001b[0;34m,\u001b[0m \u001b[0mindexer\u001b[0m\u001b[0;34m,\u001b[0m \u001b[0mo\u001b[0m\u001b[0;34m.\u001b[0m\u001b[0m_get_axis_number\u001b[0m\u001b[0;34m(\u001b[0m\u001b[0maxis\u001b[0m\u001b[0;34m)\u001b[0m\u001b[0;34m,\u001b[0m \u001b[0mraise_missing\u001b[0m\u001b[0;34m=\u001b[0m\u001b[0mraise_missing\u001b[0m\u001b[0;34m\u001b[0m\u001b[0;34m\u001b[0m\u001b[0m\n\u001b[0m\u001b[1;32m   1554\u001b[0m         )\n\u001b[1;32m   1555\u001b[0m         \u001b[0;32mreturn\u001b[0m \u001b[0mkeyarr\u001b[0m\u001b[0;34m,\u001b[0m \u001b[0mindexer\u001b[0m\u001b[0;34m\u001b[0m\u001b[0;34m\u001b[0m\u001b[0m\n",
      "\u001b[0;32m~/anaconda3/envs/dh/lib/python3.7/site-packages/pandas/core/indexing.py\u001b[0m in \u001b[0;36m_validate_read_indexer\u001b[0;34m(self, key, indexer, axis, raise_missing)\u001b[0m\n\u001b[1;32m   1644\u001b[0m             \u001b[0;32mif\u001b[0m \u001b[0;32mnot\u001b[0m \u001b[0;34m(\u001b[0m\u001b[0mself\u001b[0m\u001b[0;34m.\u001b[0m\u001b[0mname\u001b[0m \u001b[0;34m==\u001b[0m \u001b[0;34m\"loc\"\u001b[0m \u001b[0;32mand\u001b[0m \u001b[0;32mnot\u001b[0m \u001b[0mraise_missing\u001b[0m\u001b[0;34m)\u001b[0m\u001b[0;34m:\u001b[0m\u001b[0;34m\u001b[0m\u001b[0;34m\u001b[0m\u001b[0m\n\u001b[1;32m   1645\u001b[0m                 \u001b[0mnot_found\u001b[0m \u001b[0;34m=\u001b[0m \u001b[0mlist\u001b[0m\u001b[0;34m(\u001b[0m\u001b[0mset\u001b[0m\u001b[0;34m(\u001b[0m\u001b[0mkey\u001b[0m\u001b[0;34m)\u001b[0m \u001b[0;34m-\u001b[0m \u001b[0mset\u001b[0m\u001b[0;34m(\u001b[0m\u001b[0max\u001b[0m\u001b[0;34m)\u001b[0m\u001b[0;34m)\u001b[0m\u001b[0;34m\u001b[0m\u001b[0;34m\u001b[0m\u001b[0m\n\u001b[0;32m-> 1646\u001b[0;31m                 \u001b[0;32mraise\u001b[0m \u001b[0mKeyError\u001b[0m\u001b[0;34m(\u001b[0m\u001b[0;34mf\"{not_found} not in index\"\u001b[0m\u001b[0;34m)\u001b[0m\u001b[0;34m\u001b[0m\u001b[0;34m\u001b[0m\u001b[0m\n\u001b[0m\u001b[1;32m   1647\u001b[0m \u001b[0;34m\u001b[0m\u001b[0m\n\u001b[1;32m   1648\u001b[0m             \u001b[0;31m# we skip the warning on Categorical/Interval\u001b[0m\u001b[0;34m\u001b[0m\u001b[0;34m\u001b[0m\u001b[0;34m\u001b[0m\u001b[0m\n",
      "\u001b[0;31mKeyError\u001b[0m: \"['holidays', 'holyday'] not in index\""
     ]
    }
   ],
   "source": [
    "holiday_package = activities_bi[['holiday','package','packages','holidays','holydays','holyday']]"
   ]
  },
  {
   "cell_type": "code",
   "execution_count": 126,
   "metadata": {},
   "outputs": [],
   "source": [
    "external_work = activities_bi[['harvest', 'harvesting','cultivation','caltivation','goat','goats','looking','farm','farming']]"
   ]
  },
  {
   "cell_type": "code",
   "execution_count": 120,
   "metadata": {},
   "outputs": [],
   "source": [
    "leisure = activities_bi[['play', 'ball','foot ball','soccer']]"
   ]
  },
  {
   "cell_type": "code",
   "execution_count": 121,
   "metadata": {},
   "outputs": [],
   "source": [
    "others = activities_bi.drop(studying.columns.tolist() + \\\n",
    "            housework.columns.tolist() + \\\n",
    "            holiday_package.columns.tolist() + \\\n",
    "            external_work.columns.tolist() + \\\n",
    "            leisure.columns.tolist(), axis=1)"
   ]
  },
  {
   "cell_type": "markdown",
   "metadata": {},
   "source": [
    "Count one per concept apperance (not word)"
   ]
  },
  {
   "cell_type": "code",
   "execution_count": 101,
   "metadata": {},
   "outputs": [],
   "source": [
    "studying = studying.sum(axis=1)\n",
    "housework = housework.sum(axis=1)\n",
    "holiday_package = holiday_package.sum(axis=1)\n",
    "external_work = external_work.sum(axis=1)\n",
    "leisure = leisure.sum(axis=1)\n",
    "others = others.sum(axis=1)"
   ]
  },
  {
   "cell_type": "code",
   "execution_count": 102,
   "metadata": {},
   "outputs": [],
   "source": [
    "studying[studying != 0] = 1\n",
    "housework[housework != 0] = 1\n",
    "holiday_package[holiday_package != 0] = 1\n",
    "external_work[external_work != 0] = 1\n",
    "others[others != 0] = 1"
   ]
  },
  {
   "cell_type": "code",
   "execution_count": 103,
   "metadata": {},
   "outputs": [],
   "source": [
    "study = pd.DataFrame(np.zeros(activities.shape[0]), dtype=int, columns=['studying'])\n",
    "study.loc[studying[studying == 1].index,:] = 1\n",
    "house = pd.DataFrame(np.zeros(activities.shape[0]), dtype=int, columns=['housework'])\n",
    "house.loc[housework[housework == 1].index,:] = 1\n",
    "holiday = pd.DataFrame(np.zeros(activities.shape[0]), dtype=int, columns=['holiday_package'])\n",
    "holiday.loc[holiday_package[holiday_package == 1].index,:] = 1\n",
    "external = pd.DataFrame(np.zeros(activities.shape[0]), dtype=int, columns=['external_work'])\n",
    "external.loc[external_work[external_work == 1].index,:] = 1\n",
    "leisure_time = pd.DataFrame(np.zeros(activities.shape[0]), dtype=int, columns=['leisure'])\n",
    "leisure_time.loc[leisure[leisure == 1].index,:] = 1\n",
    "others_w = pd.DataFrame(np.zeros(activities.shape[0]), dtype=int, columns=['others'])\n",
    "others_w.loc[others[others == 1].index,:] = 1"
   ]
  },
  {
   "cell_type": "code",
   "execution_count": 104,
   "metadata": {},
   "outputs": [],
   "source": [
    "activities_group = pd.concat([study,house,holiday,external,leisure_time,others_w], axis=1)"
   ]
  },
  {
   "cell_type": "markdown",
   "metadata": {},
   "source": [
    "Visualization"
   ]
  },
  {
   "cell_type": "code",
   "execution_count": 105,
   "metadata": {},
   "outputs": [
    {
     "data": {
      "image/png": "[encoded data removed]",
      "text/plain": [
       "<Figure size 720x360 with 1 Axes>"
      ]
     },
     "metadata": {
      "needs_background": "light"
     },
     "output_type": "display_data"
    }
   ],
   "source": [
    "plt.figure(figsize=(10,5))\n",
    "plt.bar(activities_group.columns,activities_group.sum())\n",
    "plt.title('Are you doing other things at home to learn, aside from radio lessons? What are you doing?')\n",
    "plt.xticks(rotation=45, ha='right')\n",
    "plt.show()"
   ]
  },
  {
   "cell_type": "markdown",
   "metadata": {},
   "source": [
    "#### Save vectors and concepts"
   ]
  },
  {
   "cell_type": "code",
   "execution_count": 30,
   "metadata": {},
   "outputs": [],
   "source": [
    "activities_bi.to_csv('data/tokens/activities.csv')\n",
    "activities_group.to_csv('data/concepts/activities_concepts.csv')"
   ]
  },
  {
   "cell_type": "markdown",
   "metadata": {},
   "source": [
    "### 3.2. Do you feel worried about your health due to studying/being at home during COVID-19? Why or why not?"
   ]
  },
  {
   "cell_type": "code",
   "execution_count": 132,
   "metadata": {},
   "outputs": [
    {
     "data": {
      "text/plain": [
       "Yes         772\n",
       "No          528\n",
       "Somewhat     75\n",
       "Name: Q46_Do you feel worried about your health due to studying/being at home during COVID-19?, dtype: int64"
      ]
     },
     "execution_count": 132,
     "metadata": {},
     "output_type": "execute_result"
    }
   ],
   "source": [
    "health.iloc[:,1].value_counts()"
   ]
  },
  {
   "cell_type": "markdown",
   "metadata": {},
   "source": [
    "Get 'Yes' and 'No' answers"
   ]
  },
  {
   "cell_type": "code",
   "execution_count": 133,
   "metadata": {},
   "outputs": [],
   "source": [
    "# health_yes = health[(health.iloc[:,1] == 'Yes') | (health.iloc[:,1] == 'Somewhat')].iloc[:,2]\n",
    "health_yes = health[(health.iloc[:,1] == 'Yes')].iloc[:,2]"
   ]
  },
  {
   "cell_type": "code",
   "execution_count": 134,
   "metadata": {},
   "outputs": [],
   "source": [
    "health_no = health[health.iloc[:,1] == 'No'].iloc[:,2]"
   ]
  },
  {
   "cell_type": "markdown",
   "metadata": {},
   "source": [
    "#### Bigram vectorization\n",
    "Worry about studying at home"
   ]
  },
  {
   "cell_type": "code",
   "execution_count": 135,
   "metadata": {},
   "outputs": [
    {
     "name": "stdout",
     "output_type": "stream",
     "text": [
      "2666 words in dictionary.\n"
     ]
    }
   ],
   "source": [
    "health_yes_bi = bow_vectorization(data = health_yes.dropna(), \n",
    "                                  index= health_yes.dropna().index,\n",
    "                                  n_grams=(2, 4))"
   ]
  },
  {
   "cell_type": "code",
   "execution_count": 136,
   "metadata": {},
   "outputs": [
    {
     "data": {
      "text/plain": [
       "corona virus                    33\n",
       "want live                       22\n",
       "covid infection                 22\n",
       "lot things                      14\n",
       "among people                    13\n",
       "infection among people          12\n",
       "infection among                 12\n",
       "missing lot                     12\n",
       "missing lot things              12\n",
       "covid infection among people    11\n",
       "covid infection among           11\n",
       "staying home                    10\n",
       "deadly disease                   9\n",
       "schools closed                   8\n",
       "kills people                     7\n",
       "social distancing                7\n",
       "fear covid                       7\n",
       "many people                      6\n",
       "worried covid                    6\n",
       "want infected                    6\n",
       "virus dangerous                  6\n",
       "dangerous disease                6\n",
       "study well                       6\n",
       "disease every                    5\n",
       "corona virus dangerous           5\n",
       "kill people                      5\n",
       "fear corona                      5\n",
       "covid disease                    5\n",
       "safe home                        5\n",
       "due covid                        5\n",
       "know school                      5\n",
       "one person                       5\n",
       "infection covid                  5\n",
       "spread disease                   5\n",
       "disease everywhere               4\n",
       "kill easily                      4\n",
       "want learn                       4\n",
       "one person another               4\n",
       "disease kill                     4\n",
       "covid dangerous                  4\n",
       "want healthy                     4\n",
       "person another                   4\n",
       "may come                         4\n",
       "fear infected                    4\n",
       "come home                        4\n",
       "covid pandemic                   4\n",
       "healthy good                     4\n",
       "take care                        4\n",
       "care life                        4\n",
       "people home                      4\n",
       "social distance                  4\n",
       "fear infection                   4\n",
       "home safe                        4\n",
       "called covid                     3\n",
       "one place                        3\n",
       "bad sickness                     3\n",
       "place good                       3\n",
       "missing lot things school        3\n",
       "lot things supposed              3\n",
       "missing lot things supposed      3\n",
       "dtype: int64"
      ]
     },
     "execution_count": 136,
     "metadata": {},
     "output_type": "execute_result"
    }
   ],
   "source": [
    "health_yes_bi.sum().sort_values(ascending=False)[:60]"
   ]
  },
  {
   "cell_type": "markdown",
   "metadata": {},
   "source": [
    "#### Group Bigrams\n",
    "Bigrams about the disease"
   ]
  },
  {
   "cell_type": "code",
   "execution_count": 152,
   "metadata": {},
   "outputs": [
    {
     "data": {
      "text/plain": [
       "84"
      ]
     },
     "execution_count": 152,
     "metadata": {},
     "output_type": "execute_result"
    }
   ],
   "source": [
    "affect = search('affect',None, health_yes_bi.columns)\n",
    "len(affect)"
   ]
  },
  {
   "cell_type": "code",
   "execution_count": 153,
   "metadata": {},
   "outputs": [
    {
     "data": {
      "text/plain": [
       "395"
      ]
     },
     "execution_count": 153,
     "metadata": {},
     "output_type": "execute_result"
    }
   ],
   "source": [
    "# get list of bigrams with \"covid\"\n",
    "covid = search(['covid','kill','die'], None, health_yes_bi.columns)\n",
    "len(covid)"
   ]
  },
  {
   "cell_type": "code",
   "execution_count": 154,
   "metadata": {},
   "outputs": [
    {
     "data": {
      "text/plain": [
       "246"
      ]
     },
     "execution_count": 154,
     "metadata": {},
     "output_type": "execute_result"
    }
   ],
   "source": [
    "# get list of bigrams with \"disease\"\n",
    "disease = search('disease', None, health_yes_bi.columns)\n",
    "len(disease)"
   ]
  },
  {
   "cell_type": "code",
   "execution_count": 155,
   "metadata": {},
   "outputs": [
    {
     "data": {
      "text/plain": [
       "24"
      ]
     },
     "execution_count": 155,
     "metadata": {},
     "output_type": "execute_result"
    }
   ],
   "source": [
    "# get list of bigrams with \"pandemic\"\n",
    "pandemic = search('pandemic', None, health_yes_bi.columns)\n",
    "len(pandemic)"
   ]
  },
  {
   "cell_type": "code",
   "execution_count": 156,
   "metadata": {},
   "outputs": [
    {
     "data": {
      "text/plain": [
       "165"
      ]
     },
     "execution_count": 156,
     "metadata": {},
     "output_type": "execute_result"
    }
   ],
   "source": [
    "# get list of bigrams with \"corona\"\n",
    "corona = search('corona', None, health_yes_bi.columns)\n",
    "len(corona)"
   ]
  },
  {
   "cell_type": "code",
   "execution_count": 157,
   "metadata": {},
   "outputs": [
    {
     "data": {
      "text/plain": [
       "172"
      ]
     },
     "execution_count": 157,
     "metadata": {},
     "output_type": "execute_result"
    }
   ],
   "source": [
    "# get list of bigrams with \"infection\"\n",
    "infection = search(['infect','contract'], None, health_yes_bi.columns)\n",
    "len(infection)"
   ]
  },
  {
   "cell_type": "code",
   "execution_count": 158,
   "metadata": {},
   "outputs": [
    {
     "data": {
      "text/plain": [
       "151"
      ]
     },
     "execution_count": 158,
     "metadata": {},
     "output_type": "execute_result"
    }
   ],
   "source": [
    "# get list of bigrams with \"virus\"\n",
    "virus = search('virus', None, health_yes_bi.columns)\n",
    "len(virus)"
   ]
  },
  {
   "cell_type": "markdown",
   "metadata": {},
   "source": [
    "Bigrams about the waste of time"
   ]
  },
  {
   "cell_type": "code",
   "execution_count": 159,
   "metadata": {},
   "outputs": [
    {
     "data": {
      "text/plain": [
       "30"
      ]
     },
     "execution_count": 159,
     "metadata": {},
     "output_type": "execute_result"
    }
   ],
   "source": [
    "interrupted = search(['interr','education'], None, health_yes_bi.columns)\n",
    "len(interrupted)"
   ]
  },
  {
   "cell_type": "code",
   "execution_count": 160,
   "metadata": {},
   "outputs": [
    {
     "name": "stdout",
     "output_type": "stream",
     "text": [
      "['affect']\n"
     ]
    },
    {
     "data": {
      "text/plain": [
       "23"
      ]
     },
     "execution_count": 160,
     "metadata": {},
     "output_type": "execute_result"
    }
   ],
   "source": [
    "enough = search('enough', 'affect', health_yes_bi.columns)\n",
    "len(enough)\n",
    "#health_yes[health_yes.str.contains('enough')].to_list()"
   ]
  },
  {
   "cell_type": "code",
   "execution_count": 161,
   "metadata": {},
   "outputs": [
    {
     "name": "stdout",
     "output_type": "stream",
     "text": [
      "['covid', 'coron']\n"
     ]
    },
    {
     "data": {
      "text/plain": [
       "123"
      ]
     },
     "execution_count": 161,
     "metadata": {},
     "output_type": "execute_result"
    }
   ],
   "source": [
    "children = search('children', ['covid','coron'], health_yes_bi.columns)\n",
    "len(children)"
   ]
  },
  {
   "cell_type": "code",
   "execution_count": 162,
   "metadata": {},
   "outputs": [
    {
     "name": "stdout",
     "output_type": "stream",
     "text": [
      "['coro']\n"
     ]
    },
    {
     "data": {
      "text/plain": [
       "57"
      ]
     },
     "execution_count": 162,
     "metadata": {},
     "output_type": "execute_result"
    }
   ],
   "source": [
    "# get list of bigrams with \"lot\"\n",
    "lot = search('lot', 'coro', health_yes_bi.columns)\n",
    "len(lot)"
   ]
  },
  {
   "cell_type": "code",
   "execution_count": 163,
   "metadata": {},
   "outputs": [
    {
     "data": {
      "text/plain": [
       "81"
      ]
     },
     "execution_count": 163,
     "metadata": {},
     "output_type": "execute_result"
    }
   ],
   "source": [
    "# get list of bigrams with \"things\"\n",
    "things = search('thing', None, health_yes_bi.columns)\n",
    "len(things)"
   ]
  },
  {
   "cell_type": "code",
   "execution_count": 164,
   "metadata": {},
   "outputs": [
    {
     "data": {
      "text/plain": [
       "21"
      ]
     },
     "execution_count": 164,
     "metadata": {},
     "output_type": "execute_result"
    }
   ],
   "source": [
    "# get list of bigrams with \"miss\"\n",
    "miss = search('missing', None, health_yes_bi.columns)\n",
    "len(miss)"
   ]
  },
  {
   "cell_type": "code",
   "execution_count": 165,
   "metadata": {},
   "outputs": [
    {
     "data": {
      "text/plain": [
       "116"
      ]
     },
     "execution_count": 165,
     "metadata": {},
     "output_type": "execute_result"
    }
   ],
   "source": [
    "# get list of bigrams with \"time\"\n",
    "time = search('time', None, health_yes_bi.columns)\n",
    "len(time)"
   ]
  },
  {
   "cell_type": "code",
   "execution_count": 166,
   "metadata": {},
   "outputs": [
    {
     "data": {
      "text/plain": [
       "5"
      ]
     },
     "execution_count": 166,
     "metadata": {},
     "output_type": "execute_result"
    }
   ],
   "source": [
    "# get list of bigrams with \"bore\"\n",
    "bore = search('bore', None, health_yes_bi.columns)\n",
    "len(bore)"
   ]
  },
  {
   "cell_type": "code",
   "execution_count": 167,
   "metadata": {},
   "outputs": [
    {
     "data": {
      "text/plain": [
       "15"
      ]
     },
     "execution_count": 167,
     "metadata": {},
     "output_type": "execute_result"
    }
   ],
   "source": [
    "# get list of bigrams with \"idle\"\n",
    "idle = search('idle', None, health_yes_bi.columns)\n",
    "len(idle)"
   ]
  },
  {
   "cell_type": "code",
   "execution_count": 168,
   "metadata": {},
   "outputs": [
    {
     "data": {
      "text/plain": [
       "15"
      ]
     },
     "execution_count": 168,
     "metadata": {},
     "output_type": "execute_result"
    }
   ],
   "source": [
    "# get list of bigrams with \"active\"\n",
    "active = search('active', None, health_yes_bi.columns)\n",
    "len(active)"
   ]
  },
  {
   "cell_type": "code",
   "execution_count": 169,
   "metadata": {},
   "outputs": [
    {
     "data": {
      "text/plain": [
       "38"
      ]
     },
     "execution_count": 169,
     "metadata": {},
     "output_type": "execute_result"
    }
   ],
   "source": [
    "# get list of bigrams with \"closed\"\n",
    "closed = search('closed', None, health_yes_bi.columns)\n",
    "len(closed)"
   ]
  },
  {
   "cell_type": "code",
   "execution_count": 170,
   "metadata": {},
   "outputs": [
    {
     "name": "stdout",
     "output_type": "stream",
     "text": [
      "['covid', 'viru', 'corona', 'infect']\n"
     ]
    },
    {
     "data": {
      "text/plain": [
       "271"
      ]
     },
     "execution_count": 170,
     "metadata": {},
     "output_type": "execute_result"
    }
   ],
   "source": [
    "learn = search('learn', ['covid','viru','corona','infect'], health_yes_bi.columns)\n",
    "len(learn)"
   ]
  },
  {
   "cell_type": "markdown",
   "metadata": {},
   "source": [
    "Bigrams about health at home"
   ]
  },
  {
   "cell_type": "code",
   "execution_count": 171,
   "metadata": {},
   "outputs": [],
   "source": [
    "# get list of bigrams with \"home\"\n",
    "home = search('home', None, health_yes_bi.columns)"
   ]
  },
  {
   "cell_type": "markdown",
   "metadata": {},
   "source": [
    "Count one per concept apperance (not word)"
   ]
  },
  {
   "cell_type": "code",
   "execution_count": 172,
   "metadata": {},
   "outputs": [],
   "source": [
    "fear_covid = health_yes_bi[list(set(covid+disease+infection+corona+virus+pandemic+affect))]"
   ]
  },
  {
   "cell_type": "code",
   "execution_count": 173,
   "metadata": {},
   "outputs": [],
   "source": [
    "safe_home = health_yes_bi[home]"
   ]
  },
  {
   "cell_type": "code",
   "execution_count": 174,
   "metadata": {},
   "outputs": [],
   "source": [
    "miss_school = health_yes_bi[list(set(things+miss+bore+idle+active+learn+closed+lot+enough+children+interrupted))]"
   ]
  },
  {
   "cell_type": "markdown",
   "metadata": {},
   "source": [
    "The rest of the Bigrams"
   ]
  },
  {
   "cell_type": "code",
   "execution_count": 175,
   "metadata": {},
   "outputs": [],
   "source": [
    "other = health_yes_bi.drop(fear_covid.columns.to_list() + safe_home.columns.to_list() + miss_school.columns.to_list(), axis=1)"
   ]
  },
  {
   "cell_type": "code",
   "execution_count": 179,
   "metadata": {},
   "outputs": [],
   "source": [
    "#other.columns.to_list()"
   ]
  },
  {
   "cell_type": "code",
   "execution_count": 60,
   "metadata": {},
   "outputs": [],
   "source": [
    "fear_covid = fear_covid.sum(axis=1)\n",
    "safe_home = safe_home.sum(axis=1)\n",
    "miss_school = miss_school.sum(axis=1)\n",
    "other = other.sum(axis=1)"
   ]
  },
  {
   "cell_type": "code",
   "execution_count": 61,
   "metadata": {},
   "outputs": [],
   "source": [
    "fear_covid[fear_covid != 0] = 1\n",
    "safe_home[safe_home != 0] = 1\n",
    "miss_school[miss_school != 0] = 1\n",
    "other[other != 0] = 1"
   ]
  },
  {
   "cell_type": "code",
   "execution_count": 62,
   "metadata": {},
   "outputs": [],
   "source": [
    "fear_c = pd.DataFrame(np.zeros(health.shape[0]), dtype=int, columns=['fear_covid'])\n",
    "fear_c.loc[fear_covid[fear_covid == 1].index,:] = 1\n",
    "safe_h = pd.DataFrame(np.zeros(health.shape[0]), dtype=int, columns=['safe_home'])\n",
    "safe_h.loc[safe_home[safe_home == 1].index,:] = 1\n",
    "miss = pd.DataFrame(np.zeros(health.shape[0]), dtype=int, columns=['miss_school'])\n",
    "miss.loc[miss_school[miss_school == 1].index,:] = 1\n",
    "other_w = pd.DataFrame(np.zeros(health.shape[0]), dtype=int, columns=['other_w'])\n",
    "other_w.loc[other[other == 1].index,:] = 1"
   ]
  },
  {
   "cell_type": "code",
   "execution_count": 63,
   "metadata": {},
   "outputs": [],
   "source": [
    "health_yes_group = pd.concat([fear_c,safe_h,miss,other_w], axis=1)"
   ]
  },
  {
   "cell_type": "code",
   "execution_count": 64,
   "metadata": {},
   "outputs": [
    {
     "data": {
      "image/png": "[encoded data removed]",
      "text/plain": [
       "<Figure size 720x360 with 1 Axes>"
      ]
     },
     "metadata": {
      "needs_background": "light"
     },
     "output_type": "display_data"
    }
   ],
   "source": [
    "plt.figure(figsize=(10,5))\n",
    "plt.bar(health_yes_group.columns,health_yes_group.sum())\n",
    "plt.title('Do you feel worried about your health due to studying/being at home during COVID-19? Why Yes?')\n",
    "plt.xticks(rotation=45, ha='right')\n",
    "plt.show()"
   ]
  },
  {
   "cell_type": "code",
   "execution_count": 65,
   "metadata": {},
   "outputs": [
    {
     "data": {
      "text/plain": [
       "fear_covid     0.366667\n",
       "safe_home      0.073563\n",
       "miss_school    0.108046\n",
       "other_w        0.451724\n",
       "dtype: float64"
      ]
     },
     "execution_count": 65,
     "metadata": {},
     "output_type": "execute_result"
    }
   ],
   "source": [
    "health_yes_group.sum() / health_yes_group.sum(axis=1).sum()"
   ]
  },
  {
   "cell_type": "markdown",
   "metadata": {},
   "source": [
    "#### Concepts gathering from dataset\n",
    "Waste of time"
   ]
  },
  {
   "cell_type": "code",
   "execution_count": 66,
   "metadata": {},
   "outputs": [],
   "source": [
    "things = health_yes.str.contains('thing')"
   ]
  },
  {
   "cell_type": "code",
   "execution_count": 67,
   "metadata": {},
   "outputs": [],
   "source": [
    "miss = health_yes.str.contains('miss')"
   ]
  },
  {
   "cell_type": "code",
   "execution_count": 68,
   "metadata": {},
   "outputs": [],
   "source": [
    "time = health_yes.str.contains('time')"
   ]
  },
  {
   "cell_type": "code",
   "execution_count": 69,
   "metadata": {},
   "outputs": [],
   "source": [
    "active = health_yes.str.contains('active')"
   ]
  },
  {
   "cell_type": "code",
   "execution_count": 70,
   "metadata": {},
   "outputs": [],
   "source": [
    "idle = health_yes.str.contains('idle')"
   ]
  },
  {
   "cell_type": "code",
   "execution_count": 71,
   "metadata": {},
   "outputs": [],
   "source": [
    "tire = health_yes.str.contains('tire')"
   ]
  },
  {
   "cell_type": "code",
   "execution_count": 72,
   "metadata": {},
   "outputs": [],
   "source": [
    "waste = health_yes.str.contains('wast')"
   ]
  },
  {
   "cell_type": "code",
   "execution_count": 73,
   "metadata": {},
   "outputs": [],
   "source": [
    "learn = (health_yes.str.contains('learn') & ~health_yes.str.contains('covid|Covid'))"
   ]
  },
  {
   "cell_type": "markdown",
   "metadata": {},
   "source": [
    "Covid"
   ]
  },
  {
   "cell_type": "code",
   "execution_count": 74,
   "metadata": {},
   "outputs": [],
   "source": [
    "covid_home = (health_yes.str.contains('home')) & (health_yes.str.contains('covid|virus|disease|corona'))\n",
    "spread_home = (health_yes.str.contains('home')) & (health_yes.str.contains('people|visitor|com|inter|crow'))"
   ]
  },
  {
   "cell_type": "code",
   "execution_count": 75,
   "metadata": {},
   "outputs": [
    {
     "data": {
      "text/plain": [
       "idleness    55\n",
       "dtype: int64"
      ]
     },
     "execution_count": 75,
     "metadata": {},
     "output_type": "execute_result"
    }
   ],
   "source": [
    "idleness = pd.DataFrame(np.zeros(health.shape[0]), dtype=int, columns=['idleness'])\n",
    "idleness.iloc[health_yes[things | time | miss | active | idle | tire | waste].index] = 1\n",
    "idleness.sum()"
   ]
  },
  {
   "cell_type": "code",
   "execution_count": 76,
   "metadata": {},
   "outputs": [
    {
     "data": {
      "text/plain": [
       "fear home    25\n",
       "dtype: int64"
      ]
     },
     "execution_count": 76,
     "metadata": {},
     "output_type": "execute_result"
    }
   ],
   "source": [
    "#fear_home = health_yes[covid_home | spread_home]\n",
    "fear_home = pd.DataFrame(np.zeros(health.shape[0]), dtype=int, columns=['fear home'])\n",
    "fear_home.iloc[health_yes[covid_home | spread_home].index] = 1\n",
    "fear_home.sum()"
   ]
  },
  {
   "cell_type": "code",
   "execution_count": 77,
   "metadata": {},
   "outputs": [
    {
     "data": {
      "text/plain": [
       "fear outside    227\n",
       "dtype: int64"
      ]
     },
     "execution_count": 77,
     "metadata": {},
     "output_type": "execute_result"
    }
   ],
   "source": [
    "# fear_outside = health_yes[health_yes.str.contains('Covid|covid|coron|Coron|infection|viru|Vir')]\n",
    "fear_outside = pd.DataFrame(np.zeros(health.shape[0]), dtype=int, columns=['fear outside'])\n",
    "fear_outside.iloc[health_yes[health_yes.str.contains('Covid|covid|coron|Coron|infection|viru|Vir')].index] = 1\n",
    "fear_outside.sum()"
   ]
  },
  {
   "cell_type": "code",
   "execution_count": 78,
   "metadata": {},
   "outputs": [],
   "source": [
    "health_yes_words = pd.concat([idleness, fear_home, fear_outside], axis=1)\n",
    "health_yes_words.columns = ['idleness','fear home','fear outside']"
   ]
  },
  {
   "cell_type": "code",
   "execution_count": 79,
   "metadata": {},
   "outputs": [
    {
     "data": {
      "text/plain": [
       "idleness        0.011635\n",
       "fear home       0.005289\n",
       "fear outside    0.048022\n",
       "dtype: float64"
      ]
     },
     "execution_count": 79,
     "metadata": {},
     "output_type": "execute_result"
    }
   ],
   "source": [
    "health_yes_words.sum() / health_yes_group.shape[0]"
   ]
  },
  {
   "cell_type": "markdown",
   "metadata": {},
   "source": [
    "#### Bigram vectorization\n",
    "Not worry about studying at home"
   ]
  },
  {
   "cell_type": "code",
   "execution_count": 80,
   "metadata": {},
   "outputs": [
    {
     "name": "stdout",
     "output_type": "stream",
     "text": [
      "1514 words in dictionary.\n"
     ]
    }
   ],
   "source": [
    "health_no_bi = bow_vectorization(data = health_no.dropna(), \n",
    "                                  index= health_no.dropna().index,\n",
    "                                  n_grams=(2, 4))"
   ]
  },
  {
   "cell_type": "code",
   "execution_count": 81,
   "metadata": {},
   "outputs": [
    {
     "data": {
      "text/plain": [
       "safe home                        56\n",
       "home safe                        34\n",
       "stay home                        24\n",
       "feel safe                        19\n",
       "staying home                     16\n",
       "preventive measures              13\n",
       "feel safe home                   13\n",
       "home stay                        13\n",
       "home stay safe                   12\n",
       "staying home safe                12\n",
       "stay safe                        12\n",
       "stay home stay                   11\n",
       "able protect                     10\n",
       "stay home stay safe              10\n",
       "home safety                       9\n",
       "social distance                   9\n",
       "preventives measures              9\n",
       "social distancing                 7\n",
       "following preventive              7\n",
       "following preventive measures     6\n",
       "safe healthy                      6\n",
       "protect self                      6\n",
       "protect covid                     5\n",
       "wash hands                        5\n",
       "contact people                    5\n",
       "home safe healthy                 4\n",
       "dtype: int64"
      ]
     },
     "execution_count": 81,
     "metadata": {},
     "output_type": "execute_result"
    }
   ],
   "source": [
    "health_no_bi.sum().sort_values(ascending=False)[:26]"
   ]
  },
  {
   "cell_type": "markdown",
   "metadata": {},
   "source": [
    "#### Group Bigrams\n",
    "Bigrams about the disease"
   ]
  },
  {
   "cell_type": "code",
   "execution_count": 82,
   "metadata": {},
   "outputs": [
    {
     "name": "stdout",
     "output_type": "stream",
     "text": [
      "['home']\n"
     ]
    },
    {
     "data": {
      "text/plain": [
       "123"
      ]
     },
     "execution_count": 82,
     "metadata": {},
     "output_type": "execute_result"
    }
   ],
   "source": [
    "# get list of bigrams with \"covid\"\n",
    "safe_covid = search('covid', 'home', health_no_bi.columns)\n",
    "len(safe_covid)"
   ]
  },
  {
   "cell_type": "code",
   "execution_count": 83,
   "metadata": {},
   "outputs": [
    {
     "name": "stdout",
     "output_type": "stream",
     "text": [
      "['home']\n"
     ]
    },
    {
     "data": {
      "text/plain": [
       "43"
      ]
     },
     "execution_count": 83,
     "metadata": {},
     "output_type": "execute_result"
    }
   ],
   "source": [
    "# get list of bigrams with \"disease\"\n",
    "safe_disease = search('disease', 'home', health_no_bi.columns)\n",
    "len(safe_disease)\n",
    "#health_no[health_no.str.contains('disease')].tolist()"
   ]
  },
  {
   "cell_type": "code",
   "execution_count": 84,
   "metadata": {},
   "outputs": [
    {
     "name": "stdout",
     "output_type": "stream",
     "text": [
      "['home']\n"
     ]
    },
    {
     "data": {
      "text/plain": [
       "24"
      ]
     },
     "execution_count": 84,
     "metadata": {},
     "output_type": "execute_result"
    }
   ],
   "source": [
    "# get list of bigrams with \"pandemic\"\n",
    "safe_pandemic = search('pandemic', 'home', health_no_bi.columns)\n",
    "len(pandemic)\n",
    "#health_no[health_no.str.contains('pandemic')].tolist()"
   ]
  },
  {
   "cell_type": "code",
   "execution_count": 85,
   "metadata": {},
   "outputs": [
    {
     "name": "stdout",
     "output_type": "stream",
     "text": [
      "['home']\n"
     ]
    },
    {
     "data": {
      "text/plain": [
       "165"
      ]
     },
     "execution_count": 85,
     "metadata": {},
     "output_type": "execute_result"
    }
   ],
   "source": [
    "# get list of bigrams with \"corona\"\n",
    "safe_corona = search('corona', 'home', health_no_bi.columns)\n",
    "len(corona)"
   ]
  },
  {
   "cell_type": "code",
   "execution_count": 86,
   "metadata": {},
   "outputs": [
    {
     "name": "stdout",
     "output_type": "stream",
     "text": [
      "['home']\n"
     ]
    },
    {
     "data": {
      "text/plain": [
       "172"
      ]
     },
     "execution_count": 86,
     "metadata": {},
     "output_type": "execute_result"
    }
   ],
   "source": [
    "# get list of bigrams with \"infection\"\n",
    "safe_infection = search('infection', 'home', health_no_bi.columns)\n",
    "len(infection)"
   ]
  },
  {
   "cell_type": "code",
   "execution_count": 87,
   "metadata": {},
   "outputs": [
    {
     "name": "stdout",
     "output_type": "stream",
     "text": [
      "['home']\n"
     ]
    },
    {
     "data": {
      "text/plain": [
       "18"
      ]
     },
     "execution_count": 87,
     "metadata": {},
     "output_type": "execute_result"
    }
   ],
   "source": [
    "# get list of bigrams with \"virus\"\n",
    "safe_virus = search('virus', 'home', health_no_bi.columns)\n",
    "len(safe_virus)"
   ]
  },
  {
   "cell_type": "markdown",
   "metadata": {},
   "source": [
    "Bigrams about feeling safe (in/outside Home)"
   ]
  },
  {
   "cell_type": "code",
   "execution_count": 88,
   "metadata": {},
   "outputs": [
    {
     "data": {
      "text/plain": [
       "234"
      ]
     },
     "execution_count": 88,
     "metadata": {},
     "output_type": "execute_result"
    }
   ],
   "source": [
    "prevention = search(['foll', 'hand', 'measu'], None, health_no_bi.columns)\n",
    "len(prevention)"
   ]
  },
  {
   "cell_type": "code",
   "execution_count": 89,
   "metadata": {},
   "outputs": [
    {
     "name": "stdout",
     "output_type": "stream",
     "text": [
      "['worr']\n"
     ]
    },
    {
     "data": {
      "text/plain": [
       "30"
      ]
     },
     "execution_count": 89,
     "metadata": {},
     "output_type": "execute_result"
    }
   ],
   "source": [
    "feel = search('feel', 'worr', health_no_bi.columns)\n",
    "len(feel)\n",
    "#health_no[health_no.str.contains('home')].tolist()"
   ]
  },
  {
   "cell_type": "code",
   "execution_count": 90,
   "metadata": {},
   "outputs": [
    {
     "name": "stdout",
     "output_type": "stream",
     "text": [
      "['safe']\n"
     ]
    },
    {
     "data": {
      "text/plain": [
       "225"
      ]
     },
     "execution_count": 90,
     "metadata": {},
     "output_type": "execute_result"
    }
   ],
   "source": [
    "safe_home = search('home', 'safe', health_no_bi.columns)\n",
    "len(safe_home)"
   ]
  },
  {
   "cell_type": "code",
   "execution_count": 91,
   "metadata": {},
   "outputs": [
    {
     "name": "stdout",
     "output_type": "stream",
     "text": [
      "['home']\n"
     ]
    },
    {
     "data": {
      "text/plain": [
       "48"
      ]
     },
     "execution_count": 91,
     "metadata": {},
     "output_type": "execute_result"
    }
   ],
   "source": [
    "safe = search('safe', 'home', health_no_bi.columns)\n",
    "len(safe)"
   ]
  },
  {
   "cell_type": "markdown",
   "metadata": {},
   "source": [
    "Bigrams about the waste of time"
   ]
  },
  {
   "cell_type": "code",
   "execution_count": 92,
   "metadata": {},
   "outputs": [
    {
     "data": {
      "text/plain": [
       "23"
      ]
     },
     "execution_count": 92,
     "metadata": {},
     "output_type": "execute_result"
    }
   ],
   "source": [
    "# get list of bigrams with \"things\"\n",
    "things = search('thing', None, health_no_bi.columns)\n",
    "len(things)\n",
    "#health_no[health_no.str.contains('thing')].tolist()"
   ]
  },
  {
   "cell_type": "code",
   "execution_count": 93,
   "metadata": {},
   "outputs": [
    {
     "data": {
      "text/plain": [
       "13"
      ]
     },
     "execution_count": 93,
     "metadata": {},
     "output_type": "execute_result"
    }
   ],
   "source": [
    "# get list of bigrams with \"miss\"\n",
    "miss = search('miss', None, health_no_bi.columns)\n",
    "len(miss)"
   ]
  },
  {
   "cell_type": "code",
   "execution_count": 94,
   "metadata": {},
   "outputs": [
    {
     "data": {
      "text/plain": [
       "15"
      ]
     },
     "execution_count": 94,
     "metadata": {},
     "output_type": "execute_result"
    }
   ],
   "source": [
    "# get list of bigrams with \"time\"\n",
    "time = search('time', None, health_no_bi.columns)\n",
    "len(time)"
   ]
  },
  {
   "cell_type": "code",
   "execution_count": 95,
   "metadata": {},
   "outputs": [
    {
     "data": {
      "text/plain": [
       "18"
      ]
     },
     "execution_count": 95,
     "metadata": {},
     "output_type": "execute_result"
    }
   ],
   "source": [
    "# get list of bigrams with \"lot\"\n",
    "lot = search('lot', None, health_no_bi.columns)\n",
    "len(lot)"
   ]
  },
  {
   "cell_type": "code",
   "execution_count": 96,
   "metadata": {},
   "outputs": [
    {
     "data": {
      "text/plain": [
       "6"
      ]
     },
     "execution_count": 96,
     "metadata": {},
     "output_type": "execute_result"
    }
   ],
   "source": [
    "go_back = search('back', None, health_no_bi.columns)\n",
    "len(go_back)"
   ]
  },
  {
   "cell_type": "markdown",
   "metadata": {},
   "source": [
    "Count one per concept apperance (not word)"
   ]
  },
  {
   "cell_type": "code",
   "execution_count": 97,
   "metadata": {},
   "outputs": [],
   "source": [
    "safe_covid = health_no_bi[list(set(safe_covid+safe_disease+safe_infection+safe_corona+safe_virus+safe_pandemic))]"
   ]
  },
  {
   "cell_type": "code",
   "execution_count": 98,
   "metadata": {},
   "outputs": [],
   "source": [
    "safe_home = health_no_bi[list(set(safe_home+safe+feel+prevention))]"
   ]
  },
  {
   "cell_type": "code",
   "execution_count": 99,
   "metadata": {},
   "outputs": [],
   "source": [
    "miss_school = health_no_bi[list(set(things+miss+time+lot+go_back))]"
   ]
  },
  {
   "cell_type": "markdown",
   "metadata": {},
   "source": [
    "The rest of the Bigrams"
   ]
  },
  {
   "cell_type": "code",
   "execution_count": 100,
   "metadata": {},
   "outputs": [],
   "source": [
    "other = health_no_bi.drop(safe_covid.columns.to_list() + safe_home.columns.to_list() + miss_school.columns.to_list(), axis=1)\n",
    "test_other = health_no_bi.drop(safe_covid.columns.to_list() + safe_home.columns.to_list() + miss_school.columns.to_list(), axis=1)"
   ]
  },
  {
   "cell_type": "code",
   "execution_count": 101,
   "metadata": {},
   "outputs": [],
   "source": [
    "safe_covid = safe_covid.sum(axis=1)\n",
    "safe_home = safe_home.sum(axis=1)\n",
    "miss_school = miss_school.sum(axis=1)\n",
    "other = other.sum(axis=1)"
   ]
  },
  {
   "cell_type": "code",
   "execution_count": 102,
   "metadata": {},
   "outputs": [],
   "source": [
    "safe_covid[safe_covid != 0] = 1\n",
    "safe_home[safe_home != 0] = 1\n",
    "miss_school[miss_school != 0] = 1\n",
    "other[other != 0] = 1"
   ]
  },
  {
   "cell_type": "code",
   "execution_count": 103,
   "metadata": {},
   "outputs": [],
   "source": [
    "safe_c = pd.DataFrame(np.zeros(health.shape[0]), dtype=int, columns=['safe_covid'])\n",
    "safe_c.loc[safe_covid[safe_covid == 1].index,:] = 1\n",
    "safe_h = pd.DataFrame(np.zeros(health.shape[0]), dtype=int, columns=['safe_home'])\n",
    "safe_h.loc[safe_home[safe_home == 1].index,:] = 1\n",
    "miss = pd.DataFrame(np.zeros(health.shape[0]), dtype=int, columns=['miss_school'])\n",
    "miss.loc[miss_school[miss_school == 1].index,:] = 1\n",
    "other_w = pd.DataFrame(np.zeros(health.shape[0]), dtype=int, columns=['other_w'])\n",
    "other_w.loc[other[other == 1].index,:] = 1"
   ]
  },
  {
   "cell_type": "code",
   "execution_count": 104,
   "metadata": {},
   "outputs": [],
   "source": [
    "health_no_group = pd.concat([safe_c,safe_h,miss,other_w], axis=1)"
   ]
  },
  {
   "cell_type": "code",
   "execution_count": 105,
   "metadata": {},
   "outputs": [
    {
     "data": {
      "image/png": "[encoded data removed]",
      "text/plain": [
       "<Figure size 720x360 with 1 Axes>"
      ]
     },
     "metadata": {
      "needs_background": "light"
     },
     "output_type": "display_data"
    }
   ],
   "source": [
    "plt.figure(figsize=(10,5))\n",
    "plt.bar(health_no_group.columns, health_no_group.sum())\n",
    "plt.title('Do you feel worried about your health due to studying/being at home during COVID-19? Why No?')\n",
    "plt.xticks(rotation=45, ha='right')\n",
    "plt.show()"
   ]
  },
  {
   "cell_type": "code",
   "execution_count": 106,
   "metadata": {},
   "outputs": [
    {
     "data": {
      "text/plain": [
       "safe_covid     0.119155\n",
       "safe_home      0.306184\n",
       "miss_school    0.024133\n",
       "other_w        0.550528\n",
       "dtype: float64"
      ]
     },
     "execution_count": 106,
     "metadata": {},
     "output_type": "execute_result"
    }
   ],
   "source": [
    "health_no_group.sum() / health_no_group.sum(axis=1).sum()"
   ]
  },
  {
   "cell_type": "markdown",
   "metadata": {},
   "source": [
    "#### Concepts gathering from Dataset\n",
    "Feeling safe"
   ]
  },
  {
   "cell_type": "code",
   "execution_count": 107,
   "metadata": {},
   "outputs": [],
   "source": [
    "health_yes_group = pd.concat([fear_c,safe_h,miss,other_w], axis=1)"
   ]
  },
  {
   "cell_type": "code",
   "execution_count": 108,
   "metadata": {},
   "outputs": [
    {
     "data": {
      "text/plain": [
       "21"
      ]
     },
     "execution_count": 108,
     "metadata": {},
     "output_type": "execute_result"
    }
   ],
   "source": [
    "safe_covid = health_no.str.contains('covid')\n",
    "safe_covid.sum()"
   ]
  },
  {
   "cell_type": "code",
   "execution_count": 109,
   "metadata": {},
   "outputs": [
    {
     "data": {
      "text/plain": [
       "190"
      ]
     },
     "execution_count": 109,
     "metadata": {},
     "output_type": "execute_result"
    }
   ],
   "source": [
    "safe_home = health_no.str.contains('home')\n",
    "safe_home.sum()"
   ]
  },
  {
   "cell_type": "code",
   "execution_count": 110,
   "metadata": {},
   "outputs": [
    {
     "data": {
      "text/plain": [
       "43"
      ]
     },
     "execution_count": 110,
     "metadata": {},
     "output_type": "execute_result"
    }
   ],
   "source": [
    "safe = health_no.str.contains('safe') & ~health_no.str.contains('home')\n",
    "safe.sum()"
   ]
  },
  {
   "cell_type": "markdown",
   "metadata": {},
   "source": [
    "Waste time"
   ]
  },
  {
   "cell_type": "code",
   "execution_count": 111,
   "metadata": {},
   "outputs": [
    {
     "data": {
      "text/plain": [
       "8"
      ]
     },
     "execution_count": 111,
     "metadata": {},
     "output_type": "execute_result"
    }
   ],
   "source": [
    "nothing = health_no.str.contains('thing')\n",
    "nothing.sum()"
   ]
  },
  {
   "cell_type": "code",
   "execution_count": 112,
   "metadata": {},
   "outputs": [
    {
     "data": {
      "text/plain": [
       "4"
      ]
     },
     "execution_count": 112,
     "metadata": {},
     "output_type": "execute_result"
    }
   ],
   "source": [
    "waste = health_no.str.contains('lot')\n",
    "waste.sum()"
   ]
  },
  {
   "cell_type": "code",
   "execution_count": 113,
   "metadata": {},
   "outputs": [
    {
     "data": {
      "text/plain": [
       "2"
      ]
     },
     "execution_count": 113,
     "metadata": {},
     "output_type": "execute_result"
    }
   ],
   "source": [
    "go_back = (health_no.str.contains('school')) & (health_no.str.contains('go'))\n",
    "go_back.sum()"
   ]
  },
  {
   "cell_type": "markdown",
   "metadata": {},
   "source": [
    "#### Save vectors and concepts"
   ]
  },
  {
   "cell_type": "code",
   "execution_count": 114,
   "metadata": {},
   "outputs": [],
   "source": [
    "# tokens\n",
    "health_yes_bi.to_csv('data/tokens/health_home_yes.csv')\n",
    "health_no_bi.to_csv('data/tokens/health_home_no.csv')\n",
    "# concepts\n",
    "health_yes_group.to_csv('data/concepts/health_yes_concepts.csv')\n",
    "health_no_group.to_csv('data/concepts/health_no_concepts.csv')"
   ]
  },
  {
   "cell_type": "markdown",
   "metadata": {},
   "source": [
    "### 3.3. Do you feel worried about your safety due to being at home during COVID-19? Why or why not?"
   ]
  },
  {
   "cell_type": "code",
   "execution_count": 115,
   "metadata": {},
   "outputs": [
    {
     "data": {
      "text/plain": [
       "Yes         666\n",
       "No          648\n",
       "Somewhat     61\n",
       "Name: Q48_Do you feel worried about your safety due to being at home during COVID-19?, dtype: int64"
      ]
     },
     "execution_count": 115,
     "metadata": {},
     "output_type": "execute_result"
    }
   ],
   "source": [
    "home_safety.iloc[:,1].value_counts()"
   ]
  },
  {
   "cell_type": "markdown",
   "metadata": {},
   "source": [
    "Group 'Yes' and 'Somewhat' answers and separate them from the negative answers"
   ]
  },
  {
   "cell_type": "code",
   "execution_count": 116,
   "metadata": {},
   "outputs": [],
   "source": [
    "home_safety_yes = home_safety[(home_safety.iloc[:,1] == 'Yes') | (home_safety.iloc[:,1] == 'Somewhat')].iloc[:,2]"
   ]
  },
  {
   "cell_type": "code",
   "execution_count": 117,
   "metadata": {},
   "outputs": [],
   "source": [
    "home_safety_no = home_safety[home_safety.iloc[:,1] == 'No'].iloc[:,2]"
   ]
  },
  {
   "cell_type": "markdown",
   "metadata": {},
   "source": [
    "#### Bigram vectorization\n",
    "Worry about safety at home"
   ]
  },
  {
   "cell_type": "code",
   "execution_count": 118,
   "metadata": {},
   "outputs": [
    {
     "name": "stdout",
     "output_type": "stream",
     "text": [
      "1936 words in dictionary.\n"
     ]
    }
   ],
   "source": [
    "home_safety_yes_bi = bow_vectorization(data = home_safety_yes.dropna(),\n",
    "                                       index =  home_safety_yes.dropna().index,\n",
    "                                       n_grams=(2, 3))"
   ]
  },
  {
   "cell_type": "code",
   "execution_count": 119,
   "metadata": {},
   "outputs": [
    {
     "data": {
      "text/plain": [
       "corona virus           43\n",
       "staying home           15\n",
       "fear corona            14\n",
       "disease affect         13\n",
       "come home              12\n",
       "fear corona virus      11\n",
       "safe home              11\n",
       "movements people       11\n",
       "pandemic everywhere    11\n",
       "fear disease           11\n",
       "social distancing      10\n",
       "affect everywhere      10\n",
       "people home             9\n",
       "want infected           9\n",
       "feel safe               8\n",
       "home safe               8\n",
       "staying home safe       7\n",
       "many people             7\n",
       "feel safe home          7\n",
       "dangerous disease       7\n",
       "dtype: int64"
      ]
     },
     "execution_count": 119,
     "metadata": {},
     "output_type": "execute_result"
    }
   ],
   "source": [
    "home_safety_yes_bi.sum().sort_values(ascending=False)[:20]"
   ]
  },
  {
   "cell_type": "markdown",
   "metadata": {},
   "source": [
    "#### Group Bigrams\n",
    "Bigrams about the disease"
   ]
  },
  {
   "cell_type": "code",
   "execution_count": 120,
   "metadata": {},
   "outputs": [
    {
     "name": "stdout",
     "output_type": "stream",
     "text": [
      "['home']\n"
     ]
    },
    {
     "data": {
      "text/plain": [
       "128"
      ]
     },
     "execution_count": 120,
     "metadata": {},
     "output_type": "execute_result"
    }
   ],
   "source": [
    "# get list of bigrams with \"covid\"\n",
    "covid = search('covid', 'home', home_safety_yes_bi.columns)\n",
    "len(covid)"
   ]
  },
  {
   "cell_type": "code",
   "execution_count": 121,
   "metadata": {},
   "outputs": [
    {
     "name": "stdout",
     "output_type": "stream",
     "text": [
      "['home']\n"
     ]
    },
    {
     "data": {
      "text/plain": [
       "117"
      ]
     },
     "execution_count": 121,
     "metadata": {},
     "output_type": "execute_result"
    }
   ],
   "source": [
    "# get list of bigrams with \"disease\"\n",
    "disease = search('disease', 'home', home_safety_yes_bi.columns)\n",
    "len(disease)\n",
    "#health_no[health_no.str.contains('disease')].tolist()"
   ]
  },
  {
   "cell_type": "code",
   "execution_count": 122,
   "metadata": {},
   "outputs": [
    {
     "name": "stdout",
     "output_type": "stream",
     "text": [
      "['home']\n"
     ]
    },
    {
     "data": {
      "text/plain": [
       "33"
      ]
     },
     "execution_count": 122,
     "metadata": {},
     "output_type": "execute_result"
    }
   ],
   "source": [
    "# get list of bigrams with \"pandemic\"\n",
    "pandemic = search('pandemic', 'home', home_safety_yes_bi.columns)\n",
    "len(pandemic)\n",
    "#health_no[health_no.str.contains('pandemic')].tolist()"
   ]
  },
  {
   "cell_type": "code",
   "execution_count": 123,
   "metadata": {},
   "outputs": [
    {
     "data": {
      "text/plain": [
       "98"
      ]
     },
     "execution_count": 123,
     "metadata": {},
     "output_type": "execute_result"
    }
   ],
   "source": [
    "# get list of bigrams with \"corona\"\n",
    "corona = search('corona', None, home_safety_yes_bi.columns)\n",
    "len(corona)"
   ]
  },
  {
   "cell_type": "code",
   "execution_count": 124,
   "metadata": {},
   "outputs": [
    {
     "data": {
      "text/plain": [
       "78"
      ]
     },
     "execution_count": 124,
     "metadata": {},
     "output_type": "execute_result"
    }
   ],
   "source": [
    "# get list of bigrams with \"infection\"\n",
    "infection = search('infect', None, home_safety_yes_bi.columns)\n",
    "len(infection)"
   ]
  },
  {
   "cell_type": "code",
   "execution_count": 125,
   "metadata": {},
   "outputs": [
    {
     "data": {
      "text/plain": [
       "117"
      ]
     },
     "execution_count": 125,
     "metadata": {},
     "output_type": "execute_result"
    }
   ],
   "source": [
    "# get list of bigrams with \"virus\"\n",
    "virus = search('virus', None, home_safety_yes_bi.columns)\n",
    "len(virus)"
   ]
  },
  {
   "cell_type": "code",
   "execution_count": 126,
   "metadata": {},
   "outputs": [
    {
     "name": "stdout",
     "output_type": "stream",
     "text": [
      "['home']\n"
     ]
    },
    {
     "data": {
      "text/plain": [
       "87"
      ]
     },
     "execution_count": 126,
     "metadata": {},
     "output_type": "execute_result"
    }
   ],
   "source": [
    "# get list of bigrams with \"fear\"\n",
    "fear = search(['fear','death','kill'], 'home', home_safety_yes_bi.columns)\n",
    "len(fear)"
   ]
  },
  {
   "cell_type": "markdown",
   "metadata": {},
   "source": [
    "Bigrams about home and safety"
   ]
  },
  {
   "cell_type": "code",
   "execution_count": 127,
   "metadata": {},
   "outputs": [
    {
     "name": "stdout",
     "output_type": "stream",
     "text": [
      "['safe']\n"
     ]
    },
    {
     "data": {
      "text/plain": [
       "190"
      ]
     },
     "execution_count": 127,
     "metadata": {},
     "output_type": "execute_result"
    }
   ],
   "source": [
    "worry_home = search('home', 'safe', home_safety_yes_bi.columns)\n",
    "len(worry_home)"
   ]
  },
  {
   "cell_type": "code",
   "execution_count": 128,
   "metadata": {},
   "outputs": [
    {
     "name": "stdout",
     "output_type": "stream",
     "text": [
      "['home', 'fear', 'safe']\n"
     ]
    },
    {
     "data": {
      "text/plain": [
       "115"
      ]
     },
     "execution_count": 128,
     "metadata": {},
     "output_type": "execute_result"
    }
   ],
   "source": [
    "safe_out = search('safe', ['home','fear','safe'], home_safety_yes_bi.columns)\n",
    "len(safe_out)"
   ]
  },
  {
   "cell_type": "code",
   "execution_count": 129,
   "metadata": {},
   "outputs": [
    {
     "data": {
      "text/plain": [
       "265"
      ]
     },
     "execution_count": 129,
     "metadata": {},
     "output_type": "execute_result"
    }
   ],
   "source": [
    "safe_home = search(['home', 'safe'], None, home_safety_yes_bi.columns)\n",
    "len(safe_home)"
   ]
  },
  {
   "cell_type": "markdown",
   "metadata": {},
   "source": [
    "Bigrams about school"
   ]
  },
  {
   "cell_type": "code",
   "execution_count": 130,
   "metadata": {},
   "outputs": [
    {
     "name": "stdout",
     "output_type": "stream",
     "text": [
      "['virus']\n"
     ]
    },
    {
     "data": {
      "text/plain": [
       "73"
      ]
     },
     "execution_count": 130,
     "metadata": {},
     "output_type": "execute_result"
    }
   ],
   "source": [
    "school = search('school', 'virus', home_safety_yes_bi.columns)\n",
    "len(school)"
   ]
  },
  {
   "cell_type": "code",
   "execution_count": 131,
   "metadata": {},
   "outputs": [
    {
     "name": "stdout",
     "output_type": "stream",
     "text": [
      "['virus']\n"
     ]
    },
    {
     "data": {
      "text/plain": [
       "40"
      ]
     },
     "execution_count": 131,
     "metadata": {},
     "output_type": "execute_result"
    }
   ],
   "source": [
    "lots = search('lot', 'virus', home_safety_yes_bi.columns)\n",
    "len(lots)"
   ]
  },
  {
   "cell_type": "code",
   "execution_count": 132,
   "metadata": {},
   "outputs": [
    {
     "name": "stdout",
     "output_type": "stream",
     "text": [
      "['virus']\n"
     ]
    },
    {
     "data": {
      "text/plain": [
       "21"
      ]
     },
     "execution_count": 132,
     "metadata": {},
     "output_type": "execute_result"
    }
   ],
   "source": [
    "miss = search('miss', 'virus', home_safety_yes_bi.columns)\n",
    "len(miss)"
   ]
  },
  {
   "cell_type": "code",
   "execution_count": 133,
   "metadata": {},
   "outputs": [
    {
     "name": "stdout",
     "output_type": "stream",
     "text": [
      "['virus']\n"
     ]
    },
    {
     "data": {
      "text/plain": [
       "28"
      ]
     },
     "execution_count": 133,
     "metadata": {},
     "output_type": "execute_result"
    }
   ],
   "source": [
    "things = search('things', 'virus', home_safety_yes_bi.columns)\n",
    "len(things)"
   ]
  },
  {
   "cell_type": "code",
   "execution_count": 134,
   "metadata": {},
   "outputs": [
    {
     "name": "stdout",
     "output_type": "stream",
     "text": [
      "['virus']\n"
     ]
    },
    {
     "data": {
      "text/plain": [
       "12"
      ]
     },
     "execution_count": 134,
     "metadata": {},
     "output_type": "execute_result"
    }
   ],
   "source": [
    "waste = search('waste', 'virus', home_safety_yes_bi.columns)\n",
    "len(waste)"
   ]
  },
  {
   "cell_type": "code",
   "execution_count": 135,
   "metadata": {},
   "outputs": [
    {
     "name": "stdout",
     "output_type": "stream",
     "text": [
      "['virus']\n"
     ]
    },
    {
     "data": {
      "text/plain": [
       "16"
      ]
     },
     "execution_count": 135,
     "metadata": {},
     "output_type": "execute_result"
    }
   ],
   "source": [
    "lose = search(['lost','losing'], 'virus', home_safety_yes_bi.columns)\n",
    "len(lose)"
   ]
  },
  {
   "cell_type": "code",
   "execution_count": 136,
   "metadata": {},
   "outputs": [
    {
     "name": "stdout",
     "output_type": "stream",
     "text": [
      "['virus', 'infect', 'diseas', 'worr', 'pandem']\n"
     ]
    },
    {
     "data": {
      "text/plain": [
       "255"
      ]
     },
     "execution_count": 136,
     "metadata": {},
     "output_type": "execute_result"
    }
   ],
   "source": [
    "time = search('time', ['virus','infect','diseas','worr','pandem'], home_safety_yes_bi.columns)\n",
    "len(time)"
   ]
  },
  {
   "cell_type": "markdown",
   "metadata": {},
   "source": [
    "Count one per concept apperance (not word)"
   ]
  },
  {
   "cell_type": "code",
   "execution_count": 137,
   "metadata": {},
   "outputs": [],
   "source": [
    "worry_covid = home_safety_yes_bi[list(set(covid+disease+infection+corona+virus+pandemic))]"
   ]
  },
  {
   "cell_type": "code",
   "execution_count": 138,
   "metadata": {},
   "outputs": [],
   "source": [
    "safe_home = home_safety_yes_bi[list(set(safe_home))]"
   ]
  },
  {
   "cell_type": "code",
   "execution_count": 139,
   "metadata": {},
   "outputs": [],
   "source": [
    "miss_school = home_safety_yes_bi[list(set(things+miss+lots+waste+lose+time))]"
   ]
  },
  {
   "cell_type": "code",
   "execution_count": 140,
   "metadata": {},
   "outputs": [],
   "source": [
    "worry_home = home_safety_yes_bi[list(set(worry_home))]"
   ]
  },
  {
   "cell_type": "markdown",
   "metadata": {},
   "source": [
    "The rest of the Bigrams"
   ]
  },
  {
   "cell_type": "code",
   "execution_count": 141,
   "metadata": {},
   "outputs": [],
   "source": [
    "other = home_safety_yes_bi.drop(safe_home.columns.to_list() + worry_covid.columns.to_list() + worry_home.columns.to_list() + miss_school.columns.to_list(), axis=1)\n",
    "test_other = home_safety_yes_bi.drop(safe_home.columns.to_list() + worry_covid.columns.to_list() + worry_home.columns.to_list() + miss_school.columns.to_list(), axis=1)"
   ]
  },
  {
   "cell_type": "code",
   "execution_count": 142,
   "metadata": {},
   "outputs": [],
   "source": [
    "worry_covid = worry_covid.sum(axis=1)\n",
    "worry_home = worry_home.sum(axis=1)\n",
    "miss_school = miss_school.sum(axis=1)\n",
    "safe_home = safe_home.sum(axis=1)\n",
    "other = other.sum(axis=1)"
   ]
  },
  {
   "cell_type": "code",
   "execution_count": 143,
   "metadata": {},
   "outputs": [],
   "source": [
    "worry_covid[worry_covid != 0] = 1\n",
    "worry_home[worry_home != 0] = 1\n",
    "miss_school[miss_school != 0] = 1\n",
    "safe_home[safe_home != 0] = 1\n",
    "other[other != 0] = 1"
   ]
  },
  {
   "cell_type": "code",
   "execution_count": 144,
   "metadata": {},
   "outputs": [],
   "source": [
    "worry_c = pd.DataFrame(np.zeros(home_safety.shape[0]), dtype=int, columns=['worry covid'])\n",
    "worry_c.loc[worry_covid[worry_covid == 1].index,:] = 1\n",
    "worry_h = pd.DataFrame(np.zeros(home_safety.shape[0]), dtype=int, columns=['worry home'])\n",
    "worry_h.loc[worry_home[worry_home == 1].index,:] = 1\n",
    "miss = pd.DataFrame(np.zeros(home_safety.shape[0]), dtype=int, columns=['waste time'])\n",
    "miss.loc[miss_school[miss_school == 1].index,:] = 1\n",
    "safe_h = pd.DataFrame(np.zeros(home_safety.shape[0]), dtype=int, columns=['safe home'])\n",
    "safe_h.loc[safe_home[safe_home == 1].index,:] = 1\n",
    "other_w = pd.DataFrame(np.zeros(home_safety.shape[0]), dtype=int, columns=['other biagrams'])\n",
    "other_w.loc[other[other == 1].index,:] = 1"
   ]
  },
  {
   "cell_type": "code",
   "execution_count": 145,
   "metadata": {},
   "outputs": [],
   "source": [
    "home_safety_yes_group = pd.concat([worry_c,worry_h,miss,safe_h,other_w], axis=1)"
   ]
  },
  {
   "cell_type": "markdown",
   "metadata": {},
   "source": [
    "Visualization"
   ]
  },
  {
   "cell_type": "code",
   "execution_count": 146,
   "metadata": {},
   "outputs": [
    {
     "data": {
      "image/png": "[encoded data removed]",
      "text/plain": [
       "<Figure size 720x360 with 1 Axes>"
      ]
     },
     "metadata": {
      "needs_background": "light"
     },
     "output_type": "display_data"
    }
   ],
   "source": [
    "plt.figure(figsize=(10,5))\n",
    "plt.bar(home_safety_yes_group.columns,home_safety_yes_group.sum())\n",
    "plt.title('Do you feel worried about your safety due to being at home during COVID-19? Why yes?')\n",
    "plt.xticks(rotation=45, ha='right')\n",
    "plt.show()"
   ]
  },
  {
   "cell_type": "markdown",
   "metadata": {},
   "source": [
    "#### Bigram vectorization\n",
    "Not Worried about safecty at home"
   ]
  },
  {
   "cell_type": "code",
   "execution_count": 147,
   "metadata": {},
   "outputs": [
    {
     "name": "stdout",
     "output_type": "stream",
     "text": [
      "1252 words in dictionary.\n"
     ]
    }
   ],
   "source": [
    "home_safety_no_bi = bow_vectorization(data = home_safety_no.dropna(),\n",
    "                                      index = home_safety_no.dropna().index,\n",
    "                                      n_grams=(2, 3))"
   ]
  },
  {
   "cell_type": "code",
   "execution_count": 148,
   "metadata": {},
   "outputs": [
    {
     "data": {
      "text/plain": [
       "safe home                74\n",
       "home safe                49\n",
       "feel safe                34\n",
       "social distancing        30\n",
       "stay home                30\n",
       "feel safe home           26\n",
       "staying home             22\n",
       "preventive measures      18\n",
       "stay safe                17\n",
       "safety measures          16\n",
       "home stay                15\n",
       "stay home stay           15\n",
       "home stay safe           15\n",
       "staying home safe        14\n",
       "social distance          12\n",
       "wash hands               10\n",
       "home safety               9\n",
       "safe healthy              9\n",
       "home safe healthy         8\n",
       "safety measures covid     7\n",
       "washing hands             7\n",
       "measures covid            7\n",
       "take care                 6\n",
       "come contact              5\n",
       "following preventive      5\n",
       "dtype: int64"
      ]
     },
     "execution_count": 148,
     "metadata": {},
     "output_type": "execute_result"
    }
   ],
   "source": [
    "home_safety_no_bi.sum().sort_values(ascending=False)[:25]"
   ]
  },
  {
   "cell_type": "markdown",
   "metadata": {},
   "source": [
    "#### Group Bigrams\n",
    "Bigrams about the disease"
   ]
  },
  {
   "cell_type": "code",
   "execution_count": 149,
   "metadata": {},
   "outputs": [
    {
     "name": "stdout",
     "output_type": "stream",
     "text": [
      "['home']\n"
     ]
    },
    {
     "data": {
      "text/plain": [
       "173"
      ]
     },
     "execution_count": 149,
     "metadata": {},
     "output_type": "execute_result"
    }
   ],
   "source": [
    "no_fear_virus = search(['covid','disease','pandemic','corona','vir','infect','contra','fear','kill','dea'], 'home', home_safety_no_bi.columns)\n",
    "len(no_fear_virus)"
   ]
  },
  {
   "cell_type": "markdown",
   "metadata": {},
   "source": [
    "Bigrams about home and safety"
   ]
  },
  {
   "cell_type": "code",
   "execution_count": 150,
   "metadata": {},
   "outputs": [
    {
     "data": {
      "text/plain": [
       "727"
      ]
     },
     "execution_count": 150,
     "metadata": {},
     "output_type": "execute_result"
    }
   ],
   "source": [
    "no_fear_virus_home = search(['home', 'safe'], None, home_safety_no_bi.columns)\n",
    "len(safe_home)"
   ]
  },
  {
   "cell_type": "markdown",
   "metadata": {},
   "source": [
    "Bigrams about prevention"
   ]
  },
  {
   "cell_type": "code",
   "execution_count": 151,
   "metadata": {},
   "outputs": [
    {
     "data": {
      "text/plain": [
       "62"
      ]
     },
     "execution_count": 151,
     "metadata": {},
     "output_type": "execute_result"
    }
   ],
   "source": [
    "hands = search('hands', None, home_safety_no_bi.columns)\n",
    "len(hands)"
   ]
  },
  {
   "cell_type": "code",
   "execution_count": 152,
   "metadata": {},
   "outputs": [
    {
     "data": {
      "text/plain": [
       "101"
      ]
     },
     "execution_count": 152,
     "metadata": {},
     "output_type": "execute_result"
    }
   ],
   "source": [
    "distance = search(['distance','social'], None, home_safety_no_bi.columns)\n",
    "len(distance)\n",
    "#home_safety_no[home_safety_no.str.contains('school')].to_list()"
   ]
  },
  {
   "cell_type": "code",
   "execution_count": 153,
   "metadata": {},
   "outputs": [
    {
     "data": {
      "text/plain": [
       "190"
      ]
     },
     "execution_count": 153,
     "metadata": {},
     "output_type": "execute_result"
    }
   ],
   "source": [
    "measures = search(['measures','prevent','precau','care','prot'], None, home_safety_no_bi.columns)\n",
    "len(measures)"
   ]
  },
  {
   "cell_type": "code",
   "execution_count": 154,
   "metadata": {},
   "outputs": [
    {
     "data": {
      "text/plain": [
       "81"
      ]
     },
     "execution_count": 154,
     "metadata": {},
     "output_type": "execute_result"
    }
   ],
   "source": [
    "stay = search('stay', None, home_safety_no_bi.columns)\n",
    "len(stay)"
   ]
  },
  {
   "cell_type": "markdown",
   "metadata": {},
   "source": [
    "Count one per concept apperance (not word)"
   ]
  },
  {
   "cell_type": "code",
   "execution_count": 155,
   "metadata": {},
   "outputs": [],
   "source": [
    "no_fear_covid = home_safety_no_bi[no_fear_virus]"
   ]
  },
  {
   "cell_type": "code",
   "execution_count": 156,
   "metadata": {},
   "outputs": [],
   "source": [
    "safe_home = home_safety_no_bi[no_fear_virus_home]"
   ]
  },
  {
   "cell_type": "code",
   "execution_count": 157,
   "metadata": {},
   "outputs": [],
   "source": [
    "prevention = home_safety_no_bi[list(set(hands + distance + stay))]"
   ]
  },
  {
   "cell_type": "markdown",
   "metadata": {},
   "source": [
    "The rest of the Bigrams"
   ]
  },
  {
   "cell_type": "code",
   "execution_count": 158,
   "metadata": {},
   "outputs": [],
   "source": [
    "other = home_safety_no_bi.drop(no_fear_covid.columns.to_list() + safe_home.columns.to_list() + prevention.columns.to_list(), axis=1)\n",
    "test_other = home_safety_no_bi.drop(no_fear_covid.columns.to_list() + safe_home.columns.to_list() + prevention.columns.to_list(), axis=1)"
   ]
  },
  {
   "cell_type": "code",
   "execution_count": 159,
   "metadata": {},
   "outputs": [],
   "source": [
    "no_fear_covid = no_fear_covid.sum(axis=1)\n",
    "safe_home = safe_home.sum(axis=1)\n",
    "prevention = prevention.sum(axis=1)\n",
    "other = other.sum(axis=1)"
   ]
  },
  {
   "cell_type": "code",
   "execution_count": 160,
   "metadata": {},
   "outputs": [],
   "source": [
    "no_fear_covid[no_fear_covid != 0] = 1\n",
    "safe_home[safe_home != 0] = 1\n",
    "prevention[prevention != 0] = 1\n",
    "other[other != 0] = 1"
   ]
  },
  {
   "cell_type": "code",
   "execution_count": 161,
   "metadata": {},
   "outputs": [],
   "source": [
    "n_f_c = pd.DataFrame(np.zeros(home_safety.shape[0]), dtype=int, columns=['no fear virus'])\n",
    "n_f_c.loc[no_fear_covid[no_fear_covid == 1].index,:] = 1\n",
    "prev = pd.DataFrame(np.zeros(home_safety.shape[0]), dtype=int, columns=['preventive measures'])\n",
    "prev.loc[prevention[prevention == 1].index,:] = 1\n",
    "safe_h = pd.DataFrame(np.zeros(home_safety.shape[0]), dtype=int, columns=['safe at home'])\n",
    "safe_h.loc[safe_home[safe_home == 1].index,:] = 1\n",
    "other_w = pd.DataFrame(np.zeros(home_safety.shape[0]), dtype=int, columns=['other biagrams'])\n",
    "other_w.loc[other[other == 1].index,:] = 1"
   ]
  },
  {
   "cell_type": "code",
   "execution_count": 162,
   "metadata": {},
   "outputs": [],
   "source": [
    "home_safety_no_group = pd.concat([n_f_c, prev, safe_h, other_w], axis=1)"
   ]
  },
  {
   "cell_type": "markdown",
   "metadata": {},
   "source": [
    "Visualization"
   ]
  },
  {
   "cell_type": "code",
   "execution_count": 163,
   "metadata": {},
   "outputs": [
    {
     "data": {
      "image/png": "[encoded data removed]",
      "text/plain": [
       "<Figure size 720x360 with 1 Axes>"
      ]
     },
     "metadata": {
      "needs_background": "light"
     },
     "output_type": "display_data"
    }
   ],
   "source": [
    "plt.figure(figsize=(10,5))\n",
    "plt.bar(home_safety_no_group.columns, home_safety_no_group.sum())\n",
    "plt.title('Do you feel worried about your safety due to being at home during COVID-19? Why no?')\n",
    "plt.xticks(rotation=45, ha='right')\n",
    "plt.show()"
   ]
  },
  {
   "cell_type": "markdown",
   "metadata": {},
   "source": [
    "#### Save vectors and concepts"
   ]
  },
  {
   "cell_type": "code",
   "execution_count": 164,
   "metadata": {},
   "outputs": [],
   "source": [
    "# tokens\n",
    "home_safety_yes_bi.to_csv('data/tokens/safety_home_yes.csv')\n",
    "home_safety_no_bi.to_csv('data/tokens/health_home_no.csv')\n",
    "# concepts\n",
    "home_safety_yes_group.to_csv('data/concepts/safety_home_yes_concepts.csv')\n",
    "home_safety_no_group.to_csv('data/concepts/health_home_no_concepts.csv')"
   ]
  },
  {
   "cell_type": "markdown",
   "metadata": {},
   "source": [
    "### 3.4. Are you/your learners learning more or are you learning less using radio lessons since the COVID-19 school closures? Why?"
   ]
  },
  {
   "cell_type": "code",
   "execution_count": 165,
   "metadata": {},
   "outputs": [
    {
     "data": {
      "text/plain": [
       "Less        1249\n",
       "More          80\n",
       "The same      46\n",
       "Name: Q52_Are you/your learners learning more or are you learning less using radio lessons since the COVID-19 school closures?, dtype: int64"
      ]
     },
     "execution_count": 165,
     "metadata": {},
     "output_type": "execute_result"
    }
   ],
   "source": [
    "quantity_learning.iloc[:,1].value_counts()"
   ]
  },
  {
   "cell_type": "markdown",
   "metadata": {},
   "source": [
    "Get only 'Less' answers"
   ]
  },
  {
   "cell_type": "code",
   "execution_count": 166,
   "metadata": {},
   "outputs": [],
   "source": [
    "quantity_learning_less = quantity_learning[quantity_learning.iloc[:,1] == 'Less'].iloc[:,2]"
   ]
  },
  {
   "cell_type": "code",
   "execution_count": 167,
   "metadata": {},
   "outputs": [
    {
     "data": {
      "text/plain": [
       "['Because radios are not many in our area',\n",
       " 'Because of power for charging radio',\n",
       " 'Because of COVID_19',\n",
       " 'Due to restrictions by the Covid 19 ',\n",
       " 'Because of Covid 19 restrictions ',\n",
       " 'Some teachers in radio lesson use complicated language hard to understand',\n",
       " \"I don't know\",\n",
       " 'Rodio it is not enough',\n",
       " 'Teaching is past',\n",
       " 'Teaching is past in during the lesson']"
      ]
     },
     "execution_count": 167,
     "metadata": {},
     "output_type": "execute_result"
    }
   ],
   "source": [
    "quantity_learning[quantity_learning.iloc[:,1] == 'Less'].iloc[:,2].tolist()[:10]"
   ]
  },
  {
   "cell_type": "markdown",
   "metadata": {},
   "source": [
    "#### Trigram vectorization\n",
    "Learning Less with radio lessons after covid"
   ]
  },
  {
   "cell_type": "code",
   "execution_count": 168,
   "metadata": {},
   "outputs": [
    {
     "name": "stdout",
     "output_type": "stream",
     "text": [
      "1195 words in dictionary.\n"
     ]
    }
   ],
   "source": [
    "quantity_learning_less_tri = bow_vectorization(data = quantity_learning_less.dropna(), \n",
    "                                               index = quantity_learning_less.dropna().index,\n",
    "                                               n_grams=(3, 3))"
   ]
  },
  {
   "cell_type": "code",
   "execution_count": 169,
   "metadata": {},
   "outputs": [
    {
     "data": {
      "text/plain": [
       "engaged domestic works          5\n",
       "engaged community activities    5\n",
       "time listen radio               5\n",
       "time radio lessons              5\n",
       "listen radio lessons            4\n",
       "teachers around help            4\n",
       "time engaged domestic           4\n",
       "listening radio lessons         4\n",
       "much work home                  4\n",
       "engaged domestic work           4\n",
       "understand radio lessons        3\n",
       "domestic work limits            3\n",
       "follow radio program            3\n",
       "know time radio                 3\n",
       "time teachers hurry             3\n",
       "engaged domestic activities     3\n",
       "time attend radio               3\n",
       "much domestic work              3\n",
       "domestic work home              3\n",
       "work limits study               3\n",
       "time enough learners            3\n",
       "attending radio lessons         3\n",
       "balancing domestic work         2\n",
       "timing radio lessons            2\n",
       "radio coverage low              2\n",
       "radio lessons systematic        2\n",
       "closed due covid                2\n",
       "missing lot things              2\n",
       "time engaged activities         2\n",
       "radio every time                2\n",
       "learning taking place           2\n",
       "engage home activities          2\n",
       "sometimes engaged activities    2\n",
       "due domestic work               2\n",
       "sometimes radio home            2\n",
       "learners get concept            2\n",
       "due lack radio                  2\n",
       "time radio enough               2\n",
       "learners scattered difficult    2\n",
       "radio learning fast             2\n",
       "due limited time                2\n",
       "learners follow radio           2\n",
       "heard get radio                 2\n",
       "radio home listen               2\n",
       "radio lessons begin             2\n",
       "time short understand           2\n",
       "sometimes lessons clear         2\n",
       "present teacher good            2\n",
       "busy domestic work              2\n",
       "learners access radio           2\n",
       "attend radio lessons            2\n",
       "sometimes engaged domestic      2\n",
       "enough learners get             2\n",
       "follow lessons time             2\n",
       "sometimes radio reliable        2\n",
       "used face face                  2\n",
       "like lessons school             2\n",
       "school going open               2\n",
       "get radio heard                 2\n",
       "gethered one place              2\n",
       "dtype: int64"
      ]
     },
     "execution_count": 169,
     "metadata": {},
     "output_type": "execute_result"
    }
   ],
   "source": [
    "quantity_learning_less_tri.sum().sort_values(ascending=False)[:60]"
   ]
  },
  {
   "cell_type": "markdown",
   "metadata": {},
   "source": [
    "#### Group Trigrams\n",
    "Trigrams about work"
   ]
  },
  {
   "cell_type": "code",
   "execution_count": 170,
   "metadata": {},
   "outputs": [
    {
     "data": {
      "text/plain": [
       "57"
      ]
     },
     "execution_count": 170,
     "metadata": {},
     "output_type": "execute_result"
    }
   ],
   "source": [
    "domestic_work = search(['domestic','garden'], None, quantity_learning_less_tri.columns)\n",
    "len(domestic_work)"
   ]
  },
  {
   "cell_type": "code",
   "execution_count": 171,
   "metadata": {},
   "outputs": [
    {
     "name": "stdout",
     "output_type": "stream",
     "text": [
      "['domestic', 'home', 'house', 'garden']\n"
     ]
    },
    {
     "data": {
      "text/plain": [
       "336"
      ]
     },
     "execution_count": 171,
     "metadata": {},
     "output_type": "execute_result"
    }
   ],
   "source": [
    "out_work = search('work', ['domestic','home','house','garden'], quantity_learning_less_tri.columns)\n",
    "len(out_work)"
   ]
  },
  {
   "cell_type": "code",
   "execution_count": 172,
   "metadata": {},
   "outputs": [
    {
     "name": "stdout",
     "output_type": "stream",
     "text": [
      "['less']\n"
     ]
    },
    {
     "data": {
      "text/plain": [
       "23"
      ]
     },
     "execution_count": 172,
     "metadata": {},
     "output_type": "execute_result"
    }
   ],
   "source": [
    "activities = search('activities', 'less', quantity_learning_less_tri.columns)\n",
    "len(activities)"
   ]
  },
  {
   "cell_type": "markdown",
   "metadata": {},
   "source": [
    "Trigrams about time"
   ]
  },
  {
   "cell_type": "code",
   "execution_count": 173,
   "metadata": {},
   "outputs": [
    {
     "data": {
      "text/plain": [
       "229"
      ]
     },
     "execution_count": 173,
     "metadata": {},
     "output_type": "execute_result"
    }
   ],
   "source": [
    "time = search('time', None, quantity_learning_less_tri.columns)\n",
    "len(time)"
   ]
  },
  {
   "cell_type": "code",
   "execution_count": 174,
   "metadata": {},
   "outputs": [
    {
     "data": {
      "text/plain": [
       "189"
      ]
     },
     "execution_count": 174,
     "metadata": {},
     "output_type": "execute_result"
    }
   ],
   "source": [
    "less = search('less', None, quantity_learning_less_tri.columns)\n",
    "len(less)"
   ]
  },
  {
   "cell_type": "code",
   "execution_count": 175,
   "metadata": {},
   "outputs": [
    {
     "data": {
      "text/plain": [
       "22"
      ]
     },
     "execution_count": 175,
     "metadata": {},
     "output_type": "execute_result"
    }
   ],
   "source": [
    "lack = search('lack', None, quantity_learning_less_tri.columns)\n",
    "len(lack)"
   ]
  },
  {
   "cell_type": "markdown",
   "metadata": {},
   "source": [
    "Trigrams about education"
   ]
  },
  {
   "cell_type": "code",
   "execution_count": 176,
   "metadata": {},
   "outputs": [
    {
     "data": {
      "text/plain": [
       "90"
      ]
     },
     "execution_count": 176,
     "metadata": {},
     "output_type": "execute_result"
    }
   ],
   "source": [
    "education = search(['teacher','underst'], None, quantity_learning_less_tri.columns)\n",
    "len(education)"
   ]
  },
  {
   "cell_type": "markdown",
   "metadata": {},
   "source": [
    "Trigrams about radio"
   ]
  },
  {
   "cell_type": "code",
   "execution_count": 177,
   "metadata": {},
   "outputs": [
    {
     "data": {
      "text/plain": [
       "324"
      ]
     },
     "execution_count": 177,
     "metadata": {},
     "output_type": "execute_result"
    }
   ],
   "source": [
    "radio = search(['radio','acces','cove'], None, quantity_learning_less_tri.columns)\n",
    "len(radio)"
   ]
  },
  {
   "cell_type": "markdown",
   "metadata": {},
   "source": [
    "Count one per concept apperance (not word)"
   ]
  },
  {
   "cell_type": "code",
   "execution_count": 178,
   "metadata": {},
   "outputs": [],
   "source": [
    "domestic_w = quantity_learning_less_tri[domestic_work]"
   ]
  },
  {
   "cell_type": "code",
   "execution_count": 179,
   "metadata": {},
   "outputs": [],
   "source": [
    "ex_work = quantity_learning_less_tri[list(set(out_work + activities))]"
   ]
  },
  {
   "cell_type": "code",
   "execution_count": 180,
   "metadata": {},
   "outputs": [],
   "source": [
    "time = quantity_learning_less_tri[list(set(time + less + lack))]"
   ]
  },
  {
   "cell_type": "code",
   "execution_count": 181,
   "metadata": {},
   "outputs": [],
   "source": [
    "ed = quantity_learning_less_tri[education]"
   ]
  },
  {
   "cell_type": "code",
   "execution_count": 182,
   "metadata": {},
   "outputs": [],
   "source": [
    "get_radio = quantity_learning_less_tri[radio]"
   ]
  },
  {
   "cell_type": "markdown",
   "metadata": {},
   "source": [
    "The rest of the Bigrams"
   ]
  },
  {
   "cell_type": "code",
   "execution_count": 183,
   "metadata": {},
   "outputs": [],
   "source": [
    "other = quantity_learning_less_tri.drop(domestic_w.columns.to_list() + \\\n",
    "                               ex_work.columns.to_list() + \\\n",
    "                               time.columns.to_list() + \\\n",
    "                               ed.columns.to_list() + \\\n",
    "                               get_radio.columns.to_list(), axis=1)\n",
    "test_other = quantity_learning_less_tri.drop(domestic_w.columns.to_list() + \\\n",
    "                               ex_work.columns.to_list() + \\\n",
    "                               time.columns.to_list() + \\\n",
    "                               ed.columns.to_list() + \\\n",
    "                               get_radio.columns.to_list(), axis=1)"
   ]
  },
  {
   "cell_type": "code",
   "execution_count": 184,
   "metadata": {},
   "outputs": [],
   "source": [
    "domestic_w = domestic_w.sum(axis=1)\n",
    "ex_work = ex_work.sum(axis=1)\n",
    "time = time.sum(axis=1)\n",
    "ed = ed.sum(axis=1)\n",
    "other = other.sum(axis=1)"
   ]
  },
  {
   "cell_type": "code",
   "execution_count": 185,
   "metadata": {},
   "outputs": [],
   "source": [
    "domestic_w[domestic_w != 0] = 1\n",
    "ex_work[ex_work != 0] = 1\n",
    "time[time != 0] = 1\n",
    "ed[ed != 0] = 1\n",
    "other[other != 0] = 1"
   ]
  },
  {
   "cell_type": "code",
   "execution_count": 186,
   "metadata": {},
   "outputs": [],
   "source": [
    "domestic = pd.DataFrame(np.zeros(quantity_learning.shape[0]), dtype=int, columns=['domestic work'])\n",
    "domestic.loc[domestic_w[domestic_w == 1].index,:] = 1\n",
    "work = pd.DataFrame(np.zeros(quantity_learning.shape[0]), dtype=int, columns=['external work'])\n",
    "work.loc[ex_work[ex_work == 1].index,:] = 1\n",
    "no_time = pd.DataFrame(np.zeros(quantity_learning.shape[0]), dtype=int, columns=['no time'])\n",
    "no_time.loc[time[time == 1].index,:] = 1\n",
    "no_ed = pd.DataFrame(np.zeros(quantity_learning.shape[0]), dtype=int, columns=['less education'])\n",
    "no_ed.loc[ed[ed == 1].index,:] = 1\n",
    "other_w = pd.DataFrame(np.zeros(quantity_learning.shape[0]), dtype=int, columns=['other triagrams'])\n",
    "other_w.loc[other[other == 1].index,:] = 1"
   ]
  },
  {
   "cell_type": "code",
   "execution_count": 187,
   "metadata": {},
   "outputs": [],
   "source": [
    "quantity_learning_less_group = pd.concat([domestic, work, no_time, no_ed, other_w], axis=1)"
   ]
  },
  {
   "cell_type": "code",
   "execution_count": 188,
   "metadata": {},
   "outputs": [
    {
     "data": {
      "image/png": "[encoded data removed]",
      "text/plain": [
       "<Figure size 720x360 with 1 Axes>"
      ]
     },
     "metadata": {
      "needs_background": "light"
     },
     "output_type": "display_data"
    }
   ],
   "source": [
    "plt.figure(figsize=(10,5))\n",
    "plt.bar(quantity_learning_less_group.columns, quantity_learning_less_group.sum())\n",
    "plt.title('Are you/your learners learning more or are you learning less using radio lessons since the COVID-19 school closures? Why less?')\n",
    "plt.xticks(rotation=45, ha='right')\n",
    "plt.show()"
   ]
  },
  {
   "cell_type": "markdown",
   "metadata": {},
   "source": [
    "#### Save vectors and concepts"
   ]
  },
  {
   "cell_type": "code",
   "execution_count": 189,
   "metadata": {},
   "outputs": [],
   "source": [
    "# tokens\n",
    "quantity_learning_less_tri.to_csv('data/tokens/quantity_learning_less_yes.csv')\n",
    "# concepts\n",
    "quantity_learning_less_group.to_csv('data/concepts/quantity_learning_less_concepts.csv')"
   ]
  },
  {
   "cell_type": "markdown",
   "metadata": {},
   "source": [
    "### 3.5. What is the quality of the radio lessons? How can the radio lessons be improved?"
   ]
  },
  {
   "cell_type": "code",
   "execution_count": 54,
   "metadata": {},
   "outputs": [
    {
     "data": {
      "text/plain": [
       "Unnamed: 0                                        4727\n",
       "Q57_What is the quality of the radio lessons?     1375\n",
       "Q58_How can the radio lessons be improved?        1375\n",
       "dtype: int64"
      ]
     },
     "execution_count": 54,
     "metadata": {},
     "output_type": "execute_result"
    }
   ],
   "source": [
    "radio_lessons.notnull().sum()"
   ]
  },
  {
   "cell_type": "code",
   "execution_count": 55,
   "metadata": {},
   "outputs": [
    {
     "data": {
      "text/plain": [
       "Good         644\n",
       "Fair         396\n",
       "Not good     186\n",
       "Very good    149\n",
       "Name: Q57_What is the quality of the radio lessons? , dtype: int64"
      ]
     },
     "execution_count": 55,
     "metadata": {},
     "output_type": "execute_result"
    }
   ],
   "source": [
    "radio_lessons.iloc[:,1].value_counts()"
   ]
  },
  {
   "cell_type": "markdown",
   "metadata": {},
   "source": [
    "Group 'Good' with 'Very Good' and 'Not good' with 'Fair'"
   ]
  },
  {
   "cell_type": "code",
   "execution_count": 220,
   "metadata": {},
   "outputs": [],
   "source": [
    "# fair + not good vs \n",
    "radio_lessons_good = radio_lessons[(radio_lessons.iloc[:,1] == 'Fair')].iloc[:,2]"
   ]
  },
  {
   "cell_type": "code",
   "execution_count": 221,
   "metadata": {},
   "outputs": [],
   "source": [
    "radio_lessons_vgood = radio_lessons[(radio_lessons.iloc[:,1] == 'Very Good')].iloc[:,2]"
   ]
  },
  {
   "cell_type": "code",
   "execution_count": 222,
   "metadata": {},
   "outputs": [],
   "source": [
    "radio_lessons_ngood = radio_lessons[(radio_lessons.iloc[:,1] == 'Not Good')].iloc[:,2]"
   ]
  },
  {
   "cell_type": "code",
   "execution_count": 223,
   "metadata": {},
   "outputs": [],
   "source": [
    "radio_lessons_fair = radio_lessons[(radio_lessons.iloc[:,1] == 'Fair')].iloc[:,2]"
   ]
  },
  {
   "cell_type": "markdown",
   "metadata": {},
   "source": [
    "#### Trigram Vectorization\n",
    "Radio Lessons Good Quality"
   ]
  },
  {
   "cell_type": "code",
   "execution_count": 224,
   "metadata": {},
   "outputs": [
    {
     "name": "stdout",
     "output_type": "stream",
     "text": [
      "752 words in dictionary.\n"
     ]
    }
   ],
   "source": [
    "radio_lessons_good_tri = bow_vectorization(data = radio_lessons_good.dropna(),\n",
    "                                          index = radio_lessons_good.dropna().index,\n",
    "                                          n_grams=(3, 3))"
   ]
  },
  {
   "cell_type": "code",
   "execution_count": 225,
   "metadata": {},
   "outputs": [
    {
     "data": {
      "text/plain": [
       "provide learners radio           8\n",
       "provide radio learners           7\n",
       "radio given learners             4\n",
       "lengthening broadcasting time    4\n",
       "provide radios learners          4\n",
       "radio distributed learners       3\n",
       "distribution solar radios        3\n",
       "enough time given                3\n",
       "distribution radios learners     3\n",
       "broadcasting time etc            2\n",
       "evening pm pm                    2\n",
       "local radio stations             2\n",
       "number hours increase            2\n",
       "provide radios students          2\n",
       "provide learners radios          2\n",
       "increase time lessons            2\n",
       "teachers guide learner           2\n",
       "like teachers neare              2\n",
       "radio lessons improved           2\n",
       "fine tune radio                  2\n",
       "languages lower classes          2\n",
       "programs enough time             2\n",
       "extension radio coverage         2\n",
       "unless number hours              2\n",
       "program local radios             2\n",
       "strong signal programs           2\n",
       "uses local languages             2\n",
       "provision radio learners         2\n",
       "providing radios students        2\n",
       "teacher guide learners           2\n",
       "dtype: int64"
      ]
     },
     "execution_count": 225,
     "metadata": {},
     "output_type": "execute_result"
    }
   ],
   "source": [
    "radio_lessons_good_tri.sum().sort_values(ascending=False)[:30]"
   ]
  },
  {
   "cell_type": "markdown",
   "metadata": {},
   "source": [
    "#### Group Trigrams\n",
    "Trigrams about the coverage"
   ]
  },
  {
   "cell_type": "code",
   "execution_count": 226,
   "metadata": {},
   "outputs": [
    {
     "data": {
      "text/plain": [
       "17"
      ]
     },
     "execution_count": 226,
     "metadata": {},
     "output_type": "execute_result"
    }
   ],
   "source": [
    "coverage = search(['cover','extension','tune'], None, radio_lessons_good_tri.columns)\n",
    "len(coverage)"
   ]
  },
  {
   "cell_type": "code",
   "execution_count": 227,
   "metadata": {},
   "outputs": [],
   "source": [
    "#improve = search('improv', 'lessons', radio_lessons_good_tri.columns)\n",
    "#len(improve)"
   ]
  },
  {
   "cell_type": "code",
   "execution_count": 243,
   "metadata": {},
   "outputs": [
    {
     "data": {
      "text/plain": [
       "['add time discussion',\n",
       " 'added time lessons',\n",
       " 'allocate enough time',\n",
       " 'availability time frame',\n",
       " 'broadcasting time etc',\n",
       " 'broadcasting time give',\n",
       " 'broadcasting time provide',\n",
       " 'enough time given',\n",
       " 'enough time giving',\n",
       " 'enough time learners',\n",
       " 'enough time lesson',\n",
       " 'enough time radio',\n",
       " 'give time response',\n",
       " 'given enough time',\n",
       " 'given time elaborate',\n",
       " 'giving enough time',\n",
       " 'giving many times',\n",
       " 'improve time children',\n",
       " 'increase broadcasting time',\n",
       " 'increase time learners',\n",
       " 'increase time lessons',\n",
       " 'increase time period',\n",
       " 'increase time radio',\n",
       " 'learner sellect time',\n",
       " 'learners enough time',\n",
       " 'least add time',\n",
       " 'lengthening broadcasting time',\n",
       " 'lessons given times',\n",
       " 'lessons many times',\n",
       " 'need time changed',\n",
       " 'need time improve',\n",
       " 'nothing time spell',\n",
       " 'programs enough time',\n",
       " 'questioning time learners',\n",
       " 'radio function time',\n",
       " 'radio given time',\n",
       " 'radios availability time',\n",
       " 'repeated several times',\n",
       " 'several times easy',\n",
       " 'sometimes net work',\n",
       " 'things taught times',\n",
       " 'time changed possible',\n",
       " 'time children eaten',\n",
       " 'time elaborate things',\n",
       " 'time evening finish',\n",
       " 'time extended two',\n",
       " 'time give time',\n",
       " 'time given learners',\n",
       " 'time given lesson',\n",
       " 'time given teachers',\n",
       " 'time giving lessons',\n",
       " 'time improve level',\n",
       " 'time learners ask',\n",
       " 'time learners participate',\n",
       " 'time least twice',\n",
       " 'time lengthen radio',\n",
       " 'time lessons added',\n",
       " 'time lessons increased',\n",
       " 'time need improved',\n",
       " 'time period lessons',\n",
       " 'time provide radios',\n",
       " 'time radio lesions',\n",
       " 'time radio lessons',\n",
       " 'time response among',\n",
       " 'time spell well',\n",
       " 'times easy understanding',\n",
       " 'widen questioning time']"
      ]
     },
     "execution_count": 243,
     "metadata": {},
     "output_type": "execute_result"
    }
   ],
   "source": [
    "search('time', None, radio_lessons_good_tri.columns)"
   ]
  },
  {
   "cell_type": "code",
   "execution_count": 228,
   "metadata": {},
   "outputs": [
    {
     "data": {
      "text/plain": [
       "6"
      ]
     },
     "execution_count": 228,
     "metadata": {},
     "output_type": "execute_result"
    }
   ],
   "source": [
    "len(search(['powe','energ'],None, radio_lessons_good_tri.columns))"
   ]
  },
  {
   "cell_type": "markdown",
   "metadata": {},
   "source": [
    "Trigrams about the num of radios"
   ]
  },
  {
   "cell_type": "code",
   "execution_count": 242,
   "metadata": {},
   "outputs": [
    {
     "data": {
      "text/plain": [
       "141"
      ]
     },
     "execution_count": 242,
     "metadata": {},
     "output_type": "execute_result"
    }
   ],
   "source": [
    "provision = search(['prov','dist'], None, radio_lessons_good_tri.columns)\n",
    "len(provision)"
   ]
  },
  {
   "cell_type": "markdown",
   "metadata": {},
   "source": [
    "Trigrams about content"
   ]
  },
  {
   "cell_type": "code",
   "execution_count": 230,
   "metadata": {},
   "outputs": [
    {
     "data": {
      "text/plain": [
       "83"
      ]
     },
     "execution_count": 230,
     "metadata": {},
     "output_type": "execute_result"
    }
   ],
   "source": [
    "content = search(['subject', 'time', 'guid'], None, radio_lessons_good_tri.columns)\n",
    "len(content)"
   ]
  },
  {
   "cell_type": "markdown",
   "metadata": {},
   "source": [
    "Trigrams about speech"
   ]
  },
  {
   "cell_type": "code",
   "execution_count": 231,
   "metadata": {},
   "outputs": [
    {
     "data": {
      "text/plain": [
       "25"
      ]
     },
     "execution_count": 231,
     "metadata": {},
     "output_type": "execute_result"
    }
   ],
   "source": [
    "language = search(['language','trans'], None, radio_lessons_good_tri.columns)\n",
    "len(language)"
   ]
  },
  {
   "cell_type": "code",
   "execution_count": 232,
   "metadata": {},
   "outputs": [
    {
     "data": {
      "text/plain": [
       "46"
      ]
     },
     "execution_count": 232,
     "metadata": {},
     "output_type": "execute_result"
    }
   ],
   "source": [
    "speed = search(['speed','repea','unders'], None, radio_lessons_good_tri.columns)\n",
    "len(speed)"
   ]
  },
  {
   "cell_type": "markdown",
   "metadata": {},
   "source": [
    "Count one per concept apperance (not word)"
   ]
  },
  {
   "cell_type": "code",
   "execution_count": 233,
   "metadata": {},
   "outputs": [],
   "source": [
    "cover = radio_lessons_good_tri[list(set(coverage + provision))]"
   ]
  },
  {
   "cell_type": "code",
   "execution_count": 234,
   "metadata": {},
   "outputs": [],
   "source": [
    "content = radio_lessons_good_tri[content]"
   ]
  },
  {
   "cell_type": "code",
   "execution_count": 235,
   "metadata": {},
   "outputs": [],
   "source": [
    "speech = radio_lessons_good_tri[list(set(language +  speed))]"
   ]
  },
  {
   "cell_type": "markdown",
   "metadata": {},
   "source": [
    "The rest of the Trigrams"
   ]
  },
  {
   "cell_type": "code",
   "execution_count": 236,
   "metadata": {},
   "outputs": [],
   "source": [
    "other = radio_lessons_good_tri.drop(cover.columns.to_list() + content.columns.to_list() + speech.columns.to_list(), axis=1)\n",
    "test_other = radio_lessons_good_tri.drop(cover.columns.to_list() + content.columns.to_list() + speech.columns.to_list(), axis=1)"
   ]
  },
  {
   "cell_type": "code",
   "execution_count": 237,
   "metadata": {},
   "outputs": [
    {
     "data": {
      "text/plain": [
       "['access presenter review',\n",
       " 'account individual differences',\n",
       " 'added pronouciation adjusted',\n",
       " 'air lesson radios',\n",
       " 'allocate enough tmie',\n",
       " 'allow people listening',\n",
       " 'also allow people',\n",
       " 'also bring program',\n",
       " 'also school reopen',\n",
       " 'also use arabic',\n",
       " 'answering question asked',\n",
       " 'arabic one teaching',\n",
       " 'areas air lesson',\n",
       " 'areas strong signal',\n",
       " 'art section included',\n",
       " 'ask questions clarification',\n",
       " 'ask questions words',\n",
       " 'audios format send',\n",
       " 'avail radios candidates',\n",
       " 'base new curriculum',\n",
       " 'better instead listening',\n",
       " 'better reopen schools',\n",
       " 'bring program schools',\n",
       " 'bringing radio lessons',\n",
       " 'broadcast local radios',\n",
       " 'broadcast stations like',\n",
       " 'broadcasted local radios',\n",
       " 'brought local radio',\n",
       " 'building radio lesson',\n",
       " 'buy radio parents',\n",
       " 'calling free ask',\n",
       " 'capacity building radio',\n",
       " 'cards videos audios',\n",
       " 'cell radio charging',\n",
       " 'certain designated centres',\n",
       " 'chalkboard pupils wants',\n",
       " 'chance calling free',\n",
       " 'changed possible late',\n",
       " 'charging materials dry',\n",
       " 'children eaten evening',\n",
       " 'children maintain social',\n",
       " 'children tgs government',\n",
       " 'citizen radio home',\n",
       " 'classes opportunity ask',\n",
       " 'community everyone access',\n",
       " 'concentrating lessons class',\n",
       " 'connecting pronouciation spelling',\n",
       " 'content mixed separated',\n",
       " 'continue listen concentrating',\n",
       " 'cooperation answering question',\n",
       " 'country level easy',\n",
       " 'decentralized radio learning',\n",
       " 'desk schools children',\n",
       " 'dictation note radios',\n",
       " 'differences particular teachers',\n",
       " 'discuss call back',\n",
       " 'done block leaders',\n",
       " 'dry cell radio',\n",
       " 'due lack interaction',\n",
       " 'due situation south',\n",
       " 'duration give question',\n",
       " 'easy access presenter',\n",
       " 'eaten evening pm',\n",
       " 'enough radios learners',\n",
       " 'evening finish domestic',\n",
       " 'evening pm pm',\n",
       " 'every homestead teaching',\n",
       " 'every household across',\n",
       " 'every household functional',\n",
       " 'every household local',\n",
       " 'every school radio',\n",
       " 'every schools radio',\n",
       " 'everyone access learning',\n",
       " 'expensive buy radio',\n",
       " 'explanation must made',\n",
       " 'explanation need done',\n",
       " 'extend radios school',\n",
       " 'extend services country',\n",
       " 'extended reach areas',\n",
       " 'extended two hours',\n",
       " 'extent station counties',\n",
       " 'facilitators slow giving',\n",
       " 'facilitators used little',\n",
       " 'families learner radios',\n",
       " 'families school going',\n",
       " 'family learners especially',\n",
       " 'finish domestic work',\n",
       " 'flash cards videos',\n",
       " 'fm peace radio',\n",
       " 'format send schools',\n",
       " 'free ask questions',\n",
       " 'free line call',\n",
       " 'free line students',\n",
       " 'frequency need increased',\n",
       " 'get lesson well',\n",
       " 'getting trained teachers',\n",
       " 'give question learners',\n",
       " 'give us good',\n",
       " 'given capacity building',\n",
       " 'given learners participate',\n",
       " 'given lessons group',\n",
       " 'given teachers maths',\n",
       " 'giving every schools',\n",
       " 'giving lessons one',\n",
       " 'giving radios families',\n",
       " 'giving radios learners',\n",
       " 'giving radios people',\n",
       " 'going children tgs',\n",
       " 'going continue children',\n",
       " 'going new thing',\n",
       " 'going slowly help',\n",
       " 'good brought local',\n",
       " 'good net work',\n",
       " 'good use tv',\n",
       " 'government avail radios',\n",
       " 'government make sure',\n",
       " 'government reopen school',\n",
       " 'government reopen schools',\n",
       " 'grass root need',\n",
       " 'group continue listen',\n",
       " 'group learners thought',\n",
       " 'help much connecting',\n",
       " 'help slow learners',\n",
       " 'homestead teaching radio',\n",
       " 'hours per class',\n",
       " 'household across country',\n",
       " 'household functional radio',\n",
       " 'household local radio',\n",
       " 'immediately seeing mouth',\n",
       " 'included program included',\n",
       " 'includes use local',\n",
       " 'includes uses local',\n",
       " 'increase lessons duration',\n",
       " 'increase practical lesson',\n",
       " 'increased least two',\n",
       " 'individual differences particular',\n",
       " 'installation solar panels',\n",
       " 'instead listening radio',\n",
       " 'instead radio lessons',\n",
       " 'instead radio teachers',\n",
       " 'involved uses local',\n",
       " 'jonglei fm peace',\n",
       " 'late evening pm',\n",
       " 'learner certain designated',\n",
       " 'learner radio lessons',\n",
       " 'learner radio program',\n",
       " 'learners allocate enough',\n",
       " 'learners ask questions',\n",
       " 'learners especially poor',\n",
       " 'learners get lesson',\n",
       " 'learners includes uses',\n",
       " 'learners participate across',\n",
       " 'learners participate lesson',\n",
       " 'learners radio program',\n",
       " 'learners radio reduce',\n",
       " 'learners radios home',\n",
       " 'learners radios widen',\n",
       " 'learners thought areas',\n",
       " 'learning local radio',\n",
       " 'learning radio lessons',\n",
       " 'least twice day',\n",
       " 'least two hours',\n",
       " 'leaving line opened',\n",
       " 'lectures aired slowly',\n",
       " 'lengthen radio stations',\n",
       " 'lesson least slowly',\n",
       " 'lesson radios help',\n",
       " 'lessons art section',\n",
       " 'lessons broadcast stations',\n",
       " 'lessons duration give',\n",
       " 'lessons extending duration',\n",
       " 'lessons going new',\n",
       " 'lessons going slowly',\n",
       " 'lessons group continue',\n",
       " 'lessons increased least',\n",
       " 'lessons let government',\n",
       " 'lessons local radio',\n",
       " 'lessons need free',\n",
       " 'lessons one facilitator',\n",
       " 'lessons player learners',\n",
       " 'lessons practicals save',\n",
       " 'lessons recorded broadcasted',\n",
       " 'lessons simiplied order',\n",
       " 'lessons tough class',\n",
       " 'let explanations slowed',\n",
       " 'let government reopen',\n",
       " 'let line opened',\n",
       " 'let question answered',\n",
       " 'let school opened',\n",
       " 'let teachers given',\n",
       " 'let upper class',\n",
       " 'level easy accessibility',\n",
       " 'like radio jonglei',\n",
       " 'like radio lessons',\n",
       " 'like teachers neare',\n",
       " 'line students call',\n",
       " 'listen concentrating lessons',\n",
       " 'listener personal radio',\n",
       " 'listening discuss call',\n",
       " 'listening radio presenters',\n",
       " 'little bit local',\n",
       " 'live television school',\n",
       " 'local radio education',\n",
       " 'local radio introduced',\n",
       " 'local radio reduce',\n",
       " 'local radio stations',\n",
       " 'local radios part',\n",
       " 'local radios states',\n",
       " 'make radio available',\n",
       " 'make radio network',\n",
       " 'make signal stronger',\n",
       " 'make sure radio',\n",
       " 'making sure radio',\n",
       " 'managed radio heard',\n",
       " 'many areas strong',\n",
       " 'many radios home',\n",
       " 'many radios schools',\n",
       " 'materials dry cells',\n",
       " 'mathematics lessons simiplied',\n",
       " 'may added pronouciation',\n",
       " 'mixed separated classes',\n",
       " 'mobile network constructed',\n",
       " 'mobile radios availability',\n",
       " 'moderators report lessons',\n",
       " 'mouth teacher would',\n",
       " 'much better reopen',\n",
       " 'much connecting pronouciation',\n",
       " 'much therefore comment',\n",
       " 'must extended reach',\n",
       " 'must made clear',\n",
       " 'need add program',\n",
       " 'need free line',\n",
       " 'need good network',\n",
       " 'need mobile network',\n",
       " 'need qualified teachers',\n",
       " 'need radio lesson',\n",
       " 'need source energy',\n",
       " 'need strengthen mobile',\n",
       " 'need teachers cooperation',\n",
       " 'need widen questioning',\n",
       " 'needs radio home',\n",
       " 'needs slow expaination',\n",
       " 'needs slow explainations',\n",
       " 'net work poor',\n",
       " 'network constructed county',\n",
       " 'network stronger lessons',\n",
       " 'nothing schools reopened',\n",
       " 'number hours increase',\n",
       " 'open fm station',\n",
       " 'opening school solution',\n",
       " 'opportunity ask questions',\n",
       " 'panels schools increase',\n",
       " 'parents home better',\n",
       " 'parents teachers need',\n",
       " 'part learning radio',\n",
       " 'participate across country',\n",
       " 'peace radio voice',\n",
       " 'people also allow',\n",
       " 'people listening discuss',\n",
       " 'personal radio easy',\n",
       " 'player learners radios',\n",
       " 'possible late evening',\n",
       " 'power dry cell',\n",
       " 'practicals save flash',\n",
       " 'present base new',\n",
       " 'present radio lessons',\n",
       " 'presenter review previous',\n",
       " 'presenters present base',\n",
       " 'previous lessons going',\n",
       " 'program families learner',\n",
       " 'program local radios',\n",
       " 'program schools involve',\n",
       " 'program taught local',\n",
       " 'pronouciation spelling used',\n",
       " 'pupils school also',\n",
       " 'pupils wants see',\n",
       " 'qualified teachers present',\n",
       " 'question answered direct',\n",
       " 'question asked pupils',\n",
       " 'question learners evaluation',\n",
       " 'questions words immediately',\n",
       " 'radio available learning',\n",
       " 'radio easy access',\n",
       " 'radio education air',\n",
       " 'radio every household',\n",
       " 'radio given learners',\n",
       " 'radio going continue',\n",
       " 'radio jonglei fm',\n",
       " 'radio learners enough',\n",
       " 'radio learning local',\n",
       " 'radio lessons broadcast',\n",
       " 'radio lessons extending',\n",
       " 'radio lessons given',\n",
       " 'radio lessons known',\n",
       " 'radio lessons let',\n",
       " 'radio lessons local',\n",
       " 'radio lessons need',\n",
       " 'radio lessons recorded',\n",
       " 'radio many listerners',\n",
       " 'radio must slow',\n",
       " 'radio network country',\n",
       " 'radio network stronger',\n",
       " 'radio parents home',\n",
       " 'radio presenters present',\n",
       " 'radio program families',\n",
       " 'radio pupils school',\n",
       " 'radio reach many',\n",
       " 'radio reduce sheep',\n",
       " 'radio reduced sheep',\n",
       " 'radio schools country',\n",
       " 'radio sets families',\n",
       " 'radio solar system',\n",
       " 'radio sound wave',\n",
       " 'radio stations also',\n",
       " 'radio stations broadcast',\n",
       " 'radio teachers teach',\n",
       " 'radio voice reconciliation',\n",
       " 'radio wide community',\n",
       " 'radios among learner',\n",
       " 'radios every homestead',\n",
       " 'radios every homesteads',\n",
       " 'radios every household',\n",
       " 'radios family learners',\n",
       " 'radios given lessons',\n",
       " 'radios good net',\n",
       " 'radios help colleagues',\n",
       " 'radios home listen',\n",
       " 'radios installation solar',\n",
       " 'radios learners allocate',\n",
       " 'radios learners includes',\n",
       " 'radios make radio',\n",
       " 'radios part learning',\n",
       " 'radios people also',\n",
       " 'radios pupils students',\n",
       " 'radios school easy',\n",
       " 'radios station use',\n",
       " 'radios students dictation',\n",
       " 'radios students given',\n",
       " 'radios students learning',\n",
       " 'radios students lengthening',\n",
       " 'radios students schools',\n",
       " 'radios students solar',\n",
       " 'radios widen radio',\n",
       " 'reach many areas',\n",
       " 'reaches remote areas',\n",
       " 'record lessons practicals',\n",
       " 'recorded broadcasted local',\n",
       " 'recorded lessons player',\n",
       " 'reduce sheep revise',\n",
       " 'reduced sheep lesson',\n",
       " 'reopen instead radio',\n",
       " 'reopen radios given',\n",
       " 'reopening school better',\n",
       " 'report lessons one',\n",
       " 'response among things',\n",
       " 'review previous lessons',\n",
       " 'root need add',\n",
       " 'save flash cards',\n",
       " 'school also school',\n",
       " 'school better instead',\n",
       " 'school easy access',\n",
       " 'school going children',\n",
       " 'schools across country',\n",
       " 'schools children maintain',\n",
       " 'schools increase broadcasting',\n",
       " 'schools involve teachers',\n",
       " 'schools reopen instead',\n",
       " 'schools reopen radios',\n",
       " 'section included program',\n",
       " 'see teacher teaching',\n",
       " 'seeing mouth teacher',\n",
       " 'seminar done block',\n",
       " 'send schools across',\n",
       " 'separated classes opportunity',\n",
       " 'services country level',\n",
       " 'sets families school',\n",
       " 'sheep lesson radio',\n",
       " 'sheep revise radio',\n",
       " 'shortened minutes lessons',\n",
       " 'situation south sudan',\n",
       " 'slow giving lessons',\n",
       " 'slow learners get',\n",
       " 'slowly help slow',\n",
       " 'slowly use simple',\n",
       " 'solar panels schools',\n",
       " 'solar power charging',\n",
       " 'solar power dry',\n",
       " 'solar radios students',\n",
       " 'spell well make',\n",
       " 'spelling used revision',\n",
       " 'station counties villages',\n",
       " 'station use considerable',\n",
       " 'stations also bring',\n",
       " 'stations like radio',\n",
       " 'strengthen mobile network',\n",
       " 'strengthening radios station',\n",
       " 'strong signal programs',\n",
       " 'students dictation note',\n",
       " 'students given enough',\n",
       " 'students learning radio',\n",
       " 'students lengthening broadcasting',\n",
       " 'students radios installation',\n",
       " 'students solar power',\n",
       " 'supplying radios lessons',\n",
       " 'sure radio network',\n",
       " 'take account individual',\n",
       " 'take radio teaching',\n",
       " 'talk slowly use',\n",
       " 'taught local radios',\n",
       " 'teach chalkboard pupils',\n",
       " 'teacher grass root',\n",
       " 'teacher would help',\n",
       " 'teachers bad pronanciation',\n",
       " 'teachers cooperation answering',\n",
       " 'teachers designated centres',\n",
       " 'teachers given capacity',\n",
       " 'teachers making sure',\n",
       " 'teachers need included',\n",
       " 'teachers need widen',\n",
       " 'teachers present radio',\n",
       " 'teachers radio given',\n",
       " 'teachers take account',\n",
       " 'teachers teach chalkboard',\n",
       " 'teachers teaching radio',\n",
       " 'teaching radio going',\n",
       " 'teaching radio lessons',\n",
       " 'teaching radio must',\n",
       " 'television school reopened',\n",
       " 'telling learner sellect',\n",
       " 'tgs government make',\n",
       " 'thing reopen schools',\n",
       " 'things slow learners',\n",
       " 'think lesson radio',\n",
       " 'thought areas air',\n",
       " 'timing evening least',\n",
       " 'timing hard learners',\n",
       " 'trained teachers making',\n",
       " 'tv practical taught',\n",
       " 'two hours per',\n",
       " 'unless children attending',\n",
       " 'unless number hours',\n",
       " 'unless schools open',\n",
       " 'unless schools opened',\n",
       " 'us good radio',\n",
       " 'us lessons art',\n",
       " 'use much therefore',\n",
       " 'use simple english',\n",
       " 'use tv practical',\n",
       " 'used little bit',\n",
       " 'videos audios format',\n",
       " 'voice reconciliation etc',\n",
       " 'want radio lessons',\n",
       " 'want schools reopen',\n",
       " 'wants see teacher',\n",
       " 'way due lack',\n",
       " 'well make clear',\n",
       " 'wide community everyone',\n",
       " 'words immediately seeing',\n",
       " 'would good brought',\n",
       " 'would help much']"
      ]
     },
     "execution_count": 237,
     "metadata": {},
     "output_type": "execute_result"
    }
   ],
   "source": [
    "test_other.columns.to_list()"
   ]
  },
  {
   "cell_type": "code",
   "execution_count": 210,
   "metadata": {},
   "outputs": [],
   "source": [
    "cover = cover.sum(axis=1)\n",
    "content = content.sum(axis=1)\n",
    "speech = speech.sum(axis=1)\n",
    "other = other.sum(axis=1)"
   ]
  },
  {
   "cell_type": "code",
   "execution_count": 211,
   "metadata": {},
   "outputs": [],
   "source": [
    "cover[cover != 0] = 1\n",
    "content[content != 0] = 1\n",
    "speech[speech != 0] = 1\n",
    "other[other != 0] = 1"
   ]
  },
  {
   "cell_type": "code",
   "execution_count": 212,
   "metadata": {},
   "outputs": [],
   "source": [
    "coverage = pd.DataFrame(np.zeros(radio_lessons.shape[0]), dtype=int, columns=['enough coverage'])\n",
    "coverage.loc[cover[cover == 1].index,:] = 1\n",
    "cont = pd.DataFrame(np.zeros(radio_lessons.shape[0]), dtype=int, columns=['local language'])\n",
    "cont.loc[content[content == 1].index,:] = 1\n",
    "form_speech = pd.DataFrame(np.zeros(radio_lessons.shape[0]), dtype=int, columns=['enough understanding'])\n",
    "form_speech.loc[speech[speech == 1].index,:] = 1\n",
    "other_w = pd.DataFrame(np.zeros(radio_lessons.shape[0]), dtype=int, columns=['other biagrams'])\n",
    "other_w.loc[other[other == 1].index,:] = 1"
   ]
  },
  {
   "cell_type": "code",
   "execution_count": 213,
   "metadata": {},
   "outputs": [],
   "source": [
    "radio_lessons_good_group = pd.concat([coverage, cont, form_speech, other_w], axis=1)"
   ]
  },
  {
   "cell_type": "markdown",
   "metadata": {},
   "source": [
    "Visualization"
   ]
  },
  {
   "cell_type": "code",
   "execution_count": 214,
   "metadata": {},
   "outputs": [
    {
     "data": {
      "image/png": "[encoded data removed]",
      "text/plain": [
       "<Figure size 720x360 with 1 Axes>"
      ]
     },
     "metadata": {
      "needs_background": "light"
     },
     "output_type": "display_data"
    }
   ],
   "source": [
    "plt.figure(figsize=(10,5))\n",
    "plt.bar(radio_lessons_good_group.columns, radio_lessons_good_group.sum())\n",
    "plt.title('What is the quality of the radio lessons? How can the radio lessons be improved?')\n",
    "plt.xticks(rotation=45, ha='right')\n",
    "plt.show()"
   ]
  },
  {
   "cell_type": "markdown",
   "metadata": {},
   "source": [
    "Save vectors"
   ]
  },
  {
   "cell_type": "code",
   "execution_count": 210,
   "metadata": {},
   "outputs": [
    {
     "ename": "NameError",
     "evalue": "name 'radio_lessons_pos_tri' is not defined",
     "output_type": "error",
     "traceback": [
      "\u001b[0;31m---------------------------------------------------------------------------\u001b[0m",
      "\u001b[0;31mNameError\u001b[0m                                 Traceback (most recent call last)",
      "\u001b[0;32m<ipython-input-210-c50e498b9a20>\u001b[0m in \u001b[0;36m<module>\u001b[0;34m\u001b[0m\n\u001b[0;32m----> 1\u001b[0;31m \u001b[0mradio_lessons_pos_tri\u001b[0m\u001b[0;34m.\u001b[0m\u001b[0mto_csv\u001b[0m\u001b[0;34m(\u001b[0m\u001b[0;34m'data/tokens/radio_lessons_qual_pos.csv'\u001b[0m\u001b[0;34m)\u001b[0m\u001b[0;34m\u001b[0m\u001b[0;34m\u001b[0m\u001b[0m\n\u001b[0m\u001b[1;32m      2\u001b[0m \u001b[0mradio_lessons_neg_tri\u001b[0m\u001b[0;34m.\u001b[0m\u001b[0mto_csv\u001b[0m\u001b[0;34m(\u001b[0m\u001b[0;34m'data/tokens/radio_lessons_qual_neg.csv'\u001b[0m\u001b[0;34m)\u001b[0m\u001b[0;34m\u001b[0m\u001b[0;34m\u001b[0m\u001b[0m\n",
      "\u001b[0;31mNameError\u001b[0m: name 'radio_lessons_pos_tri' is not defined"
     ]
    }
   ],
   "source": [
    "radio_lessons_pos_tri.to_csv('data/tokens/radio_lessons_qual_pos.csv')\n",
    "radio_lessons_neg_tri.to_csv('data/tokens/radio_lessons_qual_neg.csv')"
   ]
  }
 ],
 "metadata": {
  "kernelspec": {
   "display_name": "Python 3",
   "language": "python",
   "name": "python3"
  },
  "language_info": {
   "codemirror_mode": {
    "name": "ipython",
    "version": 3
   },
   "file_extension": ".py",
   "mimetype": "text/x-python",
   "name": "python",
   "nbconvert_exporter": "python",
   "pygments_lexer": "ipython3",
   "version": "3.7.7"
  }
 },
 "nbformat": 4,
 "nbformat_minor": 4
}
