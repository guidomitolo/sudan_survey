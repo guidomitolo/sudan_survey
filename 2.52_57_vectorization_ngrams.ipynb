{
 "cells": [
  {
   "cell_type": "markdown",
   "metadata": {},
   "source": [
    "## Vectorization"
   ]
  },
  {
   "cell_type": "code",
   "execution_count": 1,
   "metadata": {},
   "outputs": [],
   "source": [
    "import pandas as pd\n",
    "import numpy as np\n",
    "import re\n",
    "import nltk\n",
    "\n",
    "import matplotlib.pyplot as plt\n",
    "\n",
    "from nltk.corpus import stopwords\n",
    "from sklearn.feature_extraction.text import CountVectorizer"
   ]
  },
  {
   "cell_type": "markdown",
   "metadata": {},
   "source": [
    "### 1. Load Data"
   ]
  },
  {
   "cell_type": "markdown",
   "metadata": {},
   "source": [
    "#### Open-ended Answers"
   ]
  },
  {
   "cell_type": "code",
   "execution_count": 2,
   "metadata": {},
   "outputs": [],
   "source": [
    "quantity_learning = pd.read_csv('./data/quantity_learning.csv')"
   ]
  },
  {
   "cell_type": "code",
   "execution_count": 3,
   "metadata": {},
   "outputs": [],
   "source": [
    "radio_lessons = pd.read_csv('./data/radio_lessons.csv')"
   ]
  },
  {
   "cell_type": "markdown",
   "metadata": {},
   "source": [
    "## 2. Count vectorization function\n",
    "#### 2.1. Retrieve bi/trigrams tokens, refine and encode"
   ]
  },
  {
   "cell_type": "code",
   "execution_count": 4,
   "metadata": {},
   "outputs": [],
   "source": [
    "stopwords = stopwords.words('english')"
   ]
  },
  {
   "cell_type": "code",
   "execution_count": 5,
   "metadata": {},
   "outputs": [],
   "source": [
    "def removal(text):\n",
    "    text = re.sub(r'(\\d|\\$|\\%|\\+)', '', text.lower())\n",
    "    return re.sub(r'\\d+', '', text)"
   ]
  },
  {
   "cell_type": "code",
   "execution_count": 6,
   "metadata": {},
   "outputs": [],
   "source": [
    "def bow_vectorization(data, index, n_grams):\n",
    "    vectorizer = CountVectorizer(stop_words = stopwords, lowercase = True, strip_accents='unicode', ngram_range=n_grams, preprocessor=removal)\n",
    "    data_tokens = vectorizer.fit_transform(data)\n",
    "    print(len(vectorizer.vocabulary_),'words in dictionary.')\n",
    "    return pd.DataFrame(data_tokens.todense(), columns=vectorizer.get_feature_names(), index=index)"
   ]
  },
  {
   "cell_type": "markdown",
   "metadata": {},
   "source": [
    "#### 2.2. Search word in vocabulary"
   ]
  },
  {
   "cell_type": "raw",
   "metadata": {},
   "source": [
    "def search(word_in=None, word_out=None, vocabulary=None):\n",
    "    if word_in is None:\n",
    "        return 'no words to search'\n",
    "    words = []\n",
    "    for term in vocabulary:\n",
    "        if word_out is None:\n",
    "            if word_in in term:\n",
    "                words.append(term)            \n",
    "        else:\n",
    "            if word_in in term and word_out not in term:\n",
    "                words.append(term)\n",
    "    return words"
   ]
  },
  {
   "cell_type": "code",
   "execution_count": 7,
   "metadata": {},
   "outputs": [],
   "source": [
    "def search(word_in=None, word_out=None, vocabulary=None):\n",
    "    if word_in is None:\n",
    "        return 'no words to search'\n",
    "\n",
    "    words = []\n",
    "    if isinstance(word_in, list):\n",
    "        for word in word_in:\n",
    "            for term in vocabulary:\n",
    "                if word in term:\n",
    "                    words.append(term)            \n",
    "    else:\n",
    "        for term in vocabulary:\n",
    "            if word_in in term:\n",
    "                words.append(term)\n",
    "    \n",
    "    words_clean = []\n",
    "    if word_out:\n",
    "        if isinstance(word_out,str):\n",
    "            word_out = [word_out]\n",
    "        for word in word_out:\n",
    "            for term in words:\n",
    "                if word in term:\n",
    "                    pass\n",
    "                else:\n",
    "                    words_clean.append(term)\n",
    "        return words_clean\n",
    "    else:\n",
    "        return words"
   ]
  },
  {
   "cell_type": "markdown",
   "metadata": {},
   "source": [
    "## 3. Questions to vectorize"
   ]
  },
  {
   "cell_type": "markdown",
   "metadata": {},
   "source": [
    "### 3.4. Are you/your learners learning more or are you learning less using radio lessons since the COVID-19 school closures? Why?"
   ]
  },
  {
   "cell_type": "code",
   "execution_count": 8,
   "metadata": {},
   "outputs": [
    {
     "data": {
      "text/plain": [
       "Less        1249\n",
       "More          80\n",
       "The same      46\n",
       "Name: Q52_Are you/your learners learning more or are you learning less using radio lessons since the COVID-19 school closures?, dtype: int64"
      ]
     },
     "execution_count": 8,
     "metadata": {},
     "output_type": "execute_result"
    }
   ],
   "source": [
    "quantity_learning.iloc[:,1].value_counts()"
   ]
  },
  {
   "cell_type": "markdown",
   "metadata": {},
   "source": [
    "Get only 'Less' answers"
   ]
  },
  {
   "cell_type": "code",
   "execution_count": 9,
   "metadata": {},
   "outputs": [],
   "source": [
    "quantity_learning_less = quantity_learning[quantity_learning.iloc[:,1] == 'Less'].iloc[:,2]"
   ]
  },
  {
   "cell_type": "code",
   "execution_count": 10,
   "metadata": {},
   "outputs": [
    {
     "data": {
      "text/plain": [
       "['Because radios are not many in our area',\n",
       " 'Because of power for charging radio',\n",
       " 'Because of COVID_19',\n",
       " 'Due to restrictions by the Covid 19 ',\n",
       " 'Because of Covid 19 restrictions ',\n",
       " 'Some teachers in radio lesson use complicated language hard to understand',\n",
       " \"I don't know\",\n",
       " 'Rodio it is not enough',\n",
       " 'Teaching is past',\n",
       " 'Teaching is past in during the lesson']"
      ]
     },
     "execution_count": 10,
     "metadata": {},
     "output_type": "execute_result"
    }
   ],
   "source": [
    "quantity_learning[quantity_learning.iloc[:,1] == 'Less'].iloc[:,2].tolist()[:10]"
   ]
  },
  {
   "cell_type": "markdown",
   "metadata": {},
   "source": [
    "#### Trigram vectorization\n",
    "Learning Less with radio lessons after covid"
   ]
  },
  {
   "cell_type": "code",
   "execution_count": 11,
   "metadata": {},
   "outputs": [
    {
     "name": "stdout",
     "output_type": "stream",
     "text": [
      "1195 words in dictionary.\n"
     ]
    }
   ],
   "source": [
    "quantity_learning_less_tri = bow_vectorization(data = quantity_learning_less.dropna(), \n",
    "                                               index = quantity_learning_less.dropna().index,\n",
    "                                               n_grams=(3, 3))"
   ]
  },
  {
   "cell_type": "code",
   "execution_count": 12,
   "metadata": {},
   "outputs": [],
   "source": [
    "#quantity_learning_less_tri.sum().sort_values(ascending=False)[:60]"
   ]
  },
  {
   "cell_type": "markdown",
   "metadata": {},
   "source": [
    "#### Group Trigrams\n",
    "Trigrams about work"
   ]
  },
  {
   "cell_type": "code",
   "execution_count": 13,
   "metadata": {},
   "outputs": [
    {
     "data": {
      "text/plain": [
       "57"
      ]
     },
     "execution_count": 13,
     "metadata": {},
     "output_type": "execute_result"
    }
   ],
   "source": [
    "domestic_work = search(['domestic','garden'], None, quantity_learning_less_tri.columns)\n",
    "len(domestic_work)"
   ]
  },
  {
   "cell_type": "code",
   "execution_count": 14,
   "metadata": {},
   "outputs": [
    {
     "data": {
      "text/plain": [
       "336"
      ]
     },
     "execution_count": 14,
     "metadata": {},
     "output_type": "execute_result"
    }
   ],
   "source": [
    "out_work = search('work', ['domestic','home','house','garden'], quantity_learning_less_tri.columns)\n",
    "len(out_work)"
   ]
  },
  {
   "cell_type": "code",
   "execution_count": 15,
   "metadata": {},
   "outputs": [
    {
     "data": {
      "text/plain": [
       "23"
      ]
     },
     "execution_count": 15,
     "metadata": {},
     "output_type": "execute_result"
    }
   ],
   "source": [
    "activities = search('activities', 'less', quantity_learning_less_tri.columns)\n",
    "len(activities)"
   ]
  },
  {
   "cell_type": "markdown",
   "metadata": {},
   "source": [
    "Trigrams about time"
   ]
  },
  {
   "cell_type": "code",
   "execution_count": 16,
   "metadata": {},
   "outputs": [
    {
     "data": {
      "text/plain": [
       "229"
      ]
     },
     "execution_count": 16,
     "metadata": {},
     "output_type": "execute_result"
    }
   ],
   "source": [
    "time = search('time', None, quantity_learning_less_tri.columns)\n",
    "len(time)"
   ]
  },
  {
   "cell_type": "code",
   "execution_count": 17,
   "metadata": {},
   "outputs": [
    {
     "data": {
      "text/plain": [
       "189"
      ]
     },
     "execution_count": 17,
     "metadata": {},
     "output_type": "execute_result"
    }
   ],
   "source": [
    "less = search('less', None, quantity_learning_less_tri.columns)\n",
    "len(less)"
   ]
  },
  {
   "cell_type": "code",
   "execution_count": 18,
   "metadata": {},
   "outputs": [
    {
     "data": {
      "text/plain": [
       "22"
      ]
     },
     "execution_count": 18,
     "metadata": {},
     "output_type": "execute_result"
    }
   ],
   "source": [
    "lack = search('lack', None, quantity_learning_less_tri.columns)\n",
    "len(lack)"
   ]
  },
  {
   "cell_type": "markdown",
   "metadata": {},
   "source": [
    "Trigrams about education"
   ]
  },
  {
   "cell_type": "code",
   "execution_count": 19,
   "metadata": {},
   "outputs": [
    {
     "data": {
      "text/plain": [
       "90"
      ]
     },
     "execution_count": 19,
     "metadata": {},
     "output_type": "execute_result"
    }
   ],
   "source": [
    "education = search(['teacher','underst'], None, quantity_learning_less_tri.columns)\n",
    "len(education)"
   ]
  },
  {
   "cell_type": "markdown",
   "metadata": {},
   "source": [
    "Trigrams about radio"
   ]
  },
  {
   "cell_type": "code",
   "execution_count": 20,
   "metadata": {},
   "outputs": [
    {
     "data": {
      "text/plain": [
       "324"
      ]
     },
     "execution_count": 20,
     "metadata": {},
     "output_type": "execute_result"
    }
   ],
   "source": [
    "radio = search(['radio','acces','cove'], None, quantity_learning_less_tri.columns)\n",
    "len(radio)"
   ]
  },
  {
   "cell_type": "markdown",
   "metadata": {},
   "source": [
    "Count one per concept apperance (not word)"
   ]
  },
  {
   "cell_type": "code",
   "execution_count": 21,
   "metadata": {},
   "outputs": [],
   "source": [
    "domestic_w = quantity_learning_less_tri[domestic_work]"
   ]
  },
  {
   "cell_type": "code",
   "execution_count": 22,
   "metadata": {},
   "outputs": [],
   "source": [
    "ex_work = quantity_learning_less_tri[list(set(out_work + activities))]"
   ]
  },
  {
   "cell_type": "code",
   "execution_count": 23,
   "metadata": {},
   "outputs": [],
   "source": [
    "time = quantity_learning_less_tri[list(set(time + less + lack))]"
   ]
  },
  {
   "cell_type": "code",
   "execution_count": 24,
   "metadata": {},
   "outputs": [],
   "source": [
    "ed = quantity_learning_less_tri[education]"
   ]
  },
  {
   "cell_type": "code",
   "execution_count": 25,
   "metadata": {},
   "outputs": [],
   "source": [
    "get_radio = quantity_learning_less_tri[radio]"
   ]
  },
  {
   "cell_type": "markdown",
   "metadata": {},
   "source": [
    "The rest of the Bigrams"
   ]
  },
  {
   "cell_type": "code",
   "execution_count": 26,
   "metadata": {},
   "outputs": [],
   "source": [
    "other = quantity_learning_less_tri.drop(domestic_w.columns.to_list() + \\\n",
    "                               ex_work.columns.to_list() + \\\n",
    "                               time.columns.to_list() + \\\n",
    "                               ed.columns.to_list() + \\\n",
    "                               get_radio.columns.to_list(), axis=1)\n",
    "test_other = quantity_learning_less_tri.drop(domestic_w.columns.to_list() + \\\n",
    "                               ex_work.columns.to_list() + \\\n",
    "                               time.columns.to_list() + \\\n",
    "                               ed.columns.to_list() + \\\n",
    "                               get_radio.columns.to_list(), axis=1)"
   ]
  },
  {
   "cell_type": "code",
   "execution_count": 27,
   "metadata": {},
   "outputs": [],
   "source": [
    "domestic_w = domestic_w.sum(axis=1)\n",
    "ex_work = ex_work.sum(axis=1)\n",
    "time = time.sum(axis=1)\n",
    "ed = ed.sum(axis=1)\n",
    "other = other.sum(axis=1)"
   ]
  },
  {
   "cell_type": "code",
   "execution_count": 28,
   "metadata": {},
   "outputs": [],
   "source": [
    "domestic_w[domestic_w != 0] = 1\n",
    "ex_work[ex_work != 0] = 1\n",
    "time[time != 0] = 1\n",
    "ed[ed != 0] = 1\n",
    "other[other != 0] = 1"
   ]
  },
  {
   "cell_type": "code",
   "execution_count": 29,
   "metadata": {},
   "outputs": [],
   "source": [
    "domestic = pd.DataFrame(np.zeros(quantity_learning.shape[0]), dtype=int, columns=['domestic work'])\n",
    "domestic.loc[domestic_w[domestic_w == 1].index,:] = 1\n",
    "work = pd.DataFrame(np.zeros(quantity_learning.shape[0]), dtype=int, columns=['external work'])\n",
    "work.loc[ex_work[ex_work == 1].index,:] = 1\n",
    "no_time = pd.DataFrame(np.zeros(quantity_learning.shape[0]), dtype=int, columns=['no time'])\n",
    "no_time.loc[time[time == 1].index,:] = 1\n",
    "no_ed = pd.DataFrame(np.zeros(quantity_learning.shape[0]), dtype=int, columns=['less education'])\n",
    "no_ed.loc[ed[ed == 1].index,:] = 1\n",
    "other_w = pd.DataFrame(np.zeros(quantity_learning.shape[0]), dtype=int, columns=['other triagrams'])\n",
    "other_w.loc[other[other == 1].index,:] = 1"
   ]
  },
  {
   "cell_type": "code",
   "execution_count": 30,
   "metadata": {},
   "outputs": [],
   "source": [
    "quantity_learning_less_group = pd.concat([domestic, work, no_time, no_ed, other_w], axis=1)"
   ]
  },
  {
   "cell_type": "code",
   "execution_count": 31,
   "metadata": {},
   "outputs": [
    {
     "data": {
      "image/png": "[encoded data removed]",
      "text/plain": [
       "<Figure size 720x360 with 1 Axes>"
      ]
     },
     "metadata": {
      "needs_background": "light"
     },
     "output_type": "display_data"
    }
   ],
   "source": [
    "plt.figure(figsize=(10,5))\n",
    "plt.bar(quantity_learning_less_group.columns, quantity_learning_less_group.sum())\n",
    "plt.title('Are you/your learners learning more or are you learning less using radio lessons since the COVID-19 school closures? Why less?')\n",
    "plt.xticks(rotation=45, ha='right')\n",
    "plt.show()"
   ]
  },
  {
   "cell_type": "code",
   "execution_count": 37,
   "metadata": {},
   "outputs": [
    {
     "data": {
      "text/plain": [
       "0.03923138510808647"
      ]
     },
     "execution_count": 37,
     "metadata": {},
     "output_type": "execute_result"
    }
   ],
   "source": [
    "quantity_learning_less_group.loc[:,'domestic work'].sum() / quantity_learning_less.shape[0]"
   ]
  },
  {
   "cell_type": "code",
   "execution_count": 38,
   "metadata": {},
   "outputs": [
    {
     "data": {
      "text/plain": [
       "0.08566853482786228"
      ]
     },
     "execution_count": 38,
     "metadata": {},
     "output_type": "execute_result"
    }
   ],
   "source": [
    "quantity_learning_less_group.loc[:,'external work'].sum() / quantity_learning_less.shape[0]"
   ]
  },
  {
   "cell_type": "code",
   "execution_count": 39,
   "metadata": {},
   "outputs": [
    {
     "data": {
      "text/plain": [
       "0.2177742193755004"
      ]
     },
     "execution_count": 39,
     "metadata": {},
     "output_type": "execute_result"
    }
   ],
   "source": [
    "quantity_learning_less_group.loc[:,'no time'].sum() / quantity_learning_less.shape[0]"
   ]
  },
  {
   "cell_type": "code",
   "execution_count": 40,
   "metadata": {},
   "outputs": [
    {
     "data": {
      "text/plain": [
       "0.053642914331465175"
      ]
     },
     "execution_count": 40,
     "metadata": {},
     "output_type": "execute_result"
    }
   ],
   "source": [
    "quantity_learning_less_group.loc[:,'less education'].sum() / quantity_learning_less.shape[0]"
   ]
  },
  {
   "cell_type": "markdown",
   "metadata": {},
   "source": [
    "#### Save vectors and concepts"
   ]
  },
  {
   "cell_type": "code",
   "execution_count": 54,
   "metadata": {},
   "outputs": [],
   "source": [
    "# tokens\n",
    "quantity_learning_less_tri.to_csv('data/tokens/quantity_learning_less_yes.csv')\n",
    "# concepts\n",
    "quantity_learning_less_group.to_csv('data/concepts/quantity_learning_less_concepts.csv')"
   ]
  },
  {
   "cell_type": "markdown",
   "metadata": {},
   "source": [
    "### 3.5. What is the quality of the radio lessons? How can the radio lessons be improved?"
   ]
  },
  {
   "cell_type": "code",
   "execution_count": 41,
   "metadata": {},
   "outputs": [
    {
     "data": {
      "text/plain": [
       "Unnamed: 0                                        4727\n",
       "Q57_What is the quality of the radio lessons?     1375\n",
       "Q58_How can the radio lessons be improved?        1375\n",
       "dtype: int64"
      ]
     },
     "execution_count": 41,
     "metadata": {},
     "output_type": "execute_result"
    }
   ],
   "source": [
    "radio_lessons.notnull().sum()"
   ]
  },
  {
   "cell_type": "code",
   "execution_count": 42,
   "metadata": {},
   "outputs": [
    {
     "data": {
      "text/plain": [
       "Good         644\n",
       "Fair         396\n",
       "Not good     186\n",
       "Very good    149\n",
       "Name: Q57_What is the quality of the radio lessons? , dtype: int64"
      ]
     },
     "execution_count": 42,
     "metadata": {},
     "output_type": "execute_result"
    }
   ],
   "source": [
    "radio_lessons.iloc[:,1].value_counts()"
   ]
  },
  {
   "cell_type": "markdown",
   "metadata": {},
   "source": [
    "Don't Know"
   ]
  },
  {
   "cell_type": "code",
   "execution_count": 43,
   "metadata": {},
   "outputs": [],
   "source": [
    "dk_mask = radio_lessons.iloc[:,2].str.contains(\"don't know\", na=False) | \\\n",
    "              radio_lessons.iloc[:,2].str.contains(\"no know\", na=False) | \\\n",
    "              (radio_lessons.iloc[:,2].str.contains(\"idea\", na=False)) | \\\n",
    "              (radio_lessons.iloc[:,2].str.contains(\"nothing\", na=False))"
   ]
  },
  {
   "cell_type": "code",
   "execution_count": 44,
   "metadata": {},
   "outputs": [],
   "source": [
    "# radio_lessons[dk_mask].iloc[:,2].value_counts()"
   ]
  },
  {
   "cell_type": "markdown",
   "metadata": {},
   "source": [
    "Group 'Good' with 'Very Good' and 'Not good' with 'Fair'"
   ]
  },
  {
   "cell_type": "code",
   "execution_count": 45,
   "metadata": {},
   "outputs": [],
   "source": [
    "# fair + not good vs \n",
    "radio_lessons_good = radio_lessons[~dk_mask & (radio_lessons.iloc[:,1] == 'Good')].iloc[:,2]"
   ]
  },
  {
   "cell_type": "code",
   "execution_count": 46,
   "metadata": {},
   "outputs": [],
   "source": [
    "radio_lessons_fair = radio_lessons[~dk_mask & (radio_lessons.iloc[:,1] == 'Fair')].iloc[:,2]"
   ]
  },
  {
   "cell_type": "code",
   "execution_count": 47,
   "metadata": {},
   "outputs": [],
   "source": [
    "radio_lessons_vgood = radio_lessons[~dk_mask & (radio_lessons.iloc[:,1] == 'Very good')].iloc[:,2]"
   ]
  },
  {
   "cell_type": "code",
   "execution_count": 48,
   "metadata": {},
   "outputs": [],
   "source": [
    "radio_lessons_ngood = radio_lessons[~dk_mask & (radio_lessons.iloc[:,1] == 'Not good')].iloc[:,2]"
   ]
  },
  {
   "cell_type": "markdown",
   "metadata": {},
   "source": [
    "#### Trigram Vectorization\n",
    "Radio Lessons Good Quality"
   ]
  },
  {
   "cell_type": "code",
   "execution_count": 49,
   "metadata": {},
   "outputs": [
    {
     "name": "stdout",
     "output_type": "stream",
     "text": [
      "1138 words in dictionary.\n"
     ]
    }
   ],
   "source": [
    "radio_lessons_good_tri = bow_vectorization(data = radio_lessons_good.dropna(),\n",
    "                                          index = radio_lessons_good.dropna().index,\n",
    "                                          n_grams=(3, 3))"
   ]
  },
  {
   "cell_type": "code",
   "execution_count": 50,
   "metadata": {},
   "outputs": [],
   "source": [
    "#radio_lessons_good_tri.sum().sort_values(ascending=False)[:30]"
   ]
  },
  {
   "cell_type": "markdown",
   "metadata": {},
   "source": [
    "#### Group Trigrams\n",
    "Trigrams about the coverage"
   ]
  },
  {
   "cell_type": "code",
   "execution_count": 51,
   "metadata": {},
   "outputs": [
    {
     "name": "stdout",
     "output_type": "stream",
     "text": [
      "222\n"
     ]
    }
   ],
   "source": [
    "coverage_1 = search(['area','cover','extension','tune','network','station','access','rural','fm','power','local'], \\\n",
    "                  'provis', radio_lessons_good_tri.columns)\n",
    "print(len(coverage_1))"
   ]
  },
  {
   "cell_type": "code",
   "execution_count": 52,
   "metadata": {},
   "outputs": [
    {
     "name": "stdout",
     "output_type": "stream",
     "text": [
      "199\n"
     ]
    }
   ],
   "source": [
    "coverage_2 = search(['area','cover','extension','tune','network','station','access','rural','fm','power','local'], \\\n",
    "                  'exten', radio_lessons_good_tri.columns)\n",
    "print(len(coverage_2))"
   ]
  },
  {
   "cell_type": "code",
   "execution_count": 53,
   "metadata": {},
   "outputs": [
    {
     "name": "stdout",
     "output_type": "stream",
     "text": [
      "236\n"
     ]
    }
   ],
   "source": [
    "coverage_3 = search(['area','cover','extension','tune','network','station','access','rural','fm','power','local'], \\\n",
    "                  'avail', radio_lessons_good_tri.columns)\n",
    "print(len(coverage_3))"
   ]
  },
  {
   "cell_type": "code",
   "execution_count": 54,
   "metadata": {},
   "outputs": [
    {
     "name": "stdout",
     "output_type": "stream",
     "text": [
      "204\n"
     ]
    }
   ],
   "source": [
    "coverage_4 = search(['area','cover','extension','tune','network','station','access','rural','fm','power','local'], \\\n",
    "                  'local', radio_lessons_good_tri.columns)\n",
    "print(len(coverage_4))"
   ]
  },
  {
   "cell_type": "code",
   "execution_count": 55,
   "metadata": {},
   "outputs": [
    {
     "data": {
      "text/plain": [
       "199"
      ]
     },
     "execution_count": 55,
     "metadata": {},
     "output_type": "execute_result"
    }
   ],
   "source": [
    "coverage = list(set(coverage_1 + coverage_2 + coverage_3 + coverage_4))\n",
    "len(coverage)"
   ]
  },
  {
   "cell_type": "markdown",
   "metadata": {},
   "source": [
    "Trigrams about the provision of radios"
   ]
  },
  {
   "cell_type": "code",
   "execution_count": 56,
   "metadata": {},
   "outputs": [
    {
     "data": {
      "text/plain": [
       "27"
      ]
     },
     "execution_count": 56,
     "metadata": {},
     "output_type": "execute_result"
    }
   ],
   "source": [
    "power = search(['powe','energ'],None, radio_lessons_good_tri.columns)\n",
    "len(power)"
   ]
  },
  {
   "cell_type": "code",
   "execution_count": 57,
   "metadata": {},
   "outputs": [
    {
     "data": {
      "text/plain": [
       "160"
      ]
     },
     "execution_count": 57,
     "metadata": {},
     "output_type": "execute_result"
    }
   ],
   "source": [
    "provision = search(['provis','dist','provid','everyone'], None, radio_lessons_good_tri.columns)\n",
    "len(provision)"
   ]
  },
  {
   "cell_type": "code",
   "execution_count": 58,
   "metadata": {},
   "outputs": [
    {
     "data": {
      "text/plain": [
       "12"
      ]
     },
     "execution_count": 58,
     "metadata": {},
     "output_type": "execute_result"
    }
   ],
   "source": [
    "tv = search(['video', 'tv', 'tele'], None, radio_lessons_good_tri.columns)\n",
    "len(tv)"
   ]
  },
  {
   "cell_type": "markdown",
   "metadata": {},
   "source": [
    "Trigrams about content"
   ]
  },
  {
   "cell_type": "code",
   "execution_count": 59,
   "metadata": {},
   "outputs": [
    {
     "data": {
      "text/plain": [
       "224"
      ]
     },
     "execution_count": 59,
     "metadata": {},
     "output_type": "execute_result"
    }
   ],
   "source": [
    "content = search(['subject', 'time', 'guid'], None, radio_lessons_good_tri.columns)\n",
    "len(content)"
   ]
  },
  {
   "cell_type": "markdown",
   "metadata": {},
   "source": [
    "Trigrams about speech"
   ]
  },
  {
   "cell_type": "code",
   "execution_count": 60,
   "metadata": {},
   "outputs": [
    {
     "data": {
      "text/plain": [
       "36"
      ]
     },
     "execution_count": 60,
     "metadata": {},
     "output_type": "execute_result"
    }
   ],
   "source": [
    "language = search(['language','trans','arab', 'pronunc'], None, radio_lessons_good_tri.columns)\n",
    "len(language)"
   ]
  },
  {
   "cell_type": "code",
   "execution_count": 61,
   "metadata": {},
   "outputs": [
    {
     "data": {
      "text/plain": [
       "27"
      ]
     },
     "execution_count": 61,
     "metadata": {},
     "output_type": "execute_result"
    }
   ],
   "source": [
    "speed = search(['speed','unders'], None, radio_lessons_good_tri.columns)\n",
    "len(speed)"
   ]
  },
  {
   "cell_type": "markdown",
   "metadata": {},
   "source": [
    "Trigrams about teaching"
   ]
  },
  {
   "cell_type": "code",
   "execution_count": 62,
   "metadata": {},
   "outputs": [
    {
     "data": {
      "text/plain": [
       "172"
      ]
     },
     "execution_count": 62,
     "metadata": {},
     "output_type": "execute_result"
    }
   ],
   "source": [
    "teaching = search(['guide', 'support', 'teacher', 'follow', 'expla', 'slow', 'question'], None, radio_lessons_good_tri.columns)\n",
    "len(teaching)"
   ]
  },
  {
   "cell_type": "markdown",
   "metadata": {},
   "source": [
    "Tigrams about school re-opening"
   ]
  },
  {
   "cell_type": "code",
   "execution_count": 63,
   "metadata": {},
   "outputs": [
    {
     "data": {
      "text/plain": [
       "19"
      ]
     },
     "execution_count": 63,
     "metadata": {},
     "output_type": "execute_result"
    }
   ],
   "source": [
    "school = search(['reopen', 'open'], None, radio_lessons_good_tri.columns)\n",
    "len(school)"
   ]
  },
  {
   "cell_type": "markdown",
   "metadata": {},
   "source": [
    "Tigrams about time (to listen, of broadcast)"
   ]
  },
  {
   "cell_type": "code",
   "execution_count": 64,
   "metadata": {},
   "outputs": [
    {
     "data": {
      "text/plain": [
       "202"
      ]
     },
     "execution_count": 64,
     "metadata": {},
     "output_type": "execute_result"
    }
   ],
   "source": [
    "time = search(['time', 'repeat', 'timing', 'tmie', 'freq'], None, radio_lessons_good_tri.columns)\n",
    "len(time)"
   ]
  },
  {
   "cell_type": "markdown",
   "metadata": {},
   "source": [
    "Don't Know (DK)"
   ]
  },
  {
   "cell_type": "code",
   "execution_count": 65,
   "metadata": {},
   "outputs": [
    {
     "data": {
      "text/plain": [
       "2"
      ]
     },
     "execution_count": 65,
     "metadata": {},
     "output_type": "execute_result"
    }
   ],
   "source": [
    "dk = search([\"don't\", 'idea', 'nothing'], None, radio_lessons_good_tri.columns)\n",
    "len(dk)"
   ]
  },
  {
   "cell_type": "markdown",
   "metadata": {},
   "source": [
    "Count one per concept apperance (not word)"
   ]
  },
  {
   "cell_type": "code",
   "execution_count": 66,
   "metadata": {},
   "outputs": [],
   "source": [
    "cover = radio_lessons_good_tri[coverage]"
   ]
  },
  {
   "cell_type": "code",
   "execution_count": 67,
   "metadata": {},
   "outputs": [],
   "source": [
    "r_provision = radio_lessons_good_tri[list(set(power + provision + tv))]"
   ]
  },
  {
   "cell_type": "code",
   "execution_count": 68,
   "metadata": {},
   "outputs": [],
   "source": [
    "l_content = radio_lessons_good_tri[content]"
   ]
  },
  {
   "cell_type": "code",
   "execution_count": 69,
   "metadata": {},
   "outputs": [],
   "source": [
    "teach = radio_lessons_good_tri[teaching]"
   ]
  },
  {
   "cell_type": "code",
   "execution_count": 70,
   "metadata": {},
   "outputs": [],
   "source": [
    "r_time = radio_lessons_good_tri[time]"
   ]
  },
  {
   "cell_type": "code",
   "execution_count": 71,
   "metadata": {},
   "outputs": [],
   "source": [
    "l_speech = radio_lessons_good_tri[list(set(language +  speed))]"
   ]
  },
  {
   "cell_type": "markdown",
   "metadata": {},
   "source": [
    "The rest of the Trigrams"
   ]
  },
  {
   "cell_type": "code",
   "execution_count": 72,
   "metadata": {},
   "outputs": [],
   "source": [
    "other = radio_lessons_good_tri.drop(cover.columns.to_list() + \\\n",
    "                                    l_content.columns.to_list() + \\\n",
    "                                    r_provision.columns.to_list() + \\\n",
    "                                    teach.columns.to_list() + \\\n",
    "                                    r_time.columns.to_list() + \\\n",
    "                                    l_speech.columns.to_list(), axis=1)"
   ]
  },
  {
   "cell_type": "code",
   "execution_count": 73,
   "metadata": {},
   "outputs": [
    {
     "data": {
      "text/plain": [
       "426"
      ]
     },
     "execution_count": 73,
     "metadata": {},
     "output_type": "execute_result"
    }
   ],
   "source": [
    "test_other = radio_lessons_good_tri.drop(cover.columns.to_list() + \\\n",
    "                                    l_content.columns.to_list() + \\\n",
    "                                    r_provision.columns.to_list() + \\\n",
    "                                    teach.columns.to_list() + \\\n",
    "                                    r_time.columns.to_list() + \\\n",
    "                                    l_speech.columns.to_list(), axis=1)\n",
    "len(test_other.columns.to_list())"
   ]
  },
  {
   "cell_type": "code",
   "execution_count": 74,
   "metadata": {},
   "outputs": [],
   "source": [
    "cover = cover.sum(axis=1)\n",
    "content = l_content.sum(axis=1)\n",
    "speech = l_speech.sum(axis=1)\n",
    "time = r_time.sum(axis=1)\n",
    "provision = r_provision.sum(axis=1)\n",
    "teach = teach.sum(axis=1)\n",
    "other = other.sum(axis=1)"
   ]
  },
  {
   "cell_type": "code",
   "execution_count": 75,
   "metadata": {},
   "outputs": [],
   "source": [
    "cover[cover != 0] = 1\n",
    "content[content != 0] = 1\n",
    "speech[speech != 0] = 1\n",
    "time[time != 0] = 1\n",
    "provision[provision != 0] = 1\n",
    "teach[teach != 0] = 1\n",
    "other[other != 0] = 1"
   ]
  },
  {
   "cell_type": "code",
   "execution_count": 86,
   "metadata": {},
   "outputs": [],
   "source": [
    "coverage = pd.DataFrame(np.zeros(radio_lessons.shape[0]), dtype=int, columns=['coverage'])\n",
    "coverage.loc[cover[cover == 1].index,:] = 1\n",
    "\n",
    "prov = pd.DataFrame(np.zeros(radio_lessons.shape[0]), dtype=int, columns=['radio distribution'])\n",
    "prov.loc[provision[provision == 1].index,:] = 1\n",
    "\n",
    "cont = pd.DataFrame(np.zeros(radio_lessons.shape[0]), dtype=int, columns=['content'])\n",
    "cont.loc[content[content == 1].index,:] = 1\n",
    "\n",
    "form_speech = pd.DataFrame(np.zeros(radio_lessons.shape[0]), dtype=int, columns=['speech understanding'])\n",
    "form_speech.loc[speech[speech == 1].index,:] = 1\n",
    "\n",
    "teaching = pd.DataFrame(np.zeros(radio_lessons.shape[0]), dtype=int, columns=['guidance and teaching'])\n",
    "teaching.loc[teach[teach == 1].index,:] = 1\n",
    "\n",
    "timing = pd.DataFrame(np.zeros(radio_lessons.shape[0]), dtype=int, columns=['listening time'])\n",
    "timing.loc[time[time == 1].index,:] = 1\n",
    "\n",
    "other_w = pd.DataFrame(np.zeros(radio_lessons.shape[0]), dtype=int, columns=['other topic'])\n",
    "other_w.loc[other[other == 1].index,:] = 1"
   ]
  },
  {
   "cell_type": "code",
   "execution_count": 87,
   "metadata": {},
   "outputs": [],
   "source": [
    "radio_lessons_good_group = pd.concat([coverage, prov, cont, cont, form_speech, teaching, timing, other_w], axis=1)"
   ]
  },
  {
   "cell_type": "markdown",
   "metadata": {},
   "source": [
    "Visualization"
   ]
  },
  {
   "cell_type": "code",
   "execution_count": 88,
   "metadata": {},
   "outputs": [
    {
     "data": {
      "image/png": "[encoded data removed]",
      "text/plain": [
       "<Figure size 720x360 with 1 Axes>"
      ]
     },
     "metadata": {
      "needs_background": "light"
     },
     "output_type": "display_data"
    }
   ],
   "source": [
    "plt.figure(figsize=(10,5))\n",
    "plt.bar(radio_lessons_good_group.columns, radio_lessons_good_group.sum())\n",
    "plt.title('What is the quality of the radio lessons? How can the radio lessons be improved?')\n",
    "plt.xticks(rotation=45, ha='right')\n",
    "plt.show()"
   ]
  },
  {
   "cell_type": "code",
   "execution_count": 79,
   "metadata": {},
   "outputs": [
    {
     "data": {
      "text/plain": [
       "0.19484702093397746"
      ]
     },
     "execution_count": 79,
     "metadata": {},
     "output_type": "execute_result"
    }
   ],
   "source": [
    "radio_lessons_good_group.loc[:,'coverage'].sum() / radio_lessons_good.shape[0]"
   ]
  },
  {
   "cell_type": "code",
   "execution_count": 80,
   "metadata": {},
   "outputs": [
    {
     "data": {
      "text/plain": [
       "0.214170692431562"
      ]
     },
     "execution_count": 80,
     "metadata": {},
     "output_type": "execute_result"
    }
   ],
   "source": [
    "radio_lessons_good_group.loc[:,'radio distribution'].sum() / radio_lessons_good.shape[0]"
   ]
  },
  {
   "cell_type": "code",
   "execution_count": 81,
   "metadata": {},
   "outputs": [
    {
     "data": {
      "text/plain": [
       "content    0.183575\n",
       "content    0.183575\n",
       "dtype: float64"
      ]
     },
     "execution_count": 81,
     "metadata": {},
     "output_type": "execute_result"
    }
   ],
   "source": [
    "radio_lessons_good_group.loc[:,'content'].sum() / radio_lessons_good.shape[0]"
   ]
  },
  {
   "cell_type": "code",
   "execution_count": 82,
   "metadata": {},
   "outputs": [
    {
     "data": {
      "text/plain": [
       "0.057971014492753624"
      ]
     },
     "execution_count": 82,
     "metadata": {},
     "output_type": "execute_result"
    }
   ],
   "source": [
    "radio_lessons_good_group.loc[:,'speech understanding'].sum() / radio_lessons_good.shape[0]"
   ]
  },
  {
   "cell_type": "code",
   "execution_count": 84,
   "metadata": {},
   "outputs": [
    {
     "data": {
      "text/plain": [
       "0.0998389694041868"
      ]
     },
     "execution_count": 84,
     "metadata": {},
     "output_type": "execute_result"
    }
   ],
   "source": [
    "radio_lessons_good_group.loc[:,'guidance and teaching'].sum() / radio_lessons_good.shape[0]"
   ]
  },
  {
   "cell_type": "code",
   "execution_count": 85,
   "metadata": {},
   "outputs": [
    {
     "data": {
      "text/plain": [
       "0.17391304347826086"
      ]
     },
     "execution_count": 85,
     "metadata": {},
     "output_type": "execute_result"
    }
   ],
   "source": [
    "radio_lessons_good_group.loc[:,'listening time'].sum() / radio_lessons_good.shape[0]"
   ]
  },
  {
   "cell_type": "markdown",
   "metadata": {},
   "source": [
    "#### Trigram Vectorization\n",
    "Radio Lessons Fair Quality"
   ]
  },
  {
   "cell_type": "code",
   "execution_count": 89,
   "metadata": {},
   "outputs": [
    {
     "name": "stdout",
     "output_type": "stream",
     "text": [
      "750 words in dictionary.\n"
     ]
    }
   ],
   "source": [
    "radio_lessons_fair_tri = bow_vectorization(data = radio_lessons_fair.dropna(),\n",
    "                                          index = radio_lessons_fair.dropna().index,\n",
    "                                          n_grams=(3, 3))"
   ]
  },
  {
   "cell_type": "code",
   "execution_count": 90,
   "metadata": {},
   "outputs": [],
   "source": [
    "# radio_lessons_fair_tri.sum().sort_values(ascending=False)[:30]"
   ]
  },
  {
   "cell_type": "markdown",
   "metadata": {},
   "source": [
    "#### Group Trigrams\n",
    "Trigrams about the coverage"
   ]
  },
  {
   "cell_type": "code",
   "execution_count": 91,
   "metadata": {},
   "outputs": [
    {
     "name": "stdout",
     "output_type": "stream",
     "text": [
      "79\n"
     ]
    }
   ],
   "source": [
    "coverage_1 = search(['area','cover','extension','tune','network','station','access','rural','fm','power'], \\\n",
    "                  'provis', radio_lessons_fair_tri.columns)\n",
    "print(len(coverage_1))"
   ]
  },
  {
   "cell_type": "code",
   "execution_count": 92,
   "metadata": {},
   "outputs": [
    {
     "name": "stdout",
     "output_type": "stream",
     "text": [
      "75\n"
     ]
    }
   ],
   "source": [
    "coverage_2 = search(['area','cover','extension','tune','network','station','access','rural','fm','power'], \\\n",
    "                  'exten', radio_lessons_fair_tri.columns)\n",
    "print(len(coverage_2))"
   ]
  },
  {
   "cell_type": "code",
   "execution_count": 93,
   "metadata": {},
   "outputs": [
    {
     "name": "stdout",
     "output_type": "stream",
     "text": [
      "80\n"
     ]
    }
   ],
   "source": [
    "coverage_3 = search(['area','cover','extension','tune','network','station','access','rural','fm','power'], \\\n",
    "                  'avail', radio_lessons_fair_tri.columns)\n",
    "print(len(coverage_3))"
   ]
  },
  {
   "cell_type": "code",
   "execution_count": 94,
   "metadata": {},
   "outputs": [
    {
     "name": "stdout",
     "output_type": "stream",
     "text": [
      "79\n"
     ]
    }
   ],
   "source": [
    "coverage_4 = search(['area','cover','extension','tune','network','station','access','rural','fm','power'], \\\n",
    "                  'local', radio_lessons_fair_tri.columns)\n",
    "print(len(coverage_4))"
   ]
  },
  {
   "cell_type": "code",
   "execution_count": 95,
   "metadata": {},
   "outputs": [
    {
     "data": {
      "text/plain": [
       "74"
      ]
     },
     "execution_count": 95,
     "metadata": {},
     "output_type": "execute_result"
    }
   ],
   "source": [
    "coverage = list(set(coverage_1 + coverage_2 + coverage_3 + coverage_4))\n",
    "len(coverage)"
   ]
  },
  {
   "cell_type": "markdown",
   "metadata": {},
   "source": [
    "Trigrams about the provision of radios"
   ]
  },
  {
   "cell_type": "code",
   "execution_count": 96,
   "metadata": {},
   "outputs": [
    {
     "data": {
      "text/plain": [
       "6"
      ]
     },
     "execution_count": 96,
     "metadata": {},
     "output_type": "execute_result"
    }
   ],
   "source": [
    "power = search(['powe','energ'],None, radio_lessons_fair_tri.columns)\n",
    "len(power)"
   ]
  },
  {
   "cell_type": "code",
   "execution_count": 97,
   "metadata": {},
   "outputs": [
    {
     "data": {
      "text/plain": [
       "102"
      ]
     },
     "execution_count": 97,
     "metadata": {},
     "output_type": "execute_result"
    }
   ],
   "source": [
    "provision = search(['provis','dist','provid','everyone'], None, radio_lessons_fair_tri.columns)\n",
    "len(provision)"
   ]
  },
  {
   "cell_type": "code",
   "execution_count": 98,
   "metadata": {},
   "outputs": [
    {
     "data": {
      "text/plain": [
       "8"
      ]
     },
     "execution_count": 98,
     "metadata": {},
     "output_type": "execute_result"
    }
   ],
   "source": [
    "tv = search(['video', 'tv', 'tele'], None, radio_lessons_fair_tri.columns)\n",
    "len(tv)"
   ]
  },
  {
   "cell_type": "markdown",
   "metadata": {},
   "source": [
    "Trigrams about content"
   ]
  },
  {
   "cell_type": "code",
   "execution_count": 99,
   "metadata": {},
   "outputs": [
    {
     "data": {
      "text/plain": [
       "83"
      ]
     },
     "execution_count": 99,
     "metadata": {},
     "output_type": "execute_result"
    }
   ],
   "source": [
    "content = search(['subject', 'time', 'guid'], None, radio_lessons_fair_tri.columns)\n",
    "len(content)"
   ]
  },
  {
   "cell_type": "markdown",
   "metadata": {},
   "source": [
    "Trigrams about speech"
   ]
  },
  {
   "cell_type": "code",
   "execution_count": 100,
   "metadata": {},
   "outputs": [
    {
     "data": {
      "text/plain": [
       "29"
      ]
     },
     "execution_count": 100,
     "metadata": {},
     "output_type": "execute_result"
    }
   ],
   "source": [
    "language = search(['language','trans','arab', 'pronunc'], None, radio_lessons_fair_tri.columns)\n",
    "len(language)"
   ]
  },
  {
   "cell_type": "code",
   "execution_count": 101,
   "metadata": {},
   "outputs": [
    {
     "data": {
      "text/plain": [
       "23"
      ]
     },
     "execution_count": 101,
     "metadata": {},
     "output_type": "execute_result"
    }
   ],
   "source": [
    "speed = search(['speed','unders'], None, radio_lessons_fair_tri.columns)\n",
    "len(speed)"
   ]
  },
  {
   "cell_type": "markdown",
   "metadata": {},
   "source": [
    "Trigrams about teaching"
   ]
  },
  {
   "cell_type": "code",
   "execution_count": 102,
   "metadata": {},
   "outputs": [
    {
     "data": {
      "text/plain": [
       "102"
      ]
     },
     "execution_count": 102,
     "metadata": {},
     "output_type": "execute_result"
    }
   ],
   "source": [
    "teaching = search(['guide', 'support', 'teacher', 'follow', 'expla', 'slow', 'question'], None, radio_lessons_fair_tri.columns)\n",
    "len(teaching)"
   ]
  },
  {
   "cell_type": "markdown",
   "metadata": {},
   "source": [
    "Tigrams about school re-opening"
   ]
  },
  {
   "cell_type": "code",
   "execution_count": 103,
   "metadata": {},
   "outputs": [
    {
     "data": {
      "text/plain": [
       "37"
      ]
     },
     "execution_count": 103,
     "metadata": {},
     "output_type": "execute_result"
    }
   ],
   "source": [
    "school = search(['reopen', 'open'], None, radio_lessons_fair_tri.columns)\n",
    "len(school)"
   ]
  },
  {
   "cell_type": "markdown",
   "metadata": {},
   "source": [
    "Tigrams about time (to listen, of broadcast)"
   ]
  },
  {
   "cell_type": "code",
   "execution_count": 104,
   "metadata": {},
   "outputs": [
    {
     "data": {
      "text/plain": [
       "94"
      ]
     },
     "execution_count": 104,
     "metadata": {},
     "output_type": "execute_result"
    }
   ],
   "source": [
    "time = search(['time', 'repeat', 'timing', 'tmie', 'freq'], None, radio_lessons_fair_tri.columns)\n",
    "len(time)"
   ]
  },
  {
   "cell_type": "markdown",
   "metadata": {},
   "source": [
    "Don't Know (DK)"
   ]
  },
  {
   "cell_type": "code",
   "execution_count": 105,
   "metadata": {},
   "outputs": [
    {
     "data": {
      "text/plain": [
       "2"
      ]
     },
     "execution_count": 105,
     "metadata": {},
     "output_type": "execute_result"
    }
   ],
   "source": [
    "dk = search([\"don't\", 'idea', 'nothing'], None, radio_lessons_fair_tri.columns)\n",
    "len(dk)"
   ]
  },
  {
   "cell_type": "markdown",
   "metadata": {},
   "source": [
    "Count one per concept apperance (not word)"
   ]
  },
  {
   "cell_type": "code",
   "execution_count": 106,
   "metadata": {},
   "outputs": [],
   "source": [
    "cover = radio_lessons_fair_tri[coverage]"
   ]
  },
  {
   "cell_type": "code",
   "execution_count": 107,
   "metadata": {},
   "outputs": [],
   "source": [
    "r_provision = radio_lessons_fair_tri[list(set(power + provision + tv))]"
   ]
  },
  {
   "cell_type": "code",
   "execution_count": 108,
   "metadata": {},
   "outputs": [],
   "source": [
    "l_content = radio_lessons_fair_tri[content]"
   ]
  },
  {
   "cell_type": "code",
   "execution_count": 109,
   "metadata": {},
   "outputs": [],
   "source": [
    "teach = radio_lessons_fair_tri[teaching]"
   ]
  },
  {
   "cell_type": "code",
   "execution_count": 110,
   "metadata": {},
   "outputs": [],
   "source": [
    "r_time = radio_lessons_fair_tri[time]"
   ]
  },
  {
   "cell_type": "code",
   "execution_count": 111,
   "metadata": {},
   "outputs": [],
   "source": [
    "l_speech = radio_lessons_fair_tri[list(set(language +  speed))]"
   ]
  },
  {
   "cell_type": "markdown",
   "metadata": {},
   "source": [
    "The rest of the Trigrams"
   ]
  },
  {
   "cell_type": "code",
   "execution_count": 112,
   "metadata": {},
   "outputs": [],
   "source": [
    "other = radio_lessons_fair_tri.drop(cover.columns.to_list() + \\\n",
    "                                    l_content.columns.to_list() + \\\n",
    "                                    r_provision.columns.to_list() + \\\n",
    "                                    teach.columns.to_list() + \\\n",
    "                                    r_time.columns.to_list() + \\\n",
    "                                    l_speech.columns.to_list(), axis=1)"
   ]
  },
  {
   "cell_type": "code",
   "execution_count": 113,
   "metadata": {},
   "outputs": [
    {
     "data": {
      "text/plain": [
       "359"
      ]
     },
     "execution_count": 113,
     "metadata": {},
     "output_type": "execute_result"
    }
   ],
   "source": [
    "test_other = radio_lessons_fair_tri.drop(cover.columns.to_list() + \\\n",
    "                                    l_content.columns.to_list() + \\\n",
    "                                    r_provision.columns.to_list() + \\\n",
    "                                    teach.columns.to_list() + \\\n",
    "                                    r_time.columns.to_list() + \\\n",
    "                                    l_speech.columns.to_list(), axis=1)\n",
    "len(test_other.columns.to_list())"
   ]
  },
  {
   "cell_type": "code",
   "execution_count": 114,
   "metadata": {},
   "outputs": [],
   "source": [
    "cover = cover.sum(axis=1)\n",
    "content = l_content.sum(axis=1)\n",
    "speech = l_speech.sum(axis=1)\n",
    "time = r_time.sum(axis=1)\n",
    "provision = r_provision.sum(axis=1)\n",
    "teach = teach.sum(axis=1)\n",
    "other = other.sum(axis=1)"
   ]
  },
  {
   "cell_type": "code",
   "execution_count": 115,
   "metadata": {},
   "outputs": [],
   "source": [
    "cover[cover != 0] = 1\n",
    "content[content != 0] = 1\n",
    "speech[speech != 0] = 1\n",
    "time[time != 0] = 1\n",
    "provision[provision != 0] = 1\n",
    "teach[teach != 0] = 1\n",
    "other[other != 0] = 1"
   ]
  },
  {
   "cell_type": "code",
   "execution_count": 116,
   "metadata": {},
   "outputs": [],
   "source": [
    "coverage = pd.DataFrame(np.zeros(radio_lessons.shape[0]), dtype=int, columns=['coverage'])\n",
    "coverage.loc[cover[cover == 1].index,:] = 1\n",
    "\n",
    "prov = pd.DataFrame(np.zeros(radio_lessons.shape[0]), dtype=int, columns=['radio distribution'])\n",
    "prov.loc[provision[provision == 1].index,:] = 1\n",
    "\n",
    "cont = pd.DataFrame(np.zeros(radio_lessons.shape[0]), dtype=int, columns=['content'])\n",
    "cont.loc[content[content == 1].index,:] = 1\n",
    "\n",
    "form_speech = pd.DataFrame(np.zeros(radio_lessons.shape[0]), dtype=int, columns=['speech understanding'])\n",
    "form_speech.loc[speech[speech == 1].index,:] = 1\n",
    "\n",
    "teaching = pd.DataFrame(np.zeros(radio_lessons.shape[0]), dtype=int, columns=['guidance and teaching'])\n",
    "teaching.loc[teach[teach == 1].index,:] = 1\n",
    "\n",
    "timing = pd.DataFrame(np.zeros(radio_lessons.shape[0]), dtype=int, columns=['listening time'])\n",
    "timing.loc[time[time == 1].index,:] = 1\n",
    "\n",
    "other_w = pd.DataFrame(np.zeros(radio_lessons.shape[0]), dtype=int, columns=['other topic'])\n",
    "other_w.loc[other[other == 1].index,:] = 1"
   ]
  },
  {
   "cell_type": "code",
   "execution_count": 117,
   "metadata": {},
   "outputs": [],
   "source": [
    "radio_lessons_fair_group = pd.concat([coverage, prov, cont, cont, form_speech, teaching, timing, other_w], axis=1)"
   ]
  },
  {
   "cell_type": "markdown",
   "metadata": {},
   "source": [
    "Visualization"
   ]
  },
  {
   "cell_type": "code",
   "execution_count": 118,
   "metadata": {},
   "outputs": [
    {
     "data": {
      "image/png": "[encoded data removed]",
      "text/plain": [
       "<Figure size 720x360 with 1 Axes>"
      ]
     },
     "metadata": {
      "needs_background": "light"
     },
     "output_type": "display_data"
    }
   ],
   "source": [
    "plt.figure(figsize=(10,5))\n",
    "plt.bar(radio_lessons_fair_group.columns, radio_lessons_fair_group.sum())\n",
    "plt.title('What is the quality of the radio lessons? How can the radio lessons be improved?')\n",
    "plt.xticks(rotation=45, ha='right')\n",
    "plt.show()"
   ]
  },
  {
   "cell_type": "code",
   "execution_count": 125,
   "metadata": {},
   "outputs": [
    {
     "data": {
      "text/plain": [
       "0.09736842105263158"
      ]
     },
     "execution_count": 125,
     "metadata": {},
     "output_type": "execute_result"
    }
   ],
   "source": [
    "radio_lessons_fair_group.loc[:,'coverage'].sum() / radio_lessons_fair.shape[0]"
   ]
  },
  {
   "cell_type": "code",
   "execution_count": 126,
   "metadata": {},
   "outputs": [
    {
     "data": {
      "text/plain": [
       "0.25"
      ]
     },
     "execution_count": 126,
     "metadata": {},
     "output_type": "execute_result"
    }
   ],
   "source": [
    "radio_lessons_fair_group.loc[:,'radio distribution'].sum() / radio_lessons_fair.shape[0]"
   ]
  },
  {
   "cell_type": "code",
   "execution_count": 127,
   "metadata": {},
   "outputs": [
    {
     "data": {
      "text/plain": [
       "content    0.147368\n",
       "content    0.147368\n",
       "dtype: float64"
      ]
     },
     "execution_count": 127,
     "metadata": {},
     "output_type": "execute_result"
    }
   ],
   "source": [
    "radio_lessons_fair_group.loc[:,'content'].sum() / radio_lessons_fair.shape[0]"
   ]
  },
  {
   "cell_type": "code",
   "execution_count": 128,
   "metadata": {},
   "outputs": [
    {
     "data": {
      "text/plain": [
       "0.06578947368421052"
      ]
     },
     "execution_count": 128,
     "metadata": {},
     "output_type": "execute_result"
    }
   ],
   "source": [
    "radio_lessons_fair_group.loc[:,'speech understanding'].sum() / radio_lessons_fair.shape[0]"
   ]
  },
  {
   "cell_type": "code",
   "execution_count": 129,
   "metadata": {},
   "outputs": [
    {
     "data": {
      "text/plain": [
       "0.11315789473684211"
      ]
     },
     "execution_count": 129,
     "metadata": {},
     "output_type": "execute_result"
    }
   ],
   "source": [
    "radio_lessons_fair_group.loc[:,'guidance and teaching'].sum() / radio_lessons_fair.shape[0]"
   ]
  },
  {
   "cell_type": "code",
   "execution_count": 130,
   "metadata": {},
   "outputs": [
    {
     "data": {
      "text/plain": [
       "0.09339774557165861"
      ]
     },
     "execution_count": 130,
     "metadata": {},
     "output_type": "execute_result"
    }
   ],
   "source": [
    "radio_lessons_fair_group.loc[:,'listening time'].sum() / radio_lessons_good.shape[0]"
   ]
  },
  {
   "cell_type": "markdown",
   "metadata": {},
   "source": [
    "#### Trigram Vectorization\n",
    "Radio Lessons Very Good Quality"
   ]
  },
  {
   "cell_type": "code",
   "execution_count": 131,
   "metadata": {},
   "outputs": [
    {
     "name": "stdout",
     "output_type": "stream",
     "text": [
      "300 words in dictionary.\n"
     ]
    }
   ],
   "source": [
    "radio_lessons_vgood_tri = bow_vectorization(data = radio_lessons_vgood.dropna(),\n",
    "                                          index = radio_lessons_vgood.dropna().index,\n",
    "                                          n_grams=(3, 3))"
   ]
  },
  {
   "cell_type": "code",
   "execution_count": 132,
   "metadata": {},
   "outputs": [],
   "source": [
    "# radio_lessons_fair_tri.sum().sort_values(ascending=False)[:30]"
   ]
  },
  {
   "cell_type": "markdown",
   "metadata": {},
   "source": [
    "#### Group Trigrams\n",
    "Trigrams about the coverage"
   ]
  },
  {
   "cell_type": "code",
   "execution_count": 133,
   "metadata": {},
   "outputs": [
    {
     "name": "stdout",
     "output_type": "stream",
     "text": [
      "30\n"
     ]
    }
   ],
   "source": [
    "coverage_1 = search(['area','cover','extension','tune','network','station','access','rural','fm','power'], \\\n",
    "                  'provis', radio_lessons_vgood_tri.columns)\n",
    "print(len(coverage_1))"
   ]
  },
  {
   "cell_type": "code",
   "execution_count": 134,
   "metadata": {},
   "outputs": [
    {
     "name": "stdout",
     "output_type": "stream",
     "text": [
      "25\n"
     ]
    }
   ],
   "source": [
    "coverage_2 = search(['area','cover','extension','tune','network','station','access','rural','fm','power'], \\\n",
    "                  'exten', radio_lessons_vgood_tri.columns)\n",
    "print(len(coverage_2))"
   ]
  },
  {
   "cell_type": "code",
   "execution_count": 135,
   "metadata": {},
   "outputs": [
    {
     "name": "stdout",
     "output_type": "stream",
     "text": [
      "30\n"
     ]
    }
   ],
   "source": [
    "coverage_3 = search(['area','cover','extension','tune','network','station','access','rural','fm','power'], \\\n",
    "                  'avail', radio_lessons_vgood_tri.columns)\n",
    "print(len(coverage_3))"
   ]
  },
  {
   "cell_type": "code",
   "execution_count": 136,
   "metadata": {},
   "outputs": [
    {
     "name": "stdout",
     "output_type": "stream",
     "text": [
      "31\n"
     ]
    }
   ],
   "source": [
    "coverage_4 = search(['area','cover','extension','tune','network','station','access','rural','fm','power'], \\\n",
    "                  'local', radio_lessons_vgood_tri.columns)\n",
    "print(len(coverage_4))"
   ]
  },
  {
   "cell_type": "code",
   "execution_count": 137,
   "metadata": {},
   "outputs": [
    {
     "data": {
      "text/plain": [
       "26"
      ]
     },
     "execution_count": 137,
     "metadata": {},
     "output_type": "execute_result"
    }
   ],
   "source": [
    "coverage = list(set(coverage_1 + coverage_2 + coverage_3 + coverage_4))\n",
    "len(coverage)"
   ]
  },
  {
   "cell_type": "markdown",
   "metadata": {},
   "source": [
    "Trigrams about the provision of radios"
   ]
  },
  {
   "cell_type": "code",
   "execution_count": 138,
   "metadata": {},
   "outputs": [
    {
     "data": {
      "text/plain": [
       "4"
      ]
     },
     "execution_count": 138,
     "metadata": {},
     "output_type": "execute_result"
    }
   ],
   "source": [
    "power = search(['powe','energ'],None, radio_lessons_vgood_tri.columns)\n",
    "len(power)"
   ]
  },
  {
   "cell_type": "code",
   "execution_count": 139,
   "metadata": {},
   "outputs": [
    {
     "data": {
      "text/plain": [
       "23"
      ]
     },
     "execution_count": 139,
     "metadata": {},
     "output_type": "execute_result"
    }
   ],
   "source": [
    "provision = search(['provis','dist','provid','everyone'], None, radio_lessons_vgood_tri.columns)\n",
    "len(provision)"
   ]
  },
  {
   "cell_type": "code",
   "execution_count": 140,
   "metadata": {},
   "outputs": [
    {
     "data": {
      "text/plain": [
       "0"
      ]
     },
     "execution_count": 140,
     "metadata": {},
     "output_type": "execute_result"
    }
   ],
   "source": [
    "tv = search(['video', 'tv', 'tele'], None, radio_lessons_vgood_tri.columns)\n",
    "len(tv)"
   ]
  },
  {
   "cell_type": "markdown",
   "metadata": {},
   "source": [
    "Trigrams about content"
   ]
  },
  {
   "cell_type": "code",
   "execution_count": 141,
   "metadata": {},
   "outputs": [
    {
     "data": {
      "text/plain": [
       "58"
      ]
     },
     "execution_count": 141,
     "metadata": {},
     "output_type": "execute_result"
    }
   ],
   "source": [
    "content = search(['subject', 'time', 'guid'], None, radio_lessons_vgood_tri.columns)\n",
    "len(content)"
   ]
  },
  {
   "cell_type": "markdown",
   "metadata": {},
   "source": [
    "Trigrams about speech"
   ]
  },
  {
   "cell_type": "code",
   "execution_count": 142,
   "metadata": {},
   "outputs": [
    {
     "data": {
      "text/plain": [
       "9"
      ]
     },
     "execution_count": 142,
     "metadata": {},
     "output_type": "execute_result"
    }
   ],
   "source": [
    "language = search(['language','trans','arab', 'pronunc'], None, radio_lessons_vgood_tri.columns)\n",
    "len(language)"
   ]
  },
  {
   "cell_type": "code",
   "execution_count": 143,
   "metadata": {},
   "outputs": [
    {
     "data": {
      "text/plain": [
       "6"
      ]
     },
     "execution_count": 143,
     "metadata": {},
     "output_type": "execute_result"
    }
   ],
   "source": [
    "speed = search(['speed','unders'], None, radio_lessons_vgood_tri.columns)\n",
    "len(speed)"
   ]
  },
  {
   "cell_type": "markdown",
   "metadata": {},
   "source": [
    "Trigrams about teaching"
   ]
  },
  {
   "cell_type": "code",
   "execution_count": 144,
   "metadata": {},
   "outputs": [
    {
     "data": {
      "text/plain": [
       "49"
      ]
     },
     "execution_count": 144,
     "metadata": {},
     "output_type": "execute_result"
    }
   ],
   "source": [
    "teaching = search(['guide', 'support', 'teacher', 'follow', 'expla', 'slow', 'question'], None, radio_lessons_vgood_tri.columns)\n",
    "len(teaching)"
   ]
  },
  {
   "cell_type": "markdown",
   "metadata": {},
   "source": [
    "Tigrams about school re-opening"
   ]
  },
  {
   "cell_type": "code",
   "execution_count": 145,
   "metadata": {},
   "outputs": [
    {
     "data": {
      "text/plain": [
       "6"
      ]
     },
     "execution_count": 145,
     "metadata": {},
     "output_type": "execute_result"
    }
   ],
   "source": [
    "school = search(['reopen', 'open'], None, radio_lessons_vgood_tri.columns)\n",
    "len(school)"
   ]
  },
  {
   "cell_type": "markdown",
   "metadata": {},
   "source": [
    "Tigrams about time (to listen, of broadcast)"
   ]
  },
  {
   "cell_type": "code",
   "execution_count": 146,
   "metadata": {},
   "outputs": [
    {
     "data": {
      "text/plain": [
       "54"
      ]
     },
     "execution_count": 146,
     "metadata": {},
     "output_type": "execute_result"
    }
   ],
   "source": [
    "time = search(['time', 'repeat', 'timing', 'tmie', 'freq'], None, radio_lessons_vgood_tri.columns)\n",
    "len(time)"
   ]
  },
  {
   "cell_type": "markdown",
   "metadata": {},
   "source": [
    "Count one per concept apperance (not word)"
   ]
  },
  {
   "cell_type": "code",
   "execution_count": 147,
   "metadata": {},
   "outputs": [],
   "source": [
    "cover = radio_lessons_vgood_tri[coverage]"
   ]
  },
  {
   "cell_type": "code",
   "execution_count": 148,
   "metadata": {},
   "outputs": [],
   "source": [
    "r_provision = radio_lessons_vgood_tri[list(set(power + provision + tv))]"
   ]
  },
  {
   "cell_type": "code",
   "execution_count": 149,
   "metadata": {},
   "outputs": [],
   "source": [
    "l_content = radio_lessons_vgood_tri[content]"
   ]
  },
  {
   "cell_type": "code",
   "execution_count": 150,
   "metadata": {},
   "outputs": [],
   "source": [
    "teach = radio_lessons_vgood_tri[teaching]"
   ]
  },
  {
   "cell_type": "code",
   "execution_count": 151,
   "metadata": {},
   "outputs": [],
   "source": [
    "r_time = radio_lessons_vgood_tri[time]"
   ]
  },
  {
   "cell_type": "code",
   "execution_count": 152,
   "metadata": {},
   "outputs": [],
   "source": [
    "l_speech = radio_lessons_vgood_tri[list(set(language +  speed))]"
   ]
  },
  {
   "cell_type": "markdown",
   "metadata": {},
   "source": [
    "The rest of the Trigrams"
   ]
  },
  {
   "cell_type": "code",
   "execution_count": 153,
   "metadata": {},
   "outputs": [],
   "source": [
    "other = radio_lessons_vgood_tri.drop(cover.columns.to_list() + \\\n",
    "                                    l_content.columns.to_list() + \\\n",
    "                                    r_provision.columns.to_list() + \\\n",
    "                                    teach.columns.to_list() + \\\n",
    "                                    r_time.columns.to_list() + \\\n",
    "                                    l_speech.columns.to_list(), axis=1)"
   ]
  },
  {
   "cell_type": "code",
   "execution_count": 154,
   "metadata": {},
   "outputs": [
    {
     "data": {
      "text/plain": [
       "150"
      ]
     },
     "execution_count": 154,
     "metadata": {},
     "output_type": "execute_result"
    }
   ],
   "source": [
    "test_other = radio_lessons_vgood_tri.drop(cover.columns.to_list() + \\\n",
    "                                    l_content.columns.to_list() + \\\n",
    "                                    r_provision.columns.to_list() + \\\n",
    "                                    teach.columns.to_list() + \\\n",
    "                                    r_time.columns.to_list() + \\\n",
    "                                    l_speech.columns.to_list(), axis=1)\n",
    "len(test_other.columns.to_list())"
   ]
  },
  {
   "cell_type": "code",
   "execution_count": 155,
   "metadata": {},
   "outputs": [],
   "source": [
    "cover = cover.sum(axis=1)\n",
    "content = l_content.sum(axis=1)\n",
    "speech = l_speech.sum(axis=1)\n",
    "time = r_time.sum(axis=1)\n",
    "provision = r_provision.sum(axis=1)\n",
    "teach = teach.sum(axis=1)\n",
    "other = other.sum(axis=1)"
   ]
  },
  {
   "cell_type": "code",
   "execution_count": 156,
   "metadata": {},
   "outputs": [],
   "source": [
    "cover[cover != 0] = 1\n",
    "content[content != 0] = 1\n",
    "speech[speech != 0] = 1\n",
    "time[time != 0] = 1\n",
    "provision[provision != 0] = 1\n",
    "teach[teach != 0] = 1\n",
    "other[other != 0] = 1"
   ]
  },
  {
   "cell_type": "code",
   "execution_count": 157,
   "metadata": {},
   "outputs": [],
   "source": [
    "coverage = pd.DataFrame(np.zeros(radio_lessons.shape[0]), dtype=int, columns=['coverage'])\n",
    "coverage.loc[cover[cover == 1].index,:] = 1\n",
    "\n",
    "prov = pd.DataFrame(np.zeros(radio_lessons.shape[0]), dtype=int, columns=['radio distribution'])\n",
    "prov.loc[provision[provision == 1].index,:] = 1\n",
    "\n",
    "cont = pd.DataFrame(np.zeros(radio_lessons.shape[0]), dtype=int, columns=['content'])\n",
    "cont.loc[content[content == 1].index,:] = 1\n",
    "\n",
    "form_speech = pd.DataFrame(np.zeros(radio_lessons.shape[0]), dtype=int, columns=['speech understanding'])\n",
    "form_speech.loc[speech[speech == 1].index,:] = 1\n",
    "\n",
    "teaching = pd.DataFrame(np.zeros(radio_lessons.shape[0]), dtype=int, columns=['guidance and teaching'])\n",
    "teaching.loc[teach[teach == 1].index,:] = 1\n",
    "\n",
    "timing = pd.DataFrame(np.zeros(radio_lessons.shape[0]), dtype=int, columns=['listening time'])\n",
    "timing.loc[time[time == 1].index,:] = 1\n",
    "\n",
    "other_w = pd.DataFrame(np.zeros(radio_lessons.shape[0]), dtype=int, columns=['other biagrams'])\n",
    "other_w.loc[other[other == 1].index,:] = 1"
   ]
  },
  {
   "cell_type": "code",
   "execution_count": 158,
   "metadata": {},
   "outputs": [],
   "source": [
    "radio_lessons_vgood_group = pd.concat([coverage, prov, cont, cont, form_speech, teaching, timing, other_w], axis=1)"
   ]
  },
  {
   "cell_type": "markdown",
   "metadata": {},
   "source": [
    "Visualization"
   ]
  },
  {
   "cell_type": "code",
   "execution_count": 159,
   "metadata": {},
   "outputs": [
    {
     "data": {
      "image/png": "[encoded data removed]",
      "text/plain": [
       "<Figure size 720x360 with 1 Axes>"
      ]
     },
     "metadata": {
      "needs_background": "light"
     },
     "output_type": "display_data"
    }
   ],
   "source": [
    "plt.figure(figsize=(10,5))\n",
    "plt.bar(radio_lessons_vgood_group.columns, radio_lessons_vgood_group.sum())\n",
    "plt.title('What is the quality of the radio lessons? How can the radio lessons be improved?')\n",
    "plt.xticks(rotation=45, ha='right')\n",
    "plt.show()"
   ]
  },
  {
   "cell_type": "code",
   "execution_count": 160,
   "metadata": {},
   "outputs": [
    {
     "data": {
      "text/plain": [
       "0.09655172413793103"
      ]
     },
     "execution_count": 160,
     "metadata": {},
     "output_type": "execute_result"
    }
   ],
   "source": [
    "radio_lessons_vgood_group.loc[:,'coverage'].sum() / radio_lessons_vgood.shape[0]"
   ]
  },
  {
   "cell_type": "code",
   "execution_count": 161,
   "metadata": {},
   "outputs": [
    {
     "data": {
      "text/plain": [
       "0.16551724137931034"
      ]
     },
     "execution_count": 161,
     "metadata": {},
     "output_type": "execute_result"
    }
   ],
   "source": [
    "radio_lessons_vgood_group.loc[:,'radio distribution'].sum() / radio_lessons_vgood.shape[0]"
   ]
  },
  {
   "cell_type": "code",
   "execution_count": 162,
   "metadata": {},
   "outputs": [
    {
     "data": {
      "text/plain": [
       "content    0.2\n",
       "content    0.2\n",
       "dtype: float64"
      ]
     },
     "execution_count": 162,
     "metadata": {},
     "output_type": "execute_result"
    }
   ],
   "source": [
    "radio_lessons_vgood_group.loc[:,'content'].sum() / radio_lessons_vgood.shape[0]"
   ]
  },
  {
   "cell_type": "code",
   "execution_count": 163,
   "metadata": {},
   "outputs": [
    {
     "data": {
      "text/plain": [
       "0.04827586206896552"
      ]
     },
     "execution_count": 163,
     "metadata": {},
     "output_type": "execute_result"
    }
   ],
   "source": [
    "radio_lessons_vgood_group.loc[:,'speech understanding'].sum() / radio_lessons_vgood.shape[0]"
   ]
  },
  {
   "cell_type": "code",
   "execution_count": 164,
   "metadata": {},
   "outputs": [
    {
     "data": {
      "text/plain": [
       "0.1103448275862069"
      ]
     },
     "execution_count": 164,
     "metadata": {},
     "output_type": "execute_result"
    }
   ],
   "source": [
    "radio_lessons_vgood_group.loc[:,'guidance and teaching'].sum() / radio_lessons_vgood.shape[0]"
   ]
  },
  {
   "cell_type": "code",
   "execution_count": 165,
   "metadata": {},
   "outputs": [
    {
     "data": {
      "text/plain": [
       "0.2"
      ]
     },
     "execution_count": 165,
     "metadata": {},
     "output_type": "execute_result"
    }
   ],
   "source": [
    "radio_lessons_vgood_group.loc[:,'listening time'].sum() / radio_lessons_vgood.shape[0]"
   ]
  },
  {
   "cell_type": "markdown",
   "metadata": {},
   "source": [
    "#### Trigram Vectorization\n",
    "Radio Lessons No Good Quality"
   ]
  },
  {
   "cell_type": "code",
   "execution_count": 166,
   "metadata": {},
   "outputs": [
    {
     "name": "stdout",
     "output_type": "stream",
     "text": [
      "389 words in dictionary.\n"
     ]
    }
   ],
   "source": [
    "radio_lessons_ngood_tri = bow_vectorization(data = radio_lessons_ngood.dropna(),\n",
    "                                          index = radio_lessons_ngood.dropna().index,\n",
    "                                          n_grams=(3, 3))"
   ]
  },
  {
   "cell_type": "code",
   "execution_count": 167,
   "metadata": {},
   "outputs": [],
   "source": [
    "# radio_lessons_fair_tri.sum().sort_values(ascending=False)[:30]"
   ]
  },
  {
   "cell_type": "markdown",
   "metadata": {},
   "source": [
    "#### Group Trigrams\n",
    "Trigrams about the coverage"
   ]
  },
  {
   "cell_type": "code",
   "execution_count": 168,
   "metadata": {},
   "outputs": [
    {
     "name": "stdout",
     "output_type": "stream",
     "text": [
      "50\n"
     ]
    }
   ],
   "source": [
    "coverage_1 = search(['area','cover','extension','tune','network','station','access','rural','fm','power'], \\\n",
    "                  'provis', radio_lessons_ngood_tri.columns)\n",
    "print(len(coverage_1))"
   ]
  },
  {
   "cell_type": "code",
   "execution_count": 169,
   "metadata": {},
   "outputs": [
    {
     "name": "stdout",
     "output_type": "stream",
     "text": [
      "49\n"
     ]
    }
   ],
   "source": [
    "coverage_2 = search(['area','cover','extension','tune','network','station','access','rural','fm','power'], \\\n",
    "                  'exten', radio_lessons_ngood_tri.columns)\n",
    "print(len(coverage_2))"
   ]
  },
  {
   "cell_type": "code",
   "execution_count": 170,
   "metadata": {},
   "outputs": [
    {
     "name": "stdout",
     "output_type": "stream",
     "text": [
      "50\n"
     ]
    }
   ],
   "source": [
    "coverage_3 = search(['area','cover','extension','tune','network','station','access','rural','fm','power'], \\\n",
    "                  'avail', radio_lessons_ngood_tri.columns)\n",
    "print(len(coverage_3))"
   ]
  },
  {
   "cell_type": "code",
   "execution_count": 171,
   "metadata": {},
   "outputs": [
    {
     "name": "stdout",
     "output_type": "stream",
     "text": [
      "49\n"
     ]
    }
   ],
   "source": [
    "coverage_4 = search(['area','cover','extension','tune','network','station','access','rural','fm','power'], \\\n",
    "                  'local', radio_lessons_ngood_tri.columns)\n",
    "print(len(coverage_4))"
   ]
  },
  {
   "cell_type": "code",
   "execution_count": 172,
   "metadata": {},
   "outputs": [
    {
     "data": {
      "text/plain": [
       "46"
      ]
     },
     "execution_count": 172,
     "metadata": {},
     "output_type": "execute_result"
    }
   ],
   "source": [
    "coverage = list(set(coverage_1 + coverage_2 + coverage_3 + coverage_4))\n",
    "len(coverage)"
   ]
  },
  {
   "cell_type": "markdown",
   "metadata": {},
   "source": [
    "Trigrams about the provision of radios"
   ]
  },
  {
   "cell_type": "code",
   "execution_count": 173,
   "metadata": {},
   "outputs": [
    {
     "data": {
      "text/plain": [
       "6"
      ]
     },
     "execution_count": 173,
     "metadata": {},
     "output_type": "execute_result"
    }
   ],
   "source": [
    "power = search(['powe','energ'],None, radio_lessons_ngood_tri.columns)\n",
    "len(power)"
   ]
  },
  {
   "cell_type": "code",
   "execution_count": 174,
   "metadata": {},
   "outputs": [
    {
     "data": {
      "text/plain": [
       "46"
      ]
     },
     "execution_count": 174,
     "metadata": {},
     "output_type": "execute_result"
    }
   ],
   "source": [
    "provision = search(['provis','dist','provid','everyone'], None, radio_lessons_ngood_tri.columns)\n",
    "len(provision)"
   ]
  },
  {
   "cell_type": "code",
   "execution_count": 175,
   "metadata": {},
   "outputs": [
    {
     "data": {
      "text/plain": [
       "12"
      ]
     },
     "execution_count": 175,
     "metadata": {},
     "output_type": "execute_result"
    }
   ],
   "source": [
    "tv = search(['video', 'tv', 'tele'], None, radio_lessons_ngood_tri.columns)\n",
    "len(tv)"
   ]
  },
  {
   "cell_type": "markdown",
   "metadata": {},
   "source": [
    "Trigrams about content"
   ]
  },
  {
   "cell_type": "code",
   "execution_count": 176,
   "metadata": {},
   "outputs": [
    {
     "data": {
      "text/plain": [
       "60"
      ]
     },
     "execution_count": 176,
     "metadata": {},
     "output_type": "execute_result"
    }
   ],
   "source": [
    "content = search(['subject', 'time', 'guid'], None, radio_lessons_ngood_tri.columns)\n",
    "len(content)"
   ]
  },
  {
   "cell_type": "markdown",
   "metadata": {},
   "source": [
    "Trigrams about speech"
   ]
  },
  {
   "cell_type": "code",
   "execution_count": 177,
   "metadata": {},
   "outputs": [
    {
     "data": {
      "text/plain": [
       "12"
      ]
     },
     "execution_count": 177,
     "metadata": {},
     "output_type": "execute_result"
    }
   ],
   "source": [
    "language = search(['language','trans','arab', 'pronunc'], None, radio_lessons_ngood_tri.columns)\n",
    "len(language)"
   ]
  },
  {
   "cell_type": "code",
   "execution_count": 178,
   "metadata": {},
   "outputs": [
    {
     "data": {
      "text/plain": [
       "6"
      ]
     },
     "execution_count": 178,
     "metadata": {},
     "output_type": "execute_result"
    }
   ],
   "source": [
    "speed = search(['speed','unders'], None, radio_lessons_ngood_tri.columns)\n",
    "len(speed)"
   ]
  },
  {
   "cell_type": "markdown",
   "metadata": {},
   "source": [
    "Trigrams about teaching"
   ]
  },
  {
   "cell_type": "code",
   "execution_count": 179,
   "metadata": {},
   "outputs": [
    {
     "data": {
      "text/plain": [
       "57"
      ]
     },
     "execution_count": 179,
     "metadata": {},
     "output_type": "execute_result"
    }
   ],
   "source": [
    "teaching = search(['guide', 'support', 'teacher', 'follow', 'expla', 'slow', 'question'], None, radio_lessons_ngood_tri.columns)\n",
    "len(teaching)"
   ]
  },
  {
   "cell_type": "markdown",
   "metadata": {},
   "source": [
    "Tigrams about school re-opening"
   ]
  },
  {
   "cell_type": "code",
   "execution_count": 180,
   "metadata": {},
   "outputs": [
    {
     "data": {
      "text/plain": [
       "47"
      ]
     },
     "execution_count": 180,
     "metadata": {},
     "output_type": "execute_result"
    }
   ],
   "source": [
    "school = search(['reopen', 'open'], None, radio_lessons_ngood_tri.columns)\n",
    "len(school)"
   ]
  },
  {
   "cell_type": "markdown",
   "metadata": {},
   "source": [
    "Tigrams about time (to listen, of broadcast)"
   ]
  },
  {
   "cell_type": "code",
   "execution_count": 181,
   "metadata": {},
   "outputs": [
    {
     "data": {
      "text/plain": [
       "65"
      ]
     },
     "execution_count": 181,
     "metadata": {},
     "output_type": "execute_result"
    }
   ],
   "source": [
    "time = search(['time', 'repeat', 'timing', 'tmie', 'freq'], None, radio_lessons_ngood_tri.columns)\n",
    "len(time)"
   ]
  },
  {
   "cell_type": "markdown",
   "metadata": {},
   "source": [
    "Count one per concept apperance (not word)"
   ]
  },
  {
   "cell_type": "code",
   "execution_count": 182,
   "metadata": {},
   "outputs": [],
   "source": [
    "cover = radio_lessons_ngood_tri[coverage]"
   ]
  },
  {
   "cell_type": "code",
   "execution_count": 183,
   "metadata": {},
   "outputs": [],
   "source": [
    "r_provision = radio_lessons_ngood_tri[list(set(power + provision + tv))]"
   ]
  },
  {
   "cell_type": "code",
   "execution_count": 184,
   "metadata": {},
   "outputs": [],
   "source": [
    "l_content = radio_lessons_ngood_tri[content]"
   ]
  },
  {
   "cell_type": "code",
   "execution_count": 185,
   "metadata": {},
   "outputs": [],
   "source": [
    "teach = radio_lessons_ngood_tri[teaching]"
   ]
  },
  {
   "cell_type": "code",
   "execution_count": 186,
   "metadata": {},
   "outputs": [],
   "source": [
    "r_time = radio_lessons_ngood_tri[time]"
   ]
  },
  {
   "cell_type": "code",
   "execution_count": 187,
   "metadata": {},
   "outputs": [],
   "source": [
    "l_speech = radio_lessons_ngood_tri[list(set(language +  speed))]"
   ]
  },
  {
   "cell_type": "markdown",
   "metadata": {},
   "source": [
    "The rest of the Trigrams"
   ]
  },
  {
   "cell_type": "code",
   "execution_count": 188,
   "metadata": {},
   "outputs": [],
   "source": [
    "other = radio_lessons_ngood_tri.drop(cover.columns.to_list() + \\\n",
    "                                    l_content.columns.to_list() + \\\n",
    "                                    r_provision.columns.to_list() + \\\n",
    "                                    teach.columns.to_list() + \\\n",
    "                                    r_time.columns.to_list() + \\\n",
    "                                    l_speech.columns.to_list(), axis=1)"
   ]
  },
  {
   "cell_type": "code",
   "execution_count": 189,
   "metadata": {},
   "outputs": [
    {
     "data": {
      "text/plain": [
       "181"
      ]
     },
     "execution_count": 189,
     "metadata": {},
     "output_type": "execute_result"
    }
   ],
   "source": [
    "test_other = radio_lessons_ngood_tri.drop(cover.columns.to_list() + \\\n",
    "                                    l_content.columns.to_list() + \\\n",
    "                                    r_provision.columns.to_list() + \\\n",
    "                                    teach.columns.to_list() + \\\n",
    "                                    r_time.columns.to_list() + \\\n",
    "                                    l_speech.columns.to_list(), axis=1)\n",
    "len(test_other.columns.to_list())"
   ]
  },
  {
   "cell_type": "code",
   "execution_count": 190,
   "metadata": {},
   "outputs": [],
   "source": [
    "cover = cover.sum(axis=1)\n",
    "content = l_content.sum(axis=1)\n",
    "speech = l_speech.sum(axis=1)\n",
    "time = r_time.sum(axis=1)\n",
    "provision = r_provision.sum(axis=1)\n",
    "teach = teach.sum(axis=1)\n",
    "other = other.sum(axis=1)"
   ]
  },
  {
   "cell_type": "code",
   "execution_count": 191,
   "metadata": {},
   "outputs": [],
   "source": [
    "cover[cover != 0] = 1\n",
    "content[content != 0] = 1\n",
    "speech[speech != 0] = 1\n",
    "time[time != 0] = 1\n",
    "provision[provision != 0] = 1\n",
    "teach[teach != 0] = 1\n",
    "other[other != 0] = 1"
   ]
  },
  {
   "cell_type": "code",
   "execution_count": 192,
   "metadata": {},
   "outputs": [],
   "source": [
    "coverage = pd.DataFrame(np.zeros(radio_lessons.shape[0]), dtype=int, columns=['coverage'])\n",
    "coverage.loc[cover[cover == 1].index,:] = 1\n",
    "\n",
    "prov = pd.DataFrame(np.zeros(radio_lessons.shape[0]), dtype=int, columns=['radio distribution'])\n",
    "prov.loc[provision[provision == 1].index,:] = 1\n",
    "\n",
    "cont = pd.DataFrame(np.zeros(radio_lessons.shape[0]), dtype=int, columns=['content'])\n",
    "cont.loc[content[content == 1].index,:] = 1\n",
    "\n",
    "form_speech = pd.DataFrame(np.zeros(radio_lessons.shape[0]), dtype=int, columns=['speech understanding'])\n",
    "form_speech.loc[speech[speech == 1].index,:] = 1\n",
    "\n",
    "teaching = pd.DataFrame(np.zeros(radio_lessons.shape[0]), dtype=int, columns=['guidance and teaching'])\n",
    "teaching.loc[teach[teach == 1].index,:] = 1\n",
    "\n",
    "timing = pd.DataFrame(np.zeros(radio_lessons.shape[0]), dtype=int, columns=['listening time'])\n",
    "timing.loc[time[time == 1].index,:] = 1\n",
    "\n",
    "other_w = pd.DataFrame(np.zeros(radio_lessons.shape[0]), dtype=int, columns=['other biagrams'])\n",
    "other_w.loc[other[other == 1].index,:] = 1"
   ]
  },
  {
   "cell_type": "code",
   "execution_count": 193,
   "metadata": {},
   "outputs": [],
   "source": [
    "radio_lessons_ngood_group = pd.concat([coverage, prov, cont, cont, form_speech, teaching, timing, other_w], axis=1)"
   ]
  },
  {
   "cell_type": "markdown",
   "metadata": {},
   "source": [
    "Visualization"
   ]
  },
  {
   "cell_type": "code",
   "execution_count": 194,
   "metadata": {},
   "outputs": [
    {
     "data": {
      "image/png": "[encoded data removed]",
      "text/plain": [
       "<Figure size 720x360 with 1 Axes>"
      ]
     },
     "metadata": {
      "needs_background": "light"
     },
     "output_type": "display_data"
    }
   ],
   "source": [
    "plt.figure(figsize=(10,5))\n",
    "plt.bar(radio_lessons_ngood_group.columns, radio_lessons_ngood_group.sum())\n",
    "plt.title('What is the quality of the radio lessons? How can the radio lessons be improved?')\n",
    "plt.xticks(rotation=45, ha='right')\n",
    "plt.show()"
   ]
  },
  {
   "cell_type": "code",
   "execution_count": 195,
   "metadata": {},
   "outputs": [
    {
     "data": {
      "text/plain": [
       "0.11046511627906977"
      ]
     },
     "execution_count": 195,
     "metadata": {},
     "output_type": "execute_result"
    }
   ],
   "source": [
    "radio_lessons_ngood_group.loc[:,'coverage'].sum() / radio_lessons_ngood.shape[0]"
   ]
  },
  {
   "cell_type": "code",
   "execution_count": 196,
   "metadata": {},
   "outputs": [
    {
     "data": {
      "text/plain": [
       "0.20348837209302326"
      ]
     },
     "execution_count": 196,
     "metadata": {},
     "output_type": "execute_result"
    }
   ],
   "source": [
    "radio_lessons_ngood_group.loc[:,'radio distribution'].sum() / radio_lessons_ngood.shape[0]"
   ]
  },
  {
   "cell_type": "code",
   "execution_count": 197,
   "metadata": {},
   "outputs": [
    {
     "data": {
      "text/plain": [
       "content    0.151163\n",
       "content    0.151163\n",
       "dtype: float64"
      ]
     },
     "execution_count": 197,
     "metadata": {},
     "output_type": "execute_result"
    }
   ],
   "source": [
    "radio_lessons_ngood_group.loc[:,'content'].sum() / radio_lessons_ngood.shape[0]"
   ]
  },
  {
   "cell_type": "code",
   "execution_count": 198,
   "metadata": {},
   "outputs": [
    {
     "data": {
      "text/plain": [
       "0.05232558139534884"
      ]
     },
     "execution_count": 198,
     "metadata": {},
     "output_type": "execute_result"
    }
   ],
   "source": [
    "radio_lessons_ngood_group.loc[:,'speech understanding'].sum() / radio_lessons_ngood.shape[0]"
   ]
  },
  {
   "cell_type": "code",
   "execution_count": 199,
   "metadata": {},
   "outputs": [
    {
     "data": {
      "text/plain": [
       "0.14534883720930233"
      ]
     },
     "execution_count": 199,
     "metadata": {},
     "output_type": "execute_result"
    }
   ],
   "source": [
    "radio_lessons_ngood_group.loc[:,'guidance and teaching'].sum() / radio_lessons_ngood.shape[0]"
   ]
  },
  {
   "cell_type": "code",
   "execution_count": 201,
   "metadata": {},
   "outputs": [
    {
     "data": {
      "text/plain": [
       "0.16279069767441862"
      ]
     },
     "execution_count": 201,
     "metadata": {},
     "output_type": "execute_result"
    }
   ],
   "source": [
    "radio_lessons_ngood_group.loc[:,'listening time'].sum() / radio_lessons_ngood.shape[0]"
   ]
  },
  {
   "cell_type": "markdown",
   "metadata": {},
   "source": [
    "#### Save vectors and concepts"
   ]
  },
  {
   "cell_type": "code",
   "execution_count": 151,
   "metadata": {},
   "outputs": [],
   "source": [
    "radio_lessons_good_group.to_csv('data/concepts/radio_lessons_good_concepts.csv')\n",
    "radio_lessons_fair_group.to_csv('data/concepts/radio_lessons_fair_concepts.csv')\n",
    "\n",
    "radio_lessons_vgood_group.to_csv('data/concepts/radio_lessons_vgood_concepts.csv')\n",
    "radio_lessons_ngood_group.to_csv('data/concepts/radio_lessons_ngood_concepts.csv')"
   ]
  },
  {
   "cell_type": "code",
   "execution_count": 152,
   "metadata": {},
   "outputs": [],
   "source": [
    "radio_lessons_good_tri.to_csv('data/tokens/radio_lessons_good.csv')\n",
    "radio_lessons_fair_tri.to_csv('data/tokens/radio_lessons_fair.csv')\n",
    "\n",
    "radio_lessons_vgood_tri.to_csv('data/tokens/radio_lessons_vgood.csv')\n",
    "radio_lessons_ngood_tri.to_csv('data/tokens/radio_lessons_ngood.csv')"
   ]
  }
 ],
 "metadata": {
  "kernelspec": {
   "display_name": "Python 3",
   "language": "python",
   "name": "python3"
  },
  "language_info": {
   "codemirror_mode": {
    "name": "ipython",
    "version": 3
   },
   "file_extension": ".py",
   "mimetype": "text/x-python",
   "name": "python",
   "nbconvert_exporter": "python",
   "pygments_lexer": "ipython3",
   "version": "3.7.7"
  }
 },
 "nbformat": 4,
 "nbformat_minor": 4
}
