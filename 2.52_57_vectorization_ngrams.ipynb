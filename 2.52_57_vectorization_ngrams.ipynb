{
 "cells": [
  {
   "cell_type": "markdown",
   "metadata": {},
   "source": [
    "## Vectorization"
   ]
  },
  {
   "cell_type": "code",
   "execution_count": 1,
   "metadata": {},
   "outputs": [],
   "source": [
    "import pandas as pd\n",
    "import numpy as np\n",
    "import re\n",
    "import nltk\n",
    "\n",
    "import matplotlib.pyplot as plt\n",
    "import seaborn as sns\n",
    "import plotly.graph_objects as go\n",
    "import plotly.io as pio\n",
    "\n",
    "from nltk.corpus import stopwords\n",
    "from sklearn.feature_extraction.text import CountVectorizer"
   ]
  },
  {
   "cell_type": "markdown",
   "metadata": {},
   "source": [
    "### 1. Load Data"
   ]
  },
  {
   "cell_type": "markdown",
   "metadata": {},
   "source": [
    "#### Open-ended Answers"
   ]
  },
  {
   "cell_type": "code",
   "execution_count": 2,
   "metadata": {},
   "outputs": [],
   "source": [
    "quantity_learning = pd.read_csv('./data/quantity_learning.csv')"
   ]
  },
  {
   "cell_type": "code",
   "execution_count": 3,
   "metadata": {},
   "outputs": [],
   "source": [
    "radio_lessons = pd.read_csv('./data/radio_lessons.csv')"
   ]
  },
  {
   "cell_type": "markdown",
   "metadata": {},
   "source": [
    "## 2. Count vectorization function\n",
    "#### 2.1. Retrieve bi/trigrams tokens, refine and encode"
   ]
  },
  {
   "cell_type": "code",
   "execution_count": 4,
   "metadata": {},
   "outputs": [],
   "source": [
    "stopwords = stopwords.words('english')"
   ]
  },
  {
   "cell_type": "code",
   "execution_count": 5,
   "metadata": {},
   "outputs": [],
   "source": [
    "def removal(text):\n",
    "    text = re.sub(r'(\\d|\\$|\\%|\\+)', '', text.lower())\n",
    "    return re.sub(r'\\d+', '', text)"
   ]
  },
  {
   "cell_type": "code",
   "execution_count": 6,
   "metadata": {},
   "outputs": [],
   "source": [
    "def bow_vectorization(data, index, n_grams):\n",
    "    vectorizer = CountVectorizer(stop_words = stopwords, lowercase = True, strip_accents='unicode', ngram_range=n_grams, preprocessor=removal)\n",
    "    data_tokens = vectorizer.fit_transform(data)\n",
    "    print(len(vectorizer.vocabulary_),'words in dictionary.')\n",
    "    return pd.DataFrame(data_tokens.todense(), columns=vectorizer.get_feature_names(), index=index)"
   ]
  },
  {
   "cell_type": "markdown",
   "metadata": {},
   "source": [
    "#### 2.2. Search word in vocabulary"
   ]
  },
  {
   "cell_type": "raw",
   "metadata": {},
   "source": [
    "def search(word_in=None, word_out=None, vocabulary=None):\n",
    "    if word_in is None:\n",
    "        return 'no words to search'\n",
    "    words = []\n",
    "    for term in vocabulary:\n",
    "        if word_out is None:\n",
    "            if word_in in term:\n",
    "                words.append(term)            \n",
    "        else:\n",
    "            if word_in in term and word_out not in term:\n",
    "                words.append(term)\n",
    "    return words"
   ]
  },
  {
   "cell_type": "code",
   "execution_count": 7,
   "metadata": {},
   "outputs": [],
   "source": [
    "def search(word_in=None, word_out=None, vocabulary=None):\n",
    "    if word_in is None:\n",
    "        return 'no words to search'\n",
    "\n",
    "    words = []\n",
    "    if isinstance(word_in, list):\n",
    "        for word in word_in:\n",
    "            for term in vocabulary:\n",
    "                if word in term:\n",
    "                    words.append(term)            \n",
    "    else:\n",
    "        for term in vocabulary:\n",
    "            if word_in in term:\n",
    "                words.append(term)\n",
    "    \n",
    "    words_clean = []\n",
    "    if word_out:\n",
    "        if isinstance(word_out,str):\n",
    "            word_out = [word_out]\n",
    "        for word in word_out:\n",
    "            for term in words:\n",
    "                if word in term:\n",
    "                    pass\n",
    "                else:\n",
    "                    words_clean.append(term)\n",
    "        return words_clean\n",
    "    else:\n",
    "        return words"
   ]
  },
  {
   "cell_type": "markdown",
   "metadata": {},
   "source": [
    "## 3. Questions to vectorize"
   ]
  },
  {
   "cell_type": "markdown",
   "metadata": {},
   "source": [
    "### 3.4. Are you/your learners learning more or are you learning less using radio lessons since the COVID-19 school closures? Why?"
   ]
  },
  {
   "cell_type": "code",
   "execution_count": 8,
   "metadata": {},
   "outputs": [
    {
     "data": {
      "text/plain": [
       "Less        1249\n",
       "More          80\n",
       "The same      46\n",
       "Name: Q52_Are you/your learners learning more or are you learning less using radio lessons since the COVID-19 school closures?, dtype: int64"
      ]
     },
     "execution_count": 8,
     "metadata": {},
     "output_type": "execute_result"
    }
   ],
   "source": [
    "quantity_learning.iloc[:,1].value_counts()"
   ]
  },
  {
   "cell_type": "markdown",
   "metadata": {},
   "source": [
    "Get only 'Less' answers"
   ]
  },
  {
   "cell_type": "code",
   "execution_count": 9,
   "metadata": {},
   "outputs": [],
   "source": [
    "quantity_learning_less = quantity_learning[quantity_learning.iloc[:,1] == 'Less'].iloc[:,2]"
   ]
  },
  {
   "cell_type": "code",
   "execution_count": 10,
   "metadata": {},
   "outputs": [
    {
     "data": {
      "text/plain": [
       "['Because radios are not many in our area',\n",
       " 'Because of power for charging radio',\n",
       " 'Because of COVID_19',\n",
       " 'Due to restrictions by the Covid 19 ',\n",
       " 'Because of Covid 19 restrictions ',\n",
       " 'Some teachers in radio lesson use complicated language hard to understand',\n",
       " \"I don't know\",\n",
       " 'Rodio it is not enough',\n",
       " 'Teaching is past',\n",
       " 'Teaching is past in during the lesson']"
      ]
     },
     "execution_count": 10,
     "metadata": {},
     "output_type": "execute_result"
    }
   ],
   "source": [
    "quantity_learning[quantity_learning.iloc[:,1] == 'Less'].iloc[:,2].tolist()[:10]"
   ]
  },
  {
   "cell_type": "markdown",
   "metadata": {},
   "source": [
    "#### Trigram vectorization\n",
    "Learning Less with radio lessons after covid"
   ]
  },
  {
   "cell_type": "code",
   "execution_count": 11,
   "metadata": {},
   "outputs": [
    {
     "name": "stdout",
     "output_type": "stream",
     "text": [
      "1195 words in dictionary.\n"
     ]
    }
   ],
   "source": [
    "quantity_learning_less_tri = bow_vectorization(data = quantity_learning_less.dropna(), \n",
    "                                               index = quantity_learning_less.dropna().index,\n",
    "                                               n_grams=(3, 3))"
   ]
  },
  {
   "cell_type": "code",
   "execution_count": 12,
   "metadata": {},
   "outputs": [],
   "source": [
    "#quantity_learning_less_tri.sum().sort_values(ascending=False)[:60]"
   ]
  },
  {
   "cell_type": "markdown",
   "metadata": {},
   "source": [
    "#### Group Trigrams\n",
    "Trigrams about work"
   ]
  },
  {
   "cell_type": "code",
   "execution_count": 13,
   "metadata": {},
   "outputs": [
    {
     "data": {
      "text/plain": [
       "57"
      ]
     },
     "execution_count": 13,
     "metadata": {},
     "output_type": "execute_result"
    }
   ],
   "source": [
    "domestic_work = search(['domestic','garden'], None, quantity_learning_less_tri.columns)\n",
    "len(domestic_work)"
   ]
  },
  {
   "cell_type": "code",
   "execution_count": 14,
   "metadata": {},
   "outputs": [
    {
     "data": {
      "text/plain": [
       "336"
      ]
     },
     "execution_count": 14,
     "metadata": {},
     "output_type": "execute_result"
    }
   ],
   "source": [
    "out_work = search('work', ['domestic','home','house','garden'], quantity_learning_less_tri.columns)\n",
    "len(out_work)"
   ]
  },
  {
   "cell_type": "code",
   "execution_count": 15,
   "metadata": {},
   "outputs": [
    {
     "data": {
      "text/plain": [
       "23"
      ]
     },
     "execution_count": 15,
     "metadata": {},
     "output_type": "execute_result"
    }
   ],
   "source": [
    "activities = search('activities', 'less', quantity_learning_less_tri.columns)\n",
    "len(activities)"
   ]
  },
  {
   "cell_type": "markdown",
   "metadata": {},
   "source": [
    "Trigrams about time"
   ]
  },
  {
   "cell_type": "code",
   "execution_count": 16,
   "metadata": {},
   "outputs": [
    {
     "data": {
      "text/plain": [
       "229"
      ]
     },
     "execution_count": 16,
     "metadata": {},
     "output_type": "execute_result"
    }
   ],
   "source": [
    "time = search('time', None, quantity_learning_less_tri.columns)\n",
    "len(time)"
   ]
  },
  {
   "cell_type": "code",
   "execution_count": 17,
   "metadata": {},
   "outputs": [
    {
     "data": {
      "text/plain": [
       "189"
      ]
     },
     "execution_count": 17,
     "metadata": {},
     "output_type": "execute_result"
    }
   ],
   "source": [
    "less = search('less', None, quantity_learning_less_tri.columns)\n",
    "len(less)"
   ]
  },
  {
   "cell_type": "code",
   "execution_count": 18,
   "metadata": {},
   "outputs": [
    {
     "data": {
      "text/plain": [
       "22"
      ]
     },
     "execution_count": 18,
     "metadata": {},
     "output_type": "execute_result"
    }
   ],
   "source": [
    "lack = search('lack', None, quantity_learning_less_tri.columns)\n",
    "len(lack)"
   ]
  },
  {
   "cell_type": "markdown",
   "metadata": {},
   "source": [
    "Trigrams about education"
   ]
  },
  {
   "cell_type": "code",
   "execution_count": 19,
   "metadata": {},
   "outputs": [
    {
     "data": {
      "text/plain": [
       "90"
      ]
     },
     "execution_count": 19,
     "metadata": {},
     "output_type": "execute_result"
    }
   ],
   "source": [
    "education = search(['teacher','underst'], None, quantity_learning_less_tri.columns)\n",
    "len(education)"
   ]
  },
  {
   "cell_type": "markdown",
   "metadata": {},
   "source": [
    "Trigrams about radio"
   ]
  },
  {
   "cell_type": "code",
   "execution_count": 20,
   "metadata": {},
   "outputs": [
    {
     "data": {
      "text/plain": [
       "324"
      ]
     },
     "execution_count": 20,
     "metadata": {},
     "output_type": "execute_result"
    }
   ],
   "source": [
    "radio = search(['radio','acces','cove'], None, quantity_learning_less_tri.columns)\n",
    "len(radio)"
   ]
  },
  {
   "cell_type": "markdown",
   "metadata": {},
   "source": [
    "Count one per concept apperance (not word)"
   ]
  },
  {
   "cell_type": "code",
   "execution_count": 21,
   "metadata": {},
   "outputs": [],
   "source": [
    "domestic_w = quantity_learning_less_tri[domestic_work]"
   ]
  },
  {
   "cell_type": "code",
   "execution_count": 22,
   "metadata": {},
   "outputs": [],
   "source": [
    "ex_work = quantity_learning_less_tri[list(set(out_work + activities))]"
   ]
  },
  {
   "cell_type": "code",
   "execution_count": 23,
   "metadata": {},
   "outputs": [],
   "source": [
    "time = quantity_learning_less_tri[list(set(time + less + lack))]"
   ]
  },
  {
   "cell_type": "code",
   "execution_count": 24,
   "metadata": {},
   "outputs": [],
   "source": [
    "ed = quantity_learning_less_tri[education]"
   ]
  },
  {
   "cell_type": "code",
   "execution_count": 25,
   "metadata": {},
   "outputs": [],
   "source": [
    "get_radio = quantity_learning_less_tri[radio]"
   ]
  },
  {
   "cell_type": "markdown",
   "metadata": {},
   "source": [
    "The rest of the Bigrams"
   ]
  },
  {
   "cell_type": "code",
   "execution_count": 26,
   "metadata": {},
   "outputs": [],
   "source": [
    "other = quantity_learning_less_tri.drop(domestic_w.columns.to_list() + \\\n",
    "                               ex_work.columns.to_list() + \\\n",
    "                               time.columns.to_list() + \\\n",
    "                               ed.columns.to_list() + \\\n",
    "                               get_radio.columns.to_list(), axis=1)\n",
    "test_other = quantity_learning_less_tri.drop(domestic_w.columns.to_list() + \\\n",
    "                               ex_work.columns.to_list() + \\\n",
    "                               time.columns.to_list() + \\\n",
    "                               ed.columns.to_list() + \\\n",
    "                               get_radio.columns.to_list(), axis=1)"
   ]
  },
  {
   "cell_type": "code",
   "execution_count": 27,
   "metadata": {},
   "outputs": [],
   "source": [
    "domestic_w = domestic_w.sum(axis=1)\n",
    "ex_work = ex_work.sum(axis=1)\n",
    "time = time.sum(axis=1)\n",
    "ed = ed.sum(axis=1)\n",
    "other = other.sum(axis=1)"
   ]
  },
  {
   "cell_type": "code",
   "execution_count": 28,
   "metadata": {},
   "outputs": [],
   "source": [
    "domestic_w[domestic_w != 0] = 1\n",
    "ex_work[ex_work != 0] = 1\n",
    "time[time != 0] = 1\n",
    "ed[ed != 0] = 1\n",
    "other[other != 0] = 1"
   ]
  },
  {
   "cell_type": "code",
   "execution_count": 29,
   "metadata": {},
   "outputs": [],
   "source": [
    "domestic = pd.DataFrame(np.zeros(quantity_learning.shape[0]), dtype=int, columns=['domestic work'])\n",
    "domestic.loc[domestic_w[domestic_w == 1].index,:] = 1\n",
    "work = pd.DataFrame(np.zeros(quantity_learning.shape[0]), dtype=int, columns=['external work'])\n",
    "work.loc[ex_work[ex_work == 1].index,:] = 1\n",
    "no_time = pd.DataFrame(np.zeros(quantity_learning.shape[0]), dtype=int, columns=['no time'])\n",
    "no_time.loc[time[time == 1].index,:] = 1\n",
    "no_ed = pd.DataFrame(np.zeros(quantity_learning.shape[0]), dtype=int, columns=['less education'])\n",
    "no_ed.loc[ed[ed == 1].index,:] = 1\n",
    "other_w = pd.DataFrame(np.zeros(quantity_learning.shape[0]), dtype=int, columns=['other triagrams'])\n",
    "other_w.loc[other[other == 1].index,:] = 1"
   ]
  },
  {
   "cell_type": "code",
   "execution_count": 30,
   "metadata": {},
   "outputs": [],
   "source": [
    "quantity_learning_less_group = pd.concat([domestic, work, no_time, no_ed, other_w], axis=1)\n",
    "quantity_learning_less_group_2= pd.concat([domestic, work, no_time, no_ed], axis=1)"
   ]
  },
  {
   "cell_type": "code",
   "execution_count": 31,
   "metadata": {},
   "outputs": [],
   "source": [
    "labels = quantity_learning_less_group_2.columns.to_list()\n",
    "\n",
    "fig = go.Figure()\n",
    "fig.add_trace(go.Bar(\n",
    "    x=labels,\n",
    "    y=quantity_learning_less_group_2.sum().to_list(),\n",
    "    text=quantity_learning_less_group_2.sum().to_list(),\n",
    "    texttemplate='%{text}',\n",
    "    textposition=\"outside\",\n",
    "    textangle=0,\n",
    "    textfont_color=\"black\",\n",
    "))\n",
    "\n",
    "fig.update_traces(textfont_size=18)\n",
    "fig.update_layout(barmode='group',\n",
    "                  xaxis = dict(\n",
    "                      tickfont=dict(size=18)\n",
    "                  ),\n",
    "                      font=dict(\n",
    "                        size=18,\n",
    "                    ),\n",
    "                  title_text='Are you/your learners learning more or are you learning less<br>using radio lessons since the COVID-19 school closures? <b>Why less?</b>')\n",
    "pio.write_image(fig, 'plotly/learning_quant_less.jpg', width=1024, height=780)"
   ]
  },
  {
   "cell_type": "code",
   "execution_count": 32,
   "metadata": {},
   "outputs": [
    {
     "data": {
      "image/png": "[encoded data removed]",
      "text/plain": [
       "<Figure size 720x360 with 1 Axes>"
      ]
     },
     "metadata": {
      "needs_background": "light"
     },
     "output_type": "display_data"
    }
   ],
   "source": [
    "plt.figure(figsize=(10,5))\n",
    "plt.bar(quantity_learning_less_group.columns, quantity_learning_less_group.sum())\n",
    "plt.title('Are you/your learners learning more or are you learning less using radio lessons since the COVID-19 school closures?\\nWhy less?')\n",
    "plt.xticks(rotation=45, ha='right')\n",
    "plt.savefig('data/imgs/learning_quant_less.jpeg',bbox_inches='tight', dpi=300)\n",
    "plt.show()"
   ]
  },
  {
   "cell_type": "code",
   "execution_count": 33,
   "metadata": {},
   "outputs": [
    {
     "data": {
      "text/plain": [
       "0.03923138510808647"
      ]
     },
     "execution_count": 33,
     "metadata": {},
     "output_type": "execute_result"
    }
   ],
   "source": [
    "quantity_learning_less_group.loc[:,'domestic work'].sum() / quantity_learning_less.shape[0]"
   ]
  },
  {
   "cell_type": "code",
   "execution_count": 34,
   "metadata": {},
   "outputs": [
    {
     "data": {
      "text/plain": [
       "0.08566853482786228"
      ]
     },
     "execution_count": 34,
     "metadata": {},
     "output_type": "execute_result"
    }
   ],
   "source": [
    "quantity_learning_less_group.loc[:,'external work'].sum() / quantity_learning_less.shape[0]"
   ]
  },
  {
   "cell_type": "code",
   "execution_count": 35,
   "metadata": {},
   "outputs": [
    {
     "data": {
      "text/plain": [
       "0.2177742193755004"
      ]
     },
     "execution_count": 35,
     "metadata": {},
     "output_type": "execute_result"
    }
   ],
   "source": [
    "quantity_learning_less_group.loc[:,'no time'].sum() / quantity_learning_less.shape[0]"
   ]
  },
  {
   "cell_type": "code",
   "execution_count": 36,
   "metadata": {},
   "outputs": [
    {
     "data": {
      "text/plain": [
       "0.053642914331465175"
      ]
     },
     "execution_count": 36,
     "metadata": {},
     "output_type": "execute_result"
    }
   ],
   "source": [
    "quantity_learning_less_group.loc[:,'less education'].sum() / quantity_learning_less.shape[0]"
   ]
  },
  {
   "cell_type": "markdown",
   "metadata": {},
   "source": [
    "#### Save vectors and concepts"
   ]
  },
  {
   "cell_type": "code",
   "execution_count": 37,
   "metadata": {},
   "outputs": [],
   "source": [
    "# tokens\n",
    "quantity_learning_less_tri.to_csv('data/tokens/quantity_learning_less_yes.csv')\n",
    "# concepts\n",
    "quantity_learning_less_group.to_csv('data/concepts/quantity_learning_less_concepts.csv')"
   ]
  },
  {
   "cell_type": "markdown",
   "metadata": {},
   "source": [
    "### 3.5. What is the quality of the radio lessons? How can the radio lessons be improved?"
   ]
  },
  {
   "cell_type": "code",
   "execution_count": 38,
   "metadata": {},
   "outputs": [
    {
     "data": {
      "text/plain": [
       "Unnamed: 0                                        4727\n",
       "Q57_What is the quality of the radio lessons?     1375\n",
       "Q58_How can the radio lessons be improved?        1375\n",
       "dtype: int64"
      ]
     },
     "execution_count": 38,
     "metadata": {},
     "output_type": "execute_result"
    }
   ],
   "source": [
    "radio_lessons.notnull().sum()"
   ]
  },
  {
   "cell_type": "code",
   "execution_count": 39,
   "metadata": {},
   "outputs": [
    {
     "data": {
      "text/plain": [
       "Good         644\n",
       "Fair         396\n",
       "Not good     186\n",
       "Very good    149\n",
       "Name: Q57_What is the quality of the radio lessons? , dtype: int64"
      ]
     },
     "execution_count": 39,
     "metadata": {},
     "output_type": "execute_result"
    }
   ],
   "source": [
    "radio_lessons.iloc[:,1].value_counts()"
   ]
  },
  {
   "cell_type": "markdown",
   "metadata": {},
   "source": [
    "Don't Know"
   ]
  },
  {
   "cell_type": "code",
   "execution_count": 40,
   "metadata": {},
   "outputs": [],
   "source": [
    "dk_mask = radio_lessons.iloc[:,2].str.contains(\"don't know\", na=False) | \\\n",
    "              radio_lessons.iloc[:,2].str.contains(\"no know\", na=False) | \\\n",
    "              (radio_lessons.iloc[:,2].str.contains(\"idea\", na=False)) | \\\n",
    "              (radio_lessons.iloc[:,2].str.contains(\"nothing\", na=False))"
   ]
  },
  {
   "cell_type": "code",
   "execution_count": 41,
   "metadata": {},
   "outputs": [],
   "source": [
    "# radio_lessons[dk_mask].iloc[:,2].value_counts()"
   ]
  },
  {
   "cell_type": "markdown",
   "metadata": {},
   "source": [
    "Group 'Good' with 'Very Good' and 'Not good' with 'Fair'"
   ]
  },
  {
   "cell_type": "code",
   "execution_count": 42,
   "metadata": {},
   "outputs": [],
   "source": [
    "# fair + not good vs \n",
    "radio_lessons_good = radio_lessons[~dk_mask & (radio_lessons.iloc[:,1] == 'Good')].iloc[:,2]"
   ]
  },
  {
   "cell_type": "code",
   "execution_count": 43,
   "metadata": {},
   "outputs": [],
   "source": [
    "radio_lessons_fair = radio_lessons[~dk_mask & (radio_lessons.iloc[:,1] == 'Fair')].iloc[:,2]"
   ]
  },
  {
   "cell_type": "code",
   "execution_count": 44,
   "metadata": {},
   "outputs": [],
   "source": [
    "radio_lessons_vgood = radio_lessons[~dk_mask & (radio_lessons.iloc[:,1] == 'Very good')].iloc[:,2]"
   ]
  },
  {
   "cell_type": "code",
   "execution_count": 45,
   "metadata": {},
   "outputs": [],
   "source": [
    "radio_lessons_ngood = radio_lessons[~dk_mask & (radio_lessons.iloc[:,1] == 'Not good')].iloc[:,2]"
   ]
  },
  {
   "cell_type": "markdown",
   "metadata": {},
   "source": [
    "#### Trigram Vectorization\n",
    "Radio Lessons Good Quality"
   ]
  },
  {
   "cell_type": "code",
   "execution_count": 46,
   "metadata": {},
   "outputs": [
    {
     "name": "stdout",
     "output_type": "stream",
     "text": [
      "1138 words in dictionary.\n"
     ]
    }
   ],
   "source": [
    "radio_lessons_good_tri = bow_vectorization(data = radio_lessons_good.dropna(),\n",
    "                                          index = radio_lessons_good.dropna().index,\n",
    "                                          n_grams=(3, 3))"
   ]
  },
  {
   "cell_type": "code",
   "execution_count": 47,
   "metadata": {},
   "outputs": [],
   "source": [
    "#radio_lessons_good_tri.sum().sort_values(ascending=False)[:30]"
   ]
  },
  {
   "cell_type": "markdown",
   "metadata": {},
   "source": [
    "#### Group Trigrams\n",
    "Trigrams about the coverage"
   ]
  },
  {
   "cell_type": "code",
   "execution_count": 48,
   "metadata": {},
   "outputs": [
    {
     "name": "stdout",
     "output_type": "stream",
     "text": [
      "222\n"
     ]
    }
   ],
   "source": [
    "coverage_1 = search(['area','cover','extension','tune','network','station','access','rural','fm','power','local'], \\\n",
    "                  'provis', radio_lessons_good_tri.columns)\n",
    "print(len(coverage_1))"
   ]
  },
  {
   "cell_type": "code",
   "execution_count": 49,
   "metadata": {},
   "outputs": [
    {
     "name": "stdout",
     "output_type": "stream",
     "text": [
      "199\n"
     ]
    }
   ],
   "source": [
    "coverage_2 = search(['area','cover','extension','tune','network','station','access','rural','fm','power','local'], \\\n",
    "                  'exten', radio_lessons_good_tri.columns)\n",
    "print(len(coverage_2))"
   ]
  },
  {
   "cell_type": "code",
   "execution_count": 50,
   "metadata": {},
   "outputs": [
    {
     "name": "stdout",
     "output_type": "stream",
     "text": [
      "236\n"
     ]
    }
   ],
   "source": [
    "coverage_3 = search(['area','cover','extension','tune','network','station','access','rural','fm','power','local'], \\\n",
    "                  'avail', radio_lessons_good_tri.columns)\n",
    "print(len(coverage_3))"
   ]
  },
  {
   "cell_type": "code",
   "execution_count": 51,
   "metadata": {},
   "outputs": [
    {
     "name": "stdout",
     "output_type": "stream",
     "text": [
      "204\n"
     ]
    }
   ],
   "source": [
    "coverage_4 = search(['area','cover','extension','tune','network','station','access','rural','fm','power','local'], \\\n",
    "                  'local', radio_lessons_good_tri.columns)\n",
    "print(len(coverage_4))"
   ]
  },
  {
   "cell_type": "code",
   "execution_count": 52,
   "metadata": {},
   "outputs": [
    {
     "data": {
      "text/plain": [
       "199"
      ]
     },
     "execution_count": 52,
     "metadata": {},
     "output_type": "execute_result"
    }
   ],
   "source": [
    "coverage = list(set(coverage_1 + coverage_2 + coverage_3 + coverage_4))\n",
    "len(coverage)"
   ]
  },
  {
   "cell_type": "markdown",
   "metadata": {},
   "source": [
    "Trigrams about the provision of radios"
   ]
  },
  {
   "cell_type": "code",
   "execution_count": 53,
   "metadata": {},
   "outputs": [
    {
     "data": {
      "text/plain": [
       "27"
      ]
     },
     "execution_count": 53,
     "metadata": {},
     "output_type": "execute_result"
    }
   ],
   "source": [
    "power = search(['powe','energ'],None, radio_lessons_good_tri.columns)\n",
    "len(power)"
   ]
  },
  {
   "cell_type": "code",
   "execution_count": 54,
   "metadata": {},
   "outputs": [
    {
     "data": {
      "text/plain": [
       "160"
      ]
     },
     "execution_count": 54,
     "metadata": {},
     "output_type": "execute_result"
    }
   ],
   "source": [
    "provision = search(['provis','dist','provid','everyone'], None, radio_lessons_good_tri.columns)\n",
    "len(provision)"
   ]
  },
  {
   "cell_type": "code",
   "execution_count": 55,
   "metadata": {},
   "outputs": [
    {
     "data": {
      "text/plain": [
       "12"
      ]
     },
     "execution_count": 55,
     "metadata": {},
     "output_type": "execute_result"
    }
   ],
   "source": [
    "tv = search(['video', 'tv', 'tele'], None, radio_lessons_good_tri.columns)\n",
    "len(tv)"
   ]
  },
  {
   "cell_type": "markdown",
   "metadata": {},
   "source": [
    "Trigrams about content"
   ]
  },
  {
   "cell_type": "code",
   "execution_count": 56,
   "metadata": {},
   "outputs": [
    {
     "data": {
      "text/plain": [
       "224"
      ]
     },
     "execution_count": 56,
     "metadata": {},
     "output_type": "execute_result"
    }
   ],
   "source": [
    "content = search(['subject', 'time', 'guid'], None, radio_lessons_good_tri.columns)\n",
    "len(content)"
   ]
  },
  {
   "cell_type": "markdown",
   "metadata": {},
   "source": [
    "Trigrams about speech"
   ]
  },
  {
   "cell_type": "code",
   "execution_count": 57,
   "metadata": {},
   "outputs": [
    {
     "data": {
      "text/plain": [
       "36"
      ]
     },
     "execution_count": 57,
     "metadata": {},
     "output_type": "execute_result"
    }
   ],
   "source": [
    "language = search(['language','trans','arab', 'pronunc'], None, radio_lessons_good_tri.columns)\n",
    "len(language)"
   ]
  },
  {
   "cell_type": "code",
   "execution_count": 58,
   "metadata": {},
   "outputs": [
    {
     "data": {
      "text/plain": [
       "27"
      ]
     },
     "execution_count": 58,
     "metadata": {},
     "output_type": "execute_result"
    }
   ],
   "source": [
    "speed = search(['speed','unders'], None, radio_lessons_good_tri.columns)\n",
    "len(speed)"
   ]
  },
  {
   "cell_type": "markdown",
   "metadata": {},
   "source": [
    "Trigrams about teaching"
   ]
  },
  {
   "cell_type": "code",
   "execution_count": 59,
   "metadata": {},
   "outputs": [
    {
     "data": {
      "text/plain": [
       "172"
      ]
     },
     "execution_count": 59,
     "metadata": {},
     "output_type": "execute_result"
    }
   ],
   "source": [
    "teaching = search(['guide', 'support', 'teacher', 'follow', 'expla', 'slow', 'question'], None, radio_lessons_good_tri.columns)\n",
    "len(teaching)"
   ]
  },
  {
   "cell_type": "markdown",
   "metadata": {},
   "source": [
    "Tigrams about school re-opening"
   ]
  },
  {
   "cell_type": "code",
   "execution_count": 60,
   "metadata": {},
   "outputs": [
    {
     "data": {
      "text/plain": [
       "19"
      ]
     },
     "execution_count": 60,
     "metadata": {},
     "output_type": "execute_result"
    }
   ],
   "source": [
    "school = search(['reopen', 'open'], None, radio_lessons_good_tri.columns)\n",
    "len(school)"
   ]
  },
  {
   "cell_type": "markdown",
   "metadata": {},
   "source": [
    "Tigrams about time (to listen, of broadcast)"
   ]
  },
  {
   "cell_type": "code",
   "execution_count": 61,
   "metadata": {},
   "outputs": [
    {
     "data": {
      "text/plain": [
       "202"
      ]
     },
     "execution_count": 61,
     "metadata": {},
     "output_type": "execute_result"
    }
   ],
   "source": [
    "time = search(['time', 'repeat', 'timing', 'tmie', 'freq'], None, radio_lessons_good_tri.columns)\n",
    "len(time)"
   ]
  },
  {
   "cell_type": "code",
   "execution_count": 62,
   "metadata": {},
   "outputs": [
    {
     "data": {
      "text/plain": [
       "194"
      ]
     },
     "execution_count": 62,
     "metadata": {},
     "output_type": "execute_result"
    }
   ],
   "source": [
    "len(list(set(language +  speed + teaching)))"
   ]
  },
  {
   "cell_type": "markdown",
   "metadata": {},
   "source": [
    "Count one per concept apperance (not word)"
   ]
  },
  {
   "cell_type": "code",
   "execution_count": 63,
   "metadata": {},
   "outputs": [],
   "source": [
    "cover = radio_lessons_good_tri[coverage]"
   ]
  },
  {
   "cell_type": "code",
   "execution_count": 64,
   "metadata": {},
   "outputs": [],
   "source": [
    "r_provision = radio_lessons_good_tri[list(set(power + provision + tv))]"
   ]
  },
  {
   "cell_type": "code",
   "execution_count": 65,
   "metadata": {},
   "outputs": [],
   "source": [
    "l_content = radio_lessons_good_tri[content]"
   ]
  },
  {
   "cell_type": "code",
   "execution_count": 66,
   "metadata": {},
   "outputs": [],
   "source": [
    "#teach = radio_lessons_good_tri[teaching]"
   ]
  },
  {
   "cell_type": "code",
   "execution_count": 67,
   "metadata": {},
   "outputs": [],
   "source": [
    "r_time = radio_lessons_good_tri[time]"
   ]
  },
  {
   "cell_type": "code",
   "execution_count": 68,
   "metadata": {},
   "outputs": [],
   "source": [
    "#l_speech = radio_lessons_good_tri[list(set(language +  speed))]"
   ]
  },
  {
   "cell_type": "code",
   "execution_count": 69,
   "metadata": {},
   "outputs": [],
   "source": [
    "guidance = radio_lessons_good_tri[list(set(language +  speed + teaching))]"
   ]
  },
  {
   "cell_type": "markdown",
   "metadata": {},
   "source": [
    "The rest of the Trigrams"
   ]
  },
  {
   "cell_type": "code",
   "execution_count": 70,
   "metadata": {},
   "outputs": [],
   "source": [
    "other = radio_lessons_good_tri.drop(cover.columns.to_list() + \\\n",
    "                                    l_content.columns.to_list() + \\\n",
    "                                    r_provision.columns.to_list() + \\\n",
    "                                    r_time.columns.to_list() + \\\n",
    "                                    guidance.columns.to_list(), axis=1)"
   ]
  },
  {
   "cell_type": "code",
   "execution_count": 71,
   "metadata": {},
   "outputs": [
    {
     "data": {
      "text/plain": [
       "426"
      ]
     },
     "execution_count": 71,
     "metadata": {},
     "output_type": "execute_result"
    }
   ],
   "source": [
    "test_other = radio_lessons_good_tri.drop(cover.columns.to_list() + \\\n",
    "                                    l_content.columns.to_list() + \\\n",
    "                                    r_provision.columns.to_list() + \\\n",
    "                                    r_time.columns.to_list() + \\\n",
    "                                    guidance.columns.to_list(), axis=1)\n",
    "len(test_other.columns.to_list())"
   ]
  },
  {
   "cell_type": "code",
   "execution_count": 72,
   "metadata": {},
   "outputs": [],
   "source": [
    "cover = cover.sum(axis=1)\n",
    "content = l_content.sum(axis=1)\n",
    "guidance = guidance.sum(axis=1)\n",
    "time = r_time.sum(axis=1)\n",
    "provision = r_provision.sum(axis=1)\n",
    "other = other.sum(axis=1)"
   ]
  },
  {
   "cell_type": "code",
   "execution_count": 73,
   "metadata": {},
   "outputs": [],
   "source": [
    "cover[cover != 0] = 1\n",
    "content[content != 0] = 1\n",
    "guidance[guidance != 0] = 1\n",
    "time[time != 0] = 1\n",
    "provision[provision != 0] = 1\n",
    "other[other != 0] = 1"
   ]
  },
  {
   "cell_type": "code",
   "execution_count": 74,
   "metadata": {},
   "outputs": [],
   "source": [
    "coverage = pd.DataFrame(np.zeros(radio_lessons.shape[0]), dtype=int, columns=['radio coverage'])\n",
    "coverage.loc[cover[cover == 1].index,:] = 1\n",
    "\n",
    "prov = pd.DataFrame(np.zeros(radio_lessons.shape[0]), dtype=int, columns=['radio distribution'])\n",
    "prov.loc[provision[provision == 1].index,:] = 1\n",
    "\n",
    "cont = pd.DataFrame(np.zeros(radio_lessons.shape[0]), dtype=int, columns=['new content'])\n",
    "cont.loc[content[content == 1].index,:] = 1\n",
    "\n",
    "guid = pd.DataFrame(np.zeros(radio_lessons.shape[0]), dtype=int, columns=['guidance and support'])\n",
    "guid.loc[guidance[guidance == 1].index,:] = 1\n",
    "\n",
    "timing = pd.DataFrame(np.zeros(radio_lessons.shape[0]), dtype=int, columns=['broadcasting time and repetitions'])\n",
    "timing.loc[time[time == 1].index,:] = 1\n",
    "\n",
    "other_w = pd.DataFrame(np.zeros(radio_lessons.shape[0]), dtype=int, columns=['other topics'])\n",
    "other_w.loc[other[other == 1].index,:] = 1"
   ]
  },
  {
   "cell_type": "code",
   "execution_count": 75,
   "metadata": {},
   "outputs": [],
   "source": [
    "radio_lessons_good_group = pd.concat([coverage, prov, cont, guid, timing, other_w], axis=1)\n",
    "radio_lessons_good_group_2 = pd.concat([coverage, prov, cont, guid, timing], axis=1)"
   ]
  },
  {
   "cell_type": "markdown",
   "metadata": {},
   "source": [
    "Visualization"
   ]
  },
  {
   "cell_type": "code",
   "execution_count": 76,
   "metadata": {},
   "outputs": [],
   "source": [
    "labels = radio_lessons_good_group_2.columns.to_list()\n",
    "\n",
    "fig = go.Figure()\n",
    "fig.add_trace(go.Bar(\n",
    "    x=labels,\n",
    "    y=radio_lessons_good_group_2.sum().to_list(),\n",
    "    text=radio_lessons_good_group_2.sum().to_list(),\n",
    "    texttemplate='%{text}',\n",
    "    textposition=\"outside\",\n",
    "    textangle=0,\n",
    "    textfont_color=\"black\",\n",
    "))\n",
    "\n",
    "fig.update_traces(textfont_size=18)\n",
    "fig.update_layout(barmode='group',\n",
    "                  xaxis = dict(\n",
    "                      tickfont=dict(size=18)\n",
    "                  ),\n",
    "                      font=dict(\n",
    "                        size=18,\n",
    "                    ),\n",
    "                  title_text='If you found good the quality of the radio lessons,<br>How can the radio lessons be improved?')\n",
    "pio.write_image(fig, 'plotly/radio_lessons_good_group.jpg', width=1024, height=780)"
   ]
  },
  {
   "cell_type": "code",
   "execution_count": 77,
   "metadata": {},
   "outputs": [
    {
     "data": {
      "image/png": "[encoded data removed]",
      "text/plain": [
       "<Figure size 720x360 with 1 Axes>"
      ]
     },
     "metadata": {
      "needs_background": "light"
     },
     "output_type": "display_data"
    }
   ],
   "source": [
    "plt.figure(figsize=(10,5))\n",
    "plt.bar(radio_lessons_good_group.columns, radio_lessons_good_group.sum())\n",
    "plt.title('If you found good the quality of the radio lessons, How can the radio lessons be improved?')\n",
    "plt.xticks(rotation=45, ha='right')\n",
    "plt.savefig('data/imgs/radio_lessons_good.jpeg',bbox_inches='tight', dpi=300)\n",
    "plt.show()"
   ]
  },
  {
   "cell_type": "markdown",
   "metadata": {},
   "source": [
    "#### Trigram Vectorization\n",
    "Radio Lessons Fair Quality"
   ]
  },
  {
   "cell_type": "code",
   "execution_count": 78,
   "metadata": {},
   "outputs": [
    {
     "name": "stdout",
     "output_type": "stream",
     "text": [
      "750 words in dictionary.\n"
     ]
    }
   ],
   "source": [
    "radio_lessons_fair_tri = bow_vectorization(data = radio_lessons_fair.dropna(),\n",
    "                                          index = radio_lessons_fair.dropna().index,\n",
    "                                          n_grams=(3, 3))"
   ]
  },
  {
   "cell_type": "code",
   "execution_count": 79,
   "metadata": {},
   "outputs": [],
   "source": [
    "# radio_lessons_fair_tri.sum().sort_values(ascending=False)[:30]"
   ]
  },
  {
   "cell_type": "markdown",
   "metadata": {},
   "source": [
    "#### Group Trigrams\n",
    "Trigrams about the coverage"
   ]
  },
  {
   "cell_type": "code",
   "execution_count": 80,
   "metadata": {},
   "outputs": [
    {
     "name": "stdout",
     "output_type": "stream",
     "text": [
      "79\n"
     ]
    }
   ],
   "source": [
    "coverage_1 = search(['area','cover','extension','tune','network','station','access','rural','fm','power'], \\\n",
    "                  'provis', radio_lessons_fair_tri.columns)\n",
    "print(len(coverage_1))"
   ]
  },
  {
   "cell_type": "code",
   "execution_count": 81,
   "metadata": {},
   "outputs": [
    {
     "name": "stdout",
     "output_type": "stream",
     "text": [
      "75\n"
     ]
    }
   ],
   "source": [
    "coverage_2 = search(['area','cover','extension','tune','network','station','access','rural','fm','power'], \\\n",
    "                  'exten', radio_lessons_fair_tri.columns)\n",
    "print(len(coverage_2))"
   ]
  },
  {
   "cell_type": "code",
   "execution_count": 82,
   "metadata": {},
   "outputs": [
    {
     "name": "stdout",
     "output_type": "stream",
     "text": [
      "80\n"
     ]
    }
   ],
   "source": [
    "coverage_3 = search(['area','cover','extension','tune','network','station','access','rural','fm','power'], \\\n",
    "                  'avail', radio_lessons_fair_tri.columns)\n",
    "print(len(coverage_3))"
   ]
  },
  {
   "cell_type": "code",
   "execution_count": 83,
   "metadata": {},
   "outputs": [
    {
     "name": "stdout",
     "output_type": "stream",
     "text": [
      "79\n"
     ]
    }
   ],
   "source": [
    "coverage_4 = search(['area','cover','extension','tune','network','station','access','rural','fm','power'], \\\n",
    "                  'local', radio_lessons_fair_tri.columns)\n",
    "print(len(coverage_4))"
   ]
  },
  {
   "cell_type": "code",
   "execution_count": 84,
   "metadata": {},
   "outputs": [
    {
     "data": {
      "text/plain": [
       "74"
      ]
     },
     "execution_count": 84,
     "metadata": {},
     "output_type": "execute_result"
    }
   ],
   "source": [
    "coverage = list(set(coverage_1 + coverage_2 + coverage_3 + coverage_4))\n",
    "len(coverage)"
   ]
  },
  {
   "cell_type": "markdown",
   "metadata": {},
   "source": [
    "Trigrams about the provision of radios"
   ]
  },
  {
   "cell_type": "code",
   "execution_count": 85,
   "metadata": {},
   "outputs": [
    {
     "data": {
      "text/plain": [
       "6"
      ]
     },
     "execution_count": 85,
     "metadata": {},
     "output_type": "execute_result"
    }
   ],
   "source": [
    "power = search(['powe','energ'],None, radio_lessons_fair_tri.columns)\n",
    "len(power)"
   ]
  },
  {
   "cell_type": "code",
   "execution_count": 86,
   "metadata": {},
   "outputs": [
    {
     "data": {
      "text/plain": [
       "102"
      ]
     },
     "execution_count": 86,
     "metadata": {},
     "output_type": "execute_result"
    }
   ],
   "source": [
    "provision = search(['provis','dist','provid','everyone'], None, radio_lessons_fair_tri.columns)\n",
    "len(provision)"
   ]
  },
  {
   "cell_type": "code",
   "execution_count": 87,
   "metadata": {},
   "outputs": [
    {
     "data": {
      "text/plain": [
       "8"
      ]
     },
     "execution_count": 87,
     "metadata": {},
     "output_type": "execute_result"
    }
   ],
   "source": [
    "tv = search(['video', 'tv', 'tele'], None, radio_lessons_fair_tri.columns)\n",
    "len(tv)"
   ]
  },
  {
   "cell_type": "markdown",
   "metadata": {},
   "source": [
    "Trigrams about content"
   ]
  },
  {
   "cell_type": "code",
   "execution_count": 88,
   "metadata": {},
   "outputs": [
    {
     "data": {
      "text/plain": [
       "83"
      ]
     },
     "execution_count": 88,
     "metadata": {},
     "output_type": "execute_result"
    }
   ],
   "source": [
    "content = search(['subject', 'time', 'guid'], None, radio_lessons_fair_tri.columns)\n",
    "len(content)"
   ]
  },
  {
   "cell_type": "markdown",
   "metadata": {},
   "source": [
    "Trigrams about speech"
   ]
  },
  {
   "cell_type": "code",
   "execution_count": 89,
   "metadata": {},
   "outputs": [
    {
     "data": {
      "text/plain": [
       "29"
      ]
     },
     "execution_count": 89,
     "metadata": {},
     "output_type": "execute_result"
    }
   ],
   "source": [
    "language = search(['language','trans','arab', 'pronunc'], None, radio_lessons_fair_tri.columns)\n",
    "len(language)"
   ]
  },
  {
   "cell_type": "code",
   "execution_count": 90,
   "metadata": {},
   "outputs": [
    {
     "data": {
      "text/plain": [
       "23"
      ]
     },
     "execution_count": 90,
     "metadata": {},
     "output_type": "execute_result"
    }
   ],
   "source": [
    "speed = search(['speed','unders'], None, radio_lessons_fair_tri.columns)\n",
    "len(speed)"
   ]
  },
  {
   "cell_type": "markdown",
   "metadata": {},
   "source": [
    "Trigrams about teaching"
   ]
  },
  {
   "cell_type": "code",
   "execution_count": 91,
   "metadata": {},
   "outputs": [
    {
     "data": {
      "text/plain": [
       "102"
      ]
     },
     "execution_count": 91,
     "metadata": {},
     "output_type": "execute_result"
    }
   ],
   "source": [
    "teaching = search(['guide', 'support', 'teacher', 'follow', 'expla', 'slow', 'question'], None, radio_lessons_fair_tri.columns)\n",
    "len(teaching)"
   ]
  },
  {
   "cell_type": "markdown",
   "metadata": {},
   "source": [
    "Tigrams about school re-opening"
   ]
  },
  {
   "cell_type": "code",
   "execution_count": 92,
   "metadata": {},
   "outputs": [
    {
     "data": {
      "text/plain": [
       "37"
      ]
     },
     "execution_count": 92,
     "metadata": {},
     "output_type": "execute_result"
    }
   ],
   "source": [
    "school = search(['reopen', 'open'], None, radio_lessons_fair_tri.columns)\n",
    "len(school)"
   ]
  },
  {
   "cell_type": "markdown",
   "metadata": {},
   "source": [
    "Tigrams about time (to listen, of broadcast)"
   ]
  },
  {
   "cell_type": "code",
   "execution_count": 93,
   "metadata": {},
   "outputs": [
    {
     "data": {
      "text/plain": [
       "94"
      ]
     },
     "execution_count": 93,
     "metadata": {},
     "output_type": "execute_result"
    }
   ],
   "source": [
    "time = search(['time', 'repeat', 'timing', 'tmie', 'freq'], None, radio_lessons_fair_tri.columns)\n",
    "len(time)"
   ]
  },
  {
   "cell_type": "markdown",
   "metadata": {},
   "source": [
    "Don't Know (DK)"
   ]
  },
  {
   "cell_type": "code",
   "execution_count": 94,
   "metadata": {},
   "outputs": [
    {
     "data": {
      "text/plain": [
       "2"
      ]
     },
     "execution_count": 94,
     "metadata": {},
     "output_type": "execute_result"
    }
   ],
   "source": [
    "dk = search([\"don't\", 'idea', 'nothing'], None, radio_lessons_fair_tri.columns)\n",
    "len(dk)"
   ]
  },
  {
   "cell_type": "markdown",
   "metadata": {},
   "source": [
    "Count one per concept apperance (not word)"
   ]
  },
  {
   "cell_type": "code",
   "execution_count": 95,
   "metadata": {},
   "outputs": [],
   "source": [
    "cover = radio_lessons_fair_tri[coverage]"
   ]
  },
  {
   "cell_type": "code",
   "execution_count": 96,
   "metadata": {},
   "outputs": [],
   "source": [
    "r_provision = radio_lessons_fair_tri[list(set(power + provision + tv))]"
   ]
  },
  {
   "cell_type": "code",
   "execution_count": 97,
   "metadata": {},
   "outputs": [],
   "source": [
    "l_content = radio_lessons_fair_tri[content]"
   ]
  },
  {
   "cell_type": "code",
   "execution_count": 98,
   "metadata": {},
   "outputs": [],
   "source": [
    "#teach = radio_lessons_good_tri[teaching]"
   ]
  },
  {
   "cell_type": "code",
   "execution_count": 99,
   "metadata": {},
   "outputs": [],
   "source": [
    "r_time = radio_lessons_fair_tri[time]"
   ]
  },
  {
   "cell_type": "code",
   "execution_count": 100,
   "metadata": {},
   "outputs": [],
   "source": [
    "#l_speech = radio_lessons_good_tri[list(set(language +  speed))]"
   ]
  },
  {
   "cell_type": "code",
   "execution_count": 101,
   "metadata": {},
   "outputs": [],
   "source": [
    "guidance = radio_lessons_fair_tri[list(set(language +  speed + teaching))]"
   ]
  },
  {
   "cell_type": "markdown",
   "metadata": {},
   "source": [
    "The rest of the Trigrams"
   ]
  },
  {
   "cell_type": "code",
   "execution_count": 102,
   "metadata": {},
   "outputs": [],
   "source": [
    "other = radio_lessons_fair_tri.drop(cover.columns.to_list() + \\\n",
    "                                    l_content.columns.to_list() + \\\n",
    "                                    r_provision.columns.to_list() + \\\n",
    "                                    r_time.columns.to_list() + \\\n",
    "                                    guidance.columns.to_list(), axis=1)"
   ]
  },
  {
   "cell_type": "code",
   "execution_count": 103,
   "metadata": {},
   "outputs": [
    {
     "data": {
      "text/plain": [
       "359"
      ]
     },
     "execution_count": 103,
     "metadata": {},
     "output_type": "execute_result"
    }
   ],
   "source": [
    "test_other = radio_lessons_fair_tri.drop(cover.columns.to_list() + \\\n",
    "                                    l_content.columns.to_list() + \\\n",
    "                                    r_provision.columns.to_list() + \\\n",
    "                                    r_time.columns.to_list() + \\\n",
    "                                    guidance.columns.to_list(), axis=1)\n",
    "len(test_other.columns.to_list())"
   ]
  },
  {
   "cell_type": "code",
   "execution_count": 104,
   "metadata": {},
   "outputs": [],
   "source": [
    "cover = cover.sum(axis=1)\n",
    "content = l_content.sum(axis=1)\n",
    "guidance = guidance.sum(axis=1)\n",
    "time = r_time.sum(axis=1)\n",
    "provision = r_provision.sum(axis=1)\n",
    "other = other.sum(axis=1)"
   ]
  },
  {
   "cell_type": "code",
   "execution_count": 105,
   "metadata": {},
   "outputs": [],
   "source": [
    "cover[cover != 0] = 1\n",
    "content[content != 0] = 1\n",
    "guidance[guidance != 0] = 1\n",
    "time[time != 0] = 1\n",
    "provision[provision != 0] = 1\n",
    "other[other != 0] = 1"
   ]
  },
  {
   "cell_type": "code",
   "execution_count": 106,
   "metadata": {},
   "outputs": [],
   "source": [
    "coverage = pd.DataFrame(np.zeros(radio_lessons.shape[0]), dtype=int, columns=['radio coverage'])\n",
    "coverage.loc[cover[cover == 1].index,:] = 1\n",
    "\n",
    "prov = pd.DataFrame(np.zeros(radio_lessons.shape[0]), dtype=int, columns=['radio distribution'])\n",
    "prov.loc[provision[provision == 1].index,:] = 1\n",
    "\n",
    "cont = pd.DataFrame(np.zeros(radio_lessons.shape[0]), dtype=int, columns=['new content'])\n",
    "cont.loc[content[content == 1].index,:] = 1\n",
    "\n",
    "guid = pd.DataFrame(np.zeros(radio_lessons.shape[0]), dtype=int, columns=['guidance and support'])\n",
    "guid.loc[guidance[guidance == 1].index,:] = 1\n",
    "\n",
    "timing = pd.DataFrame(np.zeros(radio_lessons.shape[0]), dtype=int, columns=['broadcasting time and repetitions'])\n",
    "timing.loc[time[time == 1].index,:] = 1\n",
    "\n",
    "other_w = pd.DataFrame(np.zeros(radio_lessons.shape[0]), dtype=int, columns=['other topics'])\n",
    "other_w.loc[other[other == 1].index,:] = 1"
   ]
  },
  {
   "cell_type": "code",
   "execution_count": 107,
   "metadata": {},
   "outputs": [],
   "source": [
    "radio_lessons_fair_group = pd.concat([coverage, prov, cont, guid, timing, other_w], axis=1)\n",
    "radio_lessons_fair_group_2 = pd.concat([coverage, prov, cont, guid, timing], axis=1)"
   ]
  },
  {
   "cell_type": "markdown",
   "metadata": {},
   "source": [
    "Visualization"
   ]
  },
  {
   "cell_type": "code",
   "execution_count": 108,
   "metadata": {},
   "outputs": [],
   "source": [
    "labels = radio_lessons_fair_group_2.columns.to_list()\n",
    "\n",
    "fig = go.Figure()\n",
    "fig.add_trace(go.Bar(\n",
    "    x=labels,\n",
    "    y=radio_lessons_fair_group_2.sum().to_list(),\n",
    "    text=radio_lessons_fair_group_2.sum().to_list(),\n",
    "    texttemplate='%{text}',\n",
    "    textposition=\"outside\",\n",
    "    textangle=0,\n",
    "    textfont_color=\"black\",\n",
    "))\n",
    "\n",
    "fig.update_traces(textfont_size=18)\n",
    "fig.update_layout(barmode='group',\n",
    "                  xaxis = dict(\n",
    "                      tickfont=dict(size=18)\n",
    "                  ),\n",
    "                      font=dict(\n",
    "                        size=18,\n",
    "                    ),\n",
    "                  title_text='If you found fair the quality of the radio lessons,<br>How can the radio lessons be improved?')\n",
    "pio.write_image(fig, 'plotly/radio_lessons_fair_group.jpg', width=1024, height=780)"
   ]
  },
  {
   "cell_type": "code",
   "execution_count": 109,
   "metadata": {},
   "outputs": [
    {
     "data": {
      "image/png": "[encoded data removed]",
      "text/plain": [
       "<Figure size 720x360 with 1 Axes>"
      ]
     },
     "metadata": {
      "needs_background": "light"
     },
     "output_type": "display_data"
    }
   ],
   "source": [
    "plt.figure(figsize=(10,5))\n",
    "plt.bar(radio_lessons_fair_group.columns, radio_lessons_fair_group.sum())\n",
    "plt.title('If you found fair the quality of the radio lessons, How can the radio lessons be improved?')\n",
    "plt.xticks(rotation=45, ha='right')\n",
    "plt.savefig('data/imgs/radio_lessons_fair.jpeg',bbox_inches='tight', dpi=300)\n",
    "plt.show()"
   ]
  },
  {
   "cell_type": "markdown",
   "metadata": {},
   "source": [
    "#### Trigram Vectorization\n",
    "Radio Lessons Very Good Quality"
   ]
  },
  {
   "cell_type": "code",
   "execution_count": 110,
   "metadata": {},
   "outputs": [
    {
     "name": "stdout",
     "output_type": "stream",
     "text": [
      "300 words in dictionary.\n"
     ]
    }
   ],
   "source": [
    "radio_lessons_vgood_tri = bow_vectorization(data = radio_lessons_vgood.dropna(),\n",
    "                                          index = radio_lessons_vgood.dropna().index,\n",
    "                                          n_grams=(3, 3))"
   ]
  },
  {
   "cell_type": "code",
   "execution_count": 111,
   "metadata": {},
   "outputs": [],
   "source": [
    "# radio_lessons_fair_tri.sum().sort_values(ascending=False)[:30]"
   ]
  },
  {
   "cell_type": "markdown",
   "metadata": {},
   "source": [
    "#### Group Trigrams\n",
    "Trigrams about the coverage"
   ]
  },
  {
   "cell_type": "code",
   "execution_count": 112,
   "metadata": {},
   "outputs": [
    {
     "name": "stdout",
     "output_type": "stream",
     "text": [
      "30\n"
     ]
    }
   ],
   "source": [
    "coverage_1 = search(['area','cover','extension','tune','network','station','access','rural','fm','power'], \\\n",
    "                  'provis', radio_lessons_vgood_tri.columns)\n",
    "print(len(coverage_1))"
   ]
  },
  {
   "cell_type": "code",
   "execution_count": 113,
   "metadata": {},
   "outputs": [
    {
     "name": "stdout",
     "output_type": "stream",
     "text": [
      "25\n"
     ]
    }
   ],
   "source": [
    "coverage_2 = search(['area','cover','extension','tune','network','station','access','rural','fm','power'], \\\n",
    "                  'exten', radio_lessons_vgood_tri.columns)\n",
    "print(len(coverage_2))"
   ]
  },
  {
   "cell_type": "code",
   "execution_count": 114,
   "metadata": {},
   "outputs": [
    {
     "name": "stdout",
     "output_type": "stream",
     "text": [
      "30\n"
     ]
    }
   ],
   "source": [
    "coverage_3 = search(['area','cover','extension','tune','network','station','access','rural','fm','power'], \\\n",
    "                  'avail', radio_lessons_vgood_tri.columns)\n",
    "print(len(coverage_3))"
   ]
  },
  {
   "cell_type": "code",
   "execution_count": 115,
   "metadata": {},
   "outputs": [
    {
     "name": "stdout",
     "output_type": "stream",
     "text": [
      "31\n"
     ]
    }
   ],
   "source": [
    "coverage_4 = search(['area','cover','extension','tune','network','station','access','rural','fm','power'], \\\n",
    "                  'local', radio_lessons_vgood_tri.columns)\n",
    "print(len(coverage_4))"
   ]
  },
  {
   "cell_type": "code",
   "execution_count": 116,
   "metadata": {},
   "outputs": [
    {
     "data": {
      "text/plain": [
       "26"
      ]
     },
     "execution_count": 116,
     "metadata": {},
     "output_type": "execute_result"
    }
   ],
   "source": [
    "coverage = list(set(coverage_1 + coverage_2 + coverage_3 + coverage_4))\n",
    "len(coverage)"
   ]
  },
  {
   "cell_type": "markdown",
   "metadata": {},
   "source": [
    "Trigrams about the provision of radios"
   ]
  },
  {
   "cell_type": "code",
   "execution_count": 117,
   "metadata": {},
   "outputs": [
    {
     "data": {
      "text/plain": [
       "4"
      ]
     },
     "execution_count": 117,
     "metadata": {},
     "output_type": "execute_result"
    }
   ],
   "source": [
    "power = search(['powe','energ'],None, radio_lessons_vgood_tri.columns)\n",
    "len(power)"
   ]
  },
  {
   "cell_type": "code",
   "execution_count": 118,
   "metadata": {},
   "outputs": [
    {
     "data": {
      "text/plain": [
       "23"
      ]
     },
     "execution_count": 118,
     "metadata": {},
     "output_type": "execute_result"
    }
   ],
   "source": [
    "provision = search(['provis','dist','provid','everyone'], None, radio_lessons_vgood_tri.columns)\n",
    "len(provision)"
   ]
  },
  {
   "cell_type": "code",
   "execution_count": 119,
   "metadata": {},
   "outputs": [
    {
     "data": {
      "text/plain": [
       "0"
      ]
     },
     "execution_count": 119,
     "metadata": {},
     "output_type": "execute_result"
    }
   ],
   "source": [
    "tv = search(['video', 'tv', 'tele'], None, radio_lessons_vgood_tri.columns)\n",
    "len(tv)"
   ]
  },
  {
   "cell_type": "markdown",
   "metadata": {},
   "source": [
    "Trigrams about content"
   ]
  },
  {
   "cell_type": "code",
   "execution_count": 120,
   "metadata": {},
   "outputs": [
    {
     "data": {
      "text/plain": [
       "58"
      ]
     },
     "execution_count": 120,
     "metadata": {},
     "output_type": "execute_result"
    }
   ],
   "source": [
    "content = search(['subject', 'time', 'guid'], None, radio_lessons_vgood_tri.columns)\n",
    "len(content)"
   ]
  },
  {
   "cell_type": "markdown",
   "metadata": {},
   "source": [
    "Trigrams about speech"
   ]
  },
  {
   "cell_type": "code",
   "execution_count": 121,
   "metadata": {},
   "outputs": [
    {
     "data": {
      "text/plain": [
       "9"
      ]
     },
     "execution_count": 121,
     "metadata": {},
     "output_type": "execute_result"
    }
   ],
   "source": [
    "language = search(['language','trans','arab', 'pronunc'], None, radio_lessons_vgood_tri.columns)\n",
    "len(language)"
   ]
  },
  {
   "cell_type": "code",
   "execution_count": 122,
   "metadata": {},
   "outputs": [
    {
     "data": {
      "text/plain": [
       "6"
      ]
     },
     "execution_count": 122,
     "metadata": {},
     "output_type": "execute_result"
    }
   ],
   "source": [
    "speed = search(['speed','unders'], None, radio_lessons_vgood_tri.columns)\n",
    "len(speed)"
   ]
  },
  {
   "cell_type": "markdown",
   "metadata": {},
   "source": [
    "Trigrams about teaching"
   ]
  },
  {
   "cell_type": "code",
   "execution_count": 123,
   "metadata": {},
   "outputs": [
    {
     "data": {
      "text/plain": [
       "49"
      ]
     },
     "execution_count": 123,
     "metadata": {},
     "output_type": "execute_result"
    }
   ],
   "source": [
    "teaching = search(['guide', 'support', 'teacher', 'follow', 'expla', 'slow', 'question'], None, radio_lessons_vgood_tri.columns)\n",
    "len(teaching)"
   ]
  },
  {
   "cell_type": "markdown",
   "metadata": {},
   "source": [
    "Tigrams about school re-opening"
   ]
  },
  {
   "cell_type": "code",
   "execution_count": 124,
   "metadata": {},
   "outputs": [
    {
     "data": {
      "text/plain": [
       "6"
      ]
     },
     "execution_count": 124,
     "metadata": {},
     "output_type": "execute_result"
    }
   ],
   "source": [
    "school = search(['reopen', 'open'], None, radio_lessons_vgood_tri.columns)\n",
    "len(school)"
   ]
  },
  {
   "cell_type": "markdown",
   "metadata": {},
   "source": [
    "Tigrams about time (to listen, of broadcast)"
   ]
  },
  {
   "cell_type": "code",
   "execution_count": 125,
   "metadata": {},
   "outputs": [
    {
     "data": {
      "text/plain": [
       "54"
      ]
     },
     "execution_count": 125,
     "metadata": {},
     "output_type": "execute_result"
    }
   ],
   "source": [
    "time = search(['time', 'repeat', 'timing', 'tmie', 'freq'], None, radio_lessons_vgood_tri.columns)\n",
    "len(time)"
   ]
  },
  {
   "cell_type": "markdown",
   "metadata": {},
   "source": [
    "Count one per concept apperance (not word)"
   ]
  },
  {
   "cell_type": "code",
   "execution_count": 126,
   "metadata": {},
   "outputs": [],
   "source": [
    "cover = radio_lessons_vgood_tri[coverage]"
   ]
  },
  {
   "cell_type": "code",
   "execution_count": 127,
   "metadata": {},
   "outputs": [],
   "source": [
    "r_provision = radio_lessons_vgood_tri[list(set(power + provision + tv))]"
   ]
  },
  {
   "cell_type": "code",
   "execution_count": 128,
   "metadata": {},
   "outputs": [],
   "source": [
    "l_content = radio_lessons_vgood_tri[content]"
   ]
  },
  {
   "cell_type": "code",
   "execution_count": 129,
   "metadata": {},
   "outputs": [],
   "source": [
    "#teach = radio_lessons_good_tri[teaching]"
   ]
  },
  {
   "cell_type": "code",
   "execution_count": 130,
   "metadata": {},
   "outputs": [],
   "source": [
    "r_time = radio_lessons_vgood_tri[time]"
   ]
  },
  {
   "cell_type": "code",
   "execution_count": 131,
   "metadata": {},
   "outputs": [],
   "source": [
    "#l_speech = radio_lessons_good_tri[list(set(language +  speed))]"
   ]
  },
  {
   "cell_type": "code",
   "execution_count": 132,
   "metadata": {},
   "outputs": [],
   "source": [
    "guidance = radio_lessons_vgood_tri[list(set(language +  speed + teaching))]"
   ]
  },
  {
   "cell_type": "markdown",
   "metadata": {},
   "source": [
    "The rest of the Trigrams"
   ]
  },
  {
   "cell_type": "code",
   "execution_count": 133,
   "metadata": {},
   "outputs": [],
   "source": [
    "other = radio_lessons_vgood_tri.drop(cover.columns.to_list() + \\\n",
    "                                    l_content.columns.to_list() + \\\n",
    "                                    r_provision.columns.to_list() + \\\n",
    "                                    r_time.columns.to_list() + \\\n",
    "                                    guidance.columns.to_list(), axis=1)"
   ]
  },
  {
   "cell_type": "code",
   "execution_count": 134,
   "metadata": {},
   "outputs": [
    {
     "data": {
      "text/plain": [
       "150"
      ]
     },
     "execution_count": 134,
     "metadata": {},
     "output_type": "execute_result"
    }
   ],
   "source": [
    "test_other = radio_lessons_vgood_tri.drop(cover.columns.to_list() + \\\n",
    "                                    l_content.columns.to_list() + \\\n",
    "                                    r_provision.columns.to_list() + \\\n",
    "                                    r_time.columns.to_list() + \\\n",
    "                                    guidance.columns.to_list(), axis=1)\n",
    "len(test_other.columns.to_list())"
   ]
  },
  {
   "cell_type": "code",
   "execution_count": 135,
   "metadata": {},
   "outputs": [],
   "source": [
    "cover = cover.sum(axis=1)\n",
    "content = l_content.sum(axis=1)\n",
    "guidance = guidance.sum(axis=1)\n",
    "time = r_time.sum(axis=1)\n",
    "provision = r_provision.sum(axis=1)\n",
    "other = other.sum(axis=1)"
   ]
  },
  {
   "cell_type": "code",
   "execution_count": 136,
   "metadata": {},
   "outputs": [],
   "source": [
    "cover[cover != 0] = 1\n",
    "content[content != 0] = 1\n",
    "guidance[guidance != 0] = 1\n",
    "time[time != 0] = 1\n",
    "provision[provision != 0] = 1\n",
    "other[other != 0] = 1"
   ]
  },
  {
   "cell_type": "code",
   "execution_count": 137,
   "metadata": {},
   "outputs": [],
   "source": [
    "coverage = pd.DataFrame(np.zeros(radio_lessons.shape[0]), dtype=int, columns=['radio coverage'])\n",
    "coverage.loc[cover[cover == 1].index,:] = 1\n",
    "\n",
    "prov = pd.DataFrame(np.zeros(radio_lessons.shape[0]), dtype=int, columns=['radio distribution'])\n",
    "prov.loc[provision[provision == 1].index,:] = 1\n",
    "\n",
    "cont = pd.DataFrame(np.zeros(radio_lessons.shape[0]), dtype=int, columns=['new content'])\n",
    "cont.loc[content[content == 1].index,:] = 1\n",
    "\n",
    "guid = pd.DataFrame(np.zeros(radio_lessons.shape[0]), dtype=int, columns=['guidance and support'])\n",
    "guid.loc[guidance[guidance == 1].index,:] = 1\n",
    "\n",
    "timing = pd.DataFrame(np.zeros(radio_lessons.shape[0]), dtype=int, columns=['broadcasting time and repetitions'])\n",
    "timing.loc[time[time == 1].index,:] = 1\n",
    "\n",
    "other_w = pd.DataFrame(np.zeros(radio_lessons.shape[0]), dtype=int, columns=['other topics'])\n",
    "other_w.loc[other[other == 1].index,:] = 1"
   ]
  },
  {
   "cell_type": "code",
   "execution_count": 138,
   "metadata": {},
   "outputs": [],
   "source": [
    "radio_lessons_vgood_group = pd.concat([coverage, prov, cont, guid, timing, other_w], axis=1)\n",
    "radio_lessons_vgood_group_2 = pd.concat([coverage, prov, cont, guid, timing], axis=1)"
   ]
  },
  {
   "cell_type": "markdown",
   "metadata": {},
   "source": [
    "Visualization"
   ]
  },
  {
   "cell_type": "code",
   "execution_count": 139,
   "metadata": {},
   "outputs": [],
   "source": [
    "labels = radio_lessons_vgood_group_2.columns.to_list()\n",
    "\n",
    "fig = go.Figure()\n",
    "fig.add_trace(go.Bar(\n",
    "    x=labels,\n",
    "    y=radio_lessons_vgood_group_2.sum().to_list(),\n",
    "    text=radio_lessons_vgood_group_2.sum().to_list(),\n",
    "    texttemplate='%{text}',\n",
    "    textposition=\"outside\",\n",
    "    textangle=0,\n",
    "    textfont_color=\"black\",\n",
    "))\n",
    "\n",
    "fig.update_traces(textfont_size=18)\n",
    "fig.update_layout(barmode='group',\n",
    "                  xaxis = dict(\n",
    "                      tickfont=dict(size=18)\n",
    "                  ),\n",
    "                      font=dict(\n",
    "                        size=18,\n",
    "                    ),\n",
    "                  title_text='If you found very good the quality of the radio lessons,<br>How can the radio lessons be improved?')\n",
    "pio.write_image(fig, 'plotly/radio_lessons_vgood_group.jpg', width=1024, height=780)"
   ]
  },
  {
   "cell_type": "code",
   "execution_count": 140,
   "metadata": {},
   "outputs": [
    {
     "data": {
      "image/png": "[encoded data removed]",
      "text/plain": [
       "<Figure size 720x360 with 1 Axes>"
      ]
     },
     "metadata": {
      "needs_background": "light"
     },
     "output_type": "display_data"
    }
   ],
   "source": [
    "plt.figure(figsize=(10,5))\n",
    "plt.bar(radio_lessons_vgood_group.columns, radio_lessons_vgood_group.sum())\n",
    "plt.title('If you found very good the quality of the radio lessons, How can the radio lessons be improved?')\n",
    "plt.xticks(rotation=45, ha='right')\n",
    "plt.savefig('data/imgs/radio_lessons_vgood.jpeg',bbox_inches='tight', dpi=300)\n",
    "plt.show()"
   ]
  },
  {
   "cell_type": "markdown",
   "metadata": {},
   "source": [
    "#### Trigram Vectorization\n",
    "Radio Lessons No Good Quality"
   ]
  },
  {
   "cell_type": "code",
   "execution_count": 141,
   "metadata": {},
   "outputs": [
    {
     "name": "stdout",
     "output_type": "stream",
     "text": [
      "389 words in dictionary.\n"
     ]
    }
   ],
   "source": [
    "radio_lessons_ngood_tri = bow_vectorization(data = radio_lessons_ngood.dropna(),\n",
    "                                          index = radio_lessons_ngood.dropna().index,\n",
    "                                          n_grams=(3, 3))"
   ]
  },
  {
   "cell_type": "code",
   "execution_count": 142,
   "metadata": {},
   "outputs": [],
   "source": [
    "# radio_lessons_fair_tri.sum().sort_values(ascending=False)[:30]"
   ]
  },
  {
   "cell_type": "markdown",
   "metadata": {},
   "source": [
    "#### Group Trigrams\n",
    "Trigrams about the coverage"
   ]
  },
  {
   "cell_type": "code",
   "execution_count": 143,
   "metadata": {},
   "outputs": [
    {
     "name": "stdout",
     "output_type": "stream",
     "text": [
      "50\n"
     ]
    }
   ],
   "source": [
    "coverage_1 = search(['area','cover','extension','tune','network','station','access','rural','fm','power'], \\\n",
    "                  'provis', radio_lessons_ngood_tri.columns)\n",
    "print(len(coverage_1))"
   ]
  },
  {
   "cell_type": "code",
   "execution_count": 144,
   "metadata": {},
   "outputs": [
    {
     "name": "stdout",
     "output_type": "stream",
     "text": [
      "49\n"
     ]
    }
   ],
   "source": [
    "coverage_2 = search(['area','cover','extension','tune','network','station','access','rural','fm','power'], \\\n",
    "                  'exten', radio_lessons_ngood_tri.columns)\n",
    "print(len(coverage_2))"
   ]
  },
  {
   "cell_type": "code",
   "execution_count": 145,
   "metadata": {},
   "outputs": [
    {
     "name": "stdout",
     "output_type": "stream",
     "text": [
      "50\n"
     ]
    }
   ],
   "source": [
    "coverage_3 = search(['area','cover','extension','tune','network','station','access','rural','fm','power'], \\\n",
    "                  'avail', radio_lessons_ngood_tri.columns)\n",
    "print(len(coverage_3))"
   ]
  },
  {
   "cell_type": "code",
   "execution_count": 146,
   "metadata": {},
   "outputs": [
    {
     "name": "stdout",
     "output_type": "stream",
     "text": [
      "49\n"
     ]
    }
   ],
   "source": [
    "coverage_4 = search(['area','cover','extension','tune','network','station','access','rural','fm','power'], \\\n",
    "                  'local', radio_lessons_ngood_tri.columns)\n",
    "print(len(coverage_4))"
   ]
  },
  {
   "cell_type": "code",
   "execution_count": 147,
   "metadata": {},
   "outputs": [
    {
     "data": {
      "text/plain": [
       "46"
      ]
     },
     "execution_count": 147,
     "metadata": {},
     "output_type": "execute_result"
    }
   ],
   "source": [
    "coverage = list(set(coverage_1 + coverage_2 + coverage_3 + coverage_4))\n",
    "len(coverage)"
   ]
  },
  {
   "cell_type": "markdown",
   "metadata": {},
   "source": [
    "Trigrams about the provision of radios"
   ]
  },
  {
   "cell_type": "code",
   "execution_count": 148,
   "metadata": {},
   "outputs": [
    {
     "data": {
      "text/plain": [
       "6"
      ]
     },
     "execution_count": 148,
     "metadata": {},
     "output_type": "execute_result"
    }
   ],
   "source": [
    "power = search(['powe','energ'],None, radio_lessons_ngood_tri.columns)\n",
    "len(power)"
   ]
  },
  {
   "cell_type": "code",
   "execution_count": 149,
   "metadata": {},
   "outputs": [
    {
     "data": {
      "text/plain": [
       "46"
      ]
     },
     "execution_count": 149,
     "metadata": {},
     "output_type": "execute_result"
    }
   ],
   "source": [
    "provision = search(['provis','dist','provid','everyone'], None, radio_lessons_ngood_tri.columns)\n",
    "len(provision)"
   ]
  },
  {
   "cell_type": "code",
   "execution_count": 150,
   "metadata": {},
   "outputs": [
    {
     "data": {
      "text/plain": [
       "12"
      ]
     },
     "execution_count": 150,
     "metadata": {},
     "output_type": "execute_result"
    }
   ],
   "source": [
    "tv = search(['video', 'tv', 'tele'], None, radio_lessons_ngood_tri.columns)\n",
    "len(tv)"
   ]
  },
  {
   "cell_type": "markdown",
   "metadata": {},
   "source": [
    "Trigrams about content"
   ]
  },
  {
   "cell_type": "code",
   "execution_count": 151,
   "metadata": {},
   "outputs": [
    {
     "data": {
      "text/plain": [
       "60"
      ]
     },
     "execution_count": 151,
     "metadata": {},
     "output_type": "execute_result"
    }
   ],
   "source": [
    "content = search(['subject', 'time', 'guid'], None, radio_lessons_ngood_tri.columns)\n",
    "len(content)"
   ]
  },
  {
   "cell_type": "markdown",
   "metadata": {},
   "source": [
    "Trigrams about speech"
   ]
  },
  {
   "cell_type": "code",
   "execution_count": 152,
   "metadata": {},
   "outputs": [
    {
     "data": {
      "text/plain": [
       "12"
      ]
     },
     "execution_count": 152,
     "metadata": {},
     "output_type": "execute_result"
    }
   ],
   "source": [
    "language = search(['language','trans','arab', 'pronunc'], None, radio_lessons_ngood_tri.columns)\n",
    "len(language)"
   ]
  },
  {
   "cell_type": "code",
   "execution_count": 153,
   "metadata": {},
   "outputs": [
    {
     "data": {
      "text/plain": [
       "6"
      ]
     },
     "execution_count": 153,
     "metadata": {},
     "output_type": "execute_result"
    }
   ],
   "source": [
    "speed = search(['speed','unders'], None, radio_lessons_ngood_tri.columns)\n",
    "len(speed)"
   ]
  },
  {
   "cell_type": "markdown",
   "metadata": {},
   "source": [
    "Trigrams about teaching"
   ]
  },
  {
   "cell_type": "code",
   "execution_count": 154,
   "metadata": {},
   "outputs": [
    {
     "data": {
      "text/plain": [
       "57"
      ]
     },
     "execution_count": 154,
     "metadata": {},
     "output_type": "execute_result"
    }
   ],
   "source": [
    "teaching = search(['guide', 'support', 'teacher', 'follow', 'expla', 'slow', 'question'], None, radio_lessons_ngood_tri.columns)\n",
    "len(teaching)"
   ]
  },
  {
   "cell_type": "markdown",
   "metadata": {},
   "source": [
    "Tigrams about school re-opening"
   ]
  },
  {
   "cell_type": "code",
   "execution_count": 155,
   "metadata": {},
   "outputs": [
    {
     "data": {
      "text/plain": [
       "47"
      ]
     },
     "execution_count": 155,
     "metadata": {},
     "output_type": "execute_result"
    }
   ],
   "source": [
    "school = search(['reopen', 'open'], None, radio_lessons_ngood_tri.columns)\n",
    "len(school)"
   ]
  },
  {
   "cell_type": "markdown",
   "metadata": {},
   "source": [
    "Tigrams about time (to listen, of broadcast)"
   ]
  },
  {
   "cell_type": "code",
   "execution_count": 156,
   "metadata": {},
   "outputs": [
    {
     "data": {
      "text/plain": [
       "65"
      ]
     },
     "execution_count": 156,
     "metadata": {},
     "output_type": "execute_result"
    }
   ],
   "source": [
    "time = search(['time', 'repeat', 'timing', 'tmie', 'freq'], None, radio_lessons_ngood_tri.columns)\n",
    "len(time)"
   ]
  },
  {
   "cell_type": "markdown",
   "metadata": {},
   "source": [
    "Count one per concept apperance (not word)"
   ]
  },
  {
   "cell_type": "code",
   "execution_count": 157,
   "metadata": {},
   "outputs": [],
   "source": [
    "cover = radio_lessons_ngood_tri[coverage]"
   ]
  },
  {
   "cell_type": "code",
   "execution_count": 158,
   "metadata": {},
   "outputs": [],
   "source": [
    "r_provision = radio_lessons_ngood_tri[list(set(power + provision + tv))]"
   ]
  },
  {
   "cell_type": "code",
   "execution_count": 159,
   "metadata": {},
   "outputs": [],
   "source": [
    "l_content = radio_lessons_ngood_tri[content]"
   ]
  },
  {
   "cell_type": "code",
   "execution_count": 160,
   "metadata": {},
   "outputs": [],
   "source": [
    "#teach = radio_lessons_good_tri[teaching]"
   ]
  },
  {
   "cell_type": "code",
   "execution_count": 161,
   "metadata": {},
   "outputs": [],
   "source": [
    "r_time = radio_lessons_ngood_tri[time]"
   ]
  },
  {
   "cell_type": "code",
   "execution_count": 162,
   "metadata": {},
   "outputs": [],
   "source": [
    "#l_speech = radio_lessons_good_tri[list(set(language +  speed))]"
   ]
  },
  {
   "cell_type": "code",
   "execution_count": 163,
   "metadata": {},
   "outputs": [],
   "source": [
    "guidance = radio_lessons_ngood_tri[list(set(language +  speed + teaching))]"
   ]
  },
  {
   "cell_type": "markdown",
   "metadata": {},
   "source": [
    "The rest of the Trigrams"
   ]
  },
  {
   "cell_type": "code",
   "execution_count": 164,
   "metadata": {},
   "outputs": [],
   "source": [
    "other = radio_lessons_ngood_tri.drop(cover.columns.to_list() + \\\n",
    "                                    l_content.columns.to_list() + \\\n",
    "                                    r_provision.columns.to_list() + \\\n",
    "                                    r_time.columns.to_list() + \\\n",
    "                                    guidance.columns.to_list(), axis=1)"
   ]
  },
  {
   "cell_type": "code",
   "execution_count": 165,
   "metadata": {},
   "outputs": [
    {
     "data": {
      "text/plain": [
       "181"
      ]
     },
     "execution_count": 165,
     "metadata": {},
     "output_type": "execute_result"
    }
   ],
   "source": [
    "test_other = radio_lessons_ngood_tri.drop(cover.columns.to_list() + \\\n",
    "                                    l_content.columns.to_list() + \\\n",
    "                                    r_provision.columns.to_list() + \\\n",
    "                                    r_time.columns.to_list() + \\\n",
    "                                    guidance.columns.to_list(), axis=1)\n",
    "len(test_other.columns.to_list())"
   ]
  },
  {
   "cell_type": "code",
   "execution_count": 166,
   "metadata": {},
   "outputs": [],
   "source": [
    "cover = cover.sum(axis=1)\n",
    "content = l_content.sum(axis=1)\n",
    "guidance = guidance.sum(axis=1)\n",
    "time = r_time.sum(axis=1)\n",
    "provision = r_provision.sum(axis=1)\n",
    "other = other.sum(axis=1)"
   ]
  },
  {
   "cell_type": "code",
   "execution_count": 167,
   "metadata": {},
   "outputs": [],
   "source": [
    "cover[cover != 0] = 1\n",
    "content[content != 0] = 1\n",
    "guidance[guidance != 0] = 1\n",
    "time[time != 0] = 1\n",
    "provision[provision != 0] = 1\n",
    "other[other != 0] = 1"
   ]
  },
  {
   "cell_type": "code",
   "execution_count": 168,
   "metadata": {},
   "outputs": [],
   "source": [
    "coverage = pd.DataFrame(np.zeros(radio_lessons.shape[0]), dtype=int, columns=['radio coverage'])\n",
    "coverage.loc[cover[cover == 1].index,:] = 1\n",
    "\n",
    "prov = pd.DataFrame(np.zeros(radio_lessons.shape[0]), dtype=int, columns=['radio distribution'])\n",
    "prov.loc[provision[provision == 1].index,:] = 1\n",
    "\n",
    "cont = pd.DataFrame(np.zeros(radio_lessons.shape[0]), dtype=int, columns=['new content'])\n",
    "cont.loc[content[content == 1].index,:] = 1\n",
    "\n",
    "guid = pd.DataFrame(np.zeros(radio_lessons.shape[0]), dtype=int, columns=['guidance and support'])\n",
    "guid.loc[guidance[guidance == 1].index,:] = 1\n",
    "\n",
    "timing = pd.DataFrame(np.zeros(radio_lessons.shape[0]), dtype=int, columns=['broadcasting time and repetitions'])\n",
    "timing.loc[time[time == 1].index,:] = 1\n",
    "\n",
    "other_w = pd.DataFrame(np.zeros(radio_lessons.shape[0]), dtype=int, columns=['other topics'])\n",
    "other_w.loc[other[other == 1].index,:] = 1"
   ]
  },
  {
   "cell_type": "code",
   "execution_count": 169,
   "metadata": {},
   "outputs": [],
   "source": [
    "radio_lessons_ngood_group = pd.concat([coverage, prov, cont, guid, timing, other_w], axis=1)\n",
    "radio_lessons_ngood_group_2 = pd.concat([coverage, prov, cont, guid, timing], axis=1)"
   ]
  },
  {
   "cell_type": "markdown",
   "metadata": {},
   "source": [
    "Visualization"
   ]
  },
  {
   "cell_type": "code",
   "execution_count": 170,
   "metadata": {},
   "outputs": [],
   "source": [
    "labels = radio_lessons_ngood_group_2.columns.to_list()\n",
    "\n",
    "fig = go.Figure()\n",
    "fig.add_trace(go.Bar(\n",
    "    x=labels,\n",
    "    y=radio_lessons_ngood_group_2.sum().to_list(),\n",
    "    text=radio_lessons_ngood_group_2.sum().to_list(),\n",
    "    texttemplate='%{text}',\n",
    "    textposition=\"outside\",\n",
    "    textangle=0,\n",
    "    textfont_color=\"black\",\n",
    "))\n",
    "\n",
    "fig.update_traces(textfont_size=18)\n",
    "fig.update_layout(barmode='group',\n",
    "                  xaxis = dict(\n",
    "                      tickfont=dict(size=18)\n",
    "                  ),\n",
    "                      font=dict(\n",
    "                        size=18,\n",
    "                    ),\n",
    "                  title_text='If you did not find good the quality of the radio lessons,<br>How can the radio lessons be improved?')\n",
    "pio.write_image(fig, 'plotly/radio_lessons_ngood_group.jpg', width=1024, height=780)"
   ]
  },
  {
   "cell_type": "code",
   "execution_count": 171,
   "metadata": {},
   "outputs": [
    {
     "data": {
      "image/png": "[encoded data removed]",
      "text/plain": [
       "<Figure size 720x360 with 1 Axes>"
      ]
     },
     "metadata": {
      "needs_background": "light"
     },
     "output_type": "display_data"
    }
   ],
   "source": [
    "plt.figure(figsize=(10,5))\n",
    "plt.bar(radio_lessons_ngood_group.columns, radio_lessons_ngood_group.sum())\n",
    "plt.title('If you did not find good the quality of the radio lessons, How can the radio lessons be improved?')\n",
    "plt.xticks(rotation=45, ha='right')\n",
    "plt.savefig('data/imgs/radio_lessons_ngood.jpeg',bbox_inches='tight', dpi=300)\n",
    "plt.show()"
   ]
  },
  {
   "cell_type": "markdown",
   "metadata": {},
   "source": [
    "#### Save vectors and concepts"
   ]
  },
  {
   "cell_type": "code",
   "execution_count": 172,
   "metadata": {},
   "outputs": [],
   "source": [
    "radio_lessons_good_group.to_csv('data/concepts/radio_lessons_good_concepts.csv')\n",
    "radio_lessons_fair_group.to_csv('data/concepts/radio_lessons_fair_concepts.csv')\n",
    "\n",
    "radio_lessons_vgood_group.to_csv('data/concepts/radio_lessons_vgood_concepts.csv')\n",
    "radio_lessons_ngood_group.to_csv('data/concepts/radio_lessons_ngood_concepts.csv')"
   ]
  },
  {
   "cell_type": "code",
   "execution_count": 173,
   "metadata": {},
   "outputs": [],
   "source": [
    "radio_lessons_good_tri.to_csv('data/tokens/radio_lessons_good.csv')\n",
    "radio_lessons_fair_tri.to_csv('data/tokens/radio_lessons_fair.csv')\n",
    "\n",
    "radio_lessons_vgood_tri.to_csv('data/tokens/radio_lessons_vgood.csv')\n",
    "radio_lessons_ngood_tri.to_csv('data/tokens/radio_lessons_ngood.csv')"
   ]
  },
  {
   "cell_type": "code",
   "execution_count": 174,
   "metadata": {},
   "outputs": [
    {
     "data": {
      "text/plain": [
       "[19.5, 21.4, 18.4, 14.2, 17.4]"
      ]
     },
     "execution_count": 174,
     "metadata": {},
     "output_type": "execute_result"
    }
   ],
   "source": [
    "np.round((radio_lessons_good_group.iloc[:,:-1].sum() / radio_lessons_good.shape[0])*100,1).to_list()"
   ]
  },
  {
   "cell_type": "markdown",
   "metadata": {},
   "source": [
    "### Versus"
   ]
  },
  {
   "cell_type": "code",
   "execution_count": 175,
   "metadata": {},
   "outputs": [],
   "source": [
    "ag = radio_lessons_good.shape[0]\n",
    "avg= radio_lessons_vgood.shape[0]\n",
    "ang = radio_lessons_ngood.shape[0]\n",
    "af = radio_lessons_fair.shape[0]"
   ]
  },
  {
   "cell_type": "code",
   "execution_count": 176,
   "metadata": {},
   "outputs": [],
   "source": [
    "labels = radio_lessons_vgood_group.columns.to_list()\n",
    "\n",
    "vgood = radio_lessons_vgood_group.iloc[:,:-1].sum().to_list()\n",
    "good = radio_lessons_good_group.iloc[:,:-1].sum().to_list()\n",
    "fair = radio_lessons_fair_group.iloc[:,:-1].sum().to_list()\n",
    "ngood = radio_lessons_ngood_group.iloc[:,:-1].sum().to_list()\n",
    "\n",
    "\n",
    "fig = go.Figure()\n",
    "fig.add_trace(go.Bar(\n",
    "    x=labels,\n",
    "    y=vgood,\n",
    "    text=vgood,\n",
    "    name=f'Very Good Quality',\n",
    "    texttemplate='%{text}',\n",
    "    textposition=\"inside\",\n",
    "    textangle=0,\n",
    "    textfont_color=\"white\",\n",
    "))\n",
    "fig.add_trace(go.Bar(\n",
    "    x=labels,\n",
    "    y=good,\n",
    "    name=f'Good Radio Quality',\n",
    "    text=good,\n",
    "    texttemplate='%{text}',\n",
    "    textposition=\"inside\",\n",
    "    textangle=0,\n",
    "    textfont_color=\"white\",\n",
    "))\n",
    "fig.add_trace(go.Bar(\n",
    "    x=labels,\n",
    "    y=fair,\n",
    "    name=f'Fair Radio Quality',\n",
    "    text=fair,\n",
    "    texttemplate='%{text}',\n",
    "    textposition=\"inside\",\n",
    "    textangle=0,\n",
    "    textfont_color=\"white\",\n",
    "))\n",
    "fig.add_trace(go.Bar(\n",
    "    x=labels,\n",
    "    y=ngood,\n",
    "    name=f'No Good Radio Quality',\n",
    "    text=ngood,\n",
    "    texttemplate='%{text}',\n",
    "    textposition=\"inside\",\n",
    "    textangle=0,\n",
    "    textfont_color=\"white\",\n",
    "))\n",
    "\n",
    "fig.update_traces(textfont_size=18)\n",
    "fig.update_layout(barmode='group',\n",
    "                  xaxis = dict(\n",
    "                      tickfont=dict(size=18)\n",
    "                  ),\n",
    "                  font=dict(\n",
    "                      size=18,\n",
    "                  ),\n",
    "                  title_text='<b>How can the radio lessons be improved?</b><br>Topics per group of opinions')\n",
    "#fig.write_html(\"data/file_2.html\")\n",
    "pio.write_image(fig, 'plotly/comparative.jpg', width=1024, height=780)"
   ]
  },
  {
   "cell_type": "code",
   "execution_count": 177,
   "metadata": {},
   "outputs": [],
   "source": [
    "labels = radio_lessons_vgood_group.columns.to_list()\n",
    "\n",
    "vgood = np.round((radio_lessons_vgood_group.iloc[:,:-1].sum() / radio_lessons_vgood.shape[0]*100),1).to_list()\n",
    "good = np.round((radio_lessons_good_group.iloc[:,:-1].sum() / radio_lessons_good.shape[0]*100),1).to_list()\n",
    "fair = np.round((radio_lessons_fair_group.iloc[:,:-1].sum() / radio_lessons_fair.shape[0]*100),1).to_list()\n",
    "ngood = np.round((radio_lessons_ngood_group.iloc[:,:-1].sum() / radio_lessons_ngood.shape[0]*100),1).to_list()\n",
    "\n",
    "\n",
    "fig = go.Figure()\n",
    "fig.add_trace(go.Bar(\n",
    "    x=labels,\n",
    "    y=vgood,\n",
    "    text=vgood,\n",
    "    name='Very Good Quality',\n",
    "    texttemplate='%{text:.2s}%',\n",
    "    textposition=\"inside\",\n",
    "    textangle=0,\n",
    "    textfont_color=\"white\",\n",
    "))\n",
    "fig.add_trace(go.Bar(\n",
    "    x=labels,\n",
    "    y=good,\n",
    "    name='Good Radio Quality',\n",
    "    text=good,\n",
    "    texttemplate='%{text:.2s}%',\n",
    "    textposition=\"inside\",\n",
    "    textangle=0,\n",
    "    textfont_color=\"white\",\n",
    "))\n",
    "fig.add_trace(go.Bar(\n",
    "    x=labels,\n",
    "    y=fair,\n",
    "    name='Fair Radio Quality',\n",
    "    text=fair,\n",
    "    texttemplate='%{text:.2s}%',\n",
    "    textposition=\"inside\",\n",
    "    textangle=0,\n",
    "    textfont_color=\"white\",\n",
    "))\n",
    "fig.add_trace(go.Bar(\n",
    "    x=labels,\n",
    "    y=ngood,\n",
    "    name='No Good Radio Quality',\n",
    "    text=ngood,\n",
    "    texttemplate='%{text:.2s}%',\n",
    "    textposition=\"inside\",\n",
    "    textangle=0,\n",
    "    textfont_color=\"white\",\n",
    "))\n",
    "\n",
    "fig.update_layout(barmode='group',\n",
    "                  xaxis = dict(\n",
    "                      tickfont=dict(size=18)\n",
    "                  ),\n",
    "                  title_text='<b>How can the radio lessons be improved?</b><br>Topics per group of opinions')\n",
    "fig.write_html(\"data/file.html\")\n",
    "pio.write_image(fig, 'plotly/comparative_percent.jpg', width=1024, height=780)"
   ]
  }
 ],
 "metadata": {
  "kernelspec": {
   "display_name": "Python 3",
   "language": "python",
   "name": "python3"
  },
  "language_info": {
   "codemirror_mode": {
    "name": "ipython",
    "version": 3
   },
   "file_extension": ".py",
   "mimetype": "text/x-python",
   "name": "python",
   "nbconvert_exporter": "python",
   "pygments_lexer": "ipython3",
   "version": "3.7.7"
  }
 },
 "nbformat": 4,
 "nbformat_minor": 4
}
