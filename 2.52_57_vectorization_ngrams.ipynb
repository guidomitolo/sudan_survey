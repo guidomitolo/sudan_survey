{
 "cells": [
  {
   "cell_type": "markdown",
   "metadata": {},
   "source": [
    "## Vectorization"
   ]
  },
  {
   "cell_type": "code",
   "execution_count": 1,
   "metadata": {},
   "outputs": [],
   "source": [
    "import pandas as pd\n",
    "import numpy as np\n",
    "import re\n",
    "import nltk\n",
    "\n",
    "import matplotlib.pyplot as plt\n",
    "import seaborn as sns\n",
    "\n",
    "from nltk.corpus import stopwords\n",
    "from sklearn.feature_extraction.text import CountVectorizer"
   ]
  },
  {
   "cell_type": "markdown",
   "metadata": {},
   "source": [
    "### 1. Load Data"
   ]
  },
  {
   "cell_type": "markdown",
   "metadata": {},
   "source": [
    "#### Open-ended Answers"
   ]
  },
  {
   "cell_type": "code",
   "execution_count": 2,
   "metadata": {},
   "outputs": [],
   "source": [
    "quantity_learning = pd.read_csv('./data/quantity_learning.csv')"
   ]
  },
  {
   "cell_type": "code",
   "execution_count": 3,
   "metadata": {},
   "outputs": [],
   "source": [
    "radio_lessons = pd.read_csv('./data/radio_lessons.csv')"
   ]
  },
  {
   "cell_type": "markdown",
   "metadata": {},
   "source": [
    "## 2. Count vectorization function\n",
    "#### 2.1. Retrieve bi/trigrams tokens, refine and encode"
   ]
  },
  {
   "cell_type": "code",
   "execution_count": 4,
   "metadata": {},
   "outputs": [],
   "source": [
    "stopwords = stopwords.words('english')"
   ]
  },
  {
   "cell_type": "code",
   "execution_count": 5,
   "metadata": {},
   "outputs": [],
   "source": [
    "def removal(text):\n",
    "    text = re.sub(r'(\\d|\\$|\\%|\\+)', '', text.lower())\n",
    "    return re.sub(r'\\d+', '', text)"
   ]
  },
  {
   "cell_type": "code",
   "execution_count": 6,
   "metadata": {},
   "outputs": [],
   "source": [
    "def bow_vectorization(data, index, n_grams):\n",
    "    vectorizer = CountVectorizer(stop_words = stopwords, lowercase = True, strip_accents='unicode', ngram_range=n_grams, preprocessor=removal)\n",
    "    data_tokens = vectorizer.fit_transform(data)\n",
    "    print(len(vectorizer.vocabulary_),'words in dictionary.')\n",
    "    return pd.DataFrame(data_tokens.todense(), columns=vectorizer.get_feature_names(), index=index)"
   ]
  },
  {
   "cell_type": "markdown",
   "metadata": {},
   "source": [
    "#### 2.2. Search word in vocabulary"
   ]
  },
  {
   "cell_type": "raw",
   "metadata": {},
   "source": [
    "def search(word_in=None, word_out=None, vocabulary=None):\n",
    "    if word_in is None:\n",
    "        return 'no words to search'\n",
    "    words = []\n",
    "    for term in vocabulary:\n",
    "        if word_out is None:\n",
    "            if word_in in term:\n",
    "                words.append(term)            \n",
    "        else:\n",
    "            if word_in in term and word_out not in term:\n",
    "                words.append(term)\n",
    "    return words"
   ]
  },
  {
   "cell_type": "code",
   "execution_count": 7,
   "metadata": {},
   "outputs": [],
   "source": [
    "def search(word_in=None, word_out=None, vocabulary=None):\n",
    "    if word_in is None:\n",
    "        return 'no words to search'\n",
    "\n",
    "    words = []\n",
    "    if isinstance(word_in, list):\n",
    "        for word in word_in:\n",
    "            for term in vocabulary:\n",
    "                if word in term:\n",
    "                    words.append(term)            \n",
    "    else:\n",
    "        for term in vocabulary:\n",
    "            if word_in in term:\n",
    "                words.append(term)\n",
    "    \n",
    "    words_clean = []\n",
    "    if word_out:\n",
    "        if isinstance(word_out,str):\n",
    "            word_out = [word_out]\n",
    "        for word in word_out:\n",
    "            for term in words:\n",
    "                if word in term:\n",
    "                    pass\n",
    "                else:\n",
    "                    words_clean.append(term)\n",
    "        return words_clean\n",
    "    else:\n",
    "        return words"
   ]
  },
  {
   "cell_type": "markdown",
   "metadata": {},
   "source": [
    "## 3. Questions to vectorize"
   ]
  },
  {
   "cell_type": "markdown",
   "metadata": {},
   "source": [
    "### 3.4. Are you/your learners learning more or are you learning less using radio lessons since the COVID-19 school closures? Why?"
   ]
  },
  {
   "cell_type": "code",
   "execution_count": 201,
   "metadata": {},
   "outputs": [
    {
     "data": {
      "text/plain": [
       "Less        1249\n",
       "More          80\n",
       "The same      46\n",
       "Name: Q52_Are you/your learners learning more or are you learning less using radio lessons since the COVID-19 school closures?, dtype: int64"
      ]
     },
     "execution_count": 201,
     "metadata": {},
     "output_type": "execute_result"
    }
   ],
   "source": [
    "quantity_learning.iloc[:,1].value_counts()"
   ]
  },
  {
   "cell_type": "markdown",
   "metadata": {},
   "source": [
    "Get only 'Less' answers"
   ]
  },
  {
   "cell_type": "code",
   "execution_count": 202,
   "metadata": {},
   "outputs": [],
   "source": [
    "quantity_learning_less = quantity_learning[quantity_learning.iloc[:,1] == 'Less'].iloc[:,2]"
   ]
  },
  {
   "cell_type": "code",
   "execution_count": 203,
   "metadata": {},
   "outputs": [
    {
     "data": {
      "text/plain": [
       "['Because radios are not many in our area',\n",
       " 'Because of power for charging radio',\n",
       " 'Because of COVID_19',\n",
       " 'Due to restrictions by the Covid 19 ',\n",
       " 'Because of Covid 19 restrictions ',\n",
       " 'Some teachers in radio lesson use complicated language hard to understand',\n",
       " \"I don't know\",\n",
       " 'Rodio it is not enough',\n",
       " 'Teaching is past',\n",
       " 'Teaching is past in during the lesson']"
      ]
     },
     "execution_count": 203,
     "metadata": {},
     "output_type": "execute_result"
    }
   ],
   "source": [
    "quantity_learning[quantity_learning.iloc[:,1] == 'Less'].iloc[:,2].tolist()[:10]"
   ]
  },
  {
   "cell_type": "markdown",
   "metadata": {},
   "source": [
    "#### Trigram vectorization\n",
    "Learning Less with radio lessons after covid"
   ]
  },
  {
   "cell_type": "code",
   "execution_count": 204,
   "metadata": {},
   "outputs": [
    {
     "name": "stdout",
     "output_type": "stream",
     "text": [
      "1195 words in dictionary.\n"
     ]
    }
   ],
   "source": [
    "quantity_learning_less_tri = bow_vectorization(data = quantity_learning_less.dropna(), \n",
    "                                               index = quantity_learning_less.dropna().index,\n",
    "                                               n_grams=(3, 3))"
   ]
  },
  {
   "cell_type": "code",
   "execution_count": 205,
   "metadata": {},
   "outputs": [],
   "source": [
    "#quantity_learning_less_tri.sum().sort_values(ascending=False)[:60]"
   ]
  },
  {
   "cell_type": "markdown",
   "metadata": {},
   "source": [
    "#### Group Trigrams\n",
    "Trigrams about work"
   ]
  },
  {
   "cell_type": "code",
   "execution_count": 206,
   "metadata": {},
   "outputs": [
    {
     "data": {
      "text/plain": [
       "57"
      ]
     },
     "execution_count": 206,
     "metadata": {},
     "output_type": "execute_result"
    }
   ],
   "source": [
    "domestic_work = search(['domestic','garden'], None, quantity_learning_less_tri.columns)\n",
    "len(domestic_work)"
   ]
  },
  {
   "cell_type": "code",
   "execution_count": 207,
   "metadata": {},
   "outputs": [
    {
     "data": {
      "text/plain": [
       "336"
      ]
     },
     "execution_count": 207,
     "metadata": {},
     "output_type": "execute_result"
    }
   ],
   "source": [
    "out_work = search('work', ['domestic','home','house','garden'], quantity_learning_less_tri.columns)\n",
    "len(out_work)"
   ]
  },
  {
   "cell_type": "code",
   "execution_count": 208,
   "metadata": {},
   "outputs": [
    {
     "data": {
      "text/plain": [
       "23"
      ]
     },
     "execution_count": 208,
     "metadata": {},
     "output_type": "execute_result"
    }
   ],
   "source": [
    "activities = search('activities', 'less', quantity_learning_less_tri.columns)\n",
    "len(activities)"
   ]
  },
  {
   "cell_type": "markdown",
   "metadata": {},
   "source": [
    "Trigrams about time"
   ]
  },
  {
   "cell_type": "code",
   "execution_count": 209,
   "metadata": {},
   "outputs": [
    {
     "data": {
      "text/plain": [
       "229"
      ]
     },
     "execution_count": 209,
     "metadata": {},
     "output_type": "execute_result"
    }
   ],
   "source": [
    "time = search('time', None, quantity_learning_less_tri.columns)\n",
    "len(time)"
   ]
  },
  {
   "cell_type": "code",
   "execution_count": 210,
   "metadata": {},
   "outputs": [
    {
     "data": {
      "text/plain": [
       "189"
      ]
     },
     "execution_count": 210,
     "metadata": {},
     "output_type": "execute_result"
    }
   ],
   "source": [
    "less = search('less', None, quantity_learning_less_tri.columns)\n",
    "len(less)"
   ]
  },
  {
   "cell_type": "code",
   "execution_count": 211,
   "metadata": {},
   "outputs": [
    {
     "data": {
      "text/plain": [
       "22"
      ]
     },
     "execution_count": 211,
     "metadata": {},
     "output_type": "execute_result"
    }
   ],
   "source": [
    "lack = search('lack', None, quantity_learning_less_tri.columns)\n",
    "len(lack)"
   ]
  },
  {
   "cell_type": "markdown",
   "metadata": {},
   "source": [
    "Trigrams about education"
   ]
  },
  {
   "cell_type": "code",
   "execution_count": 212,
   "metadata": {},
   "outputs": [
    {
     "data": {
      "text/plain": [
       "90"
      ]
     },
     "execution_count": 212,
     "metadata": {},
     "output_type": "execute_result"
    }
   ],
   "source": [
    "education = search(['teacher','underst'], None, quantity_learning_less_tri.columns)\n",
    "len(education)"
   ]
  },
  {
   "cell_type": "markdown",
   "metadata": {},
   "source": [
    "Trigrams about radio"
   ]
  },
  {
   "cell_type": "code",
   "execution_count": 213,
   "metadata": {},
   "outputs": [
    {
     "data": {
      "text/plain": [
       "324"
      ]
     },
     "execution_count": 213,
     "metadata": {},
     "output_type": "execute_result"
    }
   ],
   "source": [
    "radio = search(['radio','acces','cove'], None, quantity_learning_less_tri.columns)\n",
    "len(radio)"
   ]
  },
  {
   "cell_type": "markdown",
   "metadata": {},
   "source": [
    "Count one per concept apperance (not word)"
   ]
  },
  {
   "cell_type": "code",
   "execution_count": 214,
   "metadata": {},
   "outputs": [],
   "source": [
    "domestic_w = quantity_learning_less_tri[domestic_work]"
   ]
  },
  {
   "cell_type": "code",
   "execution_count": 215,
   "metadata": {},
   "outputs": [],
   "source": [
    "ex_work = quantity_learning_less_tri[list(set(out_work + activities))]"
   ]
  },
  {
   "cell_type": "code",
   "execution_count": 216,
   "metadata": {},
   "outputs": [],
   "source": [
    "time = quantity_learning_less_tri[list(set(time + less + lack))]"
   ]
  },
  {
   "cell_type": "code",
   "execution_count": 217,
   "metadata": {},
   "outputs": [],
   "source": [
    "ed = quantity_learning_less_tri[education]"
   ]
  },
  {
   "cell_type": "code",
   "execution_count": 218,
   "metadata": {},
   "outputs": [],
   "source": [
    "get_radio = quantity_learning_less_tri[radio]"
   ]
  },
  {
   "cell_type": "markdown",
   "metadata": {},
   "source": [
    "The rest of the Bigrams"
   ]
  },
  {
   "cell_type": "code",
   "execution_count": 219,
   "metadata": {},
   "outputs": [],
   "source": [
    "other = quantity_learning_less_tri.drop(domestic_w.columns.to_list() + \\\n",
    "                               ex_work.columns.to_list() + \\\n",
    "                               time.columns.to_list() + \\\n",
    "                               ed.columns.to_list() + \\\n",
    "                               get_radio.columns.to_list(), axis=1)\n",
    "test_other = quantity_learning_less_tri.drop(domestic_w.columns.to_list() + \\\n",
    "                               ex_work.columns.to_list() + \\\n",
    "                               time.columns.to_list() + \\\n",
    "                               ed.columns.to_list() + \\\n",
    "                               get_radio.columns.to_list(), axis=1)"
   ]
  },
  {
   "cell_type": "code",
   "execution_count": 220,
   "metadata": {},
   "outputs": [],
   "source": [
    "domestic_w = domestic_w.sum(axis=1)\n",
    "ex_work = ex_work.sum(axis=1)\n",
    "time = time.sum(axis=1)\n",
    "ed = ed.sum(axis=1)\n",
    "other = other.sum(axis=1)"
   ]
  },
  {
   "cell_type": "code",
   "execution_count": 221,
   "metadata": {},
   "outputs": [],
   "source": [
    "domestic_w[domestic_w != 0] = 1\n",
    "ex_work[ex_work != 0] = 1\n",
    "time[time != 0] = 1\n",
    "ed[ed != 0] = 1\n",
    "other[other != 0] = 1"
   ]
  },
  {
   "cell_type": "code",
   "execution_count": 222,
   "metadata": {},
   "outputs": [],
   "source": [
    "domestic = pd.DataFrame(np.zeros(quantity_learning.shape[0]), dtype=int, columns=['domestic work'])\n",
    "domestic.loc[domestic_w[domestic_w == 1].index,:] = 1\n",
    "work = pd.DataFrame(np.zeros(quantity_learning.shape[0]), dtype=int, columns=['external work'])\n",
    "work.loc[ex_work[ex_work == 1].index,:] = 1\n",
    "no_time = pd.DataFrame(np.zeros(quantity_learning.shape[0]), dtype=int, columns=['no time'])\n",
    "no_time.loc[time[time == 1].index,:] = 1\n",
    "no_ed = pd.DataFrame(np.zeros(quantity_learning.shape[0]), dtype=int, columns=['less education'])\n",
    "no_ed.loc[ed[ed == 1].index,:] = 1\n",
    "other_w = pd.DataFrame(np.zeros(quantity_learning.shape[0]), dtype=int, columns=['other triagrams'])\n",
    "other_w.loc[other[other == 1].index,:] = 1"
   ]
  },
  {
   "cell_type": "code",
   "execution_count": 223,
   "metadata": {},
   "outputs": [],
   "source": [
    "quantity_learning_less_group = pd.concat([domestic, work, no_time, no_ed, other_w], axis=1)"
   ]
  },
  {
   "cell_type": "code",
   "execution_count": 398,
   "metadata": {},
   "outputs": [
    {
     "data": {
      "image/png": "[encoded data removed]",
      "text/plain": [
       "<Figure size 720x360 with 1 Axes>"
      ]
     },
     "metadata": {
      "needs_background": "light"
     },
     "output_type": "display_data"
    }
   ],
   "source": [
    "plt.figure(figsize=(10,5))\n",
    "plt.bar(quantity_learning_less_group.columns, quantity_learning_less_group.sum())\n",
    "plt.title('Are you/your learners learning more or are you learning less using radio lessons since the COVID-19 school closures?\\nWhy less?')\n",
    "plt.xticks(rotation=45, ha='right')\n",
    "plt.savefig('data/imgs/learning_quant_less.jpeg',bbox_inches='tight', dpi=300)\n",
    "plt.show()"
   ]
  },
  {
   "cell_type": "code",
   "execution_count": 225,
   "metadata": {},
   "outputs": [
    {
     "data": {
      "text/plain": [
       "0.03923138510808647"
      ]
     },
     "execution_count": 225,
     "metadata": {},
     "output_type": "execute_result"
    }
   ],
   "source": [
    "quantity_learning_less_group.loc[:,'domestic work'].sum() / quantity_learning_less.shape[0]"
   ]
  },
  {
   "cell_type": "code",
   "execution_count": 226,
   "metadata": {},
   "outputs": [
    {
     "data": {
      "text/plain": [
       "0.08566853482786228"
      ]
     },
     "execution_count": 226,
     "metadata": {},
     "output_type": "execute_result"
    }
   ],
   "source": [
    "quantity_learning_less_group.loc[:,'external work'].sum() / quantity_learning_less.shape[0]"
   ]
  },
  {
   "cell_type": "code",
   "execution_count": 227,
   "metadata": {},
   "outputs": [
    {
     "data": {
      "text/plain": [
       "0.2177742193755004"
      ]
     },
     "execution_count": 227,
     "metadata": {},
     "output_type": "execute_result"
    }
   ],
   "source": [
    "quantity_learning_less_group.loc[:,'no time'].sum() / quantity_learning_less.shape[0]"
   ]
  },
  {
   "cell_type": "code",
   "execution_count": 228,
   "metadata": {},
   "outputs": [
    {
     "data": {
      "text/plain": [
       "0.053642914331465175"
      ]
     },
     "execution_count": 228,
     "metadata": {},
     "output_type": "execute_result"
    }
   ],
   "source": [
    "quantity_learning_less_group.loc[:,'less education'].sum() / quantity_learning_less.shape[0]"
   ]
  },
  {
   "cell_type": "markdown",
   "metadata": {},
   "source": [
    "#### Save vectors and concepts"
   ]
  },
  {
   "cell_type": "code",
   "execution_count": 229,
   "metadata": {},
   "outputs": [],
   "source": [
    "# tokens\n",
    "quantity_learning_less_tri.to_csv('data/tokens/quantity_learning_less_yes.csv')\n",
    "# concepts\n",
    "quantity_learning_less_group.to_csv('data/concepts/quantity_learning_less_concepts.csv')"
   ]
  },
  {
   "cell_type": "markdown",
   "metadata": {},
   "source": [
    "### 3.5. What is the quality of the radio lessons? How can the radio lessons be improved?"
   ]
  },
  {
   "cell_type": "code",
   "execution_count": 353,
   "metadata": {},
   "outputs": [
    {
     "data": {
      "text/plain": [
       "Unnamed: 0                                        4727\n",
       "Q57_What is the quality of the radio lessons?     1375\n",
       "Q58_How can the radio lessons be improved?        1375\n",
       "dtype: int64"
      ]
     },
     "execution_count": 353,
     "metadata": {},
     "output_type": "execute_result"
    }
   ],
   "source": [
    "radio_lessons.notnull().sum()"
   ]
  },
  {
   "cell_type": "code",
   "execution_count": 354,
   "metadata": {},
   "outputs": [
    {
     "data": {
      "text/plain": [
       "Good         644\n",
       "Fair         396\n",
       "Not good     186\n",
       "Very good    149\n",
       "Name: Q57_What is the quality of the radio lessons? , dtype: int64"
      ]
     },
     "execution_count": 354,
     "metadata": {},
     "output_type": "execute_result"
    }
   ],
   "source": [
    "radio_lessons.iloc[:,1].value_counts()"
   ]
  },
  {
   "cell_type": "markdown",
   "metadata": {},
   "source": [
    "Don't Know"
   ]
  },
  {
   "cell_type": "code",
   "execution_count": 355,
   "metadata": {},
   "outputs": [],
   "source": [
    "dk_mask = radio_lessons.iloc[:,2].str.contains(\"don't know\", na=False) | \\\n",
    "              radio_lessons.iloc[:,2].str.contains(\"no know\", na=False) | \\\n",
    "              (radio_lessons.iloc[:,2].str.contains(\"idea\", na=False)) | \\\n",
    "              (radio_lessons.iloc[:,2].str.contains(\"nothing\", na=False))"
   ]
  },
  {
   "cell_type": "code",
   "execution_count": 356,
   "metadata": {},
   "outputs": [],
   "source": [
    "# radio_lessons[dk_mask].iloc[:,2].value_counts()"
   ]
  },
  {
   "cell_type": "markdown",
   "metadata": {},
   "source": [
    "Group 'Good' with 'Very Good' and 'Not good' with 'Fair'"
   ]
  },
  {
   "cell_type": "code",
   "execution_count": 357,
   "metadata": {},
   "outputs": [],
   "source": [
    "# fair + not good vs \n",
    "radio_lessons_good = radio_lessons[~dk_mask & (radio_lessons.iloc[:,1] == 'Good')].iloc[:,2]"
   ]
  },
  {
   "cell_type": "code",
   "execution_count": 358,
   "metadata": {},
   "outputs": [],
   "source": [
    "radio_lessons_fair = radio_lessons[~dk_mask & (radio_lessons.iloc[:,1] == 'Fair')].iloc[:,2]"
   ]
  },
  {
   "cell_type": "code",
   "execution_count": 359,
   "metadata": {},
   "outputs": [],
   "source": [
    "radio_lessons_vgood = radio_lessons[~dk_mask & (radio_lessons.iloc[:,1] == 'Very good')].iloc[:,2]"
   ]
  },
  {
   "cell_type": "code",
   "execution_count": 360,
   "metadata": {},
   "outputs": [],
   "source": [
    "radio_lessons_ngood = radio_lessons[~dk_mask & (radio_lessons.iloc[:,1] == 'Not good')].iloc[:,2]"
   ]
  },
  {
   "cell_type": "markdown",
   "metadata": {},
   "source": [
    "#### Trigram Vectorization\n",
    "Radio Lessons Good Quality"
   ]
  },
  {
   "cell_type": "code",
   "execution_count": 361,
   "metadata": {},
   "outputs": [
    {
     "name": "stdout",
     "output_type": "stream",
     "text": [
      "1138 words in dictionary.\n"
     ]
    }
   ],
   "source": [
    "radio_lessons_good_tri = bow_vectorization(data = radio_lessons_good.dropna(),\n",
    "                                          index = radio_lessons_good.dropna().index,\n",
    "                                          n_grams=(3, 3))"
   ]
  },
  {
   "cell_type": "code",
   "execution_count": 362,
   "metadata": {},
   "outputs": [],
   "source": [
    "#radio_lessons_good_tri.sum().sort_values(ascending=False)[:30]"
   ]
  },
  {
   "cell_type": "markdown",
   "metadata": {},
   "source": [
    "#### Group Trigrams\n",
    "Trigrams about the coverage"
   ]
  },
  {
   "cell_type": "code",
   "execution_count": 363,
   "metadata": {},
   "outputs": [
    {
     "name": "stdout",
     "output_type": "stream",
     "text": [
      "222\n"
     ]
    }
   ],
   "source": [
    "coverage_1 = search(['area','cover','extension','tune','network','station','access','rural','fm','power','local'], \\\n",
    "                  'provis', radio_lessons_good_tri.columns)\n",
    "print(len(coverage_1))"
   ]
  },
  {
   "cell_type": "code",
   "execution_count": 364,
   "metadata": {},
   "outputs": [
    {
     "name": "stdout",
     "output_type": "stream",
     "text": [
      "199\n"
     ]
    }
   ],
   "source": [
    "coverage_2 = search(['area','cover','extension','tune','network','station','access','rural','fm','power','local'], \\\n",
    "                  'exten', radio_lessons_good_tri.columns)\n",
    "print(len(coverage_2))"
   ]
  },
  {
   "cell_type": "code",
   "execution_count": 365,
   "metadata": {},
   "outputs": [
    {
     "name": "stdout",
     "output_type": "stream",
     "text": [
      "236\n"
     ]
    }
   ],
   "source": [
    "coverage_3 = search(['area','cover','extension','tune','network','station','access','rural','fm','power','local'], \\\n",
    "                  'avail', radio_lessons_good_tri.columns)\n",
    "print(len(coverage_3))"
   ]
  },
  {
   "cell_type": "code",
   "execution_count": 366,
   "metadata": {},
   "outputs": [
    {
     "name": "stdout",
     "output_type": "stream",
     "text": [
      "204\n"
     ]
    }
   ],
   "source": [
    "coverage_4 = search(['area','cover','extension','tune','network','station','access','rural','fm','power','local'], \\\n",
    "                  'local', radio_lessons_good_tri.columns)\n",
    "print(len(coverage_4))"
   ]
  },
  {
   "cell_type": "code",
   "execution_count": 367,
   "metadata": {},
   "outputs": [
    {
     "data": {
      "text/plain": [
       "199"
      ]
     },
     "execution_count": 367,
     "metadata": {},
     "output_type": "execute_result"
    }
   ],
   "source": [
    "coverage = list(set(coverage_1 + coverage_2 + coverage_3 + coverage_4))\n",
    "len(coverage)"
   ]
  },
  {
   "cell_type": "markdown",
   "metadata": {},
   "source": [
    "Trigrams about the provision of radios"
   ]
  },
  {
   "cell_type": "code",
   "execution_count": 368,
   "metadata": {},
   "outputs": [
    {
     "data": {
      "text/plain": [
       "27"
      ]
     },
     "execution_count": 368,
     "metadata": {},
     "output_type": "execute_result"
    }
   ],
   "source": [
    "power = search(['powe','energ'],None, radio_lessons_good_tri.columns)\n",
    "len(power)"
   ]
  },
  {
   "cell_type": "code",
   "execution_count": 369,
   "metadata": {},
   "outputs": [
    {
     "data": {
      "text/plain": [
       "160"
      ]
     },
     "execution_count": 369,
     "metadata": {},
     "output_type": "execute_result"
    }
   ],
   "source": [
    "provision = search(['provis','dist','provid','everyone'], None, radio_lessons_good_tri.columns)\n",
    "len(provision)"
   ]
  },
  {
   "cell_type": "code",
   "execution_count": 370,
   "metadata": {},
   "outputs": [
    {
     "data": {
      "text/plain": [
       "12"
      ]
     },
     "execution_count": 370,
     "metadata": {},
     "output_type": "execute_result"
    }
   ],
   "source": [
    "tv = search(['video', 'tv', 'tele'], None, radio_lessons_good_tri.columns)\n",
    "len(tv)"
   ]
  },
  {
   "cell_type": "markdown",
   "metadata": {},
   "source": [
    "Trigrams about content"
   ]
  },
  {
   "cell_type": "code",
   "execution_count": 371,
   "metadata": {},
   "outputs": [
    {
     "data": {
      "text/plain": [
       "224"
      ]
     },
     "execution_count": 371,
     "metadata": {},
     "output_type": "execute_result"
    }
   ],
   "source": [
    "content = search(['subject', 'time', 'guid'], None, radio_lessons_good_tri.columns)\n",
    "len(content)"
   ]
  },
  {
   "cell_type": "markdown",
   "metadata": {},
   "source": [
    "Trigrams about speech"
   ]
  },
  {
   "cell_type": "code",
   "execution_count": 372,
   "metadata": {},
   "outputs": [
    {
     "data": {
      "text/plain": [
       "36"
      ]
     },
     "execution_count": 372,
     "metadata": {},
     "output_type": "execute_result"
    }
   ],
   "source": [
    "language = search(['language','trans','arab', 'pronunc'], None, radio_lessons_good_tri.columns)\n",
    "len(language)"
   ]
  },
  {
   "cell_type": "code",
   "execution_count": 373,
   "metadata": {},
   "outputs": [
    {
     "data": {
      "text/plain": [
       "27"
      ]
     },
     "execution_count": 373,
     "metadata": {},
     "output_type": "execute_result"
    }
   ],
   "source": [
    "speed = search(['speed','unders'], None, radio_lessons_good_tri.columns)\n",
    "len(speed)"
   ]
  },
  {
   "cell_type": "markdown",
   "metadata": {},
   "source": [
    "Trigrams about teaching"
   ]
  },
  {
   "cell_type": "code",
   "execution_count": 488,
   "metadata": {},
   "outputs": [
    {
     "data": {
      "text/plain": [
       "172"
      ]
     },
     "execution_count": 488,
     "metadata": {},
     "output_type": "execute_result"
    }
   ],
   "source": [
    "teaching = search(['guide', 'support', 'teacher', 'follow', 'expla', 'slow', 'question'], None, radio_lessons_good_tri.columns)\n",
    "len(teaching)"
   ]
  },
  {
   "cell_type": "markdown",
   "metadata": {},
   "source": [
    "Tigrams about school re-opening"
   ]
  },
  {
   "cell_type": "code",
   "execution_count": 375,
   "metadata": {},
   "outputs": [
    {
     "data": {
      "text/plain": [
       "19"
      ]
     },
     "execution_count": 375,
     "metadata": {},
     "output_type": "execute_result"
    }
   ],
   "source": [
    "school = search(['reopen', 'open'], None, radio_lessons_good_tri.columns)\n",
    "len(school)"
   ]
  },
  {
   "cell_type": "markdown",
   "metadata": {},
   "source": [
    "Tigrams about time (to listen, of broadcast)"
   ]
  },
  {
   "cell_type": "code",
   "execution_count": 376,
   "metadata": {},
   "outputs": [
    {
     "data": {
      "text/plain": [
       "202"
      ]
     },
     "execution_count": 376,
     "metadata": {},
     "output_type": "execute_result"
    }
   ],
   "source": [
    "time = search(['time', 'repeat', 'timing', 'tmie', 'freq'], None, radio_lessons_good_tri.columns)\n",
    "len(time)"
   ]
  },
  {
   "cell_type": "code",
   "execution_count": 490,
   "metadata": {},
   "outputs": [
    {
     "data": {
      "text/plain": [
       "158"
      ]
     },
     "execution_count": 490,
     "metadata": {},
     "output_type": "execute_result"
    }
   ],
   "source": [
    "len(list(set(language +  speed + teaching)))"
   ]
  },
  {
   "cell_type": "markdown",
   "metadata": {},
   "source": [
    "Count one per concept apperance (not word)"
   ]
  },
  {
   "cell_type": "code",
   "execution_count": 377,
   "metadata": {},
   "outputs": [],
   "source": [
    "cover = radio_lessons_good_tri[coverage]"
   ]
  },
  {
   "cell_type": "code",
   "execution_count": 378,
   "metadata": {},
   "outputs": [],
   "source": [
    "r_provision = radio_lessons_good_tri[list(set(power + provision + tv))]"
   ]
  },
  {
   "cell_type": "code",
   "execution_count": 379,
   "metadata": {},
   "outputs": [],
   "source": [
    "l_content = radio_lessons_good_tri[content]"
   ]
  },
  {
   "cell_type": "code",
   "execution_count": 380,
   "metadata": {},
   "outputs": [],
   "source": [
    "#teach = radio_lessons_good_tri[teaching]"
   ]
  },
  {
   "cell_type": "code",
   "execution_count": 381,
   "metadata": {},
   "outputs": [],
   "source": [
    "r_time = radio_lessons_good_tri[time]"
   ]
  },
  {
   "cell_type": "code",
   "execution_count": 382,
   "metadata": {},
   "outputs": [],
   "source": [
    "#l_speech = radio_lessons_good_tri[list(set(language +  speed))]"
   ]
  },
  {
   "cell_type": "code",
   "execution_count": 383,
   "metadata": {},
   "outputs": [],
   "source": [
    "guidance = radio_lessons_good_tri[list(set(language +  speed + teaching))]"
   ]
  },
  {
   "cell_type": "markdown",
   "metadata": {},
   "source": [
    "The rest of the Trigrams"
   ]
  },
  {
   "cell_type": "code",
   "execution_count": 384,
   "metadata": {},
   "outputs": [],
   "source": [
    "other = radio_lessons_good_tri.drop(cover.columns.to_list() + \\\n",
    "                                    l_content.columns.to_list() + \\\n",
    "                                    r_provision.columns.to_list() + \\\n",
    "                                    r_time.columns.to_list() + \\\n",
    "                                    guidance.columns.to_list(), axis=1)"
   ]
  },
  {
   "cell_type": "code",
   "execution_count": 385,
   "metadata": {},
   "outputs": [
    {
     "data": {
      "text/plain": [
       "426"
      ]
     },
     "execution_count": 385,
     "metadata": {},
     "output_type": "execute_result"
    }
   ],
   "source": [
    "test_other = radio_lessons_good_tri.drop(cover.columns.to_list() + \\\n",
    "                                    l_content.columns.to_list() + \\\n",
    "                                    r_provision.columns.to_list() + \\\n",
    "                                    r_time.columns.to_list() + \\\n",
    "                                    guidance.columns.to_list(), axis=1)\n",
    "len(test_other.columns.to_list())"
   ]
  },
  {
   "cell_type": "code",
   "execution_count": 386,
   "metadata": {},
   "outputs": [],
   "source": [
    "cover = cover.sum(axis=1)\n",
    "content = l_content.sum(axis=1)\n",
    "guidance = guidance.sum(axis=1)\n",
    "time = r_time.sum(axis=1)\n",
    "provision = r_provision.sum(axis=1)\n",
    "other = other.sum(axis=1)"
   ]
  },
  {
   "cell_type": "code",
   "execution_count": 387,
   "metadata": {},
   "outputs": [],
   "source": [
    "cover[cover != 0] = 1\n",
    "content[content != 0] = 1\n",
    "guidance[guidance != 0] = 1\n",
    "time[time != 0] = 1\n",
    "provision[provision != 0] = 1\n",
    "other[other != 0] = 1"
   ]
  },
  {
   "cell_type": "code",
   "execution_count": 388,
   "metadata": {},
   "outputs": [],
   "source": [
    "coverage = pd.DataFrame(np.zeros(radio_lessons.shape[0]), dtype=int, columns=['radio coverage'])\n",
    "coverage.loc[cover[cover == 1].index,:] = 1\n",
    "\n",
    "prov = pd.DataFrame(np.zeros(radio_lessons.shape[0]), dtype=int, columns=['radio distribution'])\n",
    "prov.loc[provision[provision == 1].index,:] = 1\n",
    "\n",
    "cont = pd.DataFrame(np.zeros(radio_lessons.shape[0]), dtype=int, columns=['new content'])\n",
    "cont.loc[content[content == 1].index,:] = 1\n",
    "\n",
    "guid = pd.DataFrame(np.zeros(radio_lessons.shape[0]), dtype=int, columns=['guidance and support'])\n",
    "guid.loc[guidance[guidance == 1].index,:] = 1\n",
    "\n",
    "timing = pd.DataFrame(np.zeros(radio_lessons.shape[0]), dtype=int, columns=['broadcasting time and repetitions'])\n",
    "timing.loc[time[time == 1].index,:] = 1\n",
    "\n",
    "other_w = pd.DataFrame(np.zeros(radio_lessons.shape[0]), dtype=int, columns=['other topics'])\n",
    "other_w.loc[other[other == 1].index,:] = 1"
   ]
  },
  {
   "cell_type": "code",
   "execution_count": 389,
   "metadata": {},
   "outputs": [],
   "source": [
    "radio_lessons_good_group = pd.concat([coverage, prov, cont, guid, timing, other_w], axis=1)"
   ]
  },
  {
   "cell_type": "markdown",
   "metadata": {},
   "source": [
    "Visualization"
   ]
  },
  {
   "cell_type": "code",
   "execution_count": 390,
   "metadata": {},
   "outputs": [
    {
     "data": {
      "image/png": "[encoded data removed]",
      "text/plain": [
       "<Figure size 720x360 with 1 Axes>"
      ]
     },
     "metadata": {
      "needs_background": "light"
     },
     "output_type": "display_data"
    }
   ],
   "source": [
    "plt.figure(figsize=(10,5))\n",
    "plt.bar(radio_lessons_good_group.columns, radio_lessons_good_group.sum())\n",
    "plt.title('If you found good the quality of the radio lessons, How can the radio lessons be improved?')\n",
    "plt.xticks(rotation=45, ha='right')\n",
    "plt.savefig('data/imgs/radio_lessons_good.jpeg',bbox_inches='tight', dpi=300)\n",
    "plt.show()"
   ]
  },
  {
   "cell_type": "markdown",
   "metadata": {},
   "source": [
    "#### Trigram Vectorization\n",
    "Radio Lessons Fair Quality"
   ]
  },
  {
   "cell_type": "code",
   "execution_count": 391,
   "metadata": {},
   "outputs": [
    {
     "name": "stdout",
     "output_type": "stream",
     "text": [
      "750 words in dictionary.\n"
     ]
    }
   ],
   "source": [
    "radio_lessons_fair_tri = bow_vectorization(data = radio_lessons_fair.dropna(),\n",
    "                                          index = radio_lessons_fair.dropna().index,\n",
    "                                          n_grams=(3, 3))"
   ]
  },
  {
   "cell_type": "code",
   "execution_count": 392,
   "metadata": {},
   "outputs": [],
   "source": [
    "# radio_lessons_fair_tri.sum().sort_values(ascending=False)[:30]"
   ]
  },
  {
   "cell_type": "markdown",
   "metadata": {},
   "source": [
    "#### Group Trigrams\n",
    "Trigrams about the coverage"
   ]
  },
  {
   "cell_type": "code",
   "execution_count": 393,
   "metadata": {},
   "outputs": [
    {
     "name": "stdout",
     "output_type": "stream",
     "text": [
      "79\n"
     ]
    }
   ],
   "source": [
    "coverage_1 = search(['area','cover','extension','tune','network','station','access','rural','fm','power'], \\\n",
    "                  'provis', radio_lessons_fair_tri.columns)\n",
    "print(len(coverage_1))"
   ]
  },
  {
   "cell_type": "code",
   "execution_count": 394,
   "metadata": {},
   "outputs": [
    {
     "name": "stdout",
     "output_type": "stream",
     "text": [
      "75\n"
     ]
    }
   ],
   "source": [
    "coverage_2 = search(['area','cover','extension','tune','network','station','access','rural','fm','power'], \\\n",
    "                  'exten', radio_lessons_fair_tri.columns)\n",
    "print(len(coverage_2))"
   ]
  },
  {
   "cell_type": "code",
   "execution_count": 395,
   "metadata": {},
   "outputs": [
    {
     "name": "stdout",
     "output_type": "stream",
     "text": [
      "80\n"
     ]
    }
   ],
   "source": [
    "coverage_3 = search(['area','cover','extension','tune','network','station','access','rural','fm','power'], \\\n",
    "                  'avail', radio_lessons_fair_tri.columns)\n",
    "print(len(coverage_3))"
   ]
  },
  {
   "cell_type": "code",
   "execution_count": 396,
   "metadata": {},
   "outputs": [
    {
     "name": "stdout",
     "output_type": "stream",
     "text": [
      "79\n"
     ]
    }
   ],
   "source": [
    "coverage_4 = search(['area','cover','extension','tune','network','station','access','rural','fm','power'], \\\n",
    "                  'local', radio_lessons_fair_tri.columns)\n",
    "print(len(coverage_4))"
   ]
  },
  {
   "cell_type": "code",
   "execution_count": 397,
   "metadata": {},
   "outputs": [
    {
     "data": {
      "text/plain": [
       "74"
      ]
     },
     "execution_count": 397,
     "metadata": {},
     "output_type": "execute_result"
    }
   ],
   "source": [
    "coverage = list(set(coverage_1 + coverage_2 + coverage_3 + coverage_4))\n",
    "len(coverage)"
   ]
  },
  {
   "cell_type": "markdown",
   "metadata": {},
   "source": [
    "Trigrams about the provision of radios"
   ]
  },
  {
   "cell_type": "code",
   "execution_count": 398,
   "metadata": {},
   "outputs": [
    {
     "data": {
      "text/plain": [
       "6"
      ]
     },
     "execution_count": 398,
     "metadata": {},
     "output_type": "execute_result"
    }
   ],
   "source": [
    "power = search(['powe','energ'],None, radio_lessons_fair_tri.columns)\n",
    "len(power)"
   ]
  },
  {
   "cell_type": "code",
   "execution_count": 399,
   "metadata": {},
   "outputs": [
    {
     "data": {
      "text/plain": [
       "102"
      ]
     },
     "execution_count": 399,
     "metadata": {},
     "output_type": "execute_result"
    }
   ],
   "source": [
    "provision = search(['provis','dist','provid','everyone'], None, radio_lessons_fair_tri.columns)\n",
    "len(provision)"
   ]
  },
  {
   "cell_type": "code",
   "execution_count": 400,
   "metadata": {},
   "outputs": [
    {
     "data": {
      "text/plain": [
       "8"
      ]
     },
     "execution_count": 400,
     "metadata": {},
     "output_type": "execute_result"
    }
   ],
   "source": [
    "tv = search(['video', 'tv', 'tele'], None, radio_lessons_fair_tri.columns)\n",
    "len(tv)"
   ]
  },
  {
   "cell_type": "markdown",
   "metadata": {},
   "source": [
    "Trigrams about content"
   ]
  },
  {
   "cell_type": "code",
   "execution_count": 401,
   "metadata": {},
   "outputs": [
    {
     "data": {
      "text/plain": [
       "83"
      ]
     },
     "execution_count": 401,
     "metadata": {},
     "output_type": "execute_result"
    }
   ],
   "source": [
    "content = search(['subject', 'time', 'guid'], None, radio_lessons_fair_tri.columns)\n",
    "len(content)"
   ]
  },
  {
   "cell_type": "markdown",
   "metadata": {},
   "source": [
    "Trigrams about speech"
   ]
  },
  {
   "cell_type": "code",
   "execution_count": 402,
   "metadata": {},
   "outputs": [
    {
     "data": {
      "text/plain": [
       "29"
      ]
     },
     "execution_count": 402,
     "metadata": {},
     "output_type": "execute_result"
    }
   ],
   "source": [
    "language = search(['language','trans','arab', 'pronunc'], None, radio_lessons_fair_tri.columns)\n",
    "len(language)"
   ]
  },
  {
   "cell_type": "code",
   "execution_count": 403,
   "metadata": {},
   "outputs": [
    {
     "data": {
      "text/plain": [
       "23"
      ]
     },
     "execution_count": 403,
     "metadata": {},
     "output_type": "execute_result"
    }
   ],
   "source": [
    "speed = search(['speed','unders'], None, radio_lessons_fair_tri.columns)\n",
    "len(speed)"
   ]
  },
  {
   "cell_type": "markdown",
   "metadata": {},
   "source": [
    "Trigrams about teaching"
   ]
  },
  {
   "cell_type": "code",
   "execution_count": 404,
   "metadata": {},
   "outputs": [
    {
     "data": {
      "text/plain": [
       "102"
      ]
     },
     "execution_count": 404,
     "metadata": {},
     "output_type": "execute_result"
    }
   ],
   "source": [
    "teaching = search(['guide', 'support', 'teacher', 'follow', 'expla', 'slow', 'question'], None, radio_lessons_fair_tri.columns)\n",
    "len(teaching)"
   ]
  },
  {
   "cell_type": "markdown",
   "metadata": {},
   "source": [
    "Tigrams about school re-opening"
   ]
  },
  {
   "cell_type": "code",
   "execution_count": 405,
   "metadata": {},
   "outputs": [
    {
     "data": {
      "text/plain": [
       "37"
      ]
     },
     "execution_count": 405,
     "metadata": {},
     "output_type": "execute_result"
    }
   ],
   "source": [
    "school = search(['reopen', 'open'], None, radio_lessons_fair_tri.columns)\n",
    "len(school)"
   ]
  },
  {
   "cell_type": "markdown",
   "metadata": {},
   "source": [
    "Tigrams about time (to listen, of broadcast)"
   ]
  },
  {
   "cell_type": "code",
   "execution_count": 406,
   "metadata": {},
   "outputs": [
    {
     "data": {
      "text/plain": [
       "94"
      ]
     },
     "execution_count": 406,
     "metadata": {},
     "output_type": "execute_result"
    }
   ],
   "source": [
    "time = search(['time', 'repeat', 'timing', 'tmie', 'freq'], None, radio_lessons_fair_tri.columns)\n",
    "len(time)"
   ]
  },
  {
   "cell_type": "markdown",
   "metadata": {},
   "source": [
    "Don't Know (DK)"
   ]
  },
  {
   "cell_type": "code",
   "execution_count": 407,
   "metadata": {},
   "outputs": [
    {
     "data": {
      "text/plain": [
       "2"
      ]
     },
     "execution_count": 407,
     "metadata": {},
     "output_type": "execute_result"
    }
   ],
   "source": [
    "dk = search([\"don't\", 'idea', 'nothing'], None, radio_lessons_fair_tri.columns)\n",
    "len(dk)"
   ]
  },
  {
   "cell_type": "markdown",
   "metadata": {},
   "source": [
    "Count one per concept apperance (not word)"
   ]
  },
  {
   "cell_type": "code",
   "execution_count": 408,
   "metadata": {},
   "outputs": [],
   "source": [
    "cover = radio_lessons_fair_tri[coverage]"
   ]
  },
  {
   "cell_type": "code",
   "execution_count": 409,
   "metadata": {},
   "outputs": [],
   "source": [
    "r_provision = radio_lessons_fair_tri[list(set(power + provision + tv))]"
   ]
  },
  {
   "cell_type": "code",
   "execution_count": 410,
   "metadata": {},
   "outputs": [],
   "source": [
    "l_content = radio_lessons_fair_tri[content]"
   ]
  },
  {
   "cell_type": "code",
   "execution_count": 411,
   "metadata": {},
   "outputs": [],
   "source": [
    "#teach = radio_lessons_good_tri[teaching]"
   ]
  },
  {
   "cell_type": "code",
   "execution_count": 412,
   "metadata": {},
   "outputs": [],
   "source": [
    "r_time = radio_lessons_fair_tri[time]"
   ]
  },
  {
   "cell_type": "code",
   "execution_count": 413,
   "metadata": {},
   "outputs": [],
   "source": [
    "#l_speech = radio_lessons_good_tri[list(set(language +  speed))]"
   ]
  },
  {
   "cell_type": "code",
   "execution_count": 414,
   "metadata": {},
   "outputs": [],
   "source": [
    "guidance = radio_lessons_fair_tri[list(set(language +  speed + teaching))]"
   ]
  },
  {
   "cell_type": "markdown",
   "metadata": {},
   "source": [
    "The rest of the Trigrams"
   ]
  },
  {
   "cell_type": "code",
   "execution_count": 415,
   "metadata": {},
   "outputs": [],
   "source": [
    "other = radio_lessons_fair_tri.drop(cover.columns.to_list() + \\\n",
    "                                    l_content.columns.to_list() + \\\n",
    "                                    r_provision.columns.to_list() + \\\n",
    "                                    r_time.columns.to_list() + \\\n",
    "                                    guidance.columns.to_list(), axis=1)"
   ]
  },
  {
   "cell_type": "code",
   "execution_count": 416,
   "metadata": {},
   "outputs": [
    {
     "data": {
      "text/plain": [
       "359"
      ]
     },
     "execution_count": 416,
     "metadata": {},
     "output_type": "execute_result"
    }
   ],
   "source": [
    "test_other = radio_lessons_fair_tri.drop(cover.columns.to_list() + \\\n",
    "                                    l_content.columns.to_list() + \\\n",
    "                                    r_provision.columns.to_list() + \\\n",
    "                                    r_time.columns.to_list() + \\\n",
    "                                    guidance.columns.to_list(), axis=1)\n",
    "len(test_other.columns.to_list())"
   ]
  },
  {
   "cell_type": "code",
   "execution_count": 417,
   "metadata": {},
   "outputs": [],
   "source": [
    "cover = cover.sum(axis=1)\n",
    "content = l_content.sum(axis=1)\n",
    "guidance = guidance.sum(axis=1)\n",
    "time = r_time.sum(axis=1)\n",
    "provision = r_provision.sum(axis=1)\n",
    "other = other.sum(axis=1)"
   ]
  },
  {
   "cell_type": "code",
   "execution_count": 418,
   "metadata": {},
   "outputs": [],
   "source": [
    "cover[cover != 0] = 1\n",
    "content[content != 0] = 1\n",
    "guidance[guidance != 0] = 1\n",
    "time[time != 0] = 1\n",
    "provision[provision != 0] = 1\n",
    "other[other != 0] = 1"
   ]
  },
  {
   "cell_type": "code",
   "execution_count": 419,
   "metadata": {},
   "outputs": [],
   "source": [
    "coverage = pd.DataFrame(np.zeros(radio_lessons.shape[0]), dtype=int, columns=['radio coverage'])\n",
    "coverage.loc[cover[cover == 1].index,:] = 1\n",
    "\n",
    "prov = pd.DataFrame(np.zeros(radio_lessons.shape[0]), dtype=int, columns=['radio distribution'])\n",
    "prov.loc[provision[provision == 1].index,:] = 1\n",
    "\n",
    "cont = pd.DataFrame(np.zeros(radio_lessons.shape[0]), dtype=int, columns=['new content'])\n",
    "cont.loc[content[content == 1].index,:] = 1\n",
    "\n",
    "guid = pd.DataFrame(np.zeros(radio_lessons.shape[0]), dtype=int, columns=['guidance and support'])\n",
    "guid.loc[guidance[guidance == 1].index,:] = 1\n",
    "\n",
    "timing = pd.DataFrame(np.zeros(radio_lessons.shape[0]), dtype=int, columns=['broadcasting time and repetitions'])\n",
    "timing.loc[time[time == 1].index,:] = 1\n",
    "\n",
    "other_w = pd.DataFrame(np.zeros(radio_lessons.shape[0]), dtype=int, columns=['other topics'])\n",
    "other_w.loc[other[other == 1].index,:] = 1"
   ]
  },
  {
   "cell_type": "code",
   "execution_count": 420,
   "metadata": {},
   "outputs": [],
   "source": [
    "radio_lessons_fair_group = pd.concat([coverage, prov, cont, guid, timing, other_w], axis=1)"
   ]
  },
  {
   "cell_type": "markdown",
   "metadata": {},
   "source": [
    "Visualization"
   ]
  },
  {
   "cell_type": "code",
   "execution_count": 421,
   "metadata": {},
   "outputs": [
    {
     "data": {
      "image/png": "[encoded data removed]",
      "text/plain": [
       "<Figure size 720x360 with 1 Axes>"
      ]
     },
     "metadata": {
      "needs_background": "light"
     },
     "output_type": "display_data"
    }
   ],
   "source": [
    "plt.figure(figsize=(10,5))\n",
    "plt.bar(radio_lessons_fair_group.columns, radio_lessons_fair_group.sum())\n",
    "plt.title('If you found fair the quality of the radio lessons, How can the radio lessons be improved?')\n",
    "plt.xticks(rotation=45, ha='right')\n",
    "plt.savefig('data/imgs/radio_lessons_fair.jpeg',bbox_inches='tight', dpi=300)\n",
    "plt.show()"
   ]
  },
  {
   "cell_type": "markdown",
   "metadata": {},
   "source": [
    "#### Trigram Vectorization\n",
    "Radio Lessons Very Good Quality"
   ]
  },
  {
   "cell_type": "code",
   "execution_count": 422,
   "metadata": {},
   "outputs": [
    {
     "name": "stdout",
     "output_type": "stream",
     "text": [
      "300 words in dictionary.\n"
     ]
    }
   ],
   "source": [
    "radio_lessons_vgood_tri = bow_vectorization(data = radio_lessons_vgood.dropna(),\n",
    "                                          index = radio_lessons_vgood.dropna().index,\n",
    "                                          n_grams=(3, 3))"
   ]
  },
  {
   "cell_type": "code",
   "execution_count": 423,
   "metadata": {},
   "outputs": [],
   "source": [
    "# radio_lessons_fair_tri.sum().sort_values(ascending=False)[:30]"
   ]
  },
  {
   "cell_type": "markdown",
   "metadata": {},
   "source": [
    "#### Group Trigrams\n",
    "Trigrams about the coverage"
   ]
  },
  {
   "cell_type": "code",
   "execution_count": 424,
   "metadata": {},
   "outputs": [
    {
     "name": "stdout",
     "output_type": "stream",
     "text": [
      "30\n"
     ]
    }
   ],
   "source": [
    "coverage_1 = search(['area','cover','extension','tune','network','station','access','rural','fm','power'], \\\n",
    "                  'provis', radio_lessons_vgood_tri.columns)\n",
    "print(len(coverage_1))"
   ]
  },
  {
   "cell_type": "code",
   "execution_count": 425,
   "metadata": {},
   "outputs": [
    {
     "name": "stdout",
     "output_type": "stream",
     "text": [
      "25\n"
     ]
    }
   ],
   "source": [
    "coverage_2 = search(['area','cover','extension','tune','network','station','access','rural','fm','power'], \\\n",
    "                  'exten', radio_lessons_vgood_tri.columns)\n",
    "print(len(coverage_2))"
   ]
  },
  {
   "cell_type": "code",
   "execution_count": 426,
   "metadata": {},
   "outputs": [
    {
     "name": "stdout",
     "output_type": "stream",
     "text": [
      "30\n"
     ]
    }
   ],
   "source": [
    "coverage_3 = search(['area','cover','extension','tune','network','station','access','rural','fm','power'], \\\n",
    "                  'avail', radio_lessons_vgood_tri.columns)\n",
    "print(len(coverage_3))"
   ]
  },
  {
   "cell_type": "code",
   "execution_count": 427,
   "metadata": {},
   "outputs": [
    {
     "name": "stdout",
     "output_type": "stream",
     "text": [
      "31\n"
     ]
    }
   ],
   "source": [
    "coverage_4 = search(['area','cover','extension','tune','network','station','access','rural','fm','power'], \\\n",
    "                  'local', radio_lessons_vgood_tri.columns)\n",
    "print(len(coverage_4))"
   ]
  },
  {
   "cell_type": "code",
   "execution_count": 428,
   "metadata": {},
   "outputs": [
    {
     "data": {
      "text/plain": [
       "26"
      ]
     },
     "execution_count": 428,
     "metadata": {},
     "output_type": "execute_result"
    }
   ],
   "source": [
    "coverage = list(set(coverage_1 + coverage_2 + coverage_3 + coverage_4))\n",
    "len(coverage)"
   ]
  },
  {
   "cell_type": "markdown",
   "metadata": {},
   "source": [
    "Trigrams about the provision of radios"
   ]
  },
  {
   "cell_type": "code",
   "execution_count": 429,
   "metadata": {},
   "outputs": [
    {
     "data": {
      "text/plain": [
       "4"
      ]
     },
     "execution_count": 429,
     "metadata": {},
     "output_type": "execute_result"
    }
   ],
   "source": [
    "power = search(['powe','energ'],None, radio_lessons_vgood_tri.columns)\n",
    "len(power)"
   ]
  },
  {
   "cell_type": "code",
   "execution_count": 430,
   "metadata": {},
   "outputs": [
    {
     "data": {
      "text/plain": [
       "23"
      ]
     },
     "execution_count": 430,
     "metadata": {},
     "output_type": "execute_result"
    }
   ],
   "source": [
    "provision = search(['provis','dist','provid','everyone'], None, radio_lessons_vgood_tri.columns)\n",
    "len(provision)"
   ]
  },
  {
   "cell_type": "code",
   "execution_count": 431,
   "metadata": {},
   "outputs": [
    {
     "data": {
      "text/plain": [
       "0"
      ]
     },
     "execution_count": 431,
     "metadata": {},
     "output_type": "execute_result"
    }
   ],
   "source": [
    "tv = search(['video', 'tv', 'tele'], None, radio_lessons_vgood_tri.columns)\n",
    "len(tv)"
   ]
  },
  {
   "cell_type": "markdown",
   "metadata": {},
   "source": [
    "Trigrams about content"
   ]
  },
  {
   "cell_type": "code",
   "execution_count": 432,
   "metadata": {},
   "outputs": [
    {
     "data": {
      "text/plain": [
       "58"
      ]
     },
     "execution_count": 432,
     "metadata": {},
     "output_type": "execute_result"
    }
   ],
   "source": [
    "content = search(['subject', 'time', 'guid'], None, radio_lessons_vgood_tri.columns)\n",
    "len(content)"
   ]
  },
  {
   "cell_type": "markdown",
   "metadata": {},
   "source": [
    "Trigrams about speech"
   ]
  },
  {
   "cell_type": "code",
   "execution_count": 433,
   "metadata": {},
   "outputs": [
    {
     "data": {
      "text/plain": [
       "9"
      ]
     },
     "execution_count": 433,
     "metadata": {},
     "output_type": "execute_result"
    }
   ],
   "source": [
    "language = search(['language','trans','arab', 'pronunc'], None, radio_lessons_vgood_tri.columns)\n",
    "len(language)"
   ]
  },
  {
   "cell_type": "code",
   "execution_count": 434,
   "metadata": {},
   "outputs": [
    {
     "data": {
      "text/plain": [
       "6"
      ]
     },
     "execution_count": 434,
     "metadata": {},
     "output_type": "execute_result"
    }
   ],
   "source": [
    "speed = search(['speed','unders'], None, radio_lessons_vgood_tri.columns)\n",
    "len(speed)"
   ]
  },
  {
   "cell_type": "markdown",
   "metadata": {},
   "source": [
    "Trigrams about teaching"
   ]
  },
  {
   "cell_type": "code",
   "execution_count": 435,
   "metadata": {},
   "outputs": [
    {
     "data": {
      "text/plain": [
       "49"
      ]
     },
     "execution_count": 435,
     "metadata": {},
     "output_type": "execute_result"
    }
   ],
   "source": [
    "teaching = search(['guide', 'support', 'teacher', 'follow', 'expla', 'slow', 'question'], None, radio_lessons_vgood_tri.columns)\n",
    "len(teaching)"
   ]
  },
  {
   "cell_type": "markdown",
   "metadata": {},
   "source": [
    "Tigrams about school re-opening"
   ]
  },
  {
   "cell_type": "code",
   "execution_count": 436,
   "metadata": {},
   "outputs": [
    {
     "data": {
      "text/plain": [
       "6"
      ]
     },
     "execution_count": 436,
     "metadata": {},
     "output_type": "execute_result"
    }
   ],
   "source": [
    "school = search(['reopen', 'open'], None, radio_lessons_vgood_tri.columns)\n",
    "len(school)"
   ]
  },
  {
   "cell_type": "markdown",
   "metadata": {},
   "source": [
    "Tigrams about time (to listen, of broadcast)"
   ]
  },
  {
   "cell_type": "code",
   "execution_count": 437,
   "metadata": {},
   "outputs": [
    {
     "data": {
      "text/plain": [
       "54"
      ]
     },
     "execution_count": 437,
     "metadata": {},
     "output_type": "execute_result"
    }
   ],
   "source": [
    "time = search(['time', 'repeat', 'timing', 'tmie', 'freq'], None, radio_lessons_vgood_tri.columns)\n",
    "len(time)"
   ]
  },
  {
   "cell_type": "markdown",
   "metadata": {},
   "source": [
    "Count one per concept apperance (not word)"
   ]
  },
  {
   "cell_type": "code",
   "execution_count": 438,
   "metadata": {},
   "outputs": [],
   "source": [
    "cover = radio_lessons_vgood_tri[coverage]"
   ]
  },
  {
   "cell_type": "code",
   "execution_count": 439,
   "metadata": {},
   "outputs": [],
   "source": [
    "r_provision = radio_lessons_vgood_tri[list(set(power + provision + tv))]"
   ]
  },
  {
   "cell_type": "code",
   "execution_count": 440,
   "metadata": {},
   "outputs": [],
   "source": [
    "l_content = radio_lessons_vgood_tri[content]"
   ]
  },
  {
   "cell_type": "code",
   "execution_count": 441,
   "metadata": {},
   "outputs": [],
   "source": [
    "#teach = radio_lessons_good_tri[teaching]"
   ]
  },
  {
   "cell_type": "code",
   "execution_count": 442,
   "metadata": {},
   "outputs": [],
   "source": [
    "r_time = radio_lessons_vgood_tri[time]"
   ]
  },
  {
   "cell_type": "code",
   "execution_count": 443,
   "metadata": {},
   "outputs": [],
   "source": [
    "#l_speech = radio_lessons_good_tri[list(set(language +  speed))]"
   ]
  },
  {
   "cell_type": "code",
   "execution_count": 444,
   "metadata": {},
   "outputs": [],
   "source": [
    "guidance = radio_lessons_vgood_tri[list(set(language +  speed + teaching))]"
   ]
  },
  {
   "cell_type": "markdown",
   "metadata": {},
   "source": [
    "The rest of the Trigrams"
   ]
  },
  {
   "cell_type": "code",
   "execution_count": 445,
   "metadata": {},
   "outputs": [],
   "source": [
    "other = radio_lessons_vgood_tri.drop(cover.columns.to_list() + \\\n",
    "                                    l_content.columns.to_list() + \\\n",
    "                                    r_provision.columns.to_list() + \\\n",
    "                                    r_time.columns.to_list() + \\\n",
    "                                    guidance.columns.to_list(), axis=1)"
   ]
  },
  {
   "cell_type": "code",
   "execution_count": 446,
   "metadata": {},
   "outputs": [
    {
     "data": {
      "text/plain": [
       "150"
      ]
     },
     "execution_count": 446,
     "metadata": {},
     "output_type": "execute_result"
    }
   ],
   "source": [
    "test_other = radio_lessons_vgood_tri.drop(cover.columns.to_list() + \\\n",
    "                                    l_content.columns.to_list() + \\\n",
    "                                    r_provision.columns.to_list() + \\\n",
    "                                    r_time.columns.to_list() + \\\n",
    "                                    guidance.columns.to_list(), axis=1)\n",
    "len(test_other.columns.to_list())"
   ]
  },
  {
   "cell_type": "code",
   "execution_count": 447,
   "metadata": {},
   "outputs": [],
   "source": [
    "cover = cover.sum(axis=1)\n",
    "content = l_content.sum(axis=1)\n",
    "guidance = guidance.sum(axis=1)\n",
    "time = r_time.sum(axis=1)\n",
    "provision = r_provision.sum(axis=1)\n",
    "other = other.sum(axis=1)"
   ]
  },
  {
   "cell_type": "code",
   "execution_count": 448,
   "metadata": {},
   "outputs": [],
   "source": [
    "cover[cover != 0] = 1\n",
    "content[content != 0] = 1\n",
    "guidance[guidance != 0] = 1\n",
    "time[time != 0] = 1\n",
    "provision[provision != 0] = 1\n",
    "other[other != 0] = 1"
   ]
  },
  {
   "cell_type": "code",
   "execution_count": 449,
   "metadata": {},
   "outputs": [],
   "source": [
    "coverage = pd.DataFrame(np.zeros(radio_lessons.shape[0]), dtype=int, columns=['radio coverage'])\n",
    "coverage.loc[cover[cover == 1].index,:] = 1\n",
    "\n",
    "prov = pd.DataFrame(np.zeros(radio_lessons.shape[0]), dtype=int, columns=['radio distribution'])\n",
    "prov.loc[provision[provision == 1].index,:] = 1\n",
    "\n",
    "cont = pd.DataFrame(np.zeros(radio_lessons.shape[0]), dtype=int, columns=['new content'])\n",
    "cont.loc[content[content == 1].index,:] = 1\n",
    "\n",
    "guid = pd.DataFrame(np.zeros(radio_lessons.shape[0]), dtype=int, columns=['guidance and support'])\n",
    "guid.loc[guidance[guidance == 1].index,:] = 1\n",
    "\n",
    "timing = pd.DataFrame(np.zeros(radio_lessons.shape[0]), dtype=int, columns=['broadcasting time and repetitions'])\n",
    "timing.loc[time[time == 1].index,:] = 1\n",
    "\n",
    "other_w = pd.DataFrame(np.zeros(radio_lessons.shape[0]), dtype=int, columns=['other topics'])\n",
    "other_w.loc[other[other == 1].index,:] = 1"
   ]
  },
  {
   "cell_type": "code",
   "execution_count": 450,
   "metadata": {},
   "outputs": [],
   "source": [
    "radio_lessons_vgood_group = pd.concat([coverage, prov, cont, guid, timing, other_w], axis=1)"
   ]
  },
  {
   "cell_type": "markdown",
   "metadata": {},
   "source": [
    "Visualization"
   ]
  },
  {
   "cell_type": "code",
   "execution_count": 451,
   "metadata": {},
   "outputs": [
    {
     "data": {
      "image/png": "[encoded data removed]",
      "text/plain": [
       "<Figure size 720x360 with 1 Axes>"
      ]
     },
     "metadata": {
      "needs_background": "light"
     },
     "output_type": "display_data"
    }
   ],
   "source": [
    "plt.figure(figsize=(10,5))\n",
    "plt.bar(radio_lessons_vgood_group.columns, radio_lessons_vgood_group.sum())\n",
    "plt.title('If you found very good the quality of the radio lessons, How can the radio lessons be improved?')\n",
    "plt.xticks(rotation=45, ha='right')\n",
    "plt.savefig('data/imgs/radio_lessons_vgood.jpeg',bbox_inches='tight', dpi=300)\n",
    "plt.show()"
   ]
  },
  {
   "cell_type": "markdown",
   "metadata": {},
   "source": [
    "#### Trigram Vectorization\n",
    "Radio Lessons No Good Quality"
   ]
  },
  {
   "cell_type": "code",
   "execution_count": 452,
   "metadata": {},
   "outputs": [
    {
     "name": "stdout",
     "output_type": "stream",
     "text": [
      "389 words in dictionary.\n"
     ]
    }
   ],
   "source": [
    "radio_lessons_ngood_tri = bow_vectorization(data = radio_lessons_ngood.dropna(),\n",
    "                                          index = radio_lessons_ngood.dropna().index,\n",
    "                                          n_grams=(3, 3))"
   ]
  },
  {
   "cell_type": "code",
   "execution_count": 453,
   "metadata": {},
   "outputs": [],
   "source": [
    "# radio_lessons_fair_tri.sum().sort_values(ascending=False)[:30]"
   ]
  },
  {
   "cell_type": "markdown",
   "metadata": {},
   "source": [
    "#### Group Trigrams\n",
    "Trigrams about the coverage"
   ]
  },
  {
   "cell_type": "code",
   "execution_count": 454,
   "metadata": {},
   "outputs": [
    {
     "name": "stdout",
     "output_type": "stream",
     "text": [
      "50\n"
     ]
    }
   ],
   "source": [
    "coverage_1 = search(['area','cover','extension','tune','network','station','access','rural','fm','power'], \\\n",
    "                  'provis', radio_lessons_ngood_tri.columns)\n",
    "print(len(coverage_1))"
   ]
  },
  {
   "cell_type": "code",
   "execution_count": 455,
   "metadata": {},
   "outputs": [
    {
     "name": "stdout",
     "output_type": "stream",
     "text": [
      "49\n"
     ]
    }
   ],
   "source": [
    "coverage_2 = search(['area','cover','extension','tune','network','station','access','rural','fm','power'], \\\n",
    "                  'exten', radio_lessons_ngood_tri.columns)\n",
    "print(len(coverage_2))"
   ]
  },
  {
   "cell_type": "code",
   "execution_count": 456,
   "metadata": {},
   "outputs": [
    {
     "name": "stdout",
     "output_type": "stream",
     "text": [
      "50\n"
     ]
    }
   ],
   "source": [
    "coverage_3 = search(['area','cover','extension','tune','network','station','access','rural','fm','power'], \\\n",
    "                  'avail', radio_lessons_ngood_tri.columns)\n",
    "print(len(coverage_3))"
   ]
  },
  {
   "cell_type": "code",
   "execution_count": 457,
   "metadata": {},
   "outputs": [
    {
     "name": "stdout",
     "output_type": "stream",
     "text": [
      "49\n"
     ]
    }
   ],
   "source": [
    "coverage_4 = search(['area','cover','extension','tune','network','station','access','rural','fm','power'], \\\n",
    "                  'local', radio_lessons_ngood_tri.columns)\n",
    "print(len(coverage_4))"
   ]
  },
  {
   "cell_type": "code",
   "execution_count": 458,
   "metadata": {},
   "outputs": [
    {
     "data": {
      "text/plain": [
       "46"
      ]
     },
     "execution_count": 458,
     "metadata": {},
     "output_type": "execute_result"
    }
   ],
   "source": [
    "coverage = list(set(coverage_1 + coverage_2 + coverage_3 + coverage_4))\n",
    "len(coverage)"
   ]
  },
  {
   "cell_type": "markdown",
   "metadata": {},
   "source": [
    "Trigrams about the provision of radios"
   ]
  },
  {
   "cell_type": "code",
   "execution_count": 459,
   "metadata": {},
   "outputs": [
    {
     "data": {
      "text/plain": [
       "6"
      ]
     },
     "execution_count": 459,
     "metadata": {},
     "output_type": "execute_result"
    }
   ],
   "source": [
    "power = search(['powe','energ'],None, radio_lessons_ngood_tri.columns)\n",
    "len(power)"
   ]
  },
  {
   "cell_type": "code",
   "execution_count": 460,
   "metadata": {},
   "outputs": [
    {
     "data": {
      "text/plain": [
       "46"
      ]
     },
     "execution_count": 460,
     "metadata": {},
     "output_type": "execute_result"
    }
   ],
   "source": [
    "provision = search(['provis','dist','provid','everyone'], None, radio_lessons_ngood_tri.columns)\n",
    "len(provision)"
   ]
  },
  {
   "cell_type": "code",
   "execution_count": 461,
   "metadata": {},
   "outputs": [
    {
     "data": {
      "text/plain": [
       "12"
      ]
     },
     "execution_count": 461,
     "metadata": {},
     "output_type": "execute_result"
    }
   ],
   "source": [
    "tv = search(['video', 'tv', 'tele'], None, radio_lessons_ngood_tri.columns)\n",
    "len(tv)"
   ]
  },
  {
   "cell_type": "markdown",
   "metadata": {},
   "source": [
    "Trigrams about content"
   ]
  },
  {
   "cell_type": "code",
   "execution_count": 462,
   "metadata": {},
   "outputs": [
    {
     "data": {
      "text/plain": [
       "60"
      ]
     },
     "execution_count": 462,
     "metadata": {},
     "output_type": "execute_result"
    }
   ],
   "source": [
    "content = search(['subject', 'time', 'guid'], None, radio_lessons_ngood_tri.columns)\n",
    "len(content)"
   ]
  },
  {
   "cell_type": "markdown",
   "metadata": {},
   "source": [
    "Trigrams about speech"
   ]
  },
  {
   "cell_type": "code",
   "execution_count": 463,
   "metadata": {},
   "outputs": [
    {
     "data": {
      "text/plain": [
       "12"
      ]
     },
     "execution_count": 463,
     "metadata": {},
     "output_type": "execute_result"
    }
   ],
   "source": [
    "language = search(['language','trans','arab', 'pronunc'], None, radio_lessons_ngood_tri.columns)\n",
    "len(language)"
   ]
  },
  {
   "cell_type": "code",
   "execution_count": 464,
   "metadata": {},
   "outputs": [
    {
     "data": {
      "text/plain": [
       "6"
      ]
     },
     "execution_count": 464,
     "metadata": {},
     "output_type": "execute_result"
    }
   ],
   "source": [
    "speed = search(['speed','unders'], None, radio_lessons_ngood_tri.columns)\n",
    "len(speed)"
   ]
  },
  {
   "cell_type": "markdown",
   "metadata": {},
   "source": [
    "Trigrams about teaching"
   ]
  },
  {
   "cell_type": "code",
   "execution_count": 465,
   "metadata": {},
   "outputs": [
    {
     "data": {
      "text/plain": [
       "57"
      ]
     },
     "execution_count": 465,
     "metadata": {},
     "output_type": "execute_result"
    }
   ],
   "source": [
    "teaching = search(['guide', 'support', 'teacher', 'follow', 'expla', 'slow', 'question'], None, radio_lessons_ngood_tri.columns)\n",
    "len(teaching)"
   ]
  },
  {
   "cell_type": "markdown",
   "metadata": {},
   "source": [
    "Tigrams about school re-opening"
   ]
  },
  {
   "cell_type": "code",
   "execution_count": 466,
   "metadata": {},
   "outputs": [
    {
     "data": {
      "text/plain": [
       "47"
      ]
     },
     "execution_count": 466,
     "metadata": {},
     "output_type": "execute_result"
    }
   ],
   "source": [
    "school = search(['reopen', 'open'], None, radio_lessons_ngood_tri.columns)\n",
    "len(school)"
   ]
  },
  {
   "cell_type": "markdown",
   "metadata": {},
   "source": [
    "Tigrams about time (to listen, of broadcast)"
   ]
  },
  {
   "cell_type": "code",
   "execution_count": 467,
   "metadata": {},
   "outputs": [
    {
     "data": {
      "text/plain": [
       "65"
      ]
     },
     "execution_count": 467,
     "metadata": {},
     "output_type": "execute_result"
    }
   ],
   "source": [
    "time = search(['time', 'repeat', 'timing', 'tmie', 'freq'], None, radio_lessons_ngood_tri.columns)\n",
    "len(time)"
   ]
  },
  {
   "cell_type": "markdown",
   "metadata": {},
   "source": [
    "Count one per concept apperance (not word)"
   ]
  },
  {
   "cell_type": "code",
   "execution_count": 468,
   "metadata": {},
   "outputs": [],
   "source": [
    "cover = radio_lessons_ngood_tri[coverage]"
   ]
  },
  {
   "cell_type": "code",
   "execution_count": 469,
   "metadata": {},
   "outputs": [],
   "source": [
    "r_provision = radio_lessons_ngood_tri[list(set(power + provision + tv))]"
   ]
  },
  {
   "cell_type": "code",
   "execution_count": 470,
   "metadata": {},
   "outputs": [],
   "source": [
    "l_content = radio_lessons_ngood_tri[content]"
   ]
  },
  {
   "cell_type": "code",
   "execution_count": 471,
   "metadata": {},
   "outputs": [],
   "source": [
    "#teach = radio_lessons_good_tri[teaching]"
   ]
  },
  {
   "cell_type": "code",
   "execution_count": 472,
   "metadata": {},
   "outputs": [],
   "source": [
    "r_time = radio_lessons_ngood_tri[time]"
   ]
  },
  {
   "cell_type": "code",
   "execution_count": 473,
   "metadata": {},
   "outputs": [],
   "source": [
    "#l_speech = radio_lessons_good_tri[list(set(language +  speed))]"
   ]
  },
  {
   "cell_type": "code",
   "execution_count": 474,
   "metadata": {},
   "outputs": [],
   "source": [
    "guidance = radio_lessons_ngood_tri[list(set(language +  speed + teaching))]"
   ]
  },
  {
   "cell_type": "markdown",
   "metadata": {},
   "source": [
    "The rest of the Trigrams"
   ]
  },
  {
   "cell_type": "code",
   "execution_count": 475,
   "metadata": {},
   "outputs": [],
   "source": [
    "other = radio_lessons_ngood_tri.drop(cover.columns.to_list() + \\\n",
    "                                    l_content.columns.to_list() + \\\n",
    "                                    r_provision.columns.to_list() + \\\n",
    "                                    r_time.columns.to_list() + \\\n",
    "                                    guidance.columns.to_list(), axis=1)"
   ]
  },
  {
   "cell_type": "code",
   "execution_count": 476,
   "metadata": {},
   "outputs": [
    {
     "data": {
      "text/plain": [
       "181"
      ]
     },
     "execution_count": 476,
     "metadata": {},
     "output_type": "execute_result"
    }
   ],
   "source": [
    "test_other = radio_lessons_ngood_tri.drop(cover.columns.to_list() + \\\n",
    "                                    l_content.columns.to_list() + \\\n",
    "                                    r_provision.columns.to_list() + \\\n",
    "                                    r_time.columns.to_list() + \\\n",
    "                                    guidance.columns.to_list(), axis=1)\n",
    "len(test_other.columns.to_list())"
   ]
  },
  {
   "cell_type": "code",
   "execution_count": 477,
   "metadata": {},
   "outputs": [],
   "source": [
    "cover = cover.sum(axis=1)\n",
    "content = l_content.sum(axis=1)\n",
    "guidance = guidance.sum(axis=1)\n",
    "time = r_time.sum(axis=1)\n",
    "provision = r_provision.sum(axis=1)\n",
    "other = other.sum(axis=1)"
   ]
  },
  {
   "cell_type": "code",
   "execution_count": 478,
   "metadata": {},
   "outputs": [],
   "source": [
    "cover[cover != 0] = 1\n",
    "content[content != 0] = 1\n",
    "guidance[guidance != 0] = 1\n",
    "time[time != 0] = 1\n",
    "provision[provision != 0] = 1\n",
    "other[other != 0] = 1"
   ]
  },
  {
   "cell_type": "code",
   "execution_count": 479,
   "metadata": {},
   "outputs": [],
   "source": [
    "coverage = pd.DataFrame(np.zeros(radio_lessons.shape[0]), dtype=int, columns=['radio coverage'])\n",
    "coverage.loc[cover[cover == 1].index,:] = 1\n",
    "\n",
    "prov = pd.DataFrame(np.zeros(radio_lessons.shape[0]), dtype=int, columns=['radio distribution'])\n",
    "prov.loc[provision[provision == 1].index,:] = 1\n",
    "\n",
    "cont = pd.DataFrame(np.zeros(radio_lessons.shape[0]), dtype=int, columns=['new content'])\n",
    "cont.loc[content[content == 1].index,:] = 1\n",
    "\n",
    "guid = pd.DataFrame(np.zeros(radio_lessons.shape[0]), dtype=int, columns=['guidance and support'])\n",
    "guid.loc[guidance[guidance == 1].index,:] = 1\n",
    "\n",
    "timing = pd.DataFrame(np.zeros(radio_lessons.shape[0]), dtype=int, columns=['broadcasting time and repetitions'])\n",
    "timing.loc[time[time == 1].index,:] = 1\n",
    "\n",
    "other_w = pd.DataFrame(np.zeros(radio_lessons.shape[0]), dtype=int, columns=['other topics'])\n",
    "other_w.loc[other[other == 1].index,:] = 1"
   ]
  },
  {
   "cell_type": "code",
   "execution_count": 480,
   "metadata": {},
   "outputs": [],
   "source": [
    "radio_lessons_ngood_group = pd.concat([coverage, prov, cont, guid, timing, other_w], axis=1)"
   ]
  },
  {
   "cell_type": "markdown",
   "metadata": {},
   "source": [
    "Visualization"
   ]
  },
  {
   "cell_type": "code",
   "execution_count": 481,
   "metadata": {},
   "outputs": [
    {
     "data": {
      "image/png": "[encoded data removed]",
      "text/plain": [
       "<Figure size 720x360 with 1 Axes>"
      ]
     },
     "metadata": {
      "needs_background": "light"
     },
     "output_type": "display_data"
    }
   ],
   "source": [
    "plt.figure(figsize=(10,5))\n",
    "plt.bar(radio_lessons_ngood_group.columns, radio_lessons_ngood_group.sum())\n",
    "plt.title('If you did not find good the quality of the radio lessons, How can the radio lessons be improved?')\n",
    "plt.xticks(rotation=45, ha='right')\n",
    "plt.savefig('data/imgs/radio_lessons_ngood.jpeg',bbox_inches='tight', dpi=300)\n",
    "plt.show()"
   ]
  },
  {
   "cell_type": "markdown",
   "metadata": {},
   "source": [
    "#### Save vectors and concepts"
   ]
  },
  {
   "cell_type": "code",
   "execution_count": 482,
   "metadata": {},
   "outputs": [],
   "source": [
    "radio_lessons_good_group.to_csv('data/concepts/radio_lessons_good_concepts.csv')\n",
    "radio_lessons_fair_group.to_csv('data/concepts/radio_lessons_fair_concepts.csv')\n",
    "\n",
    "radio_lessons_vgood_group.to_csv('data/concepts/radio_lessons_vgood_concepts.csv')\n",
    "radio_lessons_ngood_group.to_csv('data/concepts/radio_lessons_ngood_concepts.csv')"
   ]
  },
  {
   "cell_type": "code",
   "execution_count": 483,
   "metadata": {},
   "outputs": [],
   "source": [
    "radio_lessons_good_tri.to_csv('data/tokens/radio_lessons_good.csv')\n",
    "radio_lessons_fair_tri.to_csv('data/tokens/radio_lessons_fair.csv')\n",
    "\n",
    "radio_lessons_vgood_tri.to_csv('data/tokens/radio_lessons_vgood.csv')\n",
    "radio_lessons_ngood_tri.to_csv('data/tokens/radio_lessons_ngood.csv')"
   ]
  },
  {
   "cell_type": "code",
   "execution_count": 484,
   "metadata": {},
   "outputs": [
    {
     "data": {
      "text/plain": [
       "[19.5, 21.4, 18.4, 14.2, 17.4]"
      ]
     },
     "execution_count": 484,
     "metadata": {},
     "output_type": "execute_result"
    }
   ],
   "source": [
    "np.round((radio_lessons_good_group.iloc[:,:-1].sum() / radio_lessons_good.shape[0])*100,1).to_list()"
   ]
  },
  {
   "cell_type": "markdown",
   "metadata": {},
   "source": [
    "### Versus"
   ]
  },
  {
   "cell_type": "code",
   "execution_count": 485,
   "metadata": {},
   "outputs": [],
   "source": [
    "ag = radio_lessons_good.shape[0]\n",
    "avg= radio_lessons_vgood.shape[0]\n",
    "ang = radio_lessons_ngood.shape[0]\n",
    "af = radio_lessons_fair.shape[0]"
   ]
  },
  {
   "cell_type": "code",
   "execution_count": 486,
   "metadata": {},
   "outputs": [],
   "source": [
    "import plotly.graph_objects as go"
   ]
  },
  {
   "cell_type": "code",
   "execution_count": 487,
   "metadata": {},
   "outputs": [],
   "source": [
    "labels = radio_lessons_vgood_group.columns.to_list()\n",
    "\n",
    "vgood = radio_lessons_vgood_group.iloc[:,:-1].sum().to_list()\n",
    "good = radio_lessons_good_group.iloc[:,:-1].sum().to_list()\n",
    "fair = radio_lessons_fair_group.iloc[:,:-1].sum().to_list()\n",
    "ngood = radio_lessons_ngood_group.iloc[:,:-1].sum().to_list()\n",
    "\n",
    "\n",
    "fig = go.Figure()\n",
    "fig.add_trace(go.Bar(\n",
    "    x=labels,\n",
    "    y=vgood,\n",
    "    text=vgood,\n",
    "    name=f'Very Good Quality',\n",
    "    texttemplate='%{text}',\n",
    "    textposition=\"inside\",\n",
    "    textangle=0,\n",
    "    textfont_color=\"white\",\n",
    "))\n",
    "fig.add_trace(go.Bar(\n",
    "    x=labels,\n",
    "    y=good,\n",
    "    name=f'Good Radio Quality',\n",
    "    text=good,\n",
    "    texttemplate='%{text}',\n",
    "    textposition=\"inside\",\n",
    "    textangle=0,\n",
    "    textfont_color=\"white\",\n",
    "))\n",
    "fig.add_trace(go.Bar(\n",
    "    x=labels,\n",
    "    y=fair,\n",
    "    name=f'Fair Radio Quality',\n",
    "    text=fair,\n",
    "    texttemplate='%{text}',\n",
    "    textposition=\"inside\",\n",
    "    textangle=0,\n",
    "    textfont_color=\"white\",\n",
    "))\n",
    "fig.add_trace(go.Bar(\n",
    "    x=labels,\n",
    "    y=ngood,\n",
    "    name=f'No Good Radio Quality',\n",
    "    text=ngood,\n",
    "    texttemplate='%{text}',\n",
    "    textposition=\"inside\",\n",
    "    textangle=0,\n",
    "    textfont_color=\"white\",\n",
    "))\n",
    "\n",
    "fig.update_traces(textfont_size=18)\n",
    "fig.update_layout(barmode='group',\n",
    "                  xaxis = dict(\n",
    "                      tickfont=dict(size=18)\n",
    "                  ),\n",
    "                  font=dict(\n",
    "                      size=18,\n",
    "                  ),\n",
    "                  title_text='<b>How can the radio lessons be improved?</b><br>Topics per group of opinions')\n",
    "fig.write_html(\"data/file_2.html\")"
   ]
  },
  {
   "cell_type": "raw",
   "metadata": {},
   "source": [
    "labels = radio_lessons_vgood_group.columns.to_list()\n",
    "\n",
    "vgood = np.round((radio_lessons_vgood_group.iloc[:,:-1].sum() / radio_lessons_vgood.shape[0]*100),1).to_list()\n",
    "good = np.round((radio_lessons_good_group.iloc[:,:-1].sum() / radio_lessons_good.shape[0]*100),1).to_list()\n",
    "fair = np.round((radio_lessons_fair_group.iloc[:,:-1].sum() / radio_lessons_fair.shape[0]*100),1).to_list()\n",
    "ngood = np.round((radio_lessons_ngood_group.iloc[:,:-1].sum() / radio_lessons_ngood.shape[0]*100),1).to_list()\n",
    "\n",
    "\n",
    "fig = go.Figure()\n",
    "fig.add_trace(go.Bar(\n",
    "    x=labels,\n",
    "    y=vgood,\n",
    "    text=vgood,\n",
    "    name='Very Good Quality',\n",
    "    texttemplate='%{text:.2s}%',\n",
    "    textposition=\"inside\",\n",
    "    textangle=0,\n",
    "    textfont_color=\"white\",\n",
    "))\n",
    "fig.add_trace(go.Bar(\n",
    "    x=labels,\n",
    "    y=good,\n",
    "    name='Good Radio Quality',\n",
    "    text=good,\n",
    "    texttemplate='%{text:.2s}%',\n",
    "    textposition=\"inside\",\n",
    "    textangle=0,\n",
    "    textfont_color=\"white\",\n",
    "))\n",
    "fig.add_trace(go.Bar(\n",
    "    x=labels,\n",
    "    y=fair,\n",
    "    name='Fair Radio Quality',\n",
    "    text=fair,\n",
    "    texttemplate='%{text:.2s}%',\n",
    "    textposition=\"inside\",\n",
    "    textangle=0,\n",
    "    textfont_color=\"white\",\n",
    "))\n",
    "fig.add_trace(go.Bar(\n",
    "    x=labels,\n",
    "    y=ngood,\n",
    "    name='No Good Radio Quality',\n",
    "    text=ngood,\n",
    "    texttemplate='%{text:.2s}%',\n",
    "    textposition=\"inside\",\n",
    "    textangle=0,\n",
    "    textfont_color=\"white\",\n",
    "))\n",
    "\n",
    "fig.update_layout(barmode='group',\n",
    "                  xaxis = dict(\n",
    "                      tickfont=dict(size=18)\n",
    "                  ),\n",
    "                  title_text='<b>How can the radio lessons be improved?</b><br>Topics per group of opinions')\n",
    "fig.write_html(\"data/file.html\")"
   ]
  },
  {
   "cell_type": "code",
   "execution_count": null,
   "metadata": {},
   "outputs": [],
   "source": []
  }
 ],
 "metadata": {
  "kernelspec": {
   "display_name": "Python 3",
   "language": "python",
   "name": "python3"
  },
  "language_info": {
   "codemirror_mode": {
    "name": "ipython",
    "version": 3
   },
   "file_extension": ".py",
   "mimetype": "text/x-python",
   "name": "python",
   "nbconvert_exporter": "python",
   "pygments_lexer": "ipython3",
   "version": "3.7.7"
  }
 },
 "nbformat": 4,
 "nbformat_minor": 4
}
