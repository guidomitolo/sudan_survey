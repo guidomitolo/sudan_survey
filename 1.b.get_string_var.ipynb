{
 "cells": [
  {
   "cell_type": "markdown",
   "metadata": {},
   "source": [
    "## Get open-ended answers"
   ]
  },
  {
   "cell_type": "markdown",
   "metadata": {},
   "source": [
    "### 1. Import Raw Data "
   ]
  },
  {
   "cell_type": "code",
   "execution_count": 1,
   "metadata": {},
   "outputs": [],
   "source": [
    "import pandas as pd"
   ]
  },
  {
   "cell_type": "code",
   "execution_count": 2,
   "metadata": {},
   "outputs": [],
   "source": [
    "df = pd.read_excel('./data/Distance_Learning_Data.xlsx')"
   ]
  },
  {
   "cell_type": "markdown",
   "metadata": {},
   "source": [
    "### 2. String variables\n",
    "Set aside the columns that gathers the answers to open-ended question."
   ]
  },
  {
   "cell_type": "markdown",
   "metadata": {},
   "source": [
    "#### 1. Extracurricular activities"
   ]
  },
  {
   "cell_type": "code",
   "execution_count": 3,
   "metadata": {},
   "outputs": [],
   "source": [
    "activities = df[['Q34_Are you doing other things at home to learn, aside from radio lessons?', \n",
    "                 'Q35_What are you doing?']]"
   ]
  },
  {
   "cell_type": "code",
   "execution_count": 4,
   "metadata": {},
   "outputs": [
    {
     "data": {
      "text/plain": [
       "Q34_Are you doing other things at home to learn, aside from radio lessons?    2217\n",
       "Q35_What are you doing?                                                       3228\n",
       "dtype: int64"
      ]
     },
     "execution_count": 4,
     "metadata": {},
     "output_type": "execute_result"
    }
   ],
   "source": [
    "# no answer\n",
    "activities.isnull().sum()"
   ]
  },
  {
   "cell_type": "code",
   "execution_count": 5,
   "metadata": {},
   "outputs": [
    {
     "data": {
      "text/plain": [
       "Yes    1499\n",
       "No     1011\n",
       "Name: Q34_Are you doing other things at home to learn, aside from radio lessons?, dtype: int64"
      ]
     },
     "execution_count": 5,
     "metadata": {},
     "output_type": "execute_result"
    }
   ],
   "source": [
    "activities.iloc[:,0].value_counts()"
   ]
  },
  {
   "cell_type": "code",
   "execution_count": 6,
   "metadata": {},
   "outputs": [
    {
     "data": {
      "text/plain": [
       "Reading                             161\n",
       "Reading                              34\n",
       "Reading books                        32\n",
       "Studies                              31\n",
       "Studying                             26\n",
       "Studies                              21\n",
       "Revision                             18\n",
       "Study books                          17\n",
       "Cooking                              16\n",
       "Reading my books                     15\n",
       "Reading textbooks                    14\n",
       "Reading notes                        12\n",
       "Holiday package                      11\n",
       "Revising books                       10\n",
       "Reading text books                   10\n",
       "Revising my notes                    10\n",
       "Reading textbooks                    10\n",
       "Group discussion                      9\n",
       "Studying                              8\n",
       "I do revised my previous lessons      7\n",
       "Name: Q35_What are you doing?, dtype: int64"
      ]
     },
     "execution_count": 6,
     "metadata": {},
     "output_type": "execute_result"
    }
   ],
   "source": [
    "activities.iloc[:,1].value_counts()[:20]"
   ]
  },
  {
   "cell_type": "code",
   "execution_count": 7,
   "metadata": {},
   "outputs": [],
   "source": [
    "activities.to_csv('data/activities.csv', index=False)"
   ]
  },
  {
   "cell_type": "markdown",
   "metadata": {},
   "source": [
    "#### 2. Learning materials"
   ]
  },
  {
   "cell_type": "code",
   "execution_count": 8,
   "metadata": {},
   "outputs": [],
   "source": [
    "learning_mat = df[['Q36_What materials are you using?', \n",
    "                   'Q37_How often do you use these materials?',\n",
    "                   'Q38_Do you find these materials more or less helpful than radio lessons?',\n",
    "                   'Q39_Why']]"
   ]
  },
  {
   "cell_type": "code",
   "execution_count": 9,
   "metadata": {},
   "outputs": [
    {
     "data": {
      "text/plain": [
       "Q36_What materials are you using?                                           3228\n",
       "Q37_How often do you use these materials?                                   3228\n",
       "Q38_Do you find these materials more or less helpful than radio lessons?    3228\n",
       "Q39_Why                                                                     3228\n",
       "dtype: int64"
      ]
     },
     "execution_count": 9,
     "metadata": {},
     "output_type": "execute_result"
    }
   ],
   "source": [
    "# no answer\n",
    "learning_mat.isnull().sum()"
   ]
  },
  {
   "cell_type": "code",
   "execution_count": 10,
   "metadata": {},
   "outputs": [
    {
     "data": {
      "text/plain": [
       "Textbooks                                              550\n",
       "Practice book from school                              294\n",
       "Textbooks Practice book from school                    196\n",
       "Other (specify)                                        135\n",
       "Study packets                                           75\n",
       "Textbooks Study packets Practice book from school       47\n",
       "Textbooks Study packets                                 43\n",
       "Study packets Practice book from school                 42\n",
       "Practice book from school Textbooks                     30\n",
       "Textbooks Other (specify)                               20\n",
       "Practice book from school Study packets                 11\n",
       "Textbooks Practice book from school Study packets       10\n",
       "Practice book from school Other (specify)                9\n",
       "Study packets Other (specify)                            9\n",
       "Study packets Textbooks                                  7\n",
       "Other (specify) Practice book from school                3\n",
       "Textbooks Study packets Other (specify)                  3\n",
       "Textbooks Practice book from school Other (specify)      3\n",
       "Study packets Practice book from school Textbooks        2\n",
       "Study packets Textbooks Practice book from school        2\n",
       "Name: Q36_What materials are you using?, dtype: int64"
      ]
     },
     "execution_count": 10,
     "metadata": {},
     "output_type": "execute_result"
    }
   ],
   "source": [
    "learning_mat.iloc[:,0].value_counts()[:20]"
   ]
  },
  {
   "cell_type": "code",
   "execution_count": 11,
   "metadata": {},
   "outputs": [
    {
     "data": {
      "text/plain": [
       "A few times a week     1021\n",
       "Daily                   321\n",
       "A few times a month     133\n",
       "Other (specify)          24\n",
       "Name: Q37_How often do you use these materials?, dtype: int64"
      ]
     },
     "execution_count": 11,
     "metadata": {},
     "output_type": "execute_result"
    }
   ],
   "source": [
    "learning_mat.iloc[:,1].value_counts()"
   ]
  },
  {
   "cell_type": "code",
   "execution_count": 12,
   "metadata": {},
   "outputs": [
    {
     "data": {
      "text/plain": [
       "More              805\n",
       "Less              600\n",
       "About the same     94\n",
       "Name: Q38_Do you find these materials more or less helpful than radio lessons?, dtype: int64"
      ]
     },
     "execution_count": 12,
     "metadata": {},
     "output_type": "execute_result"
    }
   ],
   "source": [
    "learning_mat.iloc[:,2].value_counts()"
   ]
  },
  {
   "cell_type": "code",
   "execution_count": 13,
   "metadata": {},
   "outputs": [],
   "source": [
    "learning_mat.to_csv('data/learning_mat.csv', index=False)"
   ]
  },
  {
   "cell_type": "markdown",
   "metadata": {},
   "source": [
    "#### 3. Health and covid-19"
   ]
  },
  {
   "cell_type": "code",
   "execution_count": 14,
   "metadata": {},
   "outputs": [],
   "source": [
    "health = df[['Q46_Do you feel worried about your health due to studying/being at home during COVID-19?',\n",
    "             'Q47_Why or why not?']]"
   ]
  },
  {
   "cell_type": "code",
   "execution_count": 15,
   "metadata": {},
   "outputs": [
    {
     "data": {
      "text/plain": [
       "Q46_Do you feel worried about your health due to studying/being at home during COVID-19?    3352\n",
       "Q47_Why or why not?                                                                         3352\n",
       "dtype: int64"
      ]
     },
     "execution_count": 15,
     "metadata": {},
     "output_type": "execute_result"
    }
   ],
   "source": [
    "# no answer\n",
    "health.isnull().sum()"
   ]
  },
  {
   "cell_type": "code",
   "execution_count": 16,
   "metadata": {},
   "outputs": [
    {
     "data": {
      "text/plain": [
       "Yes         772\n",
       "No          528\n",
       "Somewhat     75\n",
       "Name: Q46_Do you feel worried about your health due to studying/being at home during COVID-19?, dtype: int64"
      ]
     },
     "execution_count": 16,
     "metadata": {},
     "output_type": "execute_result"
    }
   ],
   "source": [
    "health.iloc[:,0].value_counts()"
   ]
  },
  {
   "cell_type": "code",
   "execution_count": 17,
   "metadata": {},
   "outputs": [
    {
     "data": {
      "text/plain": [
       "Because of the pandemic                        17\n",
       "Because I want to live                         10\n",
       "Because of CoVID 19 infection.                 10\n",
       "Am safe at home                                 9\n",
       "Because of CoVID 19 infection among people.     9\n",
       "Because no school                               8\n",
       "It is dangerous                                 8\n",
       "Because am safe at home                         7\n",
       "I feel safe at home                             7\n",
       "Home is safe                                    6\n",
       "Because of covid-19                             6\n",
       "Am at home                                      4\n",
       "Home is safety                                  4\n",
       "Because of infection                            4\n",
       "The disease is every where                      4\n",
       "Following preventive measures                   4\n",
       "Am safe                                         4\n",
       "At home am safe                                 4\n",
       "I don't know                                    4\n",
       "Because staying at home is safe                 4\n",
       "Name: Q47_Why or why not?, dtype: int64"
      ]
     },
     "execution_count": 17,
     "metadata": {},
     "output_type": "execute_result"
    }
   ],
   "source": [
    "health.iloc[:,1].value_counts()[:20]"
   ]
  },
  {
   "cell_type": "code",
   "execution_count": 18,
   "metadata": {},
   "outputs": [],
   "source": [
    "health.to_csv('data/health.csv', index=False)"
   ]
  },
  {
   "cell_type": "markdown",
   "metadata": {},
   "source": [
    "#### 4. Home safety and covid-19"
   ]
  },
  {
   "cell_type": "code",
   "execution_count": 19,
   "metadata": {},
   "outputs": [],
   "source": [
    "home_safety = df[['Q48_Do you feel worried about your safety due to being at home during COVID-19?','Q49_Why or why not?']]"
   ]
  },
  {
   "cell_type": "code",
   "execution_count": 20,
   "metadata": {},
   "outputs": [
    {
     "data": {
      "text/plain": [
       "Q48_Do you feel worried about your safety due to being at home during COVID-19?    3352\n",
       "Q49_Why or why not?                                                                3352\n",
       "dtype: int64"
      ]
     },
     "execution_count": 20,
     "metadata": {},
     "output_type": "execute_result"
    }
   ],
   "source": [
    "# no answer\n",
    "home_safety.isnull().sum()"
   ]
  },
  {
   "cell_type": "code",
   "execution_count": 21,
   "metadata": {},
   "outputs": [
    {
     "data": {
      "text/plain": [
       "Yes         666\n",
       "No          648\n",
       "Somewhat     61\n",
       "Name: Q48_Do you feel worried about your safety due to being at home during COVID-19?, dtype: int64"
      ]
     },
     "execution_count": 21,
     "metadata": {},
     "output_type": "execute_result"
    }
   ],
   "source": [
    "home_safety.iloc[:,0].value_counts()"
   ]
  },
  {
   "cell_type": "code",
   "execution_count": 22,
   "metadata": {},
   "outputs": [
    {
     "data": {
      "text/plain": [
       "I feel safe at home                  27\n",
       "Am safe at home                      17\n",
       "Home is safe                         14\n",
       "Because am safe at home              10\n",
       "The pandemic is everywhere            9\n",
       "I feel safe                           7\n",
       "Am safe                               6\n",
       "Am safe                               6\n",
       "Self protection                       5\n",
       "Because of covid 19                   5\n",
       "Because of lockdown                   5\n",
       "The disease can affect everywhere     5\n",
       "I fear the disease                    5\n",
       "Because I am at home                  4\n",
       "Because of corona virus               4\n",
       "I fear corona virus                   4\n",
       "Our house is safe                     4\n",
       "Because I fear corona virus           4\n",
       "To avoid contact                      4\n",
       "Home is safety                        4\n",
       "Name: Q49_Why or why not?, dtype: int64"
      ]
     },
     "execution_count": 22,
     "metadata": {},
     "output_type": "execute_result"
    }
   ],
   "source": [
    "home_safety.iloc[:,1].value_counts()[:20]"
   ]
  },
  {
   "cell_type": "code",
   "execution_count": 23,
   "metadata": {},
   "outputs": [],
   "source": [
    "home_safety.to_csv('data/home_safety.csv', index=False)"
   ]
  },
  {
   "cell_type": "markdown",
   "metadata": {},
   "source": [
    "#### 5. Schoolwork"
   ]
  },
  {
   "cell_type": "code",
   "execution_count": 24,
   "metadata": {},
   "outputs": [],
   "source": [
    "schoolwork = df[['Q50_Are you/your learners doing more schoolwork or less schoolwork since the COVID-19 school closures? ', \n",
    "                 'Q51_Why?']]"
   ]
  },
  {
   "cell_type": "code",
   "execution_count": 25,
   "metadata": {},
   "outputs": [
    {
     "data": {
      "text/plain": [
       "Q50_Are you/your learners doing more schoolwork or less schoolwork since the COVID-19 school closures?     3352\n",
       "Q51_Why?                                                                                                   3352\n",
       "dtype: int64"
      ]
     },
     "execution_count": 25,
     "metadata": {},
     "output_type": "execute_result"
    }
   ],
   "source": [
    "# no answer\n",
    "schoolwork.isnull().sum()"
   ]
  },
  {
   "cell_type": "code",
   "execution_count": 26,
   "metadata": {},
   "outputs": [
    {
     "data": {
      "text/plain": [
       "Less        1159\n",
       "More         177\n",
       "The same      39\n",
       "Name: Q50_Are you/your learners doing more schoolwork or less schoolwork since the COVID-19 school closures? , dtype: int64"
      ]
     },
     "execution_count": 26,
     "metadata": {},
     "output_type": "execute_result"
    }
   ],
   "source": [
    "schoolwork.iloc[:,0].value_counts()"
   ]
  },
  {
   "cell_type": "code",
   "execution_count": 27,
   "metadata": {},
   "outputs": [
    {
     "data": {
      "text/plain": [
       "No school                             19\n",
       "Engaged in other activities           18\n",
       "No teacher                            16\n",
       "No teachers                           14\n",
       "I don't know                          13\n",
       "Because of additional work at home     8\n",
       "Because no school                      8\n",
       "Domestic work                          7\n",
       "Too much domestic work                 7\n",
       "Workloads at home                      6\n",
       "Present of teacher is good             5\n",
       "House duties                           5\n",
       "Lack of textbook                       5\n",
       "Laziness                               5\n",
       "Because of lockdown                    5\n",
       "Because of extra work at home          5\n",
       "No time                                5\n",
       "No interest                            4\n",
       "Lockdown                               4\n",
       "No school                              4\n",
       "Name: Q51_Why?, dtype: int64"
      ]
     },
     "execution_count": 27,
     "metadata": {},
     "output_type": "execute_result"
    }
   ],
   "source": [
    "schoolwork.iloc[:,1].value_counts()[:20]"
   ]
  },
  {
   "cell_type": "code",
   "execution_count": 28,
   "metadata": {},
   "outputs": [],
   "source": [
    "schoolwork.to_csv('data/schoolwork.csv', index=False)"
   ]
  },
  {
   "cell_type": "markdown",
   "metadata": {},
   "source": [
    "#### 6. Learning quantity"
   ]
  },
  {
   "cell_type": "code",
   "execution_count": 29,
   "metadata": {},
   "outputs": [],
   "source": [
    "quantity_learning = df[['Q52_Are you/your learners learning more or are you learning less using radio lessons since the COVID-19 school closures?', \n",
    "                        'Q53_why']]"
   ]
  },
  {
   "cell_type": "code",
   "execution_count": 30,
   "metadata": {},
   "outputs": [
    {
     "data": {
      "text/plain": [
       "Q52_Are you/your learners learning more or are you learning less using radio lessons since the COVID-19 school closures?    3352\n",
       "Q53_why                                                                                                                     3352\n",
       "dtype: int64"
      ]
     },
     "execution_count": 30,
     "metadata": {},
     "output_type": "execute_result"
    }
   ],
   "source": [
    "# no answer\n",
    "quantity_learning.isnull().sum()"
   ]
  },
  {
   "cell_type": "code",
   "execution_count": 31,
   "metadata": {},
   "outputs": [
    {
     "data": {
      "text/plain": [
       "Less        1249\n",
       "More          80\n",
       "The same      46\n",
       "Name: Q52_Are you/your learners learning more or are you learning less using radio lessons since the COVID-19 school closures?, dtype: int64"
      ]
     },
     "execution_count": 31,
     "metadata": {},
     "output_type": "execute_result"
    }
   ],
   "source": [
    "quantity_learning.iloc[:,0].value_counts()"
   ]
  },
  {
   "cell_type": "code",
   "execution_count": 32,
   "metadata": {},
   "outputs": [
    {
     "data": {
      "text/plain": [
       "No radio                                          34\n",
       "No teacher                                        17\n",
       "No school                                         15\n",
       "Engaged in other activities                       14\n",
       "No teachers                                       13\n",
       "Stress                                            12\n",
       "I don't know                                      11\n",
       "No much concentration                              9\n",
       "No radios                                          7\n",
       "No radio at home                                   6\n",
       "No time                                            6\n",
       "No access to radio                                 5\n",
       "Because we are engaged in community activities     5\n",
       "No teacher                                         5\n",
       "Time is limited                                    4\n",
       "The time is not enough                             4\n",
       "Time is not enough                                 4\n",
       "No practical work                                  4\n",
       "No teachers                                        4\n",
       "Because I have no radio at home.                   4\n",
       "Name: Q53_why, dtype: int64"
      ]
     },
     "execution_count": 32,
     "metadata": {},
     "output_type": "execute_result"
    }
   ],
   "source": [
    "quantity_learning.iloc[:,1].value_counts()[:20]"
   ]
  },
  {
   "cell_type": "code",
   "execution_count": 33,
   "metadata": {},
   "outputs": [],
   "source": [
    "quantity_learning.to_csv('data/quantity_learning.csv', index=False)"
   ]
  },
  {
   "cell_type": "markdown",
   "metadata": {},
   "source": [
    "#### 7. Likes about radio lessons"
   ]
  },
  {
   "cell_type": "code",
   "execution_count": 34,
   "metadata": {},
   "outputs": [],
   "source": [
    "radio_likes = df[['Q55_What do you like most about the radio lessons?',\n",
    "                  'Q56_What are the challenges with learning on the radio?']]"
   ]
  },
  {
   "cell_type": "code",
   "execution_count": 35,
   "metadata": {},
   "outputs": [
    {
     "data": {
      "text/plain": [
       "Q55_What do you like most about the radio lessons?         3712\n",
       "Q56_What are the challenges with learning on the radio?    3352\n",
       "dtype: int64"
      ]
     },
     "execution_count": 35,
     "metadata": {},
     "output_type": "execute_result"
    }
   ],
   "source": [
    "# no answer\n",
    "radio_likes.isnull().sum()"
   ]
  },
  {
   "cell_type": "code",
   "execution_count": 36,
   "metadata": {},
   "outputs": [
    {
     "data": {
      "text/plain": [
       "English                                    21\n",
       "It is good program                         14\n",
       "English                                     8\n",
       "It is good                                  7\n",
       "Because it's keeps on remained learners     7\n",
       "Science                                     6\n",
       "Add more information                        5\n",
       "News                                        5\n",
       "It keeps me busy                            5\n",
       "I get new ideas                             5\n",
       "Good program                                5\n",
       "To get information                          5\n",
       "Listening                                   4\n",
       "It gives me more knowledge                  4\n",
       "Getting more information                    4\n",
       "Teaching                                    3\n",
       "Maths                                       3\n",
       "It is clear                                 3\n",
       "Interaction with teachers                   3\n",
       "Well explained                              3\n",
       "Name: Q55_What do you like most about the radio lessons?, dtype: int64"
      ]
     },
     "execution_count": 36,
     "metadata": {},
     "output_type": "execute_result"
    }
   ],
   "source": [
    "radio_likes.iloc[:,0].value_counts()[:20]"
   ]
  },
  {
   "cell_type": "code",
   "execution_count": 37,
   "metadata": {},
   "outputs": [
    {
     "data": {
      "text/plain": [
       "No radio                            24\n",
       "No radio and battery                20\n",
       "Very fast                           12\n",
       "Network problem                      9\n",
       "No challenges                        8\n",
       "I have no radio                      8\n",
       "No challenge                         6\n",
       "No                                   6\n",
       "Sometimes not very clear             6\n",
       "Lack of radio                        6\n",
       "Network issue                        6\n",
       "No.                                  5\n",
       "I don't know                         5\n",
       "Time is limited                      5\n",
       "Nothing                              5\n",
       "Timing is hard                       4\n",
       "Power                                4\n",
       "I don't understand                   4\n",
       "Lack of batteries                    3\n",
       "It's too faster on radio program     3\n",
       "Name: Q56_What are the challenges with learning on the radio?, dtype: int64"
      ]
     },
     "execution_count": 37,
     "metadata": {},
     "output_type": "execute_result"
    }
   ],
   "source": [
    "radio_likes.iloc[:,1].value_counts()[:20]"
   ]
  },
  {
   "cell_type": "code",
   "execution_count": 38,
   "metadata": {},
   "outputs": [],
   "source": [
    "radio_likes.to_csv('data/radio_likes.csv', index=False)"
   ]
  },
  {
   "cell_type": "markdown",
   "metadata": {},
   "source": [
    "#### 8. Radio lessons quality"
   ]
  },
  {
   "cell_type": "code",
   "execution_count": 39,
   "metadata": {},
   "outputs": [],
   "source": [
    "radio_lessons = df[['Q57_What is the quality of the radio lessons? ',\n",
    "                    'Q58_How can the radio lessons be improved?']]"
   ]
  },
  {
   "cell_type": "code",
   "execution_count": 40,
   "metadata": {},
   "outputs": [
    {
     "data": {
      "text/plain": [
       "Q57_What is the quality of the radio lessons?     3352\n",
       "Q58_How can the radio lessons be improved?        3352\n",
       "dtype: int64"
      ]
     },
     "execution_count": 40,
     "metadata": {},
     "output_type": "execute_result"
    }
   ],
   "source": [
    "# no answer\n",
    "radio_lessons.isnull().sum()"
   ]
  },
  {
   "cell_type": "code",
   "execution_count": 41,
   "metadata": {},
   "outputs": [
    {
     "data": {
      "text/plain": [
       "Good         644\n",
       "Fair         396\n",
       "Not good     186\n",
       "Very good    149\n",
       "Name: Q57_What is the quality of the radio lessons? , dtype: int64"
      ]
     },
     "execution_count": 41,
     "metadata": {},
     "output_type": "execute_result"
    }
   ],
   "source": [
    "radio_lessons.iloc[:,0].value_counts()"
   ]
  },
  {
   "cell_type": "code",
   "execution_count": 42,
   "metadata": {},
   "outputs": [
    {
     "data": {
      "text/plain": [
       "I don't know                          23\n",
       "More radio are needed                 15\n",
       "Distribution of radios                11\n",
       "More radio to be distributed          10\n",
       "No idea                               10\n",
       "Extension of radio coverage            8\n",
       "More radio needed                      7\n",
       "More time                              6\n",
       "More radio to be given to learners     6\n",
       "Nothing                                6\n",
       "Network coverage                       6\n",
       "Provide more radio                     6\n",
       "Give more time                         5\n",
       "Increase the time                      5\n",
       "Provide learners with more radio       5\n",
       "Radios distribution                    5\n",
       "No                                     5\n",
       "More radios                            5\n",
       "Distribution of radios                 4\n",
       "Distributing more radios               4\n",
       "Name: Q58_How can the radio lessons be improved?, dtype: int64"
      ]
     },
     "execution_count": 42,
     "metadata": {},
     "output_type": "execute_result"
    }
   ],
   "source": [
    "radio_lessons.iloc[:,1].value_counts()[:20]"
   ]
  },
  {
   "cell_type": "code",
   "execution_count": 43,
   "metadata": {},
   "outputs": [],
   "source": [
    "radio_lessons.to_csv('data/radio_lessons.csv', index=False)"
   ]
  },
  {
   "cell_type": "markdown",
   "metadata": {},
   "source": [
    "#### 9. Schools reopening and radio lessons"
   ]
  },
  {
   "cell_type": "code",
   "execution_count": 44,
   "metadata": {},
   "outputs": [],
   "source": [
    "radio_school = df[['Q59_When schools reopen, would you still listen to radio lessons?',\n",
    "                   'Q60_Why or why not?']]"
   ]
  },
  {
   "cell_type": "code",
   "execution_count": 45,
   "metadata": {},
   "outputs": [
    {
     "data": {
      "text/plain": [
       "Q59_When schools reopen, would you still listen to radio lessons?    3352\n",
       "Q60_Why or why not?                                                  3352\n",
       "dtype: int64"
      ]
     },
     "execution_count": 45,
     "metadata": {},
     "output_type": "execute_result"
    }
   ],
   "source": [
    "# no answer\n",
    "radio_school.isnull().sum()"
   ]
  },
  {
   "cell_type": "code",
   "execution_count": 46,
   "metadata": {},
   "outputs": [
    {
     "data": {
      "text/plain": [
       "Yes    697\n",
       "No     678\n",
       "Name: Q59_When schools reopen, would you still listen to radio lessons?, dtype: int64"
      ]
     },
     "execution_count": 46,
     "metadata": {},
     "output_type": "execute_result"
    }
   ],
   "source": [
    "radio_school.iloc[:,0].value_counts()"
   ]
  },
  {
   "cell_type": "code",
   "execution_count": 47,
   "metadata": {},
   "outputs": [
    {
     "data": {
      "text/plain": [
       "No need                                             20\n",
       "No time                                             12\n",
       "I will be busy in the school                        11\n",
       "No radio                                             9\n",
       "Because school open                                  9\n",
       "To learn more                                        9\n",
       "The teachers are in the school to teach              8\n",
       "Because Schools are reopened.                        8\n",
       "I will be busy                                       8\n",
       "Because it's keeps on remained learners              7\n",
       "To improve my performance                            6\n",
       "So that i get enough knowledge                       5\n",
       "To get more knowledge                                5\n",
       "School has opened                                    5\n",
       "No time                                              5\n",
       "Additional knowledge                                 5\n",
       "The teachers are already in the schools to teach     4\n",
       "To get more information                              4\n",
       "I like it                                            4\n",
       "There will be no time                                4\n",
       "Name: Q60_Why or why not?, dtype: int64"
      ]
     },
     "execution_count": 47,
     "metadata": {},
     "output_type": "execute_result"
    }
   ],
   "source": [
    "radio_school.iloc[:,1].value_counts()[:20]"
   ]
  },
  {
   "cell_type": "code",
   "execution_count": 48,
   "metadata": {},
   "outputs": [],
   "source": [
    "radio_school.to_csv('data/radio_school.csv', index=False)"
   ]
  },
  {
   "cell_type": "markdown",
   "metadata": {},
   "source": [
    "#### 10. School reopening and safety"
   ]
  },
  {
   "cell_type": "code",
   "execution_count": 49,
   "metadata": {},
   "outputs": [],
   "source": [
    "school_safety = df[['Q61_When schools re-open, do you think your school will have measures in place to ensure a safe learning environment?',\n",
    "                    'Q62_Why or why not?',\n",
    "                    'Q63_What are your concerns about returning to school?']]"
   ]
  },
  {
   "cell_type": "code",
   "execution_count": 50,
   "metadata": {},
   "outputs": [
    {
     "data": {
      "text/plain": [
       "Q61_When schools re-open, do you think your school will have measures in place to ensure a safe learning environment?    804\n",
       "Q62_Why or why not?                                                                                                      804\n",
       "Q63_What are your concerns about returning to school?                                                                    804\n",
       "dtype: int64"
      ]
     },
     "execution_count": 50,
     "metadata": {},
     "output_type": "execute_result"
    }
   ],
   "source": [
    "# no answer\n",
    "school_safety.isnull().sum()"
   ]
  },
  {
   "cell_type": "code",
   "execution_count": 51,
   "metadata": {},
   "outputs": [
    {
     "data": {
      "text/plain": [
       "Yes         2181\n",
       "No          1027\n",
       "Somewhat     715\n",
       "Name: Q61_When schools re-open, do you think your school will have measures in place to ensure a safe learning environment?, dtype: int64"
      ]
     },
     "execution_count": 51,
     "metadata": {},
     "output_type": "execute_result"
    }
   ],
   "source": [
    "school_safety.iloc[:,0].value_counts()"
   ]
  },
  {
   "cell_type": "code",
   "execution_count": 52,
   "metadata": {},
   "outputs": [
    {
     "data": {
      "text/plain": [
       "I don't know                                                                      364\n",
       "I don't know                                                                       54\n",
       "Measures against covid 19                                                          45\n",
       "Social distancing                                                                  31\n",
       "No hand washing facilities                                                         29\n",
       "The school administration will ensure the safety of the learners                   23\n",
       "No                                                                                 22\n",
       "I have no idea                                                                     19\n",
       "No idea                                                                            18\n",
       "I'm not sure                                                                       16\n",
       "To keep school clean                                                               14\n",
       "I don't know.                                                                      14\n",
       "The school administration will ensure the safety of the learners in the school     14\n",
       "I don't know from the school authority                                             13\n",
       "school closed                                                                      13\n",
       "People learnt about Covid-19 guidelines                                            13\n",
       "Not sure                                                                           11\n",
       "Hand washing facility                                                              11\n",
       "I doubt                                                                            10\n",
       "Somewhat                                                                            9\n",
       "Name: Q62_Why or why not?, dtype: int64"
      ]
     },
     "execution_count": 52,
     "metadata": {},
     "output_type": "execute_result"
    }
   ],
   "source": [
    "school_safety.iloc[:,1].value_counts()[:20]"
   ]
  },
  {
   "cell_type": "code",
   "execution_count": 53,
   "metadata": {},
   "outputs": [],
   "source": [
    "school_safety.to_csv('data/school_safety.csv', index=False)"
   ]
  }
 ],
 "metadata": {
  "kernelspec": {
   "display_name": "Python 3",
   "language": "python",
   "name": "python3"
  },
  "language_info": {
   "codemirror_mode": {
    "name": "ipython",
    "version": 3
   },
   "file_extension": ".py",
   "mimetype": "text/x-python",
   "name": "python",
   "nbconvert_exporter": "python",
   "pygments_lexer": "ipython3",
   "version": "3.7.7"
  }
 },
 "nbformat": 4,
 "nbformat_minor": 4
}
