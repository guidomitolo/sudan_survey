{
 "cells": [
  {
   "cell_type": "markdown",
   "metadata": {},
   "source": [
    "## Vectorization"
   ]
  },
  {
   "cell_type": "code",
   "execution_count": 171,
   "metadata": {},
   "outputs": [],
   "source": [
    "import pandas as pd\n",
    "import numpy as np\n",
    "import re\n",
    "import nltk\n",
    "\n",
    "import matplotlib.pyplot as plt\n",
    "\n",
    "from nltk.corpus import stopwords\n",
    "from sklearn.feature_extraction.text import CountVectorizer"
   ]
  },
  {
   "cell_type": "markdown",
   "metadata": {},
   "source": [
    "### 1. Load Data"
   ]
  },
  {
   "cell_type": "markdown",
   "metadata": {},
   "source": [
    "#### Open-ended Answers"
   ]
  },
  {
   "cell_type": "code",
   "execution_count": 172,
   "metadata": {},
   "outputs": [],
   "source": [
    "activities = pd.read_csv('./data/activities.csv')"
   ]
  },
  {
   "cell_type": "code",
   "execution_count": 173,
   "metadata": {},
   "outputs": [],
   "source": [
    "health = pd.read_csv('./data/health.csv')"
   ]
  },
  {
   "cell_type": "code",
   "execution_count": 174,
   "metadata": {},
   "outputs": [],
   "source": [
    "home_safety = pd.read_csv('./data/home_safety.csv')"
   ]
  },
  {
   "cell_type": "markdown",
   "metadata": {},
   "source": [
    "## 2. Count vectorization function\n",
    "#### 2.1. Retrieve bi/trigrams tokens, refine and encode"
   ]
  },
  {
   "cell_type": "code",
   "execution_count": 175,
   "metadata": {},
   "outputs": [],
   "source": [
    "stopwords = stopwords.words('english')"
   ]
  },
  {
   "cell_type": "code",
   "execution_count": 176,
   "metadata": {},
   "outputs": [],
   "source": [
    "def removal(text):\n",
    "    text = re.sub(r'(\\d|\\$|\\%|\\+)', '', text.lower())\n",
    "    return re.sub(r'\\d+', '', text)"
   ]
  },
  {
   "cell_type": "code",
   "execution_count": 177,
   "metadata": {},
   "outputs": [],
   "source": [
    "def bow_vectorization(data, index, n_grams):\n",
    "    vectorizer = CountVectorizer(stop_words = stopwords, lowercase = True, strip_accents='unicode', ngram_range=n_grams, preprocessor=removal)\n",
    "    data_tokens = vectorizer.fit_transform(data)\n",
    "    print(len(vectorizer.vocabulary_),'words in dictionary.')\n",
    "    return pd.DataFrame(data_tokens.todense(), columns=vectorizer.get_feature_names(), index=index)"
   ]
  },
  {
   "cell_type": "markdown",
   "metadata": {},
   "source": [
    "#### 2.2. Search word in vocabulary"
   ]
  },
  {
   "cell_type": "raw",
   "metadata": {},
   "source": [
    "def search(word_in=None, word_out=None, vocabulary=None):\n",
    "    if word_in is None:\n",
    "        return 'no words to search'\n",
    "    words = []\n",
    "    for term in vocabulary:\n",
    "        if word_out is None:\n",
    "            if word_in in term:\n",
    "                words.append(term)            \n",
    "        else:\n",
    "            if word_in in term and word_out not in term:\n",
    "                words.append(term)\n",
    "    return words"
   ]
  },
  {
   "cell_type": "code",
   "execution_count": 178,
   "metadata": {},
   "outputs": [],
   "source": [
    "def search(word_in=None, word_out=None, vocabulary=None):\n",
    "    if word_in is None:\n",
    "        return 'no words to search'\n",
    "\n",
    "    words = []\n",
    "    if isinstance(word_in, list):\n",
    "        for word in word_in:\n",
    "            for term in vocabulary:\n",
    "                if word in term:\n",
    "                    words.append(term)            \n",
    "    else:\n",
    "        for term in vocabulary:\n",
    "            if word_in in term:\n",
    "                words.append(term)\n",
    "    \n",
    "    words_clean = []\n",
    "    if word_out:\n",
    "        if isinstance(word_out,str):\n",
    "            word_out = [word_out]\n",
    "        print(word_out)\n",
    "        for word in word_out:\n",
    "            for term in words:\n",
    "                if word in term:\n",
    "                    pass\n",
    "                else:\n",
    "                    words_clean.append(term)\n",
    "        return words_clean\n",
    "    else:\n",
    "        return words"
   ]
  },
  {
   "cell_type": "markdown",
   "metadata": {},
   "source": [
    "## 3. Questions to vectorize"
   ]
  },
  {
   "cell_type": "markdown",
   "metadata": {},
   "source": [
    "### 3.1. Are you doing other things at home to learn, aside from radio lessons? What are you doing?"
   ]
  },
  {
   "cell_type": "markdown",
   "metadata": {},
   "source": [
    "Only those who answered \"Yes\" explained later what they were doing."
   ]
  },
  {
   "cell_type": "code",
   "execution_count": 179,
   "metadata": {},
   "outputs": [
    {
     "data": {
      "text/plain": [
       "Unnamed: 0                                                                    1499\n",
       "Q34_Are you doing other things at home to learn, aside from radio lessons?    1499\n",
       "Q35_What are you doing?                                                       1499\n",
       "dtype: int64"
      ]
     },
     "execution_count": 179,
     "metadata": {},
     "output_type": "execute_result"
    }
   ],
   "source": [
    "# Yes answer\n",
    "activities[activities.iloc[:,1] == 'Yes'].notnull().sum()"
   ]
  },
  {
   "cell_type": "code",
   "execution_count": 180,
   "metadata": {},
   "outputs": [
    {
     "data": {
      "text/plain": [
       "Unnamed: 0                                                                    1011\n",
       "Q34_Are you doing other things at home to learn, aside from radio lessons?    1011\n",
       "Q35_What are you doing?                                                          0\n",
       "dtype: int64"
      ]
     },
     "execution_count": 180,
     "metadata": {},
     "output_type": "execute_result"
    }
   ],
   "source": [
    "# No answer\n",
    "activities[activities.iloc[:,1] == 'No'].notnull().sum()"
   ]
  },
  {
   "cell_type": "markdown",
   "metadata": {},
   "source": [
    "Counting random words"
   ]
  },
  {
   "cell_type": "code",
   "execution_count": 181,
   "metadata": {},
   "outputs": [
    {
     "data": {
      "text/plain": [
       "691"
      ]
     },
     "execution_count": 181,
     "metadata": {},
     "output_type": "execute_result"
    }
   ],
   "source": [
    "mask = activities.iloc[:,2].str.contains('read|Read', na=False)\n",
    "mask.sum()"
   ]
  },
  {
   "cell_type": "code",
   "execution_count": 182,
   "metadata": {},
   "outputs": [
    {
     "data": {
      "text/plain": [
       "109"
      ]
     },
     "execution_count": 182,
     "metadata": {},
     "output_type": "execute_result"
    }
   ],
   "source": [
    "mask_2 = activities.iloc[:,2].str.contains('work|Work', na=False)\n",
    "mask_2.sum()"
   ]
  },
  {
   "cell_type": "code",
   "execution_count": 183,
   "metadata": {},
   "outputs": [
    {
     "data": {
      "text/plain": [
       "32"
      ]
     },
     "execution_count": 183,
     "metadata": {},
     "output_type": "execute_result"
    }
   ],
   "source": [
    "mask_3 = activities.iloc[:,2].str.contains('Harvest|harvest|culti|Cultiv', na=False)\n",
    "mask_3.sum()"
   ]
  },
  {
   "cell_type": "code",
   "execution_count": 184,
   "metadata": {},
   "outputs": [
    {
     "data": {
      "text/plain": [
       "60"
      ]
     },
     "execution_count": 184,
     "metadata": {},
     "output_type": "execute_result"
    }
   ],
   "source": [
    "mask_4 = activities.iloc[:,2].str.contains('package', na=False)\n",
    "mask_4.sum()"
   ]
  },
  {
   "cell_type": "markdown",
   "metadata": {},
   "source": [
    "#### Word vectorization"
   ]
  },
  {
   "cell_type": "code",
   "execution_count": 185,
   "metadata": {},
   "outputs": [
    {
     "name": "stdout",
     "output_type": "stream",
     "text": [
      "456 words in dictionary.\n"
     ]
    }
   ],
   "source": [
    "activities_bi = bow_vectorization(data = activities.iloc[:,2].dropna(), \n",
    "                                  index=activities.iloc[:,2].dropna().index, \n",
    "                                  n_grams=(1, 1))"
   ]
  },
  {
   "cell_type": "code",
   "execution_count": 186,
   "metadata": {},
   "outputs": [
    {
     "data": {
      "text/plain": [
       "reading       595\n",
       "books         314\n",
       "notes         132\n",
       "revising      106\n",
       "home           96\n",
       "work           92\n",
       "read           88\n",
       "studies        87\n",
       "studying       76\n",
       "previous       74\n",
       "revision       69\n",
       "cooking        63\n",
       "study          59\n",
       "school         55\n",
       "text           53\n",
       "textbooks      51\n",
       "holiday        45\n",
       "revise         42\n",
       "group          41\n",
       "package        37\n",
       "lessons        36\n",
       "exercise       32\n",
       "discussion     32\n",
       "time           30\n",
       "book           30\n",
       "dtype: int64"
      ]
     },
     "execution_count": 186,
     "metadata": {},
     "output_type": "execute_result"
    }
   ],
   "source": [
    "# see 25 most repeated\n",
    "activities_bi.sum().sort_values(ascending=False)[:25]"
   ]
  },
  {
   "cell_type": "markdown",
   "metadata": {},
   "source": [
    "#### Group words\n",
    "Group similar words by concepts and count unique apperance"
   ]
  },
  {
   "cell_type": "code",
   "execution_count": 187,
   "metadata": {},
   "outputs": [],
   "source": [
    "studying = activities_bi[['revise','revised','revising','revision','reading','read', 'book', 'books','note','notes','english',\n",
    "               'math','maths','mathematics','study','studying','studies', 'science', 'subjects', 'revisions',\n",
    "              'text', 'textbook','textbooks','homework','practicing','lessons', 'practing', 'lessons','lesson',\n",
    "              'exercise','exercises','discuss','discussion','discussing','activities']]"
   ]
  },
  {
   "cell_type": "code",
   "execution_count": 188,
   "metadata": {},
   "outputs": [],
   "source": [
    "housework = activities_bi[['domestic','garden','water','housework','cooking','fetching', 'firewood','collect','cattle',\n",
    "                           'fetch','household','cleaning','washing','wash','utensils','clothes','clean','chores']]"
   ]
  },
  {
   "cell_type": "code",
   "execution_count": 189,
   "metadata": {},
   "outputs": [],
   "source": [
    "holiday_package = activities_bi[['holiday','package','packages','holydays']]"
   ]
  },
  {
   "cell_type": "code",
   "execution_count": 190,
   "metadata": {},
   "outputs": [],
   "source": [
    "external_work = activities_bi[['harvest', 'harvesting','cultivation','caltivation','goat','goats','looking','farm','farming']]"
   ]
  },
  {
   "cell_type": "code",
   "execution_count": 191,
   "metadata": {},
   "outputs": [],
   "source": [
    "leisure = activities_bi[['play', 'ball','foot','soccer']]"
   ]
  },
  {
   "cell_type": "code",
   "execution_count": 192,
   "metadata": {},
   "outputs": [],
   "source": [
    "others = activities_bi.drop(studying.columns.tolist() + \\\n",
    "            housework.columns.tolist() + \\\n",
    "            holiday_package.columns.tolist() + \\\n",
    "            external_work.columns.tolist() + \\\n",
    "            leisure.columns.tolist(), axis=1)"
   ]
  },
  {
   "cell_type": "markdown",
   "metadata": {},
   "source": [
    "Count one per concept apperance (not word)"
   ]
  },
  {
   "cell_type": "code",
   "execution_count": 193,
   "metadata": {},
   "outputs": [],
   "source": [
    "studying = studying.sum(axis=1)\n",
    "housework = housework.sum(axis=1)\n",
    "holiday_package = holiday_package.sum(axis=1)\n",
    "external_work = external_work.sum(axis=1)\n",
    "leisure = leisure.sum(axis=1)\n",
    "others = others.sum(axis=1)"
   ]
  },
  {
   "cell_type": "code",
   "execution_count": 194,
   "metadata": {},
   "outputs": [],
   "source": [
    "studying[studying != 0] = 1\n",
    "housework[housework != 0] = 1\n",
    "holiday_package[holiday_package != 0] = 1\n",
    "external_work[external_work != 0] = 1\n",
    "others[others != 0] = 1"
   ]
  },
  {
   "cell_type": "code",
   "execution_count": 195,
   "metadata": {},
   "outputs": [],
   "source": [
    "study = pd.DataFrame(np.zeros(activities.shape[0]), dtype=int, columns=['studying'])\n",
    "study.loc[studying[studying == 1].index,:] = 1\n",
    "house = pd.DataFrame(np.zeros(activities.shape[0]), dtype=int, columns=['housework'])\n",
    "house.loc[housework[housework == 1].index,:] = 1\n",
    "holiday = pd.DataFrame(np.zeros(activities.shape[0]), dtype=int, columns=['holiday_package'])\n",
    "holiday.loc[holiday_package[holiday_package == 1].index,:] = 1\n",
    "external = pd.DataFrame(np.zeros(activities.shape[0]), dtype=int, columns=['external_work'])\n",
    "external.loc[external_work[external_work == 1].index,:] = 1\n",
    "leisure_time = pd.DataFrame(np.zeros(activities.shape[0]), dtype=int, columns=['leisure'])\n",
    "leisure_time.loc[leisure[leisure == 1].index,:] = 1\n",
    "others_w = pd.DataFrame(np.zeros(activities.shape[0]), dtype=int, columns=['other'])\n",
    "others_w.loc[others[others == 1].index,:] = 1"
   ]
  },
  {
   "cell_type": "code",
   "execution_count": 196,
   "metadata": {},
   "outputs": [],
   "source": [
    "activities_group = pd.concat([study,house,holiday,external,leisure_time,others_w], axis=1)\n",
    "activities_group_2 = pd.concat([study,house,holiday,external,leisure_time], axis=1)"
   ]
  },
  {
   "cell_type": "code",
   "execution_count": 197,
   "metadata": {},
   "outputs": [
    {
     "data": {
      "text/plain": [
       "studying           1250\n",
       "housework           135\n",
       "holiday_package      62\n",
       "external_work        50\n",
       "leisure              12\n",
       "other               695\n",
       "dtype: int64"
      ]
     },
     "execution_count": 197,
     "metadata": {},
     "output_type": "execute_result"
    }
   ],
   "source": [
    "activities_group.sum()"
   ]
  },
  {
   "cell_type": "markdown",
   "metadata": {},
   "source": [
    "Visualization"
   ]
  },
  {
   "cell_type": "code",
   "execution_count": 198,
   "metadata": {},
   "outputs": [],
   "source": [
    "import plotly.graph_objects as go\n",
    "import plotly.io as pio"
   ]
  },
  {
   "cell_type": "code",
   "execution_count": 199,
   "metadata": {},
   "outputs": [],
   "source": [
    "labels = activities_group_2.columns.to_list()\n",
    "\n",
    "fig = go.Figure()\n",
    "fig.add_trace(go.Bar(\n",
    "    x=labels,\n",
    "    y=activities_group_2.sum().to_list(),\n",
    "    text=activities_group_2.sum().to_list(),\n",
    "    texttemplate='%{text}',\n",
    "    textposition=\"outside\",\n",
    "    textangle=0,\n",
    "    textfont_color=\"black\",\n",
    "))\n",
    "\n",
    "fig.update_traces(textfont_size=18)\n",
    "fig.update_layout(barmode='group',\n",
    "                  xaxis = dict(\n",
    "                      tickfont=dict(size=18)\n",
    "                  ),\n",
    "                      font=dict(\n",
    "                        size=18,\n",
    "                    ),\n",
    "                  title_text='Are you doing other things at home to learn, aside from radio lessons?<br><b>What are you doing?</b>')\n",
    "pio.write_image(fig, 'plotly/activities.jpg', width=1024, height=780)"
   ]
  },
  {
   "cell_type": "code",
   "execution_count": 200,
   "metadata": {},
   "outputs": [
    {
     "data": {
      "image/png": "[encoded data removed]",
      "text/plain": [
       "<Figure size 720x360 with 1 Axes>"
      ]
     },
     "metadata": {
      "needs_background": "light"
     },
     "output_type": "display_data"
    }
   ],
   "source": [
    "plt.figure(figsize=(10,5))\n",
    "plt.bar(activities_group.columns.to_list(), activities_group.sum().to_list(), label=activities_group.columns.to_list())\n",
    "plt.title('Are you doing other things at home to learn, aside from radio lessons? What are you doing?')\n",
    "plt.xticks(rotation=45, ha='right')\n",
    "plt.savefig('data/imgs/activities_group.jpeg',bbox_inches='tight', dpi=300)\n",
    "plt.show()"
   ]
  },
  {
   "cell_type": "markdown",
   "metadata": {},
   "source": [
    "#### Save vectors and concepts"
   ]
  },
  {
   "cell_type": "code",
   "execution_count": 201,
   "metadata": {},
   "outputs": [],
   "source": [
    "activities_bi.to_csv('data/tokens/activities.csv')\n",
    "activities_group.to_csv('data/concepts/activities_concepts.csv')"
   ]
  },
  {
   "cell_type": "markdown",
   "metadata": {},
   "source": [
    "### 3.2. Do you feel worried about your health due to studying/being at home during COVID-19? Why or why not?"
   ]
  },
  {
   "cell_type": "code",
   "execution_count": 202,
   "metadata": {},
   "outputs": [
    {
     "data": {
      "text/plain": [
       "Yes         772\n",
       "No          528\n",
       "Somewhat     75\n",
       "Name: Q46_Do you feel worried about your health due to studying/being at home during COVID-19?, dtype: int64"
      ]
     },
     "execution_count": 202,
     "metadata": {},
     "output_type": "execute_result"
    }
   ],
   "source": [
    "health.iloc[:,1].value_counts()"
   ]
  },
  {
   "cell_type": "markdown",
   "metadata": {},
   "source": [
    "Get 'Yes' and 'No' answers"
   ]
  },
  {
   "cell_type": "code",
   "execution_count": 203,
   "metadata": {},
   "outputs": [],
   "source": [
    "# health_yes = health[(health.iloc[:,1] == 'Yes') | (health.iloc[:,1] == 'Somewhat')].iloc[:,2]\n",
    "health_yes = health[(health.iloc[:,1] == 'Yes')].iloc[:,2]"
   ]
  },
  {
   "cell_type": "code",
   "execution_count": 204,
   "metadata": {},
   "outputs": [],
   "source": [
    "health_no = health[health.iloc[:,1] == 'No'].iloc[:,2]"
   ]
  },
  {
   "cell_type": "markdown",
   "metadata": {},
   "source": [
    "#### Bigram vectorization\n",
    "Worry about studying at home"
   ]
  },
  {
   "cell_type": "code",
   "execution_count": 205,
   "metadata": {},
   "outputs": [
    {
     "name": "stdout",
     "output_type": "stream",
     "text": [
      "2666 words in dictionary.\n"
     ]
    }
   ],
   "source": [
    "health_yes_bi = bow_vectorization(data = health_yes.dropna(), \n",
    "                                  index= health_yes.dropna().index,\n",
    "                                  n_grams=(2, 4))"
   ]
  },
  {
   "cell_type": "code",
   "execution_count": 206,
   "metadata": {},
   "outputs": [
    {
     "data": {
      "text/plain": [
       "corona virus                    33\n",
       "want live                       22\n",
       "covid infection                 22\n",
       "lot things                      14\n",
       "among people                    13\n",
       "infection among people          12\n",
       "infection among                 12\n",
       "missing lot                     12\n",
       "missing lot things              12\n",
       "covid infection among people    11\n",
       "covid infection among           11\n",
       "staying home                    10\n",
       "deadly disease                   9\n",
       "schools closed                   8\n",
       "kills people                     7\n",
       "social distancing                7\n",
       "fear covid                       7\n",
       "many people                      6\n",
       "worried covid                    6\n",
       "want infected                    6\n",
       "virus dangerous                  6\n",
       "dangerous disease                6\n",
       "study well                       6\n",
       "disease every                    5\n",
       "corona virus dangerous           5\n",
       "kill people                      5\n",
       "fear corona                      5\n",
       "covid disease                    5\n",
       "safe home                        5\n",
       "due covid                        5\n",
       "know school                      5\n",
       "one person                       5\n",
       "infection covid                  5\n",
       "spread disease                   5\n",
       "disease everywhere               4\n",
       "kill easily                      4\n",
       "want learn                       4\n",
       "one person another               4\n",
       "disease kill                     4\n",
       "covid dangerous                  4\n",
       "want healthy                     4\n",
       "person another                   4\n",
       "may come                         4\n",
       "fear infected                    4\n",
       "come home                        4\n",
       "covid pandemic                   4\n",
       "healthy good                     4\n",
       "take care                        4\n",
       "care life                        4\n",
       "people home                      4\n",
       "social distance                  4\n",
       "fear infection                   4\n",
       "home safe                        4\n",
       "called covid                     3\n",
       "one place                        3\n",
       "bad sickness                     3\n",
       "place good                       3\n",
       "missing lot things school        3\n",
       "lot things supposed              3\n",
       "missing lot things supposed      3\n",
       "dtype: int64"
      ]
     },
     "execution_count": 206,
     "metadata": {},
     "output_type": "execute_result"
    }
   ],
   "source": [
    "health_yes_bi.sum().sort_values(ascending=False)[:60]"
   ]
  },
  {
   "cell_type": "markdown",
   "metadata": {},
   "source": [
    "#### Group Bigrams\n",
    "Bigrams about the disease"
   ]
  },
  {
   "cell_type": "code",
   "execution_count": 207,
   "metadata": {},
   "outputs": [
    {
     "data": {
      "text/plain": [
       "84"
      ]
     },
     "execution_count": 207,
     "metadata": {},
     "output_type": "execute_result"
    }
   ],
   "source": [
    "affect = search('affect',None, health_yes_bi.columns)\n",
    "len(affect)"
   ]
  },
  {
   "cell_type": "code",
   "execution_count": 208,
   "metadata": {},
   "outputs": [
    {
     "data": {
      "text/plain": [
       "395"
      ]
     },
     "execution_count": 208,
     "metadata": {},
     "output_type": "execute_result"
    }
   ],
   "source": [
    "# get list of bigrams with \"covid\"\n",
    "covid = search(['covid','kill','die'], None, health_yes_bi.columns)\n",
    "len(covid)"
   ]
  },
  {
   "cell_type": "code",
   "execution_count": 209,
   "metadata": {},
   "outputs": [
    {
     "data": {
      "text/plain": [
       "246"
      ]
     },
     "execution_count": 209,
     "metadata": {},
     "output_type": "execute_result"
    }
   ],
   "source": [
    "# get list of bigrams with \"disease\"\n",
    "disease = search('disease', None, health_yes_bi.columns)\n",
    "len(disease)"
   ]
  },
  {
   "cell_type": "code",
   "execution_count": 210,
   "metadata": {},
   "outputs": [
    {
     "data": {
      "text/plain": [
       "24"
      ]
     },
     "execution_count": 210,
     "metadata": {},
     "output_type": "execute_result"
    }
   ],
   "source": [
    "# get list of bigrams with \"pandemic\"\n",
    "pandemic = search('pandemic', None, health_yes_bi.columns)\n",
    "len(pandemic)"
   ]
  },
  {
   "cell_type": "code",
   "execution_count": 211,
   "metadata": {},
   "outputs": [
    {
     "data": {
      "text/plain": [
       "165"
      ]
     },
     "execution_count": 211,
     "metadata": {},
     "output_type": "execute_result"
    }
   ],
   "source": [
    "# get list of bigrams with \"corona\"\n",
    "corona = search('corona', None, health_yes_bi.columns)\n",
    "len(corona)"
   ]
  },
  {
   "cell_type": "code",
   "execution_count": 212,
   "metadata": {},
   "outputs": [
    {
     "data": {
      "text/plain": [
       "172"
      ]
     },
     "execution_count": 212,
     "metadata": {},
     "output_type": "execute_result"
    }
   ],
   "source": [
    "# get list of bigrams with \"infection\"\n",
    "infection = search(['infect','contract'], None, health_yes_bi.columns)\n",
    "len(infection)"
   ]
  },
  {
   "cell_type": "code",
   "execution_count": 213,
   "metadata": {},
   "outputs": [
    {
     "data": {
      "text/plain": [
       "151"
      ]
     },
     "execution_count": 213,
     "metadata": {},
     "output_type": "execute_result"
    }
   ],
   "source": [
    "# get list of bigrams with \"virus\"\n",
    "virus = search('virus', None, health_yes_bi.columns)\n",
    "len(virus)"
   ]
  },
  {
   "cell_type": "markdown",
   "metadata": {},
   "source": [
    "Bigrams about the waste of time"
   ]
  },
  {
   "cell_type": "code",
   "execution_count": 214,
   "metadata": {},
   "outputs": [
    {
     "data": {
      "text/plain": [
       "30"
      ]
     },
     "execution_count": 214,
     "metadata": {},
     "output_type": "execute_result"
    }
   ],
   "source": [
    "interrupted = search(['interr','education'], None, health_yes_bi.columns)\n",
    "len(interrupted)"
   ]
  },
  {
   "cell_type": "code",
   "execution_count": 215,
   "metadata": {},
   "outputs": [
    {
     "name": "stdout",
     "output_type": "stream",
     "text": [
      "['affect']\n"
     ]
    },
    {
     "data": {
      "text/plain": [
       "23"
      ]
     },
     "execution_count": 215,
     "metadata": {},
     "output_type": "execute_result"
    }
   ],
   "source": [
    "enough = search('enough', 'affect', health_yes_bi.columns)\n",
    "len(enough)\n",
    "#health_yes[health_yes.str.contains('enough')].to_list()"
   ]
  },
  {
   "cell_type": "code",
   "execution_count": 216,
   "metadata": {},
   "outputs": [
    {
     "name": "stdout",
     "output_type": "stream",
     "text": [
      "['covid', 'coron']\n"
     ]
    },
    {
     "data": {
      "text/plain": [
       "123"
      ]
     },
     "execution_count": 216,
     "metadata": {},
     "output_type": "execute_result"
    }
   ],
   "source": [
    "children = search('children', ['covid','coron'], health_yes_bi.columns)\n",
    "len(children)"
   ]
  },
  {
   "cell_type": "code",
   "execution_count": 217,
   "metadata": {},
   "outputs": [
    {
     "name": "stdout",
     "output_type": "stream",
     "text": [
      "['coro']\n"
     ]
    },
    {
     "data": {
      "text/plain": [
       "57"
      ]
     },
     "execution_count": 217,
     "metadata": {},
     "output_type": "execute_result"
    }
   ],
   "source": [
    "# get list of bigrams with \"lot\"\n",
    "lot = search('lot', 'coro', health_yes_bi.columns)\n",
    "len(lot)"
   ]
  },
  {
   "cell_type": "code",
   "execution_count": 218,
   "metadata": {},
   "outputs": [
    {
     "data": {
      "text/plain": [
       "81"
      ]
     },
     "execution_count": 218,
     "metadata": {},
     "output_type": "execute_result"
    }
   ],
   "source": [
    "# get list of bigrams with \"things\"\n",
    "things = search('thing', None, health_yes_bi.columns)\n",
    "len(things)"
   ]
  },
  {
   "cell_type": "code",
   "execution_count": 219,
   "metadata": {},
   "outputs": [
    {
     "data": {
      "text/plain": [
       "21"
      ]
     },
     "execution_count": 219,
     "metadata": {},
     "output_type": "execute_result"
    }
   ],
   "source": [
    "# get list of bigrams with \"miss\"\n",
    "miss = search('missing', None, health_yes_bi.columns)\n",
    "len(miss)"
   ]
  },
  {
   "cell_type": "code",
   "execution_count": 220,
   "metadata": {},
   "outputs": [
    {
     "data": {
      "text/plain": [
       "116"
      ]
     },
     "execution_count": 220,
     "metadata": {},
     "output_type": "execute_result"
    }
   ],
   "source": [
    "# get list of bigrams with \"time\"\n",
    "time = search('time', None, health_yes_bi.columns)\n",
    "len(time)"
   ]
  },
  {
   "cell_type": "code",
   "execution_count": 221,
   "metadata": {},
   "outputs": [
    {
     "data": {
      "text/plain": [
       "5"
      ]
     },
     "execution_count": 221,
     "metadata": {},
     "output_type": "execute_result"
    }
   ],
   "source": [
    "# get list of bigrams with \"bore\"\n",
    "bore = search('bore', None, health_yes_bi.columns)\n",
    "len(bore)"
   ]
  },
  {
   "cell_type": "code",
   "execution_count": 222,
   "metadata": {},
   "outputs": [
    {
     "data": {
      "text/plain": [
       "15"
      ]
     },
     "execution_count": 222,
     "metadata": {},
     "output_type": "execute_result"
    }
   ],
   "source": [
    "# get list of bigrams with \"idle\"\n",
    "idle = search('idle', None, health_yes_bi.columns)\n",
    "len(idle)"
   ]
  },
  {
   "cell_type": "code",
   "execution_count": 223,
   "metadata": {},
   "outputs": [
    {
     "data": {
      "text/plain": [
       "15"
      ]
     },
     "execution_count": 223,
     "metadata": {},
     "output_type": "execute_result"
    }
   ],
   "source": [
    "# get list of bigrams with \"active\"\n",
    "active = search('active', None, health_yes_bi.columns)\n",
    "len(active)"
   ]
  },
  {
   "cell_type": "code",
   "execution_count": 224,
   "metadata": {},
   "outputs": [
    {
     "data": {
      "text/plain": [
       "38"
      ]
     },
     "execution_count": 224,
     "metadata": {},
     "output_type": "execute_result"
    }
   ],
   "source": [
    "# get list of bigrams with \"closed\"\n",
    "closed = search('closed', None, health_yes_bi.columns)\n",
    "len(closed)"
   ]
  },
  {
   "cell_type": "code",
   "execution_count": 225,
   "metadata": {},
   "outputs": [
    {
     "name": "stdout",
     "output_type": "stream",
     "text": [
      "['covid', 'viru', 'corona', 'infect']\n"
     ]
    },
    {
     "data": {
      "text/plain": [
       "271"
      ]
     },
     "execution_count": 225,
     "metadata": {},
     "output_type": "execute_result"
    }
   ],
   "source": [
    "learn = search('learn', ['covid','viru','corona','infect'], health_yes_bi.columns)\n",
    "len(learn)"
   ]
  },
  {
   "cell_type": "markdown",
   "metadata": {},
   "source": [
    "Bigrams about health at home"
   ]
  },
  {
   "cell_type": "code",
   "execution_count": 226,
   "metadata": {},
   "outputs": [],
   "source": [
    "# get list of bigrams with \"home\"\n",
    "home = search('home', None, health_yes_bi.columns)"
   ]
  },
  {
   "cell_type": "markdown",
   "metadata": {},
   "source": [
    "Count one per concept apperance (not word)"
   ]
  },
  {
   "cell_type": "code",
   "execution_count": 227,
   "metadata": {},
   "outputs": [],
   "source": [
    "fear_covid = health_yes_bi[list(set(covid+disease+infection+corona+virus+pandemic+affect))]"
   ]
  },
  {
   "cell_type": "code",
   "execution_count": 228,
   "metadata": {},
   "outputs": [],
   "source": [
    "safe_home = health_yes_bi[home]"
   ]
  },
  {
   "cell_type": "code",
   "execution_count": 229,
   "metadata": {},
   "outputs": [],
   "source": [
    "miss_school = health_yes_bi[list(set(things+miss+bore+idle+active+learn+closed+lot+enough+children+interrupted))]"
   ]
  },
  {
   "cell_type": "markdown",
   "metadata": {},
   "source": [
    "The rest of the Bigrams"
   ]
  },
  {
   "cell_type": "code",
   "execution_count": 230,
   "metadata": {},
   "outputs": [],
   "source": [
    "other = health_yes_bi.drop(fear_covid.columns.to_list() + safe_home.columns.to_list() + miss_school.columns.to_list(), axis=1)"
   ]
  },
  {
   "cell_type": "code",
   "execution_count": 231,
   "metadata": {},
   "outputs": [],
   "source": [
    "#other.columns.to_list()"
   ]
  },
  {
   "cell_type": "code",
   "execution_count": 232,
   "metadata": {},
   "outputs": [],
   "source": [
    "fear_covid = fear_covid.sum(axis=1)\n",
    "safe_home = safe_home.sum(axis=1)\n",
    "miss_school = miss_school.sum(axis=1)\n",
    "other = other.sum(axis=1)"
   ]
  },
  {
   "cell_type": "code",
   "execution_count": 233,
   "metadata": {},
   "outputs": [],
   "source": [
    "fear_covid[fear_covid != 0] = 1\n",
    "safe_home[safe_home != 0] = 1\n",
    "miss_school[miss_school != 0] = 1\n",
    "other[other != 0] = 1"
   ]
  },
  {
   "cell_type": "code",
   "execution_count": 234,
   "metadata": {},
   "outputs": [],
   "source": [
    "fear_c = pd.DataFrame(np.zeros(health.shape[0]), dtype=int, columns=['fear covid'])\n",
    "fear_c.loc[fear_covid[fear_covid == 1].index,:] = 1\n",
    "safe_h = pd.DataFrame(np.zeros(health.shape[0]), dtype=int, columns=['safe home'])\n",
    "safe_h.loc[safe_home[safe_home == 1].index,:] = 1\n",
    "miss = pd.DataFrame(np.zeros(health.shape[0]), dtype=int, columns=['miss school'])\n",
    "miss.loc[miss_school[miss_school == 1].index,:] = 1\n",
    "other_w = pd.DataFrame(np.zeros(health.shape[0]), dtype=int, columns=['other'])\n",
    "other_w.loc[other[other == 1].index,:] = 1"
   ]
  },
  {
   "cell_type": "code",
   "execution_count": 235,
   "metadata": {},
   "outputs": [],
   "source": [
    "health_yes_group = pd.concat([fear_c,safe_h,miss,other_w], axis=1)\n",
    "health_yes_group_2 = pd.concat([fear_c,safe_h,miss], axis=1)"
   ]
  },
  {
   "cell_type": "code",
   "execution_count": 236,
   "metadata": {},
   "outputs": [],
   "source": [
    "labels = health_yes_group_2.columns.to_list()\n",
    "\n",
    "fig = go.Figure()\n",
    "fig.add_trace(go.Bar(\n",
    "    x=labels,\n",
    "    y=health_yes_group_2.sum().to_list(),\n",
    "    text=health_yes_group_2.sum().to_list(),\n",
    "    texttemplate='%{text}',\n",
    "    textposition=\"outside\",\n",
    "    textangle=0,\n",
    "    textfont_color=\"black\",\n",
    "))\n",
    "\n",
    "fig.update_traces(textfont_size=18)\n",
    "fig.update_layout(barmode='group',\n",
    "                  xaxis = dict(\n",
    "                      tickfont=dict(size=18)\n",
    "                  ),\n",
    "                      font=dict(\n",
    "                        size=18,\n",
    "                    ),\n",
    "                  title_text='Do you feel worried about your health due to studying/being at home during COVID-19?<br><b>Why Yes?<b>')\n",
    "pio.write_image(fig, 'plotly/health_yes_group.jpg', width=1024, height=780)"
   ]
  },
  {
   "cell_type": "code",
   "execution_count": 237,
   "metadata": {},
   "outputs": [
    {
     "data": {
      "image/png": "[encoded data removed]",
      "text/plain": [
       "<Figure size 720x360 with 1 Axes>"
      ]
     },
     "metadata": {
      "needs_background": "light"
     },
     "output_type": "display_data"
    }
   ],
   "source": [
    "plt.figure(figsize=(10,5))\n",
    "plt.bar(health_yes_group.columns,health_yes_group.sum())\n",
    "plt.title('Do you feel worried about your health due to studying/being at home during COVID-19?\\nWhy Yes?')\n",
    "plt.xticks(rotation=45, ha='right')\n",
    "plt.savefig('data/imgs/health_yes.jpeg',bbox_inches='tight', dpi=300)\n",
    "plt.show()"
   ]
  },
  {
   "cell_type": "code",
   "execution_count": 238,
   "metadata": {},
   "outputs": [
    {
     "data": {
      "text/plain": [
       "fear covid     0.366667\n",
       "safe home      0.073563\n",
       "miss school    0.108046\n",
       "other          0.451724\n",
       "dtype: float64"
      ]
     },
     "execution_count": 238,
     "metadata": {},
     "output_type": "execute_result"
    }
   ],
   "source": [
    "health_yes_group.sum() / health_yes_group.sum(axis=1).sum()"
   ]
  },
  {
   "cell_type": "markdown",
   "metadata": {},
   "source": [
    "#### Concepts gathering from dataset\n",
    "Waste of time"
   ]
  },
  {
   "cell_type": "code",
   "execution_count": 239,
   "metadata": {},
   "outputs": [],
   "source": [
    "things = health_yes.str.contains('thing')"
   ]
  },
  {
   "cell_type": "code",
   "execution_count": 240,
   "metadata": {},
   "outputs": [],
   "source": [
    "miss = health_yes.str.contains('miss')"
   ]
  },
  {
   "cell_type": "code",
   "execution_count": 241,
   "metadata": {},
   "outputs": [],
   "source": [
    "time = health_yes.str.contains('time')"
   ]
  },
  {
   "cell_type": "code",
   "execution_count": 242,
   "metadata": {},
   "outputs": [],
   "source": [
    "active = health_yes.str.contains('active')"
   ]
  },
  {
   "cell_type": "code",
   "execution_count": 243,
   "metadata": {},
   "outputs": [],
   "source": [
    "idle = health_yes.str.contains('idle')"
   ]
  },
  {
   "cell_type": "code",
   "execution_count": 244,
   "metadata": {},
   "outputs": [],
   "source": [
    "tire = health_yes.str.contains('tire')"
   ]
  },
  {
   "cell_type": "code",
   "execution_count": 245,
   "metadata": {},
   "outputs": [],
   "source": [
    "waste = health_yes.str.contains('wast')"
   ]
  },
  {
   "cell_type": "code",
   "execution_count": 246,
   "metadata": {},
   "outputs": [],
   "source": [
    "learn = (health_yes.str.contains('learn') & ~health_yes.str.contains('covid|Covid'))"
   ]
  },
  {
   "cell_type": "markdown",
   "metadata": {},
   "source": [
    "Covid"
   ]
  },
  {
   "cell_type": "code",
   "execution_count": 247,
   "metadata": {},
   "outputs": [],
   "source": [
    "covid_home = (health_yes.str.contains('home')) & (health_yes.str.contains('covid|virus|disease|corona'))\n",
    "spread_home = (health_yes.str.contains('home')) & (health_yes.str.contains('people|visitor|com|inter|crow'))"
   ]
  },
  {
   "cell_type": "code",
   "execution_count": 248,
   "metadata": {},
   "outputs": [
    {
     "data": {
      "text/plain": [
       "idleness    55\n",
       "dtype: int64"
      ]
     },
     "execution_count": 248,
     "metadata": {},
     "output_type": "execute_result"
    }
   ],
   "source": [
    "idleness = pd.DataFrame(np.zeros(health.shape[0]), dtype=int, columns=['idleness'])\n",
    "idleness.iloc[health_yes[things | time | miss | active | idle | tire | waste].index] = 1\n",
    "idleness.sum()"
   ]
  },
  {
   "cell_type": "code",
   "execution_count": 249,
   "metadata": {},
   "outputs": [
    {
     "data": {
      "text/plain": [
       "fear home    25\n",
       "dtype: int64"
      ]
     },
     "execution_count": 249,
     "metadata": {},
     "output_type": "execute_result"
    }
   ],
   "source": [
    "#fear_home = health_yes[covid_home | spread_home]\n",
    "fear_home = pd.DataFrame(np.zeros(health.shape[0]), dtype=int, columns=['fear home'])\n",
    "fear_home.iloc[health_yes[covid_home | spread_home].index] = 1\n",
    "fear_home.sum()"
   ]
  },
  {
   "cell_type": "code",
   "execution_count": 250,
   "metadata": {},
   "outputs": [
    {
     "data": {
      "text/plain": [
       "fear outside    227\n",
       "dtype: int64"
      ]
     },
     "execution_count": 250,
     "metadata": {},
     "output_type": "execute_result"
    }
   ],
   "source": [
    "# fear_outside = health_yes[health_yes.str.contains('Covid|covid|coron|Coron|infection|viru|Vir')]\n",
    "fear_outside = pd.DataFrame(np.zeros(health.shape[0]), dtype=int, columns=['fear outside'])\n",
    "fear_outside.iloc[health_yes[health_yes.str.contains('Covid|covid|coron|Coron|infection|viru|Vir')].index] = 1\n",
    "fear_outside.sum()"
   ]
  },
  {
   "cell_type": "code",
   "execution_count": 251,
   "metadata": {},
   "outputs": [],
   "source": [
    "health_yes_words = pd.concat([idleness, fear_home, fear_outside], axis=1)\n",
    "health_yes_words.columns = ['idleness','fear home','fear outside']"
   ]
  },
  {
   "cell_type": "code",
   "execution_count": 252,
   "metadata": {},
   "outputs": [
    {
     "data": {
      "text/plain": [
       "idleness        0.011635\n",
       "fear home       0.005289\n",
       "fear outside    0.048022\n",
       "dtype: float64"
      ]
     },
     "execution_count": 252,
     "metadata": {},
     "output_type": "execute_result"
    }
   ],
   "source": [
    "health_yes_words.sum() / health_yes_group.shape[0]"
   ]
  },
  {
   "cell_type": "markdown",
   "metadata": {},
   "source": [
    "#### Bigram vectorization\n",
    "Not worry about studying at home"
   ]
  },
  {
   "cell_type": "code",
   "execution_count": 253,
   "metadata": {},
   "outputs": [
    {
     "name": "stdout",
     "output_type": "stream",
     "text": [
      "1514 words in dictionary.\n"
     ]
    }
   ],
   "source": [
    "health_no_bi = bow_vectorization(data = health_no.dropna(), \n",
    "                                  index= health_no.dropna().index,\n",
    "                                  n_grams=(2, 4))"
   ]
  },
  {
   "cell_type": "code",
   "execution_count": 254,
   "metadata": {},
   "outputs": [
    {
     "data": {
      "text/plain": [
       "safe home                        56\n",
       "home safe                        34\n",
       "stay home                        24\n",
       "feel safe                        19\n",
       "staying home                     16\n",
       "preventive measures              13\n",
       "feel safe home                   13\n",
       "home stay                        13\n",
       "home stay safe                   12\n",
       "staying home safe                12\n",
       "stay safe                        12\n",
       "stay home stay                   11\n",
       "able protect                     10\n",
       "stay home stay safe              10\n",
       "home safety                       9\n",
       "social distance                   9\n",
       "preventives measures              9\n",
       "social distancing                 7\n",
       "following preventive              7\n",
       "following preventive measures     6\n",
       "safe healthy                      6\n",
       "protect self                      6\n",
       "protect covid                     5\n",
       "wash hands                        5\n",
       "contact people                    5\n",
       "home safe healthy                 4\n",
       "dtype: int64"
      ]
     },
     "execution_count": 254,
     "metadata": {},
     "output_type": "execute_result"
    }
   ],
   "source": [
    "health_no_bi.sum().sort_values(ascending=False)[:26]"
   ]
  },
  {
   "cell_type": "markdown",
   "metadata": {},
   "source": [
    "#### Group Bigrams\n",
    "Bigrams about the disease"
   ]
  },
  {
   "cell_type": "code",
   "execution_count": 255,
   "metadata": {},
   "outputs": [
    {
     "name": "stdout",
     "output_type": "stream",
     "text": [
      "['home']\n"
     ]
    },
    {
     "data": {
      "text/plain": [
       "123"
      ]
     },
     "execution_count": 255,
     "metadata": {},
     "output_type": "execute_result"
    }
   ],
   "source": [
    "# get list of bigrams with \"covid\"\n",
    "safe_covid = search('covid', 'home', health_no_bi.columns)\n",
    "len(safe_covid)"
   ]
  },
  {
   "cell_type": "code",
   "execution_count": 256,
   "metadata": {},
   "outputs": [
    {
     "name": "stdout",
     "output_type": "stream",
     "text": [
      "['home']\n"
     ]
    },
    {
     "data": {
      "text/plain": [
       "43"
      ]
     },
     "execution_count": 256,
     "metadata": {},
     "output_type": "execute_result"
    }
   ],
   "source": [
    "# get list of bigrams with \"disease\"\n",
    "safe_disease = search('disease', 'home', health_no_bi.columns)\n",
    "len(safe_disease)\n",
    "#health_no[health_no.str.contains('disease')].tolist()"
   ]
  },
  {
   "cell_type": "code",
   "execution_count": 257,
   "metadata": {},
   "outputs": [
    {
     "name": "stdout",
     "output_type": "stream",
     "text": [
      "['home']\n"
     ]
    },
    {
     "data": {
      "text/plain": [
       "24"
      ]
     },
     "execution_count": 257,
     "metadata": {},
     "output_type": "execute_result"
    }
   ],
   "source": [
    "# get list of bigrams with \"pandemic\"\n",
    "safe_pandemic = search('pandemic', 'home', health_no_bi.columns)\n",
    "len(pandemic)\n",
    "#health_no[health_no.str.contains('pandemic')].tolist()"
   ]
  },
  {
   "cell_type": "code",
   "execution_count": 258,
   "metadata": {},
   "outputs": [
    {
     "name": "stdout",
     "output_type": "stream",
     "text": [
      "['home']\n"
     ]
    },
    {
     "data": {
      "text/plain": [
       "165"
      ]
     },
     "execution_count": 258,
     "metadata": {},
     "output_type": "execute_result"
    }
   ],
   "source": [
    "# get list of bigrams with \"corona\"\n",
    "safe_corona = search('corona', 'home', health_no_bi.columns)\n",
    "len(corona)"
   ]
  },
  {
   "cell_type": "code",
   "execution_count": 259,
   "metadata": {},
   "outputs": [
    {
     "name": "stdout",
     "output_type": "stream",
     "text": [
      "['home']\n"
     ]
    },
    {
     "data": {
      "text/plain": [
       "172"
      ]
     },
     "execution_count": 259,
     "metadata": {},
     "output_type": "execute_result"
    }
   ],
   "source": [
    "# get list of bigrams with \"infection\"\n",
    "safe_infection = search('infection', 'home', health_no_bi.columns)\n",
    "len(infection)"
   ]
  },
  {
   "cell_type": "code",
   "execution_count": 260,
   "metadata": {},
   "outputs": [
    {
     "name": "stdout",
     "output_type": "stream",
     "text": [
      "['home']\n"
     ]
    },
    {
     "data": {
      "text/plain": [
       "18"
      ]
     },
     "execution_count": 260,
     "metadata": {},
     "output_type": "execute_result"
    }
   ],
   "source": [
    "# get list of bigrams with \"virus\"\n",
    "safe_virus = search('virus', 'home', health_no_bi.columns)\n",
    "len(safe_virus)"
   ]
  },
  {
   "cell_type": "markdown",
   "metadata": {},
   "source": [
    "Bigrams about feeling safe (in/outside Home)"
   ]
  },
  {
   "cell_type": "code",
   "execution_count": 261,
   "metadata": {},
   "outputs": [
    {
     "data": {
      "text/plain": [
       "234"
      ]
     },
     "execution_count": 261,
     "metadata": {},
     "output_type": "execute_result"
    }
   ],
   "source": [
    "prevention = search(['foll', 'hand', 'measu'], None, health_no_bi.columns)\n",
    "len(prevention)"
   ]
  },
  {
   "cell_type": "code",
   "execution_count": 262,
   "metadata": {},
   "outputs": [
    {
     "name": "stdout",
     "output_type": "stream",
     "text": [
      "['worr']\n"
     ]
    },
    {
     "data": {
      "text/plain": [
       "30"
      ]
     },
     "execution_count": 262,
     "metadata": {},
     "output_type": "execute_result"
    }
   ],
   "source": [
    "feel = search('feel', 'worr', health_no_bi.columns)\n",
    "len(feel)\n",
    "#health_no[health_no.str.contains('home')].tolist()"
   ]
  },
  {
   "cell_type": "code",
   "execution_count": 263,
   "metadata": {},
   "outputs": [
    {
     "name": "stdout",
     "output_type": "stream",
     "text": [
      "['safe']\n"
     ]
    },
    {
     "data": {
      "text/plain": [
       "225"
      ]
     },
     "execution_count": 263,
     "metadata": {},
     "output_type": "execute_result"
    }
   ],
   "source": [
    "safe_home = search('home', 'safe', health_no_bi.columns)\n",
    "len(safe_home)"
   ]
  },
  {
   "cell_type": "code",
   "execution_count": 264,
   "metadata": {},
   "outputs": [
    {
     "name": "stdout",
     "output_type": "stream",
     "text": [
      "['home']\n"
     ]
    },
    {
     "data": {
      "text/plain": [
       "48"
      ]
     },
     "execution_count": 264,
     "metadata": {},
     "output_type": "execute_result"
    }
   ],
   "source": [
    "safe = search('safe', 'home', health_no_bi.columns)\n",
    "len(safe)"
   ]
  },
  {
   "cell_type": "markdown",
   "metadata": {},
   "source": [
    "Bigrams about the waste of time"
   ]
  },
  {
   "cell_type": "code",
   "execution_count": 265,
   "metadata": {},
   "outputs": [
    {
     "data": {
      "text/plain": [
       "23"
      ]
     },
     "execution_count": 265,
     "metadata": {},
     "output_type": "execute_result"
    }
   ],
   "source": [
    "# get list of bigrams with \"things\"\n",
    "things = search('thing', None, health_no_bi.columns)\n",
    "len(things)\n",
    "#health_no[health_no.str.contains('thing')].tolist()"
   ]
  },
  {
   "cell_type": "code",
   "execution_count": 266,
   "metadata": {},
   "outputs": [
    {
     "data": {
      "text/plain": [
       "13"
      ]
     },
     "execution_count": 266,
     "metadata": {},
     "output_type": "execute_result"
    }
   ],
   "source": [
    "# get list of bigrams with \"miss\"\n",
    "miss = search('miss', None, health_no_bi.columns)\n",
    "len(miss)"
   ]
  },
  {
   "cell_type": "code",
   "execution_count": 267,
   "metadata": {},
   "outputs": [
    {
     "data": {
      "text/plain": [
       "15"
      ]
     },
     "execution_count": 267,
     "metadata": {},
     "output_type": "execute_result"
    }
   ],
   "source": [
    "# get list of bigrams with \"time\"\n",
    "time = search('time', None, health_no_bi.columns)\n",
    "len(time)"
   ]
  },
  {
   "cell_type": "code",
   "execution_count": 268,
   "metadata": {},
   "outputs": [
    {
     "data": {
      "text/plain": [
       "18"
      ]
     },
     "execution_count": 268,
     "metadata": {},
     "output_type": "execute_result"
    }
   ],
   "source": [
    "# get list of bigrams with \"lot\"\n",
    "lot = search('lot', None, health_no_bi.columns)\n",
    "len(lot)"
   ]
  },
  {
   "cell_type": "code",
   "execution_count": 269,
   "metadata": {},
   "outputs": [
    {
     "data": {
      "text/plain": [
       "6"
      ]
     },
     "execution_count": 269,
     "metadata": {},
     "output_type": "execute_result"
    }
   ],
   "source": [
    "go_back = search('back', None, health_no_bi.columns)\n",
    "len(go_back)"
   ]
  },
  {
   "cell_type": "markdown",
   "metadata": {},
   "source": [
    "Count one per concept apperance (not word)"
   ]
  },
  {
   "cell_type": "code",
   "execution_count": 270,
   "metadata": {},
   "outputs": [],
   "source": [
    "safe_covid = health_no_bi[list(set(safe_covid+safe_disease+safe_infection+safe_corona+safe_virus+safe_pandemic))]"
   ]
  },
  {
   "cell_type": "code",
   "execution_count": 271,
   "metadata": {},
   "outputs": [],
   "source": [
    "safe_home = health_no_bi[list(set(safe_home+safe+feel+prevention))]"
   ]
  },
  {
   "cell_type": "code",
   "execution_count": 272,
   "metadata": {},
   "outputs": [],
   "source": [
    "miss_school = health_no_bi[list(set(things+miss+time+lot+go_back))]"
   ]
  },
  {
   "cell_type": "markdown",
   "metadata": {},
   "source": [
    "The rest of the Bigrams"
   ]
  },
  {
   "cell_type": "code",
   "execution_count": 273,
   "metadata": {},
   "outputs": [],
   "source": [
    "other = health_no_bi.drop(safe_covid.columns.to_list() + safe_home.columns.to_list() + miss_school.columns.to_list(), axis=1)\n",
    "test_other = health_no_bi.drop(safe_covid.columns.to_list() + safe_home.columns.to_list() + miss_school.columns.to_list(), axis=1)"
   ]
  },
  {
   "cell_type": "code",
   "execution_count": 274,
   "metadata": {},
   "outputs": [],
   "source": [
    "safe_covid = safe_covid.sum(axis=1)\n",
    "safe_home = safe_home.sum(axis=1)\n",
    "miss_school = miss_school.sum(axis=1)\n",
    "other = other.sum(axis=1)"
   ]
  },
  {
   "cell_type": "code",
   "execution_count": 275,
   "metadata": {},
   "outputs": [],
   "source": [
    "safe_covid[safe_covid != 0] = 1\n",
    "safe_home[safe_home != 0] = 1\n",
    "miss_school[miss_school != 0] = 1\n",
    "other[other != 0] = 1"
   ]
  },
  {
   "cell_type": "code",
   "execution_count": 276,
   "metadata": {},
   "outputs": [],
   "source": [
    "safe_c = pd.DataFrame(np.zeros(health.shape[0]), dtype=int, columns=['safe_covid'])\n",
    "safe_c.loc[safe_covid[safe_covid == 1].index,:] = 1\n",
    "safe_h = pd.DataFrame(np.zeros(health.shape[0]), dtype=int, columns=['safe_home'])\n",
    "safe_h.loc[safe_home[safe_home == 1].index,:] = 1\n",
    "miss = pd.DataFrame(np.zeros(health.shape[0]), dtype=int, columns=['miss_school'])\n",
    "miss.loc[miss_school[miss_school == 1].index,:] = 1\n",
    "other_w = pd.DataFrame(np.zeros(health.shape[0]), dtype=int, columns=['other_w'])\n",
    "other_w.loc[other[other == 1].index,:] = 1"
   ]
  },
  {
   "cell_type": "code",
   "execution_count": 277,
   "metadata": {},
   "outputs": [],
   "source": [
    "health_no_group = pd.concat([safe_c,safe_h,miss,other_w], axis=1)\n",
    "health_no_group_2 = pd.concat([safe_c,safe_h,miss], axis=1)"
   ]
  },
  {
   "cell_type": "code",
   "execution_count": 278,
   "metadata": {},
   "outputs": [],
   "source": [
    "labels = health_no_group_2.columns.to_list()\n",
    "\n",
    "fig = go.Figure()\n",
    "fig.add_trace(go.Bar(\n",
    "    x=labels,\n",
    "    y=health_no_group_2.sum().to_list(),\n",
    "    text=health_no_group_2.sum().to_list(),\n",
    "    texttemplate='%{text}',\n",
    "    textposition=\"outside\",\n",
    "    textangle=0,\n",
    "    textfont_color=\"black\",\n",
    "))\n",
    "\n",
    "fig.update_traces(textfont_size=18)\n",
    "fig.update_layout(barmode='group',\n",
    "                  xaxis = dict(\n",
    "                      tickfont=dict(size=18)\n",
    "                  ),\n",
    "                      font=dict(\n",
    "                        size=18,\n",
    "                    ),\n",
    "                  title_text='Do you feel worried about your health due to studying/being at home during COVID-19?<br><b>Why not?<b>')\n",
    "pio.write_image(fig, 'plotly/health_no_group.jpg', width=1024, height=780)"
   ]
  },
  {
   "cell_type": "code",
   "execution_count": 279,
   "metadata": {},
   "outputs": [
    {
     "data": {
      "image/png": "[encoded data removed]",
      "text/plain": [
       "<Figure size 720x360 with 1 Axes>"
      ]
     },
     "metadata": {
      "needs_background": "light"
     },
     "output_type": "display_data"
    }
   ],
   "source": [
    "plt.figure(figsize=(10,5))\n",
    "plt.bar(health_no_group.columns, health_no_group.sum())\n",
    "plt.title('Do you feel worried about your health due to studying/being at home during COVID-19?\\nWhy Not?')\n",
    "plt.xticks(rotation=45, ha='right')\n",
    "plt.savefig('data/imgs/health_no.jpeg',bbox_inches='tight', dpi=300)\n",
    "plt.show()"
   ]
  },
  {
   "cell_type": "code",
   "execution_count": 280,
   "metadata": {},
   "outputs": [
    {
     "data": {
      "text/plain": [
       "safe_covid     0.119155\n",
       "safe_home      0.306184\n",
       "miss_school    0.024133\n",
       "other_w        0.550528\n",
       "dtype: float64"
      ]
     },
     "execution_count": 280,
     "metadata": {},
     "output_type": "execute_result"
    }
   ],
   "source": [
    "health_no_group.sum() / health_no_group.sum(axis=1).sum()"
   ]
  },
  {
   "cell_type": "markdown",
   "metadata": {},
   "source": [
    "#### Concepts gathering from Dataset\n",
    "Feeling safe"
   ]
  },
  {
   "cell_type": "code",
   "execution_count": 281,
   "metadata": {},
   "outputs": [],
   "source": [
    "health_yes_group = pd.concat([fear_c,safe_h,miss,other_w], axis=1)"
   ]
  },
  {
   "cell_type": "code",
   "execution_count": 282,
   "metadata": {},
   "outputs": [
    {
     "data": {
      "text/plain": [
       "21"
      ]
     },
     "execution_count": 282,
     "metadata": {},
     "output_type": "execute_result"
    }
   ],
   "source": [
    "safe_covid = health_no.str.contains('covid')\n",
    "safe_covid.sum()"
   ]
  },
  {
   "cell_type": "code",
   "execution_count": 283,
   "metadata": {},
   "outputs": [
    {
     "data": {
      "text/plain": [
       "190"
      ]
     },
     "execution_count": 283,
     "metadata": {},
     "output_type": "execute_result"
    }
   ],
   "source": [
    "safe_home = health_no.str.contains('home')\n",
    "safe_home.sum()"
   ]
  },
  {
   "cell_type": "code",
   "execution_count": 284,
   "metadata": {},
   "outputs": [
    {
     "data": {
      "text/plain": [
       "43"
      ]
     },
     "execution_count": 284,
     "metadata": {},
     "output_type": "execute_result"
    }
   ],
   "source": [
    "safe = health_no.str.contains('safe') & ~health_no.str.contains('home')\n",
    "safe.sum()"
   ]
  },
  {
   "cell_type": "markdown",
   "metadata": {},
   "source": [
    "Waste time"
   ]
  },
  {
   "cell_type": "code",
   "execution_count": 285,
   "metadata": {},
   "outputs": [
    {
     "data": {
      "text/plain": [
       "8"
      ]
     },
     "execution_count": 285,
     "metadata": {},
     "output_type": "execute_result"
    }
   ],
   "source": [
    "nothing = health_no.str.contains('thing')\n",
    "nothing.sum()"
   ]
  },
  {
   "cell_type": "code",
   "execution_count": 286,
   "metadata": {},
   "outputs": [
    {
     "data": {
      "text/plain": [
       "4"
      ]
     },
     "execution_count": 286,
     "metadata": {},
     "output_type": "execute_result"
    }
   ],
   "source": [
    "waste = health_no.str.contains('lot')\n",
    "waste.sum()"
   ]
  },
  {
   "cell_type": "code",
   "execution_count": 287,
   "metadata": {},
   "outputs": [
    {
     "data": {
      "text/plain": [
       "2"
      ]
     },
     "execution_count": 287,
     "metadata": {},
     "output_type": "execute_result"
    }
   ],
   "source": [
    "go_back = (health_no.str.contains('school')) & (health_no.str.contains('go'))\n",
    "go_back.sum()"
   ]
  },
  {
   "cell_type": "markdown",
   "metadata": {},
   "source": [
    "#### Save vectors and concepts"
   ]
  },
  {
   "cell_type": "code",
   "execution_count": 288,
   "metadata": {},
   "outputs": [],
   "source": [
    "# tokens\n",
    "health_yes_bi.to_csv('data/tokens/health_home_yes.csv')\n",
    "health_no_bi.to_csv('data/tokens/health_home_no.csv')\n",
    "# concepts\n",
    "health_yes_group.to_csv('data/concepts/health_yes_concepts.csv')\n",
    "health_no_group.to_csv('data/concepts/health_no_concepts.csv')"
   ]
  },
  {
   "cell_type": "markdown",
   "metadata": {},
   "source": [
    "### 3.3. Do you feel worried about your safety due to being at home during COVID-19? Why or why not?"
   ]
  },
  {
   "cell_type": "code",
   "execution_count": 289,
   "metadata": {},
   "outputs": [
    {
     "data": {
      "text/plain": [
       "Yes         666\n",
       "No          648\n",
       "Somewhat     61\n",
       "Name: Q48_Do you feel worried about your safety due to being at home during COVID-19?, dtype: int64"
      ]
     },
     "execution_count": 289,
     "metadata": {},
     "output_type": "execute_result"
    }
   ],
   "source": [
    "home_safety.iloc[:,1].value_counts()"
   ]
  },
  {
   "cell_type": "markdown",
   "metadata": {},
   "source": [
    "Group 'Yes' and 'Somewhat' answers and separate them from the negative answers"
   ]
  },
  {
   "cell_type": "code",
   "execution_count": 290,
   "metadata": {},
   "outputs": [],
   "source": [
    "home_safety_yes = home_safety[(home_safety.iloc[:,1] == 'Yes') | (home_safety.iloc[:,1] == 'Somewhat')].iloc[:,2]"
   ]
  },
  {
   "cell_type": "code",
   "execution_count": 291,
   "metadata": {},
   "outputs": [],
   "source": [
    "home_safety_no = home_safety[home_safety.iloc[:,1] == 'No'].iloc[:,2]"
   ]
  },
  {
   "cell_type": "markdown",
   "metadata": {},
   "source": [
    "#### Bigram vectorization\n",
    "Worry about safety at home"
   ]
  },
  {
   "cell_type": "code",
   "execution_count": 292,
   "metadata": {},
   "outputs": [
    {
     "name": "stdout",
     "output_type": "stream",
     "text": [
      "1936 words in dictionary.\n"
     ]
    }
   ],
   "source": [
    "home_safety_yes_bi = bow_vectorization(data = home_safety_yes.dropna(),\n",
    "                                       index =  home_safety_yes.dropna().index,\n",
    "                                       n_grams=(2, 3))"
   ]
  },
  {
   "cell_type": "code",
   "execution_count": 293,
   "metadata": {},
   "outputs": [
    {
     "data": {
      "text/plain": [
       "corona virus           43\n",
       "staying home           15\n",
       "fear corona            14\n",
       "disease affect         13\n",
       "come home              12\n",
       "fear corona virus      11\n",
       "safe home              11\n",
       "movements people       11\n",
       "pandemic everywhere    11\n",
       "fear disease           11\n",
       "social distancing      10\n",
       "affect everywhere      10\n",
       "people home             9\n",
       "want infected           9\n",
       "feel safe               8\n",
       "home safe               8\n",
       "staying home safe       7\n",
       "many people             7\n",
       "feel safe home          7\n",
       "dangerous disease       7\n",
       "dtype: int64"
      ]
     },
     "execution_count": 293,
     "metadata": {},
     "output_type": "execute_result"
    }
   ],
   "source": [
    "home_safety_yes_bi.sum().sort_values(ascending=False)[:20]"
   ]
  },
  {
   "cell_type": "markdown",
   "metadata": {},
   "source": [
    "#### Group Bigrams\n",
    "Bigrams about the disease"
   ]
  },
  {
   "cell_type": "code",
   "execution_count": 294,
   "metadata": {},
   "outputs": [
    {
     "name": "stdout",
     "output_type": "stream",
     "text": [
      "['home']\n"
     ]
    },
    {
     "data": {
      "text/plain": [
       "128"
      ]
     },
     "execution_count": 294,
     "metadata": {},
     "output_type": "execute_result"
    }
   ],
   "source": [
    "# get list of bigrams with \"covid\"\n",
    "covid = search('covid', 'home', home_safety_yes_bi.columns)\n",
    "len(covid)"
   ]
  },
  {
   "cell_type": "code",
   "execution_count": 295,
   "metadata": {},
   "outputs": [
    {
     "name": "stdout",
     "output_type": "stream",
     "text": [
      "['home']\n"
     ]
    },
    {
     "data": {
      "text/plain": [
       "117"
      ]
     },
     "execution_count": 295,
     "metadata": {},
     "output_type": "execute_result"
    }
   ],
   "source": [
    "# get list of bigrams with \"disease\"\n",
    "disease = search('disease', 'home', home_safety_yes_bi.columns)\n",
    "len(disease)\n",
    "#health_no[health_no.str.contains('disease')].tolist()"
   ]
  },
  {
   "cell_type": "code",
   "execution_count": 296,
   "metadata": {},
   "outputs": [
    {
     "name": "stdout",
     "output_type": "stream",
     "text": [
      "['home']\n"
     ]
    },
    {
     "data": {
      "text/plain": [
       "33"
      ]
     },
     "execution_count": 296,
     "metadata": {},
     "output_type": "execute_result"
    }
   ],
   "source": [
    "# get list of bigrams with \"pandemic\"\n",
    "pandemic = search('pandemic', 'home', home_safety_yes_bi.columns)\n",
    "len(pandemic)\n",
    "#health_no[health_no.str.contains('pandemic')].tolist()"
   ]
  },
  {
   "cell_type": "code",
   "execution_count": 297,
   "metadata": {},
   "outputs": [
    {
     "data": {
      "text/plain": [
       "98"
      ]
     },
     "execution_count": 297,
     "metadata": {},
     "output_type": "execute_result"
    }
   ],
   "source": [
    "# get list of bigrams with \"corona\"\n",
    "corona = search('corona', None, home_safety_yes_bi.columns)\n",
    "len(corona)"
   ]
  },
  {
   "cell_type": "code",
   "execution_count": 298,
   "metadata": {},
   "outputs": [
    {
     "data": {
      "text/plain": [
       "78"
      ]
     },
     "execution_count": 298,
     "metadata": {},
     "output_type": "execute_result"
    }
   ],
   "source": [
    "# get list of bigrams with \"infection\"\n",
    "infection = search('infect', None, home_safety_yes_bi.columns)\n",
    "len(infection)"
   ]
  },
  {
   "cell_type": "code",
   "execution_count": 299,
   "metadata": {},
   "outputs": [
    {
     "data": {
      "text/plain": [
       "117"
      ]
     },
     "execution_count": 299,
     "metadata": {},
     "output_type": "execute_result"
    }
   ],
   "source": [
    "# get list of bigrams with \"virus\"\n",
    "virus = search('virus', None, home_safety_yes_bi.columns)\n",
    "len(virus)"
   ]
  },
  {
   "cell_type": "code",
   "execution_count": 300,
   "metadata": {},
   "outputs": [
    {
     "name": "stdout",
     "output_type": "stream",
     "text": [
      "['home']\n"
     ]
    },
    {
     "data": {
      "text/plain": [
       "87"
      ]
     },
     "execution_count": 300,
     "metadata": {},
     "output_type": "execute_result"
    }
   ],
   "source": [
    "# get list of bigrams with \"fear\"\n",
    "fear = search(['fear','death','kill'], 'home', home_safety_yes_bi.columns)\n",
    "len(fear)"
   ]
  },
  {
   "cell_type": "markdown",
   "metadata": {},
   "source": [
    "Bigrams about home and safety"
   ]
  },
  {
   "cell_type": "code",
   "execution_count": 301,
   "metadata": {},
   "outputs": [
    {
     "name": "stdout",
     "output_type": "stream",
     "text": [
      "['safe']\n"
     ]
    },
    {
     "data": {
      "text/plain": [
       "190"
      ]
     },
     "execution_count": 301,
     "metadata": {},
     "output_type": "execute_result"
    }
   ],
   "source": [
    "worry_home = search('home', 'safe', home_safety_yes_bi.columns)\n",
    "len(worry_home)"
   ]
  },
  {
   "cell_type": "code",
   "execution_count": 302,
   "metadata": {},
   "outputs": [
    {
     "name": "stdout",
     "output_type": "stream",
     "text": [
      "['home', 'fear', 'safe']\n"
     ]
    },
    {
     "data": {
      "text/plain": [
       "115"
      ]
     },
     "execution_count": 302,
     "metadata": {},
     "output_type": "execute_result"
    }
   ],
   "source": [
    "safe_out = search('safe', ['home','fear','safe'], home_safety_yes_bi.columns)\n",
    "len(safe_out)"
   ]
  },
  {
   "cell_type": "code",
   "execution_count": 303,
   "metadata": {},
   "outputs": [
    {
     "data": {
      "text/plain": [
       "265"
      ]
     },
     "execution_count": 303,
     "metadata": {},
     "output_type": "execute_result"
    }
   ],
   "source": [
    "safe_home = search(['home', 'safe'], None, home_safety_yes_bi.columns)\n",
    "len(safe_home)"
   ]
  },
  {
   "cell_type": "markdown",
   "metadata": {},
   "source": [
    "Bigrams about school"
   ]
  },
  {
   "cell_type": "code",
   "execution_count": 304,
   "metadata": {},
   "outputs": [
    {
     "name": "stdout",
     "output_type": "stream",
     "text": [
      "['virus']\n"
     ]
    },
    {
     "data": {
      "text/plain": [
       "73"
      ]
     },
     "execution_count": 304,
     "metadata": {},
     "output_type": "execute_result"
    }
   ],
   "source": [
    "school = search('school', 'virus', home_safety_yes_bi.columns)\n",
    "len(school)"
   ]
  },
  {
   "cell_type": "code",
   "execution_count": 305,
   "metadata": {},
   "outputs": [
    {
     "name": "stdout",
     "output_type": "stream",
     "text": [
      "['virus']\n"
     ]
    },
    {
     "data": {
      "text/plain": [
       "40"
      ]
     },
     "execution_count": 305,
     "metadata": {},
     "output_type": "execute_result"
    }
   ],
   "source": [
    "lots = search('lot', 'virus', home_safety_yes_bi.columns)\n",
    "len(lots)"
   ]
  },
  {
   "cell_type": "code",
   "execution_count": 306,
   "metadata": {},
   "outputs": [
    {
     "name": "stdout",
     "output_type": "stream",
     "text": [
      "['virus']\n"
     ]
    },
    {
     "data": {
      "text/plain": [
       "21"
      ]
     },
     "execution_count": 306,
     "metadata": {},
     "output_type": "execute_result"
    }
   ],
   "source": [
    "miss = search('miss', 'virus', home_safety_yes_bi.columns)\n",
    "len(miss)"
   ]
  },
  {
   "cell_type": "code",
   "execution_count": 307,
   "metadata": {},
   "outputs": [
    {
     "name": "stdout",
     "output_type": "stream",
     "text": [
      "['virus']\n"
     ]
    },
    {
     "data": {
      "text/plain": [
       "28"
      ]
     },
     "execution_count": 307,
     "metadata": {},
     "output_type": "execute_result"
    }
   ],
   "source": [
    "things = search('things', 'virus', home_safety_yes_bi.columns)\n",
    "len(things)"
   ]
  },
  {
   "cell_type": "code",
   "execution_count": 308,
   "metadata": {},
   "outputs": [
    {
     "name": "stdout",
     "output_type": "stream",
     "text": [
      "['virus']\n"
     ]
    },
    {
     "data": {
      "text/plain": [
       "12"
      ]
     },
     "execution_count": 308,
     "metadata": {},
     "output_type": "execute_result"
    }
   ],
   "source": [
    "waste = search('waste', 'virus', home_safety_yes_bi.columns)\n",
    "len(waste)"
   ]
  },
  {
   "cell_type": "code",
   "execution_count": 309,
   "metadata": {},
   "outputs": [
    {
     "name": "stdout",
     "output_type": "stream",
     "text": [
      "['virus']\n"
     ]
    },
    {
     "data": {
      "text/plain": [
       "16"
      ]
     },
     "execution_count": 309,
     "metadata": {},
     "output_type": "execute_result"
    }
   ],
   "source": [
    "lose = search(['lost','losing'], 'virus', home_safety_yes_bi.columns)\n",
    "len(lose)"
   ]
  },
  {
   "cell_type": "code",
   "execution_count": 310,
   "metadata": {},
   "outputs": [
    {
     "name": "stdout",
     "output_type": "stream",
     "text": [
      "['virus', 'infect', 'diseas', 'worr', 'pandem']\n"
     ]
    },
    {
     "data": {
      "text/plain": [
       "255"
      ]
     },
     "execution_count": 310,
     "metadata": {},
     "output_type": "execute_result"
    }
   ],
   "source": [
    "time = search('time', ['virus','infect','diseas','worr','pandem'], home_safety_yes_bi.columns)\n",
    "len(time)"
   ]
  },
  {
   "cell_type": "markdown",
   "metadata": {},
   "source": [
    "Count one per concept apperance (not word)"
   ]
  },
  {
   "cell_type": "code",
   "execution_count": 311,
   "metadata": {},
   "outputs": [],
   "source": [
    "worry_covid = home_safety_yes_bi[list(set(covid+disease+infection+corona+virus+pandemic))]"
   ]
  },
  {
   "cell_type": "code",
   "execution_count": 312,
   "metadata": {},
   "outputs": [],
   "source": [
    "safe_home = home_safety_yes_bi[list(set(safe_home))]"
   ]
  },
  {
   "cell_type": "code",
   "execution_count": 313,
   "metadata": {},
   "outputs": [],
   "source": [
    "miss_school = home_safety_yes_bi[list(set(things+miss+lots+waste+lose+time))]"
   ]
  },
  {
   "cell_type": "code",
   "execution_count": 314,
   "metadata": {},
   "outputs": [],
   "source": [
    "worry_home = home_safety_yes_bi[list(set(worry_home))]"
   ]
  },
  {
   "cell_type": "markdown",
   "metadata": {},
   "source": [
    "The rest of the Bigrams"
   ]
  },
  {
   "cell_type": "code",
   "execution_count": 315,
   "metadata": {},
   "outputs": [],
   "source": [
    "other = home_safety_yes_bi.drop(safe_home.columns.to_list() + worry_covid.columns.to_list() + worry_home.columns.to_list() + miss_school.columns.to_list(), axis=1)\n",
    "test_other = home_safety_yes_bi.drop(safe_home.columns.to_list() + worry_covid.columns.to_list() + worry_home.columns.to_list() + miss_school.columns.to_list(), axis=1)"
   ]
  },
  {
   "cell_type": "code",
   "execution_count": 316,
   "metadata": {},
   "outputs": [],
   "source": [
    "worry_covid = worry_covid.sum(axis=1)\n",
    "worry_home = worry_home.sum(axis=1)\n",
    "miss_school = miss_school.sum(axis=1)\n",
    "safe_home = safe_home.sum(axis=1)\n",
    "other = other.sum(axis=1)"
   ]
  },
  {
   "cell_type": "code",
   "execution_count": 317,
   "metadata": {},
   "outputs": [],
   "source": [
    "worry_covid[worry_covid != 0] = 1\n",
    "worry_home[worry_home != 0] = 1\n",
    "miss_school[miss_school != 0] = 1\n",
    "safe_home[safe_home != 0] = 1\n",
    "other[other != 0] = 1"
   ]
  },
  {
   "cell_type": "code",
   "execution_count": 318,
   "metadata": {},
   "outputs": [],
   "source": [
    "worry_c = pd.DataFrame(np.zeros(home_safety.shape[0]), dtype=int, columns=['worry covid'])\n",
    "worry_c.loc[worry_covid[worry_covid == 1].index,:] = 1\n",
    "worry_h = pd.DataFrame(np.zeros(home_safety.shape[0]), dtype=int, columns=['worry home'])\n",
    "worry_h.loc[worry_home[worry_home == 1].index,:] = 1\n",
    "miss = pd.DataFrame(np.zeros(home_safety.shape[0]), dtype=int, columns=['waste time'])\n",
    "miss.loc[miss_school[miss_school == 1].index,:] = 1\n",
    "safe_h = pd.DataFrame(np.zeros(home_safety.shape[0]), dtype=int, columns=['safe home'])\n",
    "safe_h.loc[safe_home[safe_home == 1].index,:] = 1\n",
    "other_w = pd.DataFrame(np.zeros(home_safety.shape[0]), dtype=int, columns=['other topics'])\n",
    "other_w.loc[other[other == 1].index,:] = 1"
   ]
  },
  {
   "cell_type": "code",
   "execution_count": 319,
   "metadata": {},
   "outputs": [],
   "source": [
    "home_safety_yes_group = pd.concat([worry_c,worry_h,miss,safe_h,other_w], axis=1)\n",
    "home_safety_yes_group_2 = pd.concat([worry_c,worry_h,miss,safe_h], axis=1)"
   ]
  },
  {
   "cell_type": "markdown",
   "metadata": {},
   "source": [
    "Visualization"
   ]
  },
  {
   "cell_type": "code",
   "execution_count": 320,
   "metadata": {},
   "outputs": [],
   "source": [
    "labels = home_safety_yes_group_2.columns.to_list()\n",
    "\n",
    "fig = go.Figure()\n",
    "fig.add_trace(go.Bar(\n",
    "    x=labels,\n",
    "    y=home_safety_yes_group_2.sum().to_list(),\n",
    "    text=home_safety_yes_group_2.sum().to_list(),\n",
    "    texttemplate='%{text}',\n",
    "    textposition=\"outside\",\n",
    "    textangle=0,\n",
    "    textfont_color=\"black\",\n",
    "))\n",
    "\n",
    "fig.update_traces(textfont_size=18)\n",
    "fig.update_layout(barmode='group',\n",
    "                  xaxis = dict(\n",
    "                      tickfont=dict(size=18)\n",
    "                  ),\n",
    "                      font=dict(\n",
    "                        size=18,\n",
    "                    ),\n",
    "                  title_text='Do you feel worried about your safety due to being at home during COVID-19?<br><b>Why yes?</b>')\n",
    "pio.write_image(fig, 'plotly/home_safety_yes_group.jpg', width=1024, height=780)"
   ]
  },
  {
   "cell_type": "code",
   "execution_count": 321,
   "metadata": {},
   "outputs": [
    {
     "data": {
      "image/png": "[encoded data removed]",
      "text/plain": [
       "<Figure size 720x360 with 1 Axes>"
      ]
     },
     "metadata": {
      "needs_background": "light"
     },
     "output_type": "display_data"
    }
   ],
   "source": [
    "plt.figure(figsize=(10,5))\n",
    "plt.bar(home_safety_yes_group.columns,home_safety_yes_group.sum())\n",
    "plt.title('Do you feel worried about your safety due to being at home during COVID-19?\\nWhy yes?')\n",
    "plt.xticks(rotation=45, ha='right')\n",
    "plt.savefig('data/imgs/home_safety_yes.jpeg',bbox_inches='tight', dpi=300)\n",
    "plt.show()"
   ]
  },
  {
   "cell_type": "markdown",
   "metadata": {},
   "source": [
    "#### Bigram vectorization\n",
    "Not Worried about safecty at home"
   ]
  },
  {
   "cell_type": "code",
   "execution_count": 322,
   "metadata": {},
   "outputs": [
    {
     "name": "stdout",
     "output_type": "stream",
     "text": [
      "1252 words in dictionary.\n"
     ]
    }
   ],
   "source": [
    "home_safety_no_bi = bow_vectorization(data = home_safety_no.dropna(),\n",
    "                                      index = home_safety_no.dropna().index,\n",
    "                                      n_grams=(2, 3))"
   ]
  },
  {
   "cell_type": "code",
   "execution_count": 323,
   "metadata": {},
   "outputs": [
    {
     "data": {
      "text/plain": [
       "safe home                74\n",
       "home safe                49\n",
       "feel safe                34\n",
       "social distancing        30\n",
       "stay home                30\n",
       "feel safe home           26\n",
       "staying home             22\n",
       "preventive measures      18\n",
       "stay safe                17\n",
       "safety measures          16\n",
       "home stay                15\n",
       "stay home stay           15\n",
       "home stay safe           15\n",
       "staying home safe        14\n",
       "social distance          12\n",
       "wash hands               10\n",
       "home safety               9\n",
       "safe healthy              9\n",
       "home safe healthy         8\n",
       "safety measures covid     7\n",
       "washing hands             7\n",
       "measures covid            7\n",
       "take care                 6\n",
       "come contact              5\n",
       "following preventive      5\n",
       "dtype: int64"
      ]
     },
     "execution_count": 323,
     "metadata": {},
     "output_type": "execute_result"
    }
   ],
   "source": [
    "home_safety_no_bi.sum().sort_values(ascending=False)[:25]"
   ]
  },
  {
   "cell_type": "markdown",
   "metadata": {},
   "source": [
    "#### Group Bigrams\n",
    "Bigrams about the disease"
   ]
  },
  {
   "cell_type": "code",
   "execution_count": 324,
   "metadata": {},
   "outputs": [
    {
     "name": "stdout",
     "output_type": "stream",
     "text": [
      "['home']\n"
     ]
    },
    {
     "data": {
      "text/plain": [
       "173"
      ]
     },
     "execution_count": 324,
     "metadata": {},
     "output_type": "execute_result"
    }
   ],
   "source": [
    "no_fear_virus = search(['covid','disease','pandemic','corona','vir','infect','contra','fear','kill','dea'], 'home', home_safety_no_bi.columns)\n",
    "len(no_fear_virus)"
   ]
  },
  {
   "cell_type": "markdown",
   "metadata": {},
   "source": [
    "Bigrams about home and safety"
   ]
  },
  {
   "cell_type": "code",
   "execution_count": 325,
   "metadata": {},
   "outputs": [
    {
     "data": {
      "text/plain": [
       "727"
      ]
     },
     "execution_count": 325,
     "metadata": {},
     "output_type": "execute_result"
    }
   ],
   "source": [
    "no_fear_virus_home = search(['home', 'safe'], None, home_safety_no_bi.columns)\n",
    "len(safe_home)"
   ]
  },
  {
   "cell_type": "markdown",
   "metadata": {},
   "source": [
    "Bigrams about prevention"
   ]
  },
  {
   "cell_type": "code",
   "execution_count": 326,
   "metadata": {},
   "outputs": [
    {
     "data": {
      "text/plain": [
       "62"
      ]
     },
     "execution_count": 326,
     "metadata": {},
     "output_type": "execute_result"
    }
   ],
   "source": [
    "hands = search('hands', None, home_safety_no_bi.columns)\n",
    "len(hands)"
   ]
  },
  {
   "cell_type": "code",
   "execution_count": 327,
   "metadata": {},
   "outputs": [
    {
     "data": {
      "text/plain": [
       "101"
      ]
     },
     "execution_count": 327,
     "metadata": {},
     "output_type": "execute_result"
    }
   ],
   "source": [
    "distance = search(['distance','social'], None, home_safety_no_bi.columns)\n",
    "len(distance)\n",
    "#home_safety_no[home_safety_no.str.contains('school')].to_list()"
   ]
  },
  {
   "cell_type": "code",
   "execution_count": 328,
   "metadata": {},
   "outputs": [
    {
     "data": {
      "text/plain": [
       "190"
      ]
     },
     "execution_count": 328,
     "metadata": {},
     "output_type": "execute_result"
    }
   ],
   "source": [
    "measures = search(['measures','prevent','precau','care','prot'], None, home_safety_no_bi.columns)\n",
    "len(measures)"
   ]
  },
  {
   "cell_type": "code",
   "execution_count": 329,
   "metadata": {},
   "outputs": [
    {
     "data": {
      "text/plain": [
       "81"
      ]
     },
     "execution_count": 329,
     "metadata": {},
     "output_type": "execute_result"
    }
   ],
   "source": [
    "stay = search('stay', None, home_safety_no_bi.columns)\n",
    "len(stay)"
   ]
  },
  {
   "cell_type": "markdown",
   "metadata": {},
   "source": [
    "Count one per concept apperance (not word)"
   ]
  },
  {
   "cell_type": "code",
   "execution_count": 330,
   "metadata": {},
   "outputs": [],
   "source": [
    "no_fear_covid = home_safety_no_bi[no_fear_virus]"
   ]
  },
  {
   "cell_type": "code",
   "execution_count": 331,
   "metadata": {},
   "outputs": [],
   "source": [
    "safe_home = home_safety_no_bi[no_fear_virus_home]"
   ]
  },
  {
   "cell_type": "code",
   "execution_count": 332,
   "metadata": {},
   "outputs": [],
   "source": [
    "prevention = home_safety_no_bi[list(set(hands + distance + stay))]"
   ]
  },
  {
   "cell_type": "markdown",
   "metadata": {},
   "source": [
    "The rest of the Bigrams"
   ]
  },
  {
   "cell_type": "code",
   "execution_count": 333,
   "metadata": {},
   "outputs": [],
   "source": [
    "other = home_safety_no_bi.drop(no_fear_covid.columns.to_list() + safe_home.columns.to_list() + prevention.columns.to_list(), axis=1)\n",
    "test_other = home_safety_no_bi.drop(no_fear_covid.columns.to_list() + safe_home.columns.to_list() + prevention.columns.to_list(), axis=1)"
   ]
  },
  {
   "cell_type": "code",
   "execution_count": 334,
   "metadata": {},
   "outputs": [],
   "source": [
    "no_fear_covid = no_fear_covid.sum(axis=1)\n",
    "safe_home = safe_home.sum(axis=1)\n",
    "prevention = prevention.sum(axis=1)\n",
    "other = other.sum(axis=1)"
   ]
  },
  {
   "cell_type": "code",
   "execution_count": 335,
   "metadata": {},
   "outputs": [],
   "source": [
    "no_fear_covid[no_fear_covid != 0] = 1\n",
    "safe_home[safe_home != 0] = 1\n",
    "prevention[prevention != 0] = 1\n",
    "other[other != 0] = 1"
   ]
  },
  {
   "cell_type": "code",
   "execution_count": 336,
   "metadata": {},
   "outputs": [],
   "source": [
    "n_f_c = pd.DataFrame(np.zeros(home_safety.shape[0]), dtype=int, columns=['no fear virus'])\n",
    "n_f_c.loc[no_fear_covid[no_fear_covid == 1].index,:] = 1\n",
    "prev = pd.DataFrame(np.zeros(home_safety.shape[0]), dtype=int, columns=['preventive measures'])\n",
    "prev.loc[prevention[prevention == 1].index,:] = 1\n",
    "safe_h = pd.DataFrame(np.zeros(home_safety.shape[0]), dtype=int, columns=['safe at home'])\n",
    "safe_h.loc[safe_home[safe_home == 1].index,:] = 1\n",
    "other_w = pd.DataFrame(np.zeros(home_safety.shape[0]), dtype=int, columns=['other biagrams'])\n",
    "other_w.loc[other[other == 1].index,:] = 1"
   ]
  },
  {
   "cell_type": "code",
   "execution_count": 337,
   "metadata": {},
   "outputs": [],
   "source": [
    "home_safety_no_group = pd.concat([n_f_c, prev, safe_h, other_w], axis=1)\n",
    "home_safety_no_group_2 = pd.concat([n_f_c, prev, safe_h], axis=1)"
   ]
  },
  {
   "cell_type": "markdown",
   "metadata": {},
   "source": [
    "Visualization"
   ]
  },
  {
   "cell_type": "code",
   "execution_count": 338,
   "metadata": {},
   "outputs": [],
   "source": [
    "labels = home_safety_no_group_2.columns.to_list()\n",
    "\n",
    "fig = go.Figure()\n",
    "fig.add_trace(go.Bar(\n",
    "    x=labels,\n",
    "    y=home_safety_no_group_2.sum().to_list(),\n",
    "    text=home_safety_no_group_2.sum().to_list(),\n",
    "    texttemplate='%{text}',\n",
    "    textposition=\"outside\",\n",
    "    textangle=0,\n",
    "    textfont_color=\"black\",\n",
    "))\n",
    "\n",
    "fig.update_traces(textfont_size=18)\n",
    "fig.update_layout(barmode='group',\n",
    "                  xaxis = dict(\n",
    "                      tickfont=dict(size=18)\n",
    "                  ),\n",
    "                      font=dict(\n",
    "                        size=18,\n",
    "                    ),\n",
    "                  title_text='Do you feel worried about your safety due to being at home during COVID-19?<br><b>Why not?</b>')\n",
    "pio.write_image(fig, 'plotly/home_safety_no_group.jpg', width=1024, height=780)"
   ]
  },
  {
   "cell_type": "code",
   "execution_count": 339,
   "metadata": {},
   "outputs": [
    {
     "data": {
      "image/png": "[encoded data removed]",
      "text/plain": [
       "<Figure size 720x360 with 1 Axes>"
      ]
     },
     "metadata": {
      "needs_background": "light"
     },
     "output_type": "display_data"
    }
   ],
   "source": [
    "plt.figure(figsize=(10,5))\n",
    "plt.bar(home_safety_no_group.columns, home_safety_no_group.sum())\n",
    "plt.title('Do you feel worried about your safety due to being at home during COVID-19?\\nWhy no?')\n",
    "plt.savefig('data/imgs/home_safety_no.jpeg',bbox_inches='tight', dpi=300)\n",
    "plt.xticks(rotation=45, ha='right')\n",
    "plt.show()"
   ]
  },
  {
   "cell_type": "markdown",
   "metadata": {},
   "source": [
    "#### Save vectors and concepts"
   ]
  },
  {
   "cell_type": "code",
   "execution_count": 340,
   "metadata": {},
   "outputs": [],
   "source": [
    "# tokens\n",
    "home_safety_yes_bi.to_csv('data/tokens/safety_home_yes.csv')\n",
    "home_safety_no_bi.to_csv('data/tokens/health_home_no.csv')\n",
    "# concepts\n",
    "home_safety_yes_group.to_csv('data/concepts/safety_home_yes_concepts.csv')\n",
    "home_safety_no_group.to_csv('data/concepts/health_home_no_concepts.csv')"
   ]
  }
 ],
 "metadata": {
  "kernelspec": {
   "display_name": "Python 3",
   "language": "python",
   "name": "python3"
  },
  "language_info": {
   "codemirror_mode": {
    "name": "ipython",
    "version": 3
   },
   "file_extension": ".py",
   "mimetype": "text/x-python",
   "name": "python",
   "nbconvert_exporter": "python",
   "pygments_lexer": "ipython3",
   "version": "3.7.7"
  }
 },
 "nbformat": 4,
 "nbformat_minor": 4
}
