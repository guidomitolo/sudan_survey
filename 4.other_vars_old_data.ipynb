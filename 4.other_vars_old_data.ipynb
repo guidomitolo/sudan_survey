{
 "cells": [
  {
   "cell_type": "markdown",
   "metadata": {},
   "source": [
    "## Collapse small values"
   ]
  },
  {
   "cell_type": "markdown",
   "metadata": {},
   "source": [
    "### 1. Import Raw Data \n",
    "(survey's answers tabular data)"
   ]
  },
  {
   "cell_type": "code",
   "execution_count": 1,
   "metadata": {},
   "outputs": [],
   "source": [
    "import pandas as pd\n",
    "import numpy as np"
   ]
  },
  {
   "cell_type": "code",
   "execution_count": 2,
   "metadata": {},
   "outputs": [],
   "source": [
    "df = pd.read_excel('data/Distance_Learning_Data.xlsx', index=False)"
   ]
  },
  {
   "cell_type": "code",
   "execution_count": 88,
   "metadata": {},
   "outputs": [],
   "source": [
    "data = pd.read_csv('data/desc_data.csv')"
   ]
  },
  {
   "cell_type": "markdown",
   "metadata": {},
   "source": [
    "### 2. Collapse \"other\" answers"
   ]
  },
  {
   "cell_type": "markdown",
   "metadata": {},
   "source": [
    "- ### Q9_Which radio station(s)/FM are available in your area?\n",
    "- ### Q9_10Other (BS)"
   ]
  },
  {
   "cell_type": "code",
   "execution_count": 89,
   "metadata": {},
   "outputs": [
    {
     "data": {
      "text/html": [
       "<div>\n",
       "<style scoped>\n",
       "    .dataframe tbody tr th:only-of-type {\n",
       "        vertical-align: middle;\n",
       "    }\n",
       "\n",
       "    .dataframe tbody tr th {\n",
       "        vertical-align: top;\n",
       "    }\n",
       "\n",
       "    .dataframe thead th {\n",
       "        text-align: right;\n",
       "    }\n",
       "</style>\n",
       "<table border=\"1\" class=\"dataframe\">\n",
       "  <thead>\n",
       "    <tr style=\"text-align: right;\">\n",
       "      <th></th>\n",
       "      <th>Q9_Which radio station(s)/FM are available in your area?</th>\n",
       "      <th>Other radio/FM stations available in the area</th>\n",
       "    </tr>\n",
       "  </thead>\n",
       "  <tbody>\n",
       "    <tr>\n",
       "      <th>0</th>\n",
       "      <td>Other</td>\n",
       "      <td>DonvoscoFM and Door FM</td>\n",
       "    </tr>\n",
       "    <tr>\n",
       "      <th>1</th>\n",
       "      <td>Other</td>\n",
       "      <td>DoorFM and DonvoscoFM</td>\n",
       "    </tr>\n",
       "    <tr>\n",
       "      <th>2</th>\n",
       "      <td>Other</td>\n",
       "      <td>DoorFM and DonvoscoFM</td>\n",
       "    </tr>\n",
       "    <tr>\n",
       "      <th>3</th>\n",
       "      <td>Other</td>\n",
       "      <td>DoorFM and DonvoscoFM</td>\n",
       "    </tr>\n",
       "    <tr>\n",
       "      <th>4</th>\n",
       "      <td>Radio one FM Other</td>\n",
       "      <td>DonvoscoFM and Door FM</td>\n",
       "    </tr>\n",
       "  </tbody>\n",
       "</table>\n",
       "</div>"
      ],
      "text/plain": [
       "  Q9_Which radio station(s)/FM are available in your area?  \\\n",
       "0                                              Other         \n",
       "1                                              Other         \n",
       "2                                              Other         \n",
       "3                                              Other         \n",
       "4                                 Radio one FM Other         \n",
       "\n",
       "  Other radio/FM stations available in the area  \n",
       "0                        DonvoscoFM and Door FM  \n",
       "1                         DoorFM and DonvoscoFM  \n",
       "2                         DoorFM and DonvoscoFM  \n",
       "3                         DoorFM and DonvoscoFM  \n",
       "4                        DonvoscoFM and Door FM  "
      ]
     },
     "execution_count": 89,
     "metadata": {},
     "output_type": "execute_result"
    }
   ],
   "source": [
    "df.iloc[:,[61,71]].head(5)"
   ]
  },
  {
   "cell_type": "code",
   "execution_count": 90,
   "metadata": {},
   "outputs": [
    {
     "data": {
      "text/plain": [
       "(4727,)"
      ]
     },
     "execution_count": 90,
     "metadata": {},
     "output_type": "execute_result"
    }
   ],
   "source": [
    "df.iloc[:,71].shape"
   ]
  },
  {
   "cell_type": "markdown",
   "metadata": {},
   "source": [
    "#### Create the New Dataset\n",
    "(with first q9 answer)"
   ]
  },
  {
   "cell_type": "code",
   "execution_count": 91,
   "metadata": {},
   "outputs": [
    {
     "data": {
      "text/plain": [
       "155"
      ]
     },
     "execution_count": 91,
     "metadata": {},
     "output_type": "execute_result"
    }
   ],
   "source": [
    "mask_radio_1 = df.iloc[:,71].str.contains('Mayardit|mayardit', na=False)\n",
    "mask_radio_1.sum()"
   ]
  },
  {
   "cell_type": "code",
   "execution_count": 92,
   "metadata": {},
   "outputs": [],
   "source": [
    "df_dummies = pd.DataFrame(np.zeros(df.shape[0]), columns=['Q9_mayardit'], dtype=int)\n",
    "df_dummies.loc[mask_radio_1,'Q9_mayardit'] = 1"
   ]
  },
  {
   "cell_type": "code",
   "execution_count": 93,
   "metadata": {},
   "outputs": [
    {
     "data": {
      "text/plain": [
       "155"
      ]
     },
     "execution_count": 93,
     "metadata": {},
     "output_type": "execute_result"
    }
   ],
   "source": [
    "df_dummies.Q9_mayardit.sum()"
   ]
  },
  {
   "cell_type": "markdown",
   "metadata": {},
   "source": [
    "Add next columns"
   ]
  },
  {
   "cell_type": "code",
   "execution_count": 94,
   "metadata": {},
   "outputs": [
    {
     "data": {
      "text/plain": [
       "143"
      ]
     },
     "execution_count": 94,
     "metadata": {},
     "output_type": "execute_result"
    }
   ],
   "source": [
    "mask_radio_2 = df.iloc[:,71].str.contains('kuajok|Kuajok', na=False)\n",
    "mask_radio_2.sum()"
   ]
  },
  {
   "cell_type": "code",
   "execution_count": 95,
   "metadata": {},
   "outputs": [
    {
     "data": {
      "text/plain": [
       "143.0"
      ]
     },
     "execution_count": 95,
     "metadata": {},
     "output_type": "execute_result"
    }
   ],
   "source": [
    "df_dummies['Q9_kuajok'] = np.NaN\n",
    "df_dummies.loc[mask_radio_2,'Q9_kuajok'] = 1\n",
    "df_dummies.Q9_kuajok.sum()"
   ]
  },
  {
   "cell_type": "code",
   "execution_count": 96,
   "metadata": {},
   "outputs": [
    {
     "data": {
      "text/plain": [
       "82"
      ]
     },
     "execution_count": 96,
     "metadata": {},
     "output_type": "execute_result"
    }
   ],
   "source": [
    "mask_radio_3 = df.iloc[:,71].str.contains('Jamjang|jamjang', na=False)\n",
    "mask_radio_3.sum()"
   ]
  },
  {
   "cell_type": "code",
   "execution_count": 97,
   "metadata": {},
   "outputs": [
    {
     "data": {
      "text/plain": [
       "82.0"
      ]
     },
     "execution_count": 97,
     "metadata": {},
     "output_type": "execute_result"
    }
   ],
   "source": [
    "df_dummies['Q9_jamjang'] = np.NaN\n",
    "df_dummies.loc[mask_radio_3,'Q9_jamjang'] = 1\n",
    "df_dummies.Q9_jamjang.sum()"
   ]
  },
  {
   "cell_type": "code",
   "execution_count": 98,
   "metadata": {},
   "outputs": [
    {
     "data": {
      "text/plain": [
       "85"
      ]
     },
     "execution_count": 98,
     "metadata": {},
     "output_type": "execute_result"
    }
   ],
   "source": [
    "mask_radio_4 = df.iloc[:,71].str.contains('Kondial|kondial', na=False)\n",
    "mask_radio_4.sum()"
   ]
  },
  {
   "cell_type": "code",
   "execution_count": 99,
   "metadata": {},
   "outputs": [
    {
     "data": {
      "text/plain": [
       "85.0"
      ]
     },
     "execution_count": 99,
     "metadata": {},
     "output_type": "execute_result"
    }
   ],
   "source": [
    "df_dummies['Q9_kondial'] = np.NaN\n",
    "df_dummies.loc[mask_radio_4,'Q9_kondial'] = 1\n",
    "df_dummies.Q9_kondial.sum()"
   ]
  },
  {
   "cell_type": "code",
   "execution_count": 100,
   "metadata": {},
   "outputs": [
    {
     "data": {
      "text/plain": [
       "259"
      ]
     },
     "execution_count": 100,
     "metadata": {},
     "output_type": "execute_result"
    }
   ],
   "source": [
    "mask_radio_5 = df.iloc[:,71].str.contains('Akol', na=False)\n",
    "mask_radio_5.sum()"
   ]
  },
  {
   "cell_type": "code",
   "execution_count": 101,
   "metadata": {},
   "outputs": [
    {
     "data": {
      "text/plain": [
       "259.0"
      ]
     },
     "execution_count": 101,
     "metadata": {},
     "output_type": "execute_result"
    }
   ],
   "source": [
    "df_dummies['Q9_Akol'] = np.NaN\n",
    "df_dummies.loc[mask_radio_5,'Q9_Akol'] = 1\n",
    "df_dummies.Q9_Akol.sum()"
   ]
  },
  {
   "cell_type": "code",
   "execution_count": 102,
   "metadata": {},
   "outputs": [
    {
     "data": {
      "text/plain": [
       "247"
      ]
     },
     "execution_count": 102,
     "metadata": {},
     "output_type": "execute_result"
    }
   ],
   "source": [
    "mask_radio_6 = df.iloc[:,71].str.contains('89', na=False)\n",
    "mask_radio_6.sum()"
   ]
  },
  {
   "cell_type": "code",
   "execution_count": 103,
   "metadata": {},
   "outputs": [
    {
     "data": {
      "text/plain": [
       "247.0"
      ]
     },
     "execution_count": 103,
     "metadata": {},
     "output_type": "execute_result"
    }
   ],
   "source": [
    "df_dummies['Q9_89'] = np.NaN\n",
    "df_dummies.loc[mask_radio_6,'Q9_89'] = 1\n",
    "df_dummies.loc[:,'Q9_89'].sum()"
   ]
  },
  {
   "cell_type": "code",
   "execution_count": 104,
   "metadata": {},
   "outputs": [
    {
     "data": {
      "text/plain": [
       "28"
      ]
     },
     "execution_count": 104,
     "metadata": {},
     "output_type": "execute_result"
    }
   ],
   "source": [
    "mask_radio_7 = df.iloc[:,71].str.contains('88', na=False)\n",
    "mask_radio_7.sum()"
   ]
  },
  {
   "cell_type": "code",
   "execution_count": 105,
   "metadata": {},
   "outputs": [
    {
     "data": {
      "text/plain": [
       "28.0"
      ]
     },
     "execution_count": 105,
     "metadata": {},
     "output_type": "execute_result"
    }
   ],
   "source": [
    "df_dummies['Q9_88'] = np.NaN\n",
    "df_dummies.loc[mask_radio_7,'Q9_88'] = 1\n",
    "df_dummies.loc[:,'Q9_88'].sum()"
   ]
  },
  {
   "cell_type": "code",
   "execution_count": 106,
   "metadata": {},
   "outputs": [
    {
     "data": {
      "text/plain": [
       "132"
      ]
     },
     "execution_count": 106,
     "metadata": {},
     "output_type": "execute_result"
    }
   ],
   "source": [
    "mask_radio_8 = df.iloc[:,71].str.contains('98', na=False)\n",
    "mask_radio_8.sum()"
   ]
  },
  {
   "cell_type": "code",
   "execution_count": 107,
   "metadata": {},
   "outputs": [
    {
     "data": {
      "text/plain": [
       "132.0"
      ]
     },
     "execution_count": 107,
     "metadata": {},
     "output_type": "execute_result"
    }
   ],
   "source": [
    "df_dummies['Q9_98'] = np.NaN\n",
    "df_dummies.loc[mask_radio_8,'Q9_98'] = 1\n",
    "df_dummies.loc[:,'Q9_98'].sum()"
   ]
  },
  {
   "cell_type": "code",
   "execution_count": 108,
   "metadata": {},
   "outputs": [
    {
     "data": {
      "text/plain": [
       "268"
      ]
     },
     "execution_count": 108,
     "metadata": {},
     "output_type": "execute_result"
    }
   ],
   "source": [
    "mask_radio_9 = df.iloc[:,71].str.contains('Anisa', na=False)\n",
    "mask_radio_9.sum()"
   ]
  },
  {
   "cell_type": "code",
   "execution_count": 109,
   "metadata": {},
   "outputs": [
    {
     "data": {
      "text/plain": [
       "268.0"
      ]
     },
     "execution_count": 109,
     "metadata": {},
     "output_type": "execute_result"
    }
   ],
   "source": [
    "df_dummies['Q9_Anisa'] = np.NaN\n",
    "df_dummies.loc[mask_radio_9,'Q9_Anisa'] = 1\n",
    "df_dummies.loc[:,'Q9_Anisa'].sum()"
   ]
  },
  {
   "cell_type": "code",
   "execution_count": 110,
   "metadata": {},
   "outputs": [
    {
     "data": {
      "text/plain": [
       "315"
      ]
     },
     "execution_count": 110,
     "metadata": {},
     "output_type": "execute_result"
    }
   ],
   "source": [
    "mask_radio_10 = df.iloc[:,71].str.contains('Yambio', na=False)\n",
    "mask_radio_10.sum()"
   ]
  },
  {
   "cell_type": "code",
   "execution_count": 111,
   "metadata": {},
   "outputs": [
    {
     "data": {
      "text/plain": [
       "315.0"
      ]
     },
     "execution_count": 111,
     "metadata": {},
     "output_type": "execute_result"
    }
   ],
   "source": [
    "df_dummies['Q9_Yambio'] = np.NaN\n",
    "df_dummies.loc[mask_radio_10,'Q9_Yambio'] = 1\n",
    "df_dummies.loc[:,'Q9_Yambio'].sum()"
   ]
  },
  {
   "cell_type": "code",
   "execution_count": 112,
   "metadata": {},
   "outputs": [
    {
     "data": {
      "text/plain": [
       "112"
      ]
     },
     "execution_count": 112,
     "metadata": {},
     "output_type": "execute_result"
    }
   ],
   "source": [
    "mask_radio_11 = (df.iloc[:,71].str.contains('Wee|wee', na=False)) | (df.iloc[:,71].str.contains('Wer|wer', na=False))\n",
    "mask_radio_11.sum()"
   ]
  },
  {
   "cell_type": "code",
   "execution_count": 113,
   "metadata": {},
   "outputs": [
    {
     "data": {
      "text/plain": [
       "112.0"
      ]
     },
     "execution_count": 113,
     "metadata": {},
     "output_type": "execute_result"
    }
   ],
   "source": [
    "df_dummies['Q9_weerb'] = np.NaN\n",
    "df_dummies.loc[mask_radio_11,'Q9_weerb'] = 1\n",
    "df_dummies.loc[:,'Q9_weerb'].sum()"
   ]
  },
  {
   "cell_type": "code",
   "execution_count": 114,
   "metadata": {},
   "outputs": [
    {
     "data": {
      "text/plain": [
       "96"
      ]
     },
     "execution_count": 114,
     "metadata": {},
     "output_type": "execute_result"
    }
   ],
   "source": [
    "mask_radio_12 = df.iloc[:,71].str.contains('Don Bosco|bosco|vosco|donbosco|donvosco', na=False)\n",
    "mask_radio_12.sum()"
   ]
  },
  {
   "cell_type": "code",
   "execution_count": 115,
   "metadata": {},
   "outputs": [
    {
     "data": {
      "text/plain": [
       "96.0"
      ]
     },
     "execution_count": 115,
     "metadata": {},
     "output_type": "execute_result"
    }
   ],
   "source": [
    "df_dummies['Q9_donbosco'] = np.NaN\n",
    "df_dummies.loc[mask_radio_12,'Q9_donbosco'] = 1\n",
    "df_dummies.loc[:,'Q9_donbosco'].sum()"
   ]
  },
  {
   "cell_type": "code",
   "execution_count": 116,
   "metadata": {},
   "outputs": [
    {
     "data": {
      "text/plain": [
       "82"
      ]
     },
     "execution_count": 116,
     "metadata": {},
     "output_type": "execute_result"
    }
   ],
   "source": [
    "mask_radio_13 = df.iloc[:,71].str.contains('Emmanuel|emmanuel', na=False)\n",
    "mask_radio_13.sum()"
   ]
  },
  {
   "cell_type": "code",
   "execution_count": 117,
   "metadata": {},
   "outputs": [
    {
     "data": {
      "text/plain": [
       "82.0"
      ]
     },
     "execution_count": 117,
     "metadata": {},
     "output_type": "execute_result"
    }
   ],
   "source": [
    "df_dummies['Q9_emmanuel'] = np.NaN\n",
    "df_dummies.loc[mask_radio_13,'Q9_emmanuel'] = 1\n",
    "df_dummies.loc[:,'Q9_emmanuel'].sum()"
   ]
  },
  {
   "cell_type": "code",
   "execution_count": 118,
   "metadata": {},
   "outputs": [
    {
     "data": {
      "text/plain": [
       "73"
      ]
     },
     "execution_count": 118,
     "metadata": {},
     "output_type": "execute_result"
    }
   ],
   "source": [
    "mask_radio_14 = df.iloc[:,71].str.contains('Singaita|singaita', na=False)\n",
    "mask_radio_14.sum()"
   ]
  },
  {
   "cell_type": "code",
   "execution_count": 119,
   "metadata": {},
   "outputs": [
    {
     "data": {
      "text/plain": [
       "73.0"
      ]
     },
     "execution_count": 119,
     "metadata": {},
     "output_type": "execute_result"
    }
   ],
   "source": [
    "df_dummies['Q9_singaita'] = np.NaN\n",
    "df_dummies.loc[mask_radio_14,'Q9_singaita'] = 1\n",
    "df_dummies.loc[:,'Q9_singaita'].sum()"
   ]
  },
  {
   "cell_type": "code",
   "execution_count": 120,
   "metadata": {},
   "outputs": [
    {
     "data": {
      "text/plain": [
       "56"
      ]
     },
     "execution_count": 120,
     "metadata": {},
     "output_type": "execute_result"
    }
   ],
   "source": [
    "mask_radio_15 = df.iloc[:,71].str.contains('Jonglei|jonglei', na=False)\n",
    "mask_radio_15.sum()"
   ]
  },
  {
   "cell_type": "code",
   "execution_count": 121,
   "metadata": {},
   "outputs": [
    {
     "data": {
      "text/plain": [
       "56.0"
      ]
     },
     "execution_count": 121,
     "metadata": {},
     "output_type": "execute_result"
    }
   ],
   "source": [
    "df_dummies['Q9_jonglei'] = np.NaN\n",
    "df_dummies.loc[mask_radio_15,'Q9_jonglei'] = 1\n",
    "df_dummies.loc[:,'Q9_jonglei'].sum()"
   ]
  },
  {
   "cell_type": "code",
   "execution_count": 122,
   "metadata": {},
   "outputs": [
    {
     "data": {
      "text/plain": [
       "54"
      ]
     },
     "execution_count": 122,
     "metadata": {},
     "output_type": "execute_result"
    }
   ],
   "source": [
    "mask_radio_16 = df.iloc[:,71].str.contains('Mingkaman|mingkaman', na=False)\n",
    "mask_radio_16.sum()"
   ]
  },
  {
   "cell_type": "code",
   "execution_count": 123,
   "metadata": {},
   "outputs": [
    {
     "data": {
      "text/plain": [
       "54.0"
      ]
     },
     "execution_count": 123,
     "metadata": {},
     "output_type": "execute_result"
    }
   ],
   "source": [
    "df_dummies['Q9_mingkaman'] = np.NaN\n",
    "df_dummies.loc[mask_radio_16,'Q9_mingkaman'] = 1\n",
    "df_dummies.loc[:,'Q9_mingkaman'].sum()"
   ]
  },
  {
   "cell_type": "code",
   "execution_count": 124,
   "metadata": {},
   "outputs": [
    {
     "data": {
      "text/plain": [
       "51"
      ]
     },
     "execution_count": 124,
     "metadata": {},
     "output_type": "execute_result"
    }
   ],
   "source": [
    "mask_radio_17 = df.iloc[:,71].str.contains('Hope|hope', na=False)\n",
    "mask_radio_17.sum()"
   ]
  },
  {
   "cell_type": "code",
   "execution_count": 125,
   "metadata": {},
   "outputs": [
    {
     "data": {
      "text/plain": [
       "51.0"
      ]
     },
     "execution_count": 125,
     "metadata": {},
     "output_type": "execute_result"
    }
   ],
   "source": [
    "df_dummies['Q9_hope'] = np.NaN\n",
    "df_dummies.loc[mask_radio_17,'Q9_hope'] = 1\n",
    "df_dummies.loc[:,'Q9_hope'].sum()"
   ]
  },
  {
   "cell_type": "code",
   "execution_count": 126,
   "metadata": {},
   "outputs": [
    {
     "data": {
      "text/plain": [
       "51"
      ]
     },
     "execution_count": 126,
     "metadata": {},
     "output_type": "execute_result"
    }
   ],
   "source": [
    "mask_radio_18 = df.iloc[:,71].str.contains('99', na=False)\n",
    "mask_radio_18.sum()"
   ]
  },
  {
   "cell_type": "code",
   "execution_count": 127,
   "metadata": {},
   "outputs": [
    {
     "data": {
      "text/plain": [
       "51.0"
      ]
     },
     "execution_count": 127,
     "metadata": {},
     "output_type": "execute_result"
    }
   ],
   "source": [
    "df_dummies['Q9_99'] = np.NaN\n",
    "df_dummies.loc[mask_radio_18,'Q9_99'] = 1\n",
    "df_dummies.loc[:,'Q9_99'].sum()"
   ]
  },
  {
   "cell_type": "code",
   "execution_count": 128,
   "metadata": {},
   "outputs": [
    {
     "data": {
      "text/plain": [
       "44"
      ]
     },
     "execution_count": 128,
     "metadata": {},
     "output_type": "execute_result"
    }
   ],
   "source": [
    "mask_radio_19 = df.iloc[:,71].str.contains('91', na=False)\n",
    "mask_radio_19.sum()"
   ]
  },
  {
   "cell_type": "code",
   "execution_count": 129,
   "metadata": {},
   "outputs": [
    {
     "data": {
      "text/plain": [
       "44.0"
      ]
     },
     "execution_count": 129,
     "metadata": {},
     "output_type": "execute_result"
    }
   ],
   "source": [
    "df_dummies['Q9_91'] = np.NaN\n",
    "df_dummies.loc[mask_radio_19,'Q9_91'] = 1\n",
    "df_dummies.loc[:,'Q9_91'].sum()"
   ]
  },
  {
   "cell_type": "code",
   "execution_count": 130,
   "metadata": {},
   "outputs": [
    {
     "data": {
      "text/plain": [
       "39"
      ]
     },
     "execution_count": 130,
     "metadata": {},
     "output_type": "execute_result"
    }
   ],
   "source": [
    "mask_radio_20 = df.iloc[:,71].str.contains('Nile', na=False, case=False)\n",
    "mask_radio_20.sum()"
   ]
  },
  {
   "cell_type": "code",
   "execution_count": 131,
   "metadata": {},
   "outputs": [
    {
     "data": {
      "text/plain": [
       "39.0"
      ]
     },
     "execution_count": 131,
     "metadata": {},
     "output_type": "execute_result"
    }
   ],
   "source": [
    "df_dummies['Q9_nile'] = np.NaN\n",
    "df_dummies.loc[mask_radio_20,'Q9_nile'] = 1\n",
    "df_dummies.loc[:,'Q9_nile'].sum()"
   ]
  },
  {
   "cell_type": "code",
   "execution_count": 132,
   "metadata": {},
   "outputs": [
    {
     "data": {
      "text/plain": [
       "36"
      ]
     },
     "execution_count": 132,
     "metadata": {},
     "output_type": "execute_result"
    }
   ],
   "source": [
    "mask_radio_21 = df.iloc[:,71].str.contains('Spirit', na=False, case=False)\n",
    "mask_radio_21.sum()"
   ]
  },
  {
   "cell_type": "code",
   "execution_count": 133,
   "metadata": {},
   "outputs": [
    {
     "data": {
      "text/plain": [
       "36.0"
      ]
     },
     "execution_count": 133,
     "metadata": {},
     "output_type": "execute_result"
    }
   ],
   "source": [
    "df_dummies['Q9_spirit'] = np.NaN\n",
    "df_dummies.loc[mask_radio_21,'Q9_spirit'] = 1\n",
    "df_dummies.loc[:,'Q9_spirit'].sum()"
   ]
  },
  {
   "cell_type": "code",
   "execution_count": 134,
   "metadata": {},
   "outputs": [
    {
     "data": {
      "text/plain": [
       "35"
      ]
     },
     "execution_count": 134,
     "metadata": {},
     "output_type": "execute_result"
    }
   ],
   "source": [
    "mask_radio_22 = df.iloc[:,71].str.contains('nhomlaau', na=False, case=False)\n",
    "mask_radio_22.sum()"
   ]
  },
  {
   "cell_type": "code",
   "execution_count": 135,
   "metadata": {},
   "outputs": [
    {
     "data": {
      "text/plain": [
       "35.0"
      ]
     },
     "execution_count": 135,
     "metadata": {},
     "output_type": "execute_result"
    }
   ],
   "source": [
    "df_dummies['Q9_nhomlaau'] = np.NaN\n",
    "df_dummies.loc[mask_radio_22,'Q9_nhomlaau'] = 1\n",
    "df_dummies.loc[:,'Q9_nhomlaau'].sum()"
   ]
  },
  {
   "cell_type": "code",
   "execution_count": 136,
   "metadata": {},
   "outputs": [
    {
     "data": {
      "text/plain": [
       "26"
      ]
     },
     "execution_count": 136,
     "metadata": {},
     "output_type": "execute_result"
    }
   ],
   "source": [
    "mask_radio_23 = df.iloc[:,71].str.contains('City|city', na=False)\n",
    "mask_radio_23.sum()"
   ]
  },
  {
   "cell_type": "code",
   "execution_count": 137,
   "metadata": {},
   "outputs": [
    {
     "data": {
      "text/plain": [
       "26.0"
      ]
     },
     "execution_count": 137,
     "metadata": {},
     "output_type": "execute_result"
    }
   ],
   "source": [
    "df_dummies['Q9_city'] = np.NaN\n",
    "df_dummies.loc[mask_radio_23,'Q9_city'] = 1\n",
    "df_dummies.loc[:,'Q9_city'].sum()"
   ]
  },
  {
   "cell_type": "code",
   "execution_count": 138,
   "metadata": {},
   "outputs": [
    {
     "data": {
      "text/plain": [
       "22"
      ]
     },
     "execution_count": 138,
     "metadata": {},
     "output_type": "execute_result"
    }
   ],
   "source": [
    "mask_radio_24 = df.iloc[:,71].str.contains('NTC', na=False, case=False)\n",
    "mask_radio_24.sum()"
   ]
  },
  {
   "cell_type": "code",
   "execution_count": 139,
   "metadata": {},
   "outputs": [
    {
     "data": {
      "text/plain": [
       "22.0"
      ]
     },
     "execution_count": 139,
     "metadata": {},
     "output_type": "execute_result"
    }
   ],
   "source": [
    "df_dummies['Q9_NTC'] = np.NaN\n",
    "df_dummies.loc[mask_radio_24,'Q9_NTC'] = 1\n",
    "df_dummies.loc[:,'Q9_NTC'].sum()"
   ]
  },
  {
   "cell_type": "code",
   "execution_count": 140,
   "metadata": {},
   "outputs": [
    {
     "data": {
      "text/plain": [
       "21"
      ]
     },
     "execution_count": 140,
     "metadata": {},
     "output_type": "execute_result"
    }
   ],
   "source": [
    "mask_radio_25 = df.iloc[:,71].str.contains('bbc', na=False, case=False)\n",
    "mask_radio_25.sum()"
   ]
  },
  {
   "cell_type": "code",
   "execution_count": 141,
   "metadata": {},
   "outputs": [
    {
     "data": {
      "text/plain": [
       "21.0"
      ]
     },
     "execution_count": 141,
     "metadata": {},
     "output_type": "execute_result"
    }
   ],
   "source": [
    "df_dummies['Q9_bbc'] = np.NaN\n",
    "df_dummies.loc[mask_radio_25,'Q9_bbc'] = 1\n",
    "df_dummies.loc[:,'Q9_bbc'].sum()"
   ]
  },
  {
   "cell_type": "code",
   "execution_count": 142,
   "metadata": {},
   "outputs": [
    {
     "data": {
      "text/plain": [
       "21"
      ]
     },
     "execution_count": 142,
     "metadata": {},
     "output_type": "execute_result"
    }
   ],
   "source": [
    "mask_radio_26 = df.iloc[:,71].str.contains('97', na=False, case=False)\n",
    "mask_radio_26.sum()"
   ]
  },
  {
   "cell_type": "code",
   "execution_count": 143,
   "metadata": {},
   "outputs": [
    {
     "data": {
      "text/plain": [
       "21.0"
      ]
     },
     "execution_count": 143,
     "metadata": {},
     "output_type": "execute_result"
    }
   ],
   "source": [
    "df_dummies['Q9_97'] = np.NaN\n",
    "df_dummies.loc[mask_radio_26,'Q9_97'] = 1\n",
    "df_dummies.loc[:,'Q9_97'].sum()"
   ]
  },
  {
   "cell_type": "code",
   "execution_count": 144,
   "metadata": {},
   "outputs": [
    {
     "data": {
      "text/plain": [
       "13"
      ]
     },
     "execution_count": 144,
     "metadata": {},
     "output_type": "execute_result"
    }
   ],
   "source": [
    "mask_radio_27 = df.iloc[:,71].str.contains('sudan', na=False, case=False)\n",
    "mask_radio_27.sum()"
   ]
  },
  {
   "cell_type": "code",
   "execution_count": 145,
   "metadata": {},
   "outputs": [
    {
     "data": {
      "text/plain": [
       "13.0"
      ]
     },
     "execution_count": 145,
     "metadata": {},
     "output_type": "execute_result"
    }
   ],
   "source": [
    "df_dummies['Q9_sudan'] = np.NaN\n",
    "df_dummies.loc[mask_radio_27,'Q9_sudan'] = 1\n",
    "df_dummies.loc[:,'Q9_sudan'].sum()"
   ]
  },
  {
   "cell_type": "code",
   "execution_count": 146,
   "metadata": {},
   "outputs": [
    {
     "data": {
      "text/plain": [
       "10"
      ]
     },
     "execution_count": 146,
     "metadata": {},
     "output_type": "execute_result"
    }
   ],
   "source": [
    "mask_radio_28 = df.iloc[:,71].str.contains('ebc', na=False, case=False)\n",
    "mask_radio_28.sum()"
   ]
  },
  {
   "cell_type": "code",
   "execution_count": 147,
   "metadata": {},
   "outputs": [
    {
     "data": {
      "text/plain": [
       "10.0"
      ]
     },
     "execution_count": 147,
     "metadata": {},
     "output_type": "execute_result"
    }
   ],
   "source": [
    "df_dummies['Q9_ebc'] = np.NaN\n",
    "df_dummies.loc[mask_radio_28,'Q9_ebc'] = 1\n",
    "df_dummies.loc[:,'Q9_ebc'].sum()"
   ]
  },
  {
   "cell_type": "code",
   "execution_count": 148,
   "metadata": {},
   "outputs": [
    {
     "data": {
      "text/plain": [
       "7"
      ]
     },
     "execution_count": 148,
     "metadata": {},
     "output_type": "execute_result"
    }
   ],
   "source": [
    "mask_radio_29 = df.iloc[:,71].str.contains('sama', na=False, case=False)\n",
    "mask_radio_29.sum()"
   ]
  },
  {
   "cell_type": "code",
   "execution_count": 149,
   "metadata": {},
   "outputs": [
    {
     "data": {
      "text/plain": [
       "7.0"
      ]
     },
     "execution_count": 149,
     "metadata": {},
     "output_type": "execute_result"
    }
   ],
   "source": [
    "df_dummies['Q9_sama'] = np.NaN\n",
    "df_dummies.loc[mask_radio_29,'Q9_sama'] = 1\n",
    "df_dummies.loc[:,'Q9_sama'].sum()"
   ]
  },
  {
   "cell_type": "code",
   "execution_count": 150,
   "metadata": {},
   "outputs": [
    {
     "data": {
      "text/plain": [
       "138"
      ]
     },
     "execution_count": 150,
     "metadata": {},
     "output_type": "execute_result"
    }
   ],
   "source": [
    "mask_no_radio = df.iloc[:,71].str.contains(\"no radio|don't|no|no fm|doesn't|None|not\", na=False, case=False)\n",
    "mask_no_radio.sum()\n",
    "#df[mask_no_radio].iloc[:,71].value_counts()[:60]"
   ]
  },
  {
   "cell_type": "code",
   "execution_count": 151,
   "metadata": {},
   "outputs": [
    {
     "data": {
      "text/plain": [
       "138.0"
      ]
     },
     "execution_count": 151,
     "metadata": {},
     "output_type": "execute_result"
    }
   ],
   "source": [
    "df_dummies['Q9_nrdk'] = np.NaN\n",
    "df_dummies.loc[mask_no_radio,'Q9_nrdk'] = 1\n",
    "df_dummies.loc[:,'Q9_nrdk'].sum()"
   ]
  },
  {
   "cell_type": "code",
   "execution_count": 152,
   "metadata": {},
   "outputs": [],
   "source": [
    "mask_others = (mask_radio_1|mask_radio_2|mask_radio_3|mask_radio_4|mask_radio_5|mask_radio_6|mask_radio_7|mask_radio_8|mask_radio_9|mask_radio_10|mask_radio_11|mask_radio_12|mask_radio_13|mask_radio_14|mask_radio_15|mask_radio_16|mask_radio_17|mask_radio_18|mask_radio_19|mask_radio_20|mask_radio_21|mask_radio_22|mask_radio_23|mask_radio_24|mask_radio_25|mask_radio_26|mask_radio_27|mask_radio_28|mask_radio_29|mask_no_radio)"
   ]
  },
  {
   "cell_type": "code",
   "execution_count": 153,
   "metadata": {},
   "outputs": [],
   "source": [
    "df_dummies['Q9_others'] = np.NaN\n",
    "df_dummies.loc[~mask_others, 'Q9_others'] = 1"
   ]
  },
  {
   "cell_type": "code",
   "execution_count": 154,
   "metadata": {},
   "outputs": [
    {
     "data": {
      "text/plain": [
       "2732.0"
      ]
     },
     "execution_count": 154,
     "metadata": {},
     "output_type": "execute_result"
    }
   ],
   "source": [
    "df_dummies.Q9_others.sum()"
   ]
  },
  {
   "cell_type": "code",
   "execution_count": 181,
   "metadata": {},
   "outputs": [],
   "source": [
    "test = pd.concat([data, df.iloc[:,62:71], df_dummies], axis=1)"
   ]
  },
  {
   "cell_type": "code",
   "execution_count": 155,
   "metadata": {},
   "outputs": [],
   "source": [
    "#df[~mask_others].iloc[:,71].value_counts()[:60]"
   ]
  },
  {
   "cell_type": "code",
   "execution_count": 156,
   "metadata": {},
   "outputs": [],
   "source": [
    "df_dummies.to_csv('data/q9_more_radios.csv')"
   ]
  },
  {
   "cell_type": "raw",
   "metadata": {},
   "source": [
    "- ### Q15_Which radio station(s) do you listen to during radio lessons?\n",
    "- ### Which other Radio Station do you listen to during education on air program? (CO)"
   ]
  },
  {
   "cell_type": "raw",
   "metadata": {},
   "source": [
    "df.iloc[:,92].notnull().sum()"
   ]
  },
  {
   "cell_type": "raw",
   "metadata": {},
   "source": [
    "df.iloc[:,92].value_counts()"
   ]
  },
  {
   "cell_type": "raw",
   "metadata": {},
   "source": [
    "df['Q15_other_radio_during_ed'] = df[df.iloc[:,92].notnull()].iloc[:,92]"
   ]
  },
  {
   "cell_type": "raw",
   "metadata": {},
   "source": [
    "df.loc[df['Q15_other_radio_during_ed'].notnull(),'Q15_other_radio_during_ed'] = 1"
   ]
  },
  {
   "cell_type": "raw",
   "metadata": {},
   "source": [
    "df['Q15_other_radio_during_ed'].notnull().sum()"
   ]
  },
  {
   "cell_type": "raw",
   "metadata": {},
   "source": [
    "- ### Q17_If no, What makes you miss radio based lessons? \n",
    "- ### If other please specify (DB)"
   ]
  },
  {
   "cell_type": "raw",
   "metadata": {},
   "source": [
    "df.iloc[:,105].value_counts()"
   ]
  },
  {
   "cell_type": "raw",
   "metadata": {},
   "source": [
    "df.iloc[:,105].notnull().sum()"
   ]
  },
  {
   "cell_type": "raw",
   "metadata": {},
   "source": [
    "df['Q17_miss_lessons_other_reason'] = df[df.iloc[:,105].notnull()].iloc[:,105]"
   ]
  },
  {
   "cell_type": "raw",
   "metadata": {},
   "source": [
    "df.loc[df['Q17_miss_lessons_other_reason'].notnull(),'Q17_miss_lessons_other_reason'] = 1"
   ]
  },
  {
   "cell_type": "raw",
   "metadata": {},
   "source": [
    "df['Q17_miss_lessons_other_reason'].sum()"
   ]
  },
  {
   "cell_type": "raw",
   "metadata": {},
   "source": [
    "- ### Q45_Where do you usually listen to the radio lessons?\n",
    "\n",
    "- ### Q45_1Inside someone’s home\n",
    "- ### Q45_2Outside in someone’s compound\n",
    "- ### Q45_3Inside a shop or other building\n",
    "- ### Q45_4Outside of a shop or other building\n",
    "\n",
    "- ### Specify other (GN)"
   ]
  },
  {
   "cell_type": "raw",
   "metadata": {},
   "source": [
    "df.iloc[:,[189, 190, 191, 192, 193, 194]]"
   ]
  },
  {
   "cell_type": "raw",
   "metadata": {},
   "source": [
    "# see \"other\" places\n",
    "df.iloc[:,194].value_counts().head(20)"
   ]
  },
  {
   "cell_type": "raw",
   "metadata": {},
   "source": [
    "# exclude inside house\n",
    "mask_house = df.iloc[:,194].str.contains('home|house|Home|House|fence|room', na=False) & ~(df.iloc[:,194].str.contains('outside|Outside', na=False))\n",
    "mask_house.sum()"
   ]
  },
  {
   "cell_type": "raw",
   "metadata": {},
   "source": [
    "# exclude compound\n",
    "mask_compoud = df.iloc[:,194].str.contains('compound', na=False, case=False) & \\\n",
    "                ~(df.iloc[:,194].str.contains('outside', na=False, case=False)) & \\\n",
    "                ~(df.iloc[:,194].str.contains('home|house|fence|room', na=False, case=False))\n",
    "mask_compoud.sum()"
   ]
  },
  {
   "cell_type": "raw",
   "metadata": {},
   "source": [
    "# exclude school\n",
    "mask_school = ~df.iloc[:,194].str.contains('compound', na=False, case=False) & \\\n",
    "                (df.iloc[:,194].str.contains('school', na=False, case=False))\n",
    "mask_school.sum()"
   ]
  },
  {
   "cell_type": "raw",
   "metadata": {},
   "source": [
    "# exclude school\n",
    "mask_neg = df.iloc[:,194].str.contains('no', na=False, case=False)\n",
    "mask_neg.sum()\n",
    "df[mask_neg].iloc[:,194].value_counts()"
   ]
  },
  {
   "cell_type": "raw",
   "metadata": {},
   "source": [
    "masks = mask_school | mask_house | mask_compoud"
   ]
  },
  {
   "cell_type": "raw",
   "metadata": {},
   "source": [
    "masks.sum()"
   ]
  },
  {
   "cell_type": "raw",
   "metadata": {},
   "source": [
    "df[~masks].iloc[:,194].value_counts()[:60]"
   ]
  },
  {
   "cell_type": "raw",
   "metadata": {},
   "source": []
  },
  {
   "cell_type": "raw",
   "metadata": {},
   "source": []
  },
  {
   "cell_type": "raw",
   "metadata": {},
   "source": [
    "df['Q45_other_place_listen'] = df.iloc[:,194]"
   ]
  },
  {
   "cell_type": "raw",
   "metadata": {},
   "source": [
    "df.loc[masks,'Q45_other_place_listen'] = np.NaN\n",
    "df.loc[df.Q45_other_place_listen.notnull(),'Q45_other_place_listen'] = 1"
   ]
  },
  {
   "cell_type": "raw",
   "metadata": {},
   "source": [
    "df['Q45_other_place_listen'].isnull().sum(), df['Q45_other_place_listen'].notnull().sum()"
   ]
  },
  {
   "cell_type": "raw",
   "metadata": {},
   "source": [
    "- ### Q68_hat devices are available for eLearning in the school/area?\n",
    "- ### If other please specify (HQ)"
   ]
  },
  {
   "cell_type": "raw",
   "metadata": {},
   "source": [
    "df.iloc[:,224].value_counts()"
   ]
  },
  {
   "cell_type": "raw",
   "metadata": {},
   "source": [
    "df.iloc[:,223].value_counts()"
   ]
  },
  {
   "cell_type": "raw",
   "metadata": {},
   "source": [
    "# exclude devices\n",
    "index_dev = df[df.iloc[:,224].str.contains('radio|Radio|Internet|Phones|Computer') == True].iloc[:,224].index"
   ]
  },
  {
   "cell_type": "raw",
   "metadata": {},
   "source": [
    "# get other answers\n",
    "index_other = df[df.iloc[:,224].str.contains('radio|Radio|Internet|Phones|Computer') == False].iloc[:,224].index"
   ]
  },
  {
   "cell_type": "raw",
   "metadata": {},
   "source": [
    "df['Q68_other_dev'] = df.iloc[:,224]"
   ]
  },
  {
   "cell_type": "raw",
   "metadata": {},
   "source": [
    "df.loc[index_dev, 'Q68_other_dev'] = 0\n",
    "df.loc[index_other, 'Q68_other_dev'] = 1"
   ]
  },
  {
   "cell_type": "raw",
   "metadata": {},
   "source": [
    "## 3. Save new DF"
   ]
  },
  {
   "cell_type": "raw",
   "metadata": {},
   "source": [
    "df.to_csv('data/dataset_others_dummies.csv')"
   ]
  }
 ],
 "metadata": {
  "kernelspec": {
   "display_name": "Python 3",
   "language": "python",
   "name": "python3"
  },
  "language_info": {
   "codemirror_mode": {
    "name": "ipython",
    "version": 3
   },
   "file_extension": ".py",
   "mimetype": "text/x-python",
   "name": "python",
   "nbconvert_exporter": "python",
   "pygments_lexer": "ipython3",
   "version": "3.7.7"
  }
 },
 "nbformat": 4,
 "nbformat_minor": 4
}
