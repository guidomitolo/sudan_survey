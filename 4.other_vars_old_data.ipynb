{
 "cells": [
  {
   "cell_type": "markdown",
   "metadata": {},
   "source": [
    "## Collapse small values"
   ]
  },
  {
   "cell_type": "markdown",
   "metadata": {},
   "source": [
    "### 1. Import Raw Data \n",
    "(survey's answers tabular data)"
   ]
  },
  {
   "cell_type": "code",
   "execution_count": 1,
   "metadata": {},
   "outputs": [],
   "source": [
    "import pandas as pd\n",
    "import numpy as np"
   ]
  },
  {
   "cell_type": "code",
   "execution_count": 2,
   "metadata": {},
   "outputs": [],
   "source": [
    "df = pd.read_excel('data/Distance_Learning_Data.xlsx', index=False)"
   ]
  },
  {
   "cell_type": "markdown",
   "metadata": {},
   "source": [
    "### 2. Collapse \"other\" answers"
   ]
  },
  {
   "cell_type": "markdown",
   "metadata": {},
   "source": [
    "- ### Q9_Which radio station(s)/FM are available in your area?\n",
    "- ### Q9_10Other (BS)"
   ]
  },
  {
   "cell_type": "code",
   "execution_count": 3,
   "metadata": {},
   "outputs": [
    {
     "data": {
      "text/html": [
       "<div>\n",
       "<style scoped>\n",
       "    .dataframe tbody tr th:only-of-type {\n",
       "        vertical-align: middle;\n",
       "    }\n",
       "\n",
       "    .dataframe tbody tr th {\n",
       "        vertical-align: top;\n",
       "    }\n",
       "\n",
       "    .dataframe thead th {\n",
       "        text-align: right;\n",
       "    }\n",
       "</style>\n",
       "<table border=\"1\" class=\"dataframe\">\n",
       "  <thead>\n",
       "    <tr style=\"text-align: right;\">\n",
       "      <th></th>\n",
       "      <th>Q9_Which radio station(s)/FM are available in your area?</th>\n",
       "      <th>Other radio/FM stations available in the area</th>\n",
       "    </tr>\n",
       "  </thead>\n",
       "  <tbody>\n",
       "    <tr>\n",
       "      <th>0</th>\n",
       "      <td>Other</td>\n",
       "      <td>DonvoscoFM and Door FM</td>\n",
       "    </tr>\n",
       "    <tr>\n",
       "      <th>1</th>\n",
       "      <td>Other</td>\n",
       "      <td>DoorFM and DonvoscoFM</td>\n",
       "    </tr>\n",
       "    <tr>\n",
       "      <th>2</th>\n",
       "      <td>Other</td>\n",
       "      <td>DoorFM and DonvoscoFM</td>\n",
       "    </tr>\n",
       "    <tr>\n",
       "      <th>3</th>\n",
       "      <td>Other</td>\n",
       "      <td>DoorFM and DonvoscoFM</td>\n",
       "    </tr>\n",
       "    <tr>\n",
       "      <th>4</th>\n",
       "      <td>Radio one FM Other</td>\n",
       "      <td>DonvoscoFM and Door FM</td>\n",
       "    </tr>\n",
       "  </tbody>\n",
       "</table>\n",
       "</div>"
      ],
      "text/plain": [
       "  Q9_Which radio station(s)/FM are available in your area?  \\\n",
       "0                                              Other         \n",
       "1                                              Other         \n",
       "2                                              Other         \n",
       "3                                              Other         \n",
       "4                                 Radio one FM Other         \n",
       "\n",
       "  Other radio/FM stations available in the area  \n",
       "0                        DonvoscoFM and Door FM  \n",
       "1                         DoorFM and DonvoscoFM  \n",
       "2                         DoorFM and DonvoscoFM  \n",
       "3                         DoorFM and DonvoscoFM  \n",
       "4                        DonvoscoFM and Door FM  "
      ]
     },
     "execution_count": 3,
     "metadata": {},
     "output_type": "execute_result"
    }
   ],
   "source": [
    "df.iloc[:,[61,71]].head(5)"
   ]
  },
  {
   "cell_type": "code",
   "execution_count": 4,
   "metadata": {},
   "outputs": [
    {
     "data": {
      "text/plain": [
       "Mayardit fm and kuajok Fm       109\n",
       "Anisa and Yambio fm              86\n",
       "Jamjang FM 89.4                  75\n",
       "Kondial FM                       75\n",
       "Akol Yam FM                      54\n",
       "Anisa and Yambio FM              47\n",
       "Anisa and yambio fm              46\n",
       "Akol Yam                         40\n",
       "DonvoscoFM and Door FM           39\n",
       "Nile FM                          37\n",
       "Singaita FM                      36\n",
       "Radio Jonglei                    32\n",
       "Voice of hope                    31\n",
       "Mingkaman 100fm                  29\n",
       "89 FM radio                      29\n",
       "Yambio fm                        26\n",
       "FM 98 and radio good news 89     25\n",
       "Yambio FM                        25\n",
       "Werbei                           24\n",
       "Akolyam                          23\n",
       "Name: Other radio/FM stations available in the area, dtype: int64"
      ]
     },
     "execution_count": 4,
     "metadata": {},
     "output_type": "execute_result"
    }
   ],
   "source": [
    "df.iloc[:,71].value_counts()[:20]"
   ]
  },
  {
   "cell_type": "code",
   "execution_count": 10,
   "metadata": {},
   "outputs": [
    {
     "data": {
      "text/plain": [
       "247"
      ]
     },
     "execution_count": 10,
     "metadata": {},
     "output_type": "execute_result"
    }
   ],
   "source": [
    "mask_radio_6 = df.iloc[:,71].str.contains('89', na=False)\n",
    "mask_radio_6.sum()"
   ]
  },
  {
   "cell_type": "code",
   "execution_count": 13,
   "metadata": {},
   "outputs": [
    {
     "data": {
      "text/plain": [
       "259"
      ]
     },
     "execution_count": 13,
     "metadata": {},
     "output_type": "execute_result"
    }
   ],
   "source": [
    "mask_radio_8 = df.iloc[:,71].str.contains('Akol', na=False)\n",
    "mask_radio_8.sum()"
   ]
  },
  {
   "cell_type": "code",
   "execution_count": 15,
   "metadata": {},
   "outputs": [
    {
     "data": {
      "text/plain": [
       "28"
      ]
     },
     "execution_count": 15,
     "metadata": {},
     "output_type": "execute_result"
    }
   ],
   "source": [
    "mask_radio_8 = df.iloc[:,71].str.contains('88', na=False)\n",
    "mask_radio_8.sum()"
   ]
  },
  {
   "cell_type": "code",
   "execution_count": 16,
   "metadata": {},
   "outputs": [
    {
     "data": {
      "text/plain": [
       "132"
      ]
     },
     "execution_count": 16,
     "metadata": {},
     "output_type": "execute_result"
    }
   ],
   "source": [
    "mask_radio_8 = df.iloc[:,71].str.contains('98', na=False)\n",
    "mask_radio_8.sum()"
   ]
  },
  {
   "cell_type": "code",
   "execution_count": null,
   "metadata": {},
   "outputs": [],
   "source": [
    "mask_radio_8 = df.iloc[:,71].str.contains('Akol', na=False)\n",
    "mask_radio_8.sum()"
   ]
  },
  {
   "cell_type": "code",
   "execution_count": 17,
   "metadata": {},
   "outputs": [
    {
     "data": {
      "text/plain": [
       "259"
      ]
     },
     "execution_count": 17,
     "metadata": {},
     "output_type": "execute_result"
    }
   ],
   "source": [
    "mask_radio_8 = df.iloc[:,71].str.contains('Akol', na=False)\n",
    "mask_radio_8.sum()"
   ]
  },
  {
   "cell_type": "code",
   "execution_count": 18,
   "metadata": {},
   "outputs": [
    {
     "data": {
      "text/plain": [
       "247"
      ]
     },
     "execution_count": 18,
     "metadata": {},
     "output_type": "execute_result"
    }
   ],
   "source": [
    "mask_radio_7 = df.iloc[:,71].str.contains('89', na=False)\n",
    "mask_radio_7.sum()"
   ]
  },
  {
   "cell_type": "code",
   "execution_count": 5,
   "metadata": {},
   "outputs": [
    {
     "data": {
      "text/plain": [
       "268"
      ]
     },
     "execution_count": 5,
     "metadata": {},
     "output_type": "execute_result"
    }
   ],
   "source": [
    "mask_radio_5 = df.iloc[:,71].str.contains('Anisa', na=False)\n",
    "mask_radio_5.sum()"
   ]
  },
  {
   "cell_type": "code",
   "execution_count": 14,
   "metadata": {},
   "outputs": [],
   "source": [
    "#mask_radio_4 = df.iloc[:,71].str.contains('Akol Yam', na=False)\n",
    "#mask_radio_4.sum()"
   ]
  },
  {
   "cell_type": "code",
   "execution_count": 51,
   "metadata": {},
   "outputs": [
    {
     "data": {
      "text/plain": [
       "82"
      ]
     },
     "execution_count": 51,
     "metadata": {},
     "output_type": "execute_result"
    }
   ],
   "source": [
    "mask_radio_3 = df.iloc[:,71].str.contains('Jamjang|jamjang', na=False)\n",
    "mask_radio_3.sum()"
   ]
  },
  {
   "cell_type": "code",
   "execution_count": 50,
   "metadata": {},
   "outputs": [
    {
     "data": {
      "text/plain": [
       "85"
      ]
     },
     "execution_count": 50,
     "metadata": {},
     "output_type": "execute_result"
    }
   ],
   "source": [
    "mask_radio_3 = df.iloc[:,71].str.contains('Kondial|kondial', na=False)\n",
    "mask_radio_3.sum()"
   ]
  },
  {
   "cell_type": "code",
   "execution_count": 48,
   "metadata": {},
   "outputs": [
    {
     "data": {
      "text/plain": [
       "155"
      ]
     },
     "execution_count": 48,
     "metadata": {},
     "output_type": "execute_result"
    }
   ],
   "source": [
    "mask_radio_1 = df.iloc[:,71].str.contains('Mayardit|mayardit', na=False)\n",
    "mask_radio_1.sum()"
   ]
  },
  {
   "cell_type": "code",
   "execution_count": 49,
   "metadata": {},
   "outputs": [
    {
     "data": {
      "text/plain": [
       "143"
      ]
     },
     "execution_count": 49,
     "metadata": {},
     "output_type": "execute_result"
    }
   ],
   "source": [
    "mask_radio_2 = df.iloc[:,71].str.contains('kuajok|Kuajok', na=False)\n",
    "mask_radio_2.sum()"
   ]
  },
  {
   "cell_type": "code",
   "execution_count": 46,
   "metadata": {},
   "outputs": [
    {
     "data": {
      "text/plain": [
       "28        Anisa and Yambio FM \n",
       "46      Yambio FM and Anisa FM\n",
       "78                  Yambio FM \n",
       "98                  Yambio FM \n",
       "112                  Yambio FM\n",
       "                 ...          \n",
       "3897                 Yambio FM\n",
       "3898                 Yambio FM\n",
       "3899       Yambio and Anisa FM\n",
       "3900                 Yambio FM\n",
       "3901                 Yambio FM\n",
       "Name: Other radio/FM stations available in the area, Length: 366, dtype: object"
      ]
     },
     "execution_count": 46,
     "metadata": {},
     "output_type": "execute_result"
    }
   ],
   "source": [
    "mask_radio = df.iloc[:,71].str.contains('Yambio|yambio', na=False)\n",
    "df[mask_radio].iloc[:,71]"
   ]
  },
  {
   "cell_type": "code",
   "execution_count": 5,
   "metadata": {},
   "outputs": [],
   "source": [
    "df['Q9_other_radio_av'] = df.iloc[:,71]\n",
    "df.loc[df['Q9_other_radio_av'].notnull(), 'Q9_other_radio_av'] = 1"
   ]
  },
  {
   "cell_type": "code",
   "execution_count": 6,
   "metadata": {},
   "outputs": [
    {
     "data": {
      "text/plain": [
       "1    2114\n",
       "Name: Q9_other_radio_av, dtype: int64"
      ]
     },
     "execution_count": 6,
     "metadata": {},
     "output_type": "execute_result"
    }
   ],
   "source": [
    "df['Q9_other_radio_av'].value_counts()"
   ]
  },
  {
   "cell_type": "markdown",
   "metadata": {},
   "source": [
    "- ### Q15_Which radio station(s) do you listen to during radio lessons?\n",
    "- ### Which other Radio Station do you listen to during education on air program? (CO)"
   ]
  },
  {
   "cell_type": "code",
   "execution_count": 7,
   "metadata": {},
   "outputs": [
    {
     "data": {
      "text/plain": [
       "265"
      ]
     },
     "execution_count": 7,
     "metadata": {},
     "output_type": "execute_result"
    }
   ],
   "source": [
    "df.iloc[:,92].notnull().sum()"
   ]
  },
  {
   "cell_type": "code",
   "execution_count": 8,
   "metadata": {},
   "outputs": [
    {
     "data": {
      "text/plain": [
       "Jamjang FM 89.4                                     34\n",
       "89 FM radio                                         17\n",
       "89 fm                                               11\n",
       "Radio Jonglei                                       10\n",
       "Good News Radio 89 FM                               10\n",
       "                                                    ..\n",
       "I actually don't listen to the lessons on radio      1\n",
       "Radio Jonglei 95.9                                   1\n",
       "I only hear I couldn't remember the station          1\n",
       "No other radio.                                      1\n",
       "No radio                                             1\n",
       "Name: Which other Radio Station do you listen to during education on air program?, Length: 128, dtype: int64"
      ]
     },
     "execution_count": 8,
     "metadata": {},
     "output_type": "execute_result"
    }
   ],
   "source": [
    "df.iloc[:,92].value_counts()"
   ]
  },
  {
   "cell_type": "code",
   "execution_count": 9,
   "metadata": {},
   "outputs": [],
   "source": [
    "df['Q15_other_radio_during_ed'] = df[df.iloc[:,92].notnull()].iloc[:,92]"
   ]
  },
  {
   "cell_type": "code",
   "execution_count": 10,
   "metadata": {},
   "outputs": [],
   "source": [
    "df.loc[df['Q15_other_radio_during_ed'].notnull(),'Q15_other_radio_during_ed'] = 1"
   ]
  },
  {
   "cell_type": "code",
   "execution_count": 11,
   "metadata": {},
   "outputs": [
    {
     "data": {
      "text/plain": [
       "265"
      ]
     },
     "execution_count": 11,
     "metadata": {},
     "output_type": "execute_result"
    }
   ],
   "source": [
    "df['Q15_other_radio_during_ed'].notnull().sum()"
   ]
  },
  {
   "cell_type": "markdown",
   "metadata": {},
   "source": [
    "- ### Q17_If no, What makes you miss radio based lessons? \n",
    "- ### If other please specify (DB)"
   ]
  },
  {
   "cell_type": "code",
   "execution_count": 12,
   "metadata": {},
   "outputs": [
    {
     "data": {
      "text/plain": [
       "Am not interested                                                  2\n",
       "Because I don't understand                                         1\n",
       "I don't have radio                                                 1\n",
       "Low power because I use phone                                      1\n",
       "Sometimes playing balls and going to market places                 1\n",
       "When there is no power in phone                                    1\n",
       "Have not attended                                                  1\n",
       "My phone was washed by rain                                        1\n",
       "Not good for me                                                    1\n",
       "When phone is taken for charging                                   1\n",
       "My phone some times put off                                        1\n",
       "Am not interested on radio lessons                                 1\n",
       "Can't asked questions due to busy lines                            1\n",
       "I don't have money to buy a radio                                  1\n",
       "Phone power is a problem and it was for someone                    1\n",
       "Sometimes my dad can not be home during lessons time.              1\n",
       "Holiday package                                                    1\n",
       "I do revised my notes                                              1\n",
       "The lessons broadcast are not part of carrier                      1\n",
       "When phone is power off                                            1\n",
       "Sometimes it is only for lower classes                             1\n",
       "If my phone put off                                                1\n",
       "Sometimes taking from my mother                                    1\n",
       "My parents doesn't open daily.                                     1\n",
       "Football                                                           1\n",
       "I only attended for primary schools lessons                        1\n",
       "Battery went off                                                   1\n",
       "When the phone is not charged.                                     1\n",
       "Have no full information about it.                                 1\n",
       "Lack of battery                                                    1\n",
       "The power was low                                                  1\n",
       "I can only access the radio when my brother is at home with me.    1\n",
       "The lesson for our class was not aired.                            1\n",
       "I'm not understanding something                                    1\n",
       "Teaching on air not as interesting as in class                     1\n",
       "The radio is not mind                                              1\n",
       "Battery is very weak. Can't afford cash to purchase new one        1\n",
       "Sometimes no battery                                               1\n",
       "I thought that school may not open again                           1\n",
       "I don't understand radio lessons                                   1\n",
       "Am engaged in other activities                                     1\n",
       "Its intended for students                                          1\n",
       "No having personal radio or phone.                                 1\n",
       "Lack of charging centre                                            1\n",
       "When I get hard to understand                                      1\n",
       "Power problem                                                      1\n",
       "It's because the lessons are for primary school Learners           1\n",
       "It's always at night                                               1\n",
       "I tried to listen but I don't understand                           1\n",
       "Mayardit FM                                                        1\n",
       "Power is always low in phone I use                                 1\n",
       "Name:  If other please specify, dtype: int64"
      ]
     },
     "execution_count": 12,
     "metadata": {},
     "output_type": "execute_result"
    }
   ],
   "source": [
    "df.iloc[:,105].value_counts()"
   ]
  },
  {
   "cell_type": "code",
   "execution_count": 13,
   "metadata": {},
   "outputs": [
    {
     "data": {
      "text/plain": [
       "52"
      ]
     },
     "execution_count": 13,
     "metadata": {},
     "output_type": "execute_result"
    }
   ],
   "source": [
    "df.iloc[:,105].notnull().sum()"
   ]
  },
  {
   "cell_type": "code",
   "execution_count": 14,
   "metadata": {},
   "outputs": [],
   "source": [
    "df['Q17_miss_lessons_other_reason'] = df[df.iloc[:,105].notnull()].iloc[:,105]"
   ]
  },
  {
   "cell_type": "code",
   "execution_count": 15,
   "metadata": {},
   "outputs": [],
   "source": [
    "df.loc[df['Q17_miss_lessons_other_reason'].notnull(),'Q17_miss_lessons_other_reason'] = 1"
   ]
  },
  {
   "cell_type": "code",
   "execution_count": 16,
   "metadata": {},
   "outputs": [
    {
     "data": {
      "text/plain": [
       "52"
      ]
     },
     "execution_count": 16,
     "metadata": {},
     "output_type": "execute_result"
    }
   ],
   "source": [
    "df['Q17_miss_lessons_other_reason'].sum()"
   ]
  },
  {
   "cell_type": "markdown",
   "metadata": {},
   "source": [
    "- ### Q45_Where do you usually listen to the radio lessons?\n",
    "\n",
    "- ### Q45_1Inside someone’s home\n",
    "- ### Q45_2Outside in someone’s compound\n",
    "- ### Q45_3Inside a shop or other building\n",
    "- ### Q45_4Outside of a shop or other building\n",
    "\n",
    "- ### Specify other (GN)"
   ]
  },
  {
   "cell_type": "code",
   "execution_count": 17,
   "metadata": {},
   "outputs": [
    {
     "data": {
      "text/html": [
       "<div>\n",
       "<style scoped>\n",
       "    .dataframe tbody tr th:only-of-type {\n",
       "        vertical-align: middle;\n",
       "    }\n",
       "\n",
       "    .dataframe tbody tr th {\n",
       "        vertical-align: top;\n",
       "    }\n",
       "\n",
       "    .dataframe thead th {\n",
       "        text-align: right;\n",
       "    }\n",
       "</style>\n",
       "<table border=\"1\" class=\"dataframe\">\n",
       "  <thead>\n",
       "    <tr style=\"text-align: right;\">\n",
       "      <th></th>\n",
       "      <th>Q45_1Inside someone’s home</th>\n",
       "      <th>Q45_2Outside in someone’s compound</th>\n",
       "      <th>Q45_3Inside a shop or other building</th>\n",
       "      <th>Q45_4Outside of a shop or other building</th>\n",
       "      <th>Q45_5Other (specify)</th>\n",
       "      <th>Specify other.3</th>\n",
       "    </tr>\n",
       "  </thead>\n",
       "  <tbody>\n",
       "    <tr>\n",
       "      <th>0</th>\n",
       "      <td>NaN</td>\n",
       "      <td>NaN</td>\n",
       "      <td>NaN</td>\n",
       "      <td>NaN</td>\n",
       "      <td>NaN</td>\n",
       "      <td>NaN</td>\n",
       "    </tr>\n",
       "    <tr>\n",
       "      <th>1</th>\n",
       "      <td>NaN</td>\n",
       "      <td>NaN</td>\n",
       "      <td>NaN</td>\n",
       "      <td>NaN</td>\n",
       "      <td>NaN</td>\n",
       "      <td>NaN</td>\n",
       "    </tr>\n",
       "    <tr>\n",
       "      <th>2</th>\n",
       "      <td>NaN</td>\n",
       "      <td>NaN</td>\n",
       "      <td>NaN</td>\n",
       "      <td>NaN</td>\n",
       "      <td>NaN</td>\n",
       "      <td>NaN</td>\n",
       "    </tr>\n",
       "    <tr>\n",
       "      <th>3</th>\n",
       "      <td>NaN</td>\n",
       "      <td>NaN</td>\n",
       "      <td>NaN</td>\n",
       "      <td>NaN</td>\n",
       "      <td>NaN</td>\n",
       "      <td>NaN</td>\n",
       "    </tr>\n",
       "    <tr>\n",
       "      <th>4</th>\n",
       "      <td>0.0</td>\n",
       "      <td>0.0</td>\n",
       "      <td>0.0</td>\n",
       "      <td>0.0</td>\n",
       "      <td>1.0</td>\n",
       "      <td>Inside my house</td>\n",
       "    </tr>\n",
       "    <tr>\n",
       "      <th>...</th>\n",
       "      <td>...</td>\n",
       "      <td>...</td>\n",
       "      <td>...</td>\n",
       "      <td>...</td>\n",
       "      <td>...</td>\n",
       "      <td>...</td>\n",
       "    </tr>\n",
       "    <tr>\n",
       "      <th>4722</th>\n",
       "      <td>1.0</td>\n",
       "      <td>0.0</td>\n",
       "      <td>0.0</td>\n",
       "      <td>0.0</td>\n",
       "      <td>0.0</td>\n",
       "      <td>NaN</td>\n",
       "    </tr>\n",
       "    <tr>\n",
       "      <th>4723</th>\n",
       "      <td>1.0</td>\n",
       "      <td>0.0</td>\n",
       "      <td>0.0</td>\n",
       "      <td>0.0</td>\n",
       "      <td>0.0</td>\n",
       "      <td>NaN</td>\n",
       "    </tr>\n",
       "    <tr>\n",
       "      <th>4724</th>\n",
       "      <td>NaN</td>\n",
       "      <td>NaN</td>\n",
       "      <td>NaN</td>\n",
       "      <td>NaN</td>\n",
       "      <td>NaN</td>\n",
       "      <td>NaN</td>\n",
       "    </tr>\n",
       "    <tr>\n",
       "      <th>4725</th>\n",
       "      <td>0.0</td>\n",
       "      <td>1.0</td>\n",
       "      <td>0.0</td>\n",
       "      <td>0.0</td>\n",
       "      <td>0.0</td>\n",
       "      <td>NaN</td>\n",
       "    </tr>\n",
       "    <tr>\n",
       "      <th>4726</th>\n",
       "      <td>1.0</td>\n",
       "      <td>0.0</td>\n",
       "      <td>0.0</td>\n",
       "      <td>0.0</td>\n",
       "      <td>0.0</td>\n",
       "      <td>NaN</td>\n",
       "    </tr>\n",
       "  </tbody>\n",
       "</table>\n",
       "<p>4727 rows × 6 columns</p>\n",
       "</div>"
      ],
      "text/plain": [
       "      Q45_1Inside someone’s home  Q45_2Outside in someone’s compound  \\\n",
       "0                            NaN                                 NaN   \n",
       "1                            NaN                                 NaN   \n",
       "2                            NaN                                 NaN   \n",
       "3                            NaN                                 NaN   \n",
       "4                            0.0                                 0.0   \n",
       "...                          ...                                 ...   \n",
       "4722                         1.0                                 0.0   \n",
       "4723                         1.0                                 0.0   \n",
       "4724                         NaN                                 NaN   \n",
       "4725                         0.0                                 1.0   \n",
       "4726                         1.0                                 0.0   \n",
       "\n",
       "      Q45_3Inside a shop or other building  \\\n",
       "0                                      NaN   \n",
       "1                                      NaN   \n",
       "2                                      NaN   \n",
       "3                                      NaN   \n",
       "4                                      0.0   \n",
       "...                                    ...   \n",
       "4722                                   0.0   \n",
       "4723                                   0.0   \n",
       "4724                                   NaN   \n",
       "4725                                   0.0   \n",
       "4726                                   0.0   \n",
       "\n",
       "      Q45_4Outside of a shop or other building  Q45_5Other (specify)  \\\n",
       "0                                          NaN                   NaN   \n",
       "1                                          NaN                   NaN   \n",
       "2                                          NaN                   NaN   \n",
       "3                                          NaN                   NaN   \n",
       "4                                          0.0                   1.0   \n",
       "...                                        ...                   ...   \n",
       "4722                                       0.0                   0.0   \n",
       "4723                                       0.0                   0.0   \n",
       "4724                                       NaN                   NaN   \n",
       "4725                                       0.0                   0.0   \n",
       "4726                                       0.0                   0.0   \n",
       "\n",
       "      Specify other.3  \n",
       "0                 NaN  \n",
       "1                 NaN  \n",
       "2                 NaN  \n",
       "3                 NaN  \n",
       "4     Inside my house  \n",
       "...               ...  \n",
       "4722              NaN  \n",
       "4723              NaN  \n",
       "4724              NaN  \n",
       "4725              NaN  \n",
       "4726              NaN  \n",
       "\n",
       "[4727 rows x 6 columns]"
      ]
     },
     "execution_count": 17,
     "metadata": {},
     "output_type": "execute_result"
    }
   ],
   "source": [
    "df.iloc[:,[189, 190, 191, 192, 193, 194]]"
   ]
  },
  {
   "cell_type": "code",
   "execution_count": 39,
   "metadata": {},
   "outputs": [
    {
     "data": {
      "text/plain": [
       "At home                 71\n",
       "Inside my house         26\n",
       "In our home             16\n",
       "Inside our house        14\n",
       "No                      13\n",
       "In my house             11\n",
       "Inside our compound      9\n",
       "At home                  9\n",
       "None                     8\n",
       "Outside our house        8\n",
       "At our home              7\n",
       "Inside my own house      7\n",
       "Home                     7\n",
       "Inside the home          6\n",
       "School                   6\n",
       "In my home               6\n",
       "In our house             6\n",
       "At my home               5\n",
       "Inside our house.        5\n",
       "In our compound          5\n",
       "Name: Specify other.3, dtype: int64"
      ]
     },
     "execution_count": 39,
     "metadata": {},
     "output_type": "execute_result"
    }
   ],
   "source": [
    "# see \"other\" places\n",
    "df.iloc[:,194].value_counts().head(20)"
   ]
  },
  {
   "cell_type": "code",
   "execution_count": 41,
   "metadata": {},
   "outputs": [
    {
     "data": {
      "text/plain": [
       "347"
      ]
     },
     "execution_count": 41,
     "metadata": {},
     "output_type": "execute_result"
    }
   ],
   "source": [
    "# exclude inside house\n",
    "mask_house = df.iloc[:,194].str.contains('home|house|Home|House|fence|room', na=False) & ~(df.iloc[:,194].str.contains('outside|Outside', na=False))\n",
    "mask_house.sum()"
   ]
  },
  {
   "cell_type": "code",
   "execution_count": 20,
   "metadata": {},
   "outputs": [
    {
     "data": {
      "text/plain": [
       "33"
      ]
     },
     "execution_count": 20,
     "metadata": {},
     "output_type": "execute_result"
    }
   ],
   "source": [
    "# exclude compound\n",
    "mask_compoud = df.iloc[:,194].str.contains('compound|Compound', na=False) & \\\n",
    "                ~(df.iloc[:,194].str.contains('outside|Outside', na=False)) & \\\n",
    "                ~(df.iloc[:,194].str.contains('home|house|Home|House|fence|room', na=False))\n",
    "mask_compoud.sum()"
   ]
  },
  {
   "cell_type": "code",
   "execution_count": 21,
   "metadata": {},
   "outputs": [
    {
     "data": {
      "text/plain": [
       "9"
      ]
     },
     "execution_count": 21,
     "metadata": {},
     "output_type": "execute_result"
    }
   ],
   "source": [
    "# exclude school\n",
    "mask_school = ~df.iloc[:,194].str.contains('compound|Compound', na=False) & \\\n",
    "                (df.iloc[:,194].str.contains('school|School', na=False))\n",
    "mask_school.sum()"
   ]
  },
  {
   "cell_type": "code",
   "execution_count": 22,
   "metadata": {},
   "outputs": [],
   "source": [
    "masks = mask_school | mask_house | mask_compoud"
   ]
  },
  {
   "cell_type": "code",
   "execution_count": 23,
   "metadata": {},
   "outputs": [
    {
     "data": {
      "text/plain": [
       "389"
      ]
     },
     "execution_count": 23,
     "metadata": {},
     "output_type": "execute_result"
    }
   ],
   "source": [
    "masks.sum()"
   ]
  },
  {
   "cell_type": "code",
   "execution_count": 24,
   "metadata": {},
   "outputs": [],
   "source": [
    "df['Q45_other_place_listen'] = df.iloc[:,194]"
   ]
  },
  {
   "cell_type": "code",
   "execution_count": 25,
   "metadata": {},
   "outputs": [],
   "source": [
    "df.loc[masks,'Q45_other_place_listen'] = np.NaN\n",
    "df.loc[df.Q45_other_place_listen.notnull(),'Q45_other_place_listen'] = 1"
   ]
  },
  {
   "cell_type": "code",
   "execution_count": 26,
   "metadata": {},
   "outputs": [
    {
     "data": {
      "text/plain": [
       "(4581, 146)"
      ]
     },
     "execution_count": 26,
     "metadata": {},
     "output_type": "execute_result"
    }
   ],
   "source": [
    "df['Q45_other_place_listen'].isnull().sum(), df['Q45_other_place_listen'].notnull().sum()"
   ]
  },
  {
   "cell_type": "markdown",
   "metadata": {},
   "source": [
    "- ### Q68_hat devices are available for eLearning in the school/area?\n",
    "- ### If other please specify (HQ)"
   ]
  },
  {
   "cell_type": "code",
   "execution_count": 27,
   "metadata": {},
   "outputs": [
    {
     "data": {
      "text/plain": [
       "Physical radio                                      2\n",
       "Radio                                               1\n",
       "I don't know their types but they are there         1\n",
       "Phones                                              1\n",
       "Computer                                            1\n",
       "Internet connection                                 1\n",
       "No relearning material available in schools here    1\n",
       "Non.                                                1\n",
       "Name: If other please specify , dtype: int64"
      ]
     },
     "execution_count": 27,
     "metadata": {},
     "output_type": "execute_result"
    }
   ],
   "source": [
    "df.iloc[:,224].value_counts()"
   ]
  },
  {
   "cell_type": "code",
   "execution_count": 28,
   "metadata": {},
   "outputs": [
    {
     "data": {
      "text/plain": [
       "0.0    233\n",
       "1.0      9\n",
       "Name: Q68_6Other, dtype: int64"
      ]
     },
     "execution_count": 28,
     "metadata": {},
     "output_type": "execute_result"
    }
   ],
   "source": [
    "df.iloc[:,223].value_counts()"
   ]
  },
  {
   "cell_type": "code",
   "execution_count": 29,
   "metadata": {},
   "outputs": [],
   "source": [
    "# exclude devices\n",
    "index_dev = df[df.iloc[:,224].str.contains('radio|Radio|Internet|Phones|Computer') == True].iloc[:,224].index"
   ]
  },
  {
   "cell_type": "code",
   "execution_count": 30,
   "metadata": {},
   "outputs": [],
   "source": [
    "# get other answers\n",
    "index_other = df[df.iloc[:,224].str.contains('radio|Radio|Internet|Phones|Computer') == False].iloc[:,224].index"
   ]
  },
  {
   "cell_type": "code",
   "execution_count": 31,
   "metadata": {},
   "outputs": [],
   "source": [
    "df['Q68_other_dev'] = df.iloc[:,224]"
   ]
  },
  {
   "cell_type": "code",
   "execution_count": 32,
   "metadata": {},
   "outputs": [],
   "source": [
    "df.loc[index_dev, 'Q68_other_dev'] = 0\n",
    "df.loc[index_other, 'Q68_other_dev'] = 1"
   ]
  },
  {
   "cell_type": "markdown",
   "metadata": {},
   "source": [
    "## 3. Save new DF"
   ]
  },
  {
   "cell_type": "code",
   "execution_count": 33,
   "metadata": {},
   "outputs": [],
   "source": [
    "df.to_csv('data/dataset_others_dummies.csv')"
   ]
  }
 ],
 "metadata": {
  "kernelspec": {
   "display_name": "Python 3",
   "language": "python",
   "name": "python3"
  },
  "language_info": {
   "codemirror_mode": {
    "name": "ipython",
    "version": 3
   },
   "file_extension": ".py",
   "mimetype": "text/x-python",
   "name": "python",
   "nbconvert_exporter": "python",
   "pygments_lexer": "ipython3",
   "version": "3.7.7"
  }
 },
 "nbformat": 4,
 "nbformat_minor": 4
}
